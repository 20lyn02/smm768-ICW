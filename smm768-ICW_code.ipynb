{
  "cells": [
    {
      "cell_type": "markdown",
      "metadata": {
        "id": "5Ax1KResIi-2"
      },
      "source": [
        "# __0. LIBRARIES__"
      ]
    },
    {
      "cell_type": "code",
      "execution_count": 143,
      "metadata": {
        "id": "LQMh9w7DIi-3"
      },
      "outputs": [],
      "source": [
        "# Standard Libraries\n",
        "import pandas as pd\n",
        "import numpy as np\n",
        "\n",
        "# Visualization\n",
        "import matplotlib.pyplot as plt\n",
        "import seaborn as sns\n",
        "\n",
        "# Topic Modeling\n",
        "# !pip install bertopic  # Uncomment if running in Colab\n",
        "from bertopic import BERTopic\n",
        "from sklearn.feature_extraction.text import CountVectorizer\n",
        "from sklearn.feature_extraction import text\n",
        "from umap import UMAP\n",
        "from hdbscan import HDBSCAN\n",
        "from sentence_transformers import SentenceTransformer"
      ]
    },
    {
      "cell_type": "code",
      "execution_count": 144,
      "metadata": {
        "id": "-K4_EPzqIi-4"
      },
      "outputs": [],
      "source": [
        "# Random seed setting\n",
        "rng = 3"
      ]
    },
    {
      "cell_type": "markdown",
      "metadata": {
        "id": "lu6vNv9cIi-4"
      },
      "source": [
        "__NOTE:__ ALL code withing the 'ASSIGNMENT' block has been commented, as most of it has been adapted later in the code.\n",
        "\n",
        "_(this was done after reviewing provided code, for easier of re-running the full notebook)_"
      ]
    },
    {
      "cell_type": "markdown",
      "metadata": {
        "id": "ccYBpprAIi-4"
      },
      "source": [
        "# __ASSIGNMENT__"
      ]
    },
    {
      "cell_type": "markdown",
      "metadata": {
        "id": "ia7UbbI4iZKh"
      },
      "source": [
        "In this assignment, you need to analyze a large set of customer reviews and come up with recommendations to the Singapore Airlines CEO to improve customer satisfaction.\n",
        "\n",
        "The notebook serves as a starting point for your analysis.\n",
        "\n",
        "At the end of the assignment, you should deliver a five-slide \"elevator pitch\" to the CEO summarizing your findings and recommendations, backing up your claims with analyses."
      ]
    },
    {
      "cell_type": "markdown",
      "metadata": {
        "id": "m80JMaVK4frj"
      },
      "source": [
        "## Topic Modeling with Transformers"
      ]
    },
    {
      "cell_type": "markdown",
      "metadata": {
        "id": "ZI9GLBVP4pVf"
      },
      "source": [
        "We have seen that transformers are a powerful tool to build encodings of text that capture context, order of words, etc... Typically, one uses a pre-trained transformer to produce the encodings, and then feeds these to their own model (e.g. a neural network) to solve their particular NLP task, like sentiment analysis or sequence labeling.\n",
        "\n",
        "In this notebook, you will solve another NLP task called topic analysis (more on that later). You will use the BERTopic package for this task, which is built on top of HuggingFace transformers.\n",
        "\n",
        "With BERTopic, you will analyze a dataset of Singapore Airlines customer reviews to gain insight into how to improve the customer experience.\n",
        "\n",
        "You can find an expansive description of the dataset here\n",
        "https://www.kaggle.com/datasets/kanchana1990/singapore-airlines-reviews\n"
      ]
    },
    {
      "cell_type": "code",
      "execution_count": 145,
      "metadata": {
        "id": "2MAZFROXV8Xc"
      },
      "outputs": [],
      "source": [
        "# import pandas as pd\n",
        "# import matplotlib.pyplot as plt"
      ]
    },
    {
      "cell_type": "markdown",
      "metadata": {
        "id": "QWwOLsVlV8Xg"
      },
      "source": [
        "## Loading the data"
      ]
    },
    {
      "cell_type": "markdown",
      "metadata": {
        "id": "IXAaecoa6qMa"
      },
      "source": [
        "We load the data and output some summary of the data columns."
      ]
    },
    {
      "cell_type": "code",
      "execution_count": 146,
      "metadata": {
        "id": "zt2e2PH1V8Xi"
      },
      "outputs": [],
      "source": [
        "# df = pd.read_csv('https://www.dropbox.com/scl/fi/ekrltx48nq8ll7txpmkcg/singapore_airlines_reviews.csv?rlkey=lj0uqi5vpaaploqxg50yqbrj1&st=mindhem4&dl=1')"
      ]
    },
    {
      "cell_type": "code",
      "execution_count": 147,
      "metadata": {
        "id": "G9BQ9idlV8Xi"
      },
      "outputs": [],
      "source": [
        "# df.info()"
      ]
    },
    {
      "cell_type": "code",
      "execution_count": 148,
      "metadata": {
        "id": "IXUA2EFjV8Xj"
      },
      "outputs": [],
      "source": [
        "# df.head()"
      ]
    },
    {
      "cell_type": "code",
      "execution_count": 149,
      "metadata": {
        "id": "2ZpOPpviV8Xj"
      },
      "outputs": [],
      "source": [
        "## If you want to see more text from the review, you can increase the display.max_colwidth\n",
        "\n",
        "#pd.set_option('display.max_colwidth', 50)"
      ]
    },
    {
      "cell_type": "markdown",
      "metadata": {
        "id": "elS5OXxjV8Xk"
      },
      "source": [
        "## Quick summary statistics and visualizations\n",
        "\n",
        "Let's look at some summary statistics for our dataset. For example, are there any interesting trends, or relationships between the length of reviews, presence of specific words, and ratings."
      ]
    },
    {
      "cell_type": "code",
      "execution_count": 150,
      "metadata": {
        "id": "kM8RTeGlV8Xk"
      },
      "outputs": [],
      "source": [
        "# # Step 1: Calculate the length of each review\n",
        "# df['review_length'] = df['text'].apply(len)\n",
        "\n",
        "# # For simplicity, let's consider \"excellent\" for positive and \"terrible\" for negative sentiments\n",
        "# df['contains_excellent'] = df['text'].str.contains('excellent', case=False).astype(int)\n",
        "# df['contains_terrible'] = df['text'].str.contains('terrible', case=False).astype(int)\n",
        "\n",
        "# # Preparing data for visualization\n",
        "# # We'll aggregate data to see if there's a visible trend between the length of reviews, presence of specific words, and ratings\n",
        "# aggregated_data_rating = df.groupby('rating').agg({\n",
        "#     'review_length': 'mean',\n",
        "#     'contains_excellent': 'mean',\n",
        "#     'contains_terrible': 'mean'\n",
        "# }).reset_index()\n",
        "\n",
        "# aggregated_data_rating"
      ]
    },
    {
      "cell_type": "code",
      "execution_count": 151,
      "metadata": {
        "id": "S886a6BMV8Xl"
      },
      "outputs": [],
      "source": [
        "# fig, axes = plt.subplots(1, 3, figsize=(18, 5))\n",
        "\n",
        "# # Review length vs. rating\n",
        "# axes[0].bar(aggregated_data_rating['rating'], aggregated_data_rating['review_length'], color='skyblue')\n",
        "# axes[0].set_title('Average Review Length vs. Rating')\n",
        "# axes[0].set_xlabel('Rating')\n",
        "# axes[0].set_ylabel('Average Review Length')\n",
        "\n",
        "# # Presence of \"excellent\" vs. rating\n",
        "# axes[1].bar(aggregated_data_rating['rating'], aggregated_data_rating['contains_excellent'], color='lightgreen')\n",
        "# axes[1].set_title('Presence of \"Excellent\" vs. Rating')\n",
        "# axes[1].set_xlabel('Rating')\n",
        "# axes[1].set_ylabel('Average Occurrence of \"Excellent\"')\n",
        "\n",
        "# # Presence of \"terrible\" vs. rating\n",
        "# axes[2].bar(aggregated_data_rating['rating'], aggregated_data_rating['contains_terrible'], color='salmon')\n",
        "# axes[2].set_title('Presence of \"Terrible\" vs. Rating')\n",
        "# axes[2].set_xlabel('Rating')\n",
        "# axes[2].set_ylabel('Average Occurrence of \"Terrible\"')\n",
        "\n",
        "# plt.tight_layout()\n",
        "# plt.show()"
      ]
    },
    {
      "cell_type": "markdown",
      "metadata": {
        "id": "aw_ULPe1n2Vv"
      },
      "source": [
        "We next aggregate the data by year, and plot how the ratings have changed over time.\n"
      ]
    },
    {
      "cell_type": "code",
      "execution_count": 152,
      "metadata": {
        "id": "uu6DvUfVV8Xp"
      },
      "outputs": [],
      "source": [
        "# df['published_date'] = pd.to_datetime(df['published_date'], format='ISO8601', utc=True)\n",
        "# df['year'] = df['published_date'].dt.year\n",
        "# df.head()"
      ]
    },
    {
      "cell_type": "code",
      "execution_count": 153,
      "metadata": {
        "id": "Xgwe1hvPV8Xq"
      },
      "outputs": [],
      "source": [
        "# aggregated_data_rating = df.groupby('year').agg({\n",
        "#     'rating': 'mean',\n",
        "# }).reset_index()\n",
        "\n",
        "# aggregated_data_rating"
      ]
    },
    {
      "cell_type": "code",
      "execution_count": 154,
      "metadata": {
        "id": "_dyO1srqV8Xq"
      },
      "outputs": [],
      "source": [
        "# plt.bar(aggregated_data_rating['year'], aggregated_data_rating['rating'], color='skyblue')\n",
        "# plt.title('Average Rating per year')\n",
        "# plt.xlabel('Year')\n",
        "# plt.ylabel('Average Rating')\n",
        "\n",
        "# plt.show()"
      ]
    },
    {
      "cell_type": "markdown",
      "metadata": {
        "id": "IyzjHc4lpWeR"
      },
      "source": [
        "## Ooops...\n",
        "\n",
        "There seems to be a meaningful drop in ratings from 2021 onwards. Imagine you report to the Singapore Airlines CEO and you need to formulate a plan of action to improve this situation. It would be nice to see what has gone wrong.\n",
        "\n",
        "Fortunately, you have the review data that may contain some information about what could be going wrong. This is where topic modeling comes in to help. In short, [topic modeling is a technique that allows you to extract \"topics\" that occur in a large collection of text](https://en.wikipedia.org/wiki/Topic_model). In this notebook, you will use BERTopic, a topic modeling package built on top of HuggingFace transformers.\n",
        "\n",
        "Your task is to use BERTopic to explain the negative shift in ratings, and then present your findings as a one-slide pitch that you will present in class.\n",
        "\n",
        "First, load up BERTopic and familiarize yourselves with its functionality."
      ]
    },
    {
      "cell_type": "markdown",
      "metadata": {
        "id": "-F2C-Jo1V8Xq"
      },
      "source": [
        "## Topic analysis using BERTopic\n",
        "\n",
        "In this assignment, you will not need to build a transformer per se. What you will do is use an ML package that uses a pre-trained transformer to solve a specific NLP task. In this case, that is topic modeling.\n",
        "\n",
        "First, if running on Colab (which is highly recommended at least for creating your topic model), you will need to install the package:"
      ]
    },
    {
      "cell_type": "code",
      "execution_count": 155,
      "metadata": {
        "id": "I5fDlx7wik7N"
      },
      "outputs": [],
      "source": [
        "# !pip install bertopic"
      ]
    },
    {
      "cell_type": "code",
      "execution_count": 156,
      "metadata": {
        "id": "U5NuOEp_V8Xr"
      },
      "outputs": [],
      "source": [
        "# from bertopic import BERTopic"
      ]
    },
    {
      "cell_type": "code",
      "execution_count": 157,
      "metadata": {
        "id": "qrCxIGW-V8Xr"
      },
      "outputs": [],
      "source": [
        "# topic_model = BERTopic(embedding_model = 'all-MiniLM-L6-v2')"
      ]
    },
    {
      "cell_type": "markdown",
      "metadata": {
        "id": "TK_8b25ow_u4"
      },
      "source": [
        "It can take a long time to train the topic model on the entire dataset. To reduce the load, we slice the dataset by year 2019 and run training.\n",
        "\n",
        "Also, note that so far we are not making any specifications about the training process. The [documentation for BERTopic](https://maartengr.github.io/BERTopic/index.html) gives lots of information on how to tweak the fitting behavior (and how to access different [embeddings](https://maartengr.github.io/BERTopic/getting_started/embeddings/embeddings.html), etc.). It also pays to take a look at the [best practices](https://maartengr.github.io/BERTopic/getting_started/best_practices/best_practices.html)."
      ]
    },
    {
      "cell_type": "code",
      "execution_count": 158,
      "metadata": {
        "id": "AhVCjSsMtopv"
      },
      "outputs": [],
      "source": [
        "# df_slice = df[(df['year'] == 2019)]"
      ]
    },
    {
      "cell_type": "code",
      "execution_count": 159,
      "metadata": {
        "id": "0pnPgGp3V8Xr"
      },
      "outputs": [],
      "source": [
        "# topics, probs = topic_model.fit_transform(df_slice['text'])"
      ]
    },
    {
      "cell_type": "markdown",
      "metadata": {
        "id": "M5LcTBivx3aW"
      },
      "source": [
        "Ok, let's see what this topic_model has to say. The following command returns the list of topics ordered by frequency. You can also see the most relevant words for the topic, and the most relevant reviews.\n",
        "\n",
        "Note: topic -1 is a dummy topic and should generally be ignored. It aggregates all the outliers and reviews that couldn't be clustered into a topic."
      ]
    },
    {
      "cell_type": "code",
      "execution_count": 160,
      "metadata": {
        "id": "W6QkiluHV8Xr"
      },
      "outputs": [],
      "source": [
        "# topic_model.get_topic_info()"
      ]
    },
    {
      "cell_type": "markdown",
      "metadata": {
        "id": "pLjmul9dyim4"
      },
      "source": [
        "You can also obtain information on a specific topic. For example below you can look into topic 2 and get the top words for that topic. The numbers on the right quantify the importance of those words to the topic."
      ]
    },
    {
      "cell_type": "code",
      "execution_count": 161,
      "metadata": {
        "id": "RHj_ALteV8Xs"
      },
      "outputs": [],
      "source": [
        "# topic_model.get_topic(2)"
      ]
    },
    {
      "cell_type": "markdown",
      "metadata": {
        "id": "JKcXgf320OPP"
      },
      "source": [
        "Here, you can get representative reviews for a topic."
      ]
    },
    {
      "cell_type": "code",
      "execution_count": 162,
      "metadata": {
        "id": "sksJE9Z6V8Xs"
      },
      "outputs": [],
      "source": [
        "# topic_model.get_representative_docs(2)"
      ]
    },
    {
      "cell_type": "markdown",
      "metadata": {
        "id": "2kEb5Dj_0oVJ"
      },
      "source": [
        "You can also visualize topic relationships in 2d space."
      ]
    },
    {
      "cell_type": "code",
      "execution_count": 163,
      "metadata": {
        "id": "WSX1cWR1V8Xt"
      },
      "outputs": [],
      "source": [
        "# topic_model.visualize_topics()"
      ]
    },
    {
      "cell_type": "markdown",
      "metadata": {
        "id": "mbJToM5V07tK"
      },
      "source": [
        "Or visualize topic word scores."
      ]
    },
    {
      "cell_type": "code",
      "execution_count": 164,
      "metadata": {
        "id": "541plsCOV8Xt"
      },
      "outputs": [],
      "source": [
        "# topic_model.visualize_barchart()"
      ]
    },
    {
      "cell_type": "markdown",
      "metadata": {
        "id": "jsBG9Rms6pwh"
      },
      "source": [
        "Finally, it is often handy to visualize the term rank, to see clearly which topics have a particular focus on just a few words."
      ]
    },
    {
      "cell_type": "code",
      "execution_count": 165,
      "metadata": {
        "id": "q5PxA8bA6g3-"
      },
      "outputs": [],
      "source": [
        "# topic_model.visualize_term_rank()\n"
      ]
    },
    {
      "cell_type": "markdown",
      "metadata": {
        "id": "z-iKCunM0eZO"
      },
      "source": [
        "Let's organize the topics and reviews in a dataframe."
      ]
    },
    {
      "cell_type": "code",
      "execution_count": 166,
      "metadata": {
        "id": "4xU3VXcEV8Xs"
      },
      "outputs": [],
      "source": [
        "# topic_df = pd.DataFrame({\"topic\": topics, \"document\": df_slice['text']})\n",
        "# topic_df"
      ]
    },
    {
      "cell_type": "markdown",
      "metadata": {
        "id": "0jpMT18m1JSt"
      },
      "source": [
        "## Your Task\n",
        "\n",
        "Use BERTopic (as well as additional tools you deem useful) to arrive at a set of explanations for the drop in ratings, and a corresponding set of recommendations to the CEO.\n",
        "\n",
        "You can consult any resources to find out about more of the functionality of BERTopic.\n",
        "\n",
        "As an example of something you could do, try to slice the data, say by year. What happens when rerun the topic model on the data slice? Is there any menaingful information that comes out?\n",
        "\n",
        "In general, this is an open-ended exercise. Be creative!"
      ]
    },
    {
      "cell_type": "markdown",
      "metadata": {
        "id": "IYS-NZh6au-P"
      },
      "source": [
        "## Deliverables\n",
        "\n",
        "See the assignment descriptions for a full overview of the deliverables."
      ]
    },
    {
      "cell_type": "markdown",
      "metadata": {
        "id": "vVk8H03lbKWI"
      },
      "source": [
        "# __1. MORE EDA__"
      ]
    },
    {
      "cell_type": "markdown",
      "metadata": {
        "id": "3yVtGatxIi_D"
      },
      "source": [
        "After reviewing the assignment summary statistics and visulaizations, I wanted to explore certain aspected of the data further, before starting modeling.\n",
        "\n",
        "Already observed key insights:\n",
        "1. Reveiew length is negatively correlated with rating (1 = 920, 5 = 430)\n",
        "1. Assumtion of __'Exelent'__ appearing more in postive reviews and __'Terrible'__ appearing more in negative reviews, is confirmed. \n",
        "\n",
        "Further exploration:\n",
        "1. Drop `type` column as it only contains a single value _'reveiw'_ (dataset is likely a subset of a larger one)\n",
        "1. Inspect `titles` column, showing 1 missing value in df.info()\n",
        "1. Compare average rating across platforms. If one platform rating is significanyly poorer, may indicate on-plain issues with said platform.\n",
        "1. Analyse monthly trends:\n",
        "    - First, to explore existance of seasonality afffects on rating.\n",
        "    - Second, determine if the initial rating drop was in-line with COVID-19 emergence in early 2020\n",
        "1. Explore other word distributions across rating levels.\n",
        "\n",
        "Decision questions:\n",
        "1. How to use `title` column?\n",
        "    - It is a summary of the `text` column for full reviews \n",
        "    - An option would be to use it for suprivised learning for sentiment analysis of our data set, however, with existance of `rating` column it is redunandant.\n",
        "1. Need for __sentiment analysis__?\n",
        "    - Topics can include words that do not clearly indicate sentiment, sentiment analysis can help resolve this issue\n",
        "    - However, given that each review has a `rating` feature, I can calculate the average rating for topics as a proxi sentiment\n",
        "    - If the proxi proves uninformative, I will consider building or importing a seperate sentiment model"
      ]
    },
    {
      "cell_type": "markdown",
      "metadata": {
        "id": "nZHx-5WbIi_D"
      },
      "source": [
        "## 1.1. Load and Preprocess the data"
      ]
    },
    {
      "cell_type": "code",
      "execution_count": 167,
      "metadata": {
        "colab": {
          "base_uri": "https://localhost:8080/",
          "height": 206
        },
        "id": "WjlRoZPaIi_D",
        "outputId": "cc2ef90d-ab95-434f-ed44-d8c94e2b2155"
      },
      "outputs": [
        {
          "data": {
            "text/html": [
              "<div>\n",
              "<style scoped>\n",
              "    .dataframe tbody tr th:only-of-type {\n",
              "        vertical-align: middle;\n",
              "    }\n",
              "\n",
              "    .dataframe tbody tr th {\n",
              "        vertical-align: top;\n",
              "    }\n",
              "\n",
              "    .dataframe thead th {\n",
              "        text-align: right;\n",
              "    }\n",
              "</style>\n",
              "<table border=\"1\" class=\"dataframe\">\n",
              "  <thead>\n",
              "    <tr style=\"text-align: right;\">\n",
              "      <th></th>\n",
              "      <th>published_date</th>\n",
              "      <th>published_platform</th>\n",
              "      <th>rating</th>\n",
              "      <th>text</th>\n",
              "      <th>title</th>\n",
              "      <th>helpful_votes</th>\n",
              "      <th>year</th>\n",
              "      <th>month</th>\n",
              "    </tr>\n",
              "  </thead>\n",
              "  <tbody>\n",
              "    <tr>\n",
              "      <th>0</th>\n",
              "      <td>2024-03-12 18:41:14+00:00</td>\n",
              "      <td>Desktop</td>\n",
              "      <td>3</td>\n",
              "      <td>We used this airline to go from Singapore to L...</td>\n",
              "      <td>Ok</td>\n",
              "      <td>0</td>\n",
              "      <td>2024</td>\n",
              "      <td>3</td>\n",
              "    </tr>\n",
              "    <tr>\n",
              "      <th>1</th>\n",
              "      <td>2024-03-11 23:39:13+00:00</td>\n",
              "      <td>Desktop</td>\n",
              "      <td>5</td>\n",
              "      <td>The service on Singapore Airlines Suites Class...</td>\n",
              "      <td>The service in Suites Class makes one feel lik...</td>\n",
              "      <td>0</td>\n",
              "      <td>2024</td>\n",
              "      <td>3</td>\n",
              "    </tr>\n",
              "    <tr>\n",
              "      <th>2</th>\n",
              "      <td>2024-03-11 16:20:23+00:00</td>\n",
              "      <td>Desktop</td>\n",
              "      <td>1</td>\n",
              "      <td>Booked, paid and received email confirmation f...</td>\n",
              "      <td>Don’t give them your money</td>\n",
              "      <td>0</td>\n",
              "      <td>2024</td>\n",
              "      <td>3</td>\n",
              "    </tr>\n",
              "    <tr>\n",
              "      <th>3</th>\n",
              "      <td>2024-03-11 11:12:27+00:00</td>\n",
              "      <td>Desktop</td>\n",
              "      <td>5</td>\n",
              "      <td>Best airline in the world, seats, food, servic...</td>\n",
              "      <td>Best Airline in the World</td>\n",
              "      <td>0</td>\n",
              "      <td>2024</td>\n",
              "      <td>3</td>\n",
              "    </tr>\n",
              "    <tr>\n",
              "      <th>4</th>\n",
              "      <td>2024-03-10 09:34:18+00:00</td>\n",
              "      <td>Desktop</td>\n",
              "      <td>2</td>\n",
              "      <td>Premium Economy Seating on Singapore Airlines ...</td>\n",
              "      <td>Premium Economy Seating on Singapore Airlines ...</td>\n",
              "      <td>0</td>\n",
              "      <td>2024</td>\n",
              "      <td>3</td>\n",
              "    </tr>\n",
              "  </tbody>\n",
              "</table>\n",
              "</div>"
            ],
            "text/plain": [
              "             published_date published_platform  rating  \\\n",
              "0 2024-03-12 18:41:14+00:00            Desktop       3   \n",
              "1 2024-03-11 23:39:13+00:00            Desktop       5   \n",
              "2 2024-03-11 16:20:23+00:00            Desktop       1   \n",
              "3 2024-03-11 11:12:27+00:00            Desktop       5   \n",
              "4 2024-03-10 09:34:18+00:00            Desktop       2   \n",
              "\n",
              "                                                text  \\\n",
              "0  We used this airline to go from Singapore to L...   \n",
              "1  The service on Singapore Airlines Suites Class...   \n",
              "2  Booked, paid and received email confirmation f...   \n",
              "3  Best airline in the world, seats, food, servic...   \n",
              "4  Premium Economy Seating on Singapore Airlines ...   \n",
              "\n",
              "                                               title  helpful_votes  year  \\\n",
              "0                                                 Ok              0  2024   \n",
              "1  The service in Suites Class makes one feel lik...              0  2024   \n",
              "2                         Don’t give them your money              0  2024   \n",
              "3                          Best Airline in the World              0  2024   \n",
              "4  Premium Economy Seating on Singapore Airlines ...              0  2024   \n",
              "\n",
              "   month  \n",
              "0      3  \n",
              "1      3  \n",
              "2      3  \n",
              "3      3  \n",
              "4      3  "
            ]
          },
          "execution_count": 167,
          "metadata": {},
          "output_type": "execute_result"
        }
      ],
      "source": [
        "# Laod the data\n",
        "df = pd.read_csv('https://www.dropbox.com/scl/fi/ekrltx48nq8ll7txpmkcg/singapore_airlines_reviews.csv?rlkey=lj0uqi5vpaaploqxg50yqbrj1&st=mindhem4&dl=1')\n",
        "\n",
        "# Convert the 'published_date' column to a date format and add 'year' & 'month' columns\n",
        "df['published_date'] = pd.to_datetime(df['published_date'], format='ISO8601', utc=True)\n",
        "df['year'] = df['published_date'].dt.year\n",
        "df['month'] = df['published_date'].dt.month\n",
        "\n",
        "# Remove 'type' column (single value)\n",
        "df.drop(columns='type', inplace=True)\n",
        "\n",
        "df.head()"
      ]
    },
    {
      "cell_type": "markdown",
      "metadata": {
        "id": "UdkhGncAIi_D"
      },
      "source": [
        "## 1.2. Explore 'published_platform'"
      ]
    },
    {
      "cell_type": "code",
      "execution_count": 168,
      "metadata": {
        "colab": {
          "base_uri": "https://localhost:8080/"
        },
        "id": "AYmI4XHuIi_D",
        "outputId": "91084f49-192a-4b65-fa21-509f7629da04"
      },
      "outputs": [
        {
          "name": "stdout",
          "output_type": "stream",
          "text": [
            "Average rating by platform:\n",
            " published_platform\n",
            "Desktop    3.96\n",
            "Mobile     4.16\n",
            "Name: rating, dtype: float64\n"
          ]
        }
      ],
      "source": [
        "# Group by platform and calculate average rating\n",
        "avg_rating_by_platform = df.groupby('published_platform')['rating'].mean().round(2)\n",
        "\n",
        "# Display\n",
        "print(\"Average rating by platform:\\n\", avg_rating_by_platform)"
      ]
    },
    {
      "cell_type": "code",
      "execution_count": 169,
      "metadata": {
        "id": "hmbwN8J7Ii_D"
      },
      "outputs": [],
      "source": [
        "# Remove 'published_platform' column (no information)\n",
        "df.drop(columns='published_platform', inplace=True)"
      ]
    },
    {
      "cell_type": "markdown",
      "metadata": {
        "id": "JKe1IZDsIi_D"
      },
      "source": [
        "Since the average rating are very simialr across the two platforms, `published_platform` is unlikely to be a significant variable. Therefore, I drop it."
      ]
    },
    {
      "cell_type": "markdown",
      "metadata": {
        "id": "Aqzxmlq_Ii_D"
      },
      "source": [
        "## 1.3. Explote 'title'"
      ]
    },
    {
      "cell_type": "code",
      "execution_count": 170,
      "metadata": {
        "colab": {
          "base_uri": "https://localhost:8080/",
          "height": 303
        },
        "id": "J-z6CDoPIi_D",
        "outputId": "31a6034b-a925-4d61-a92e-4367467fd0a2"
      },
      "outputs": [
        {
          "data": {
            "text/plain": [
              "published_date    0\n",
              "rating            0\n",
              "text              0\n",
              "title             1\n",
              "helpful_votes     0\n",
              "year              0\n",
              "month             0\n",
              "dtype: int64"
            ]
          },
          "execution_count": 170,
          "metadata": {},
          "output_type": "execute_result"
        }
      ],
      "source": [
        "# Check for missing values\n",
        "df.isna().sum()"
      ]
    },
    {
      "cell_type": "code",
      "execution_count": 171,
      "metadata": {
        "colab": {
          "base_uri": "https://localhost:8080/"
        },
        "id": "lEVLDAA3Ii_D",
        "outputId": "53d7e060-35bd-4bb9-cff3-75bb12f7307e"
      },
      "outputs": [
        {
          "data": {
            "text/plain": [
              "8476"
            ]
          },
          "execution_count": 171,
          "metadata": {},
          "output_type": "execute_result"
        }
      ],
      "source": [
        "# Number of unique values\n",
        "df['title'].nunique()"
      ]
    },
    {
      "cell_type": "code",
      "execution_count": 172,
      "metadata": {
        "colab": {
          "base_uri": "https://localhost:8080/",
          "height": 489
        },
        "id": "pqlh7m4GIi_D",
        "outputId": "fcbbcedb-6c0f-445e-d9a4-93d662457ff0"
      },
      "outputs": [
        {
          "data": {
            "text/plain": [
              "title\n",
              "Singapore Airlines                      57\n",
              "Excellent service                       57\n",
              "Great service                           53\n",
              "Great airline                           43\n",
              "Excellent                               42\n",
              "                                        ..\n",
              "Trip to Oz                               2\n",
              "A good flight                            2\n",
              "Disappointed with Singapore Airlines     2\n",
              "My favourite Airline!                    2\n",
              "Very Disappointed                        2\n",
              "Name: count, Length: 466, dtype: int64"
            ]
          },
          "execution_count": 172,
          "metadata": {},
          "output_type": "execute_result"
        }
      ],
      "source": [
        "# See if there are any identical titles\n",
        "df[df['title'].duplicated(keep=False)]['title'].value_counts()"
      ]
    },
    {
      "cell_type": "code",
      "execution_count": 173,
      "metadata": {},
      "outputs": [],
      "source": [
        "# Remove 'published_platform' column (no information)\n",
        "df.drop(columns='title', inplace=True)"
      ]
    },
    {
      "cell_type": "markdown",
      "metadata": {
        "id": "uiUu31hnIi_E"
      },
      "source": [
        "The `title` column contains a single missing valueand meney generic and repeating titles. While titles like 'Excellent service' & 'Very Disspointed' can be usefull for ligh sentiment analysis, other titles like 'Singapore Airlines' add little value. As mentioned above, if average rating will prove redundant, I will consider using title for sentiment, until then, I drop it.\n",
        "\n",
        "I also considered fusing the `title` and `text` columns to potentially enrich the data or reinforce keywords (mostly sentiment words). However, ultimately decided not to, since it would introduce unnecessary noise, increasing computation time and possibly reducing model performance. Sentiment advantage is taken care of by average rating. "
      ]
    },
    {
      "cell_type": "markdown",
      "metadata": {
        "id": "FhieL30QIi_E"
      },
      "source": [
        "## 1.4. Monthly ratings review"
      ]
    },
    {
      "cell_type": "code",
      "execution_count": 174,
      "metadata": {
        "colab": {
          "base_uri": "https://localhost:8080/",
          "height": 287
        },
        "id": "47scBz31Ii_E",
        "outputId": "aeaabc49-a93d-4a89-ee26-8b2e90981025"
      },
      "outputs": [
        {
          "data": {
            "image/png": "[encoded data removed]",
            "text/plain": [
              "<Figure size 2400x400 with 7 Axes>"
            ]
          },
          "metadata": {},
          "output_type": "display_data"
        }
      ],
      "source": [
        "# Prepare data\n",
        "df_time = df.copy()\n",
        "df_time['month_name'] = df_time['published_date'].dt.strftime('%b')  # get the month names\n",
        "\n",
        "# Group by year and month to get avg rating and review count\n",
        "monthly_summary = df_time.groupby(['year', 'month', 'month_name']).agg(\n",
        "    avg_rating=('rating', 'mean'),\n",
        "    review_count=('rating', 'count')\n",
        ").reset_index()\n",
        "\n",
        "# Sort time series by ascending year & Jan to Dec\n",
        "monthly_summary = monthly_summary.sort_values(['year', 'month'])\n",
        "\n",
        "# Set up the facet subplot layout\n",
        "fig, axes = plt.subplots(nrows=1, ncols=7, figsize=(24, 4), sharey=True)\n",
        "\n",
        "# Plot each year's data in its respective subplot\n",
        "for i, year in enumerate(monthly_summary['year'].unique()):\n",
        "    ax = axes[i]\n",
        "    data = monthly_summary[monthly_summary['year'] == year]\n",
        "    bars = sns.barplot(\n",
        "        data=data,\n",
        "        x='month_name',\n",
        "        y='avg_rating',\n",
        "        order=['Jan','Feb','Mar','Apr','May','Jun','Jul','Aug','Sep','Oct','Nov','Dec'],\n",
        "        ax=ax,\n",
        "        color='skyblue'\n",
        "    )\n",
        "    ax.set_title(f\"Year: {year}\")\n",
        "    ax.set_xlabel(\"Month\")\n",
        "    ax.set_ylabel(\"Average Rating\")\n",
        "    ax.tick_params(axis='x', rotation=45)\n",
        "    ax.bar_label(ax.containers[0], labels=data['review_count'], label_type='edge', fontsize=8)\n",
        "\n",
        "# Layout and main title\n",
        "plt.suptitle(\"Average Rating per Year & Month (with countes of reviews)\")\n",
        "plt.tight_layout()\n",
        "plt.show()\n"
      ]
    },
    {
      "cell_type": "markdown",
      "metadata": {
        "id": "YVtctaC4Ii_E"
      },
      "source": [
        "Plotting average ratings by month clarifies the start of the decline in ratings __April 2020__. It aligns with the start of global flight ban, reduction and cancellations in March 2020 associated with COVID-19. This justified the reduction ratings from April 2020 until end of 2021. The inconsistent ratings in 2021 are likely due to small number of reviews (e.g. Jan2021 = 2obs).However, the continued low ratings after 2021 suggest long-term issues that are not solely caused by the pandemic.\n",
        "\n",
        "When modeling it would be particularly interesting to examine if any issues persist across years.\n",
        "\n",
        "Information source: [World Economic Forum](https://www.weforum.org/stories/2020/03/this-chart-shows-how-airlines-are-being-grounded-by-covid-19/)"
      ]
    },
    {
      "cell_type": "markdown",
      "metadata": {
        "id": "0SO0NWZYIi_E"
      },
      "source": [
        "## 1.5. Sentance length & word presence across ratings and years (plots)"
      ]
    },
    {
      "cell_type": "code",
      "execution_count": 175,
      "metadata": {
        "id": "g7_PgS8YIi_E"
      },
      "outputs": [],
      "source": [
        "# Prepare data\n",
        "df_words = df.copy()\n",
        "\n",
        "# Calculate the length of each review\n",
        "df_words['review_length'] = df_words['text'].apply(len)\n",
        "\n",
        "# Keeping the simple sentiment words, but adding COVID mention and words assosiated with it (cancel & ban)\n",
        "df_words['contains_excellent'] = df_words['text'].str.contains('excellent', case=False).astype(int)\n",
        "df_words['contains_terrible'] = df_words['text'].str.contains('terrible', case=False).astype(int)\n",
        "df_words['contains_covid'] = df_words['text'].str.contains('covid', case=False).astype(int)\n",
        "df_words['contains_cancel'] = df_words['text'].str.contains('cancel', case=False).astype(int)\n",
        "df_words['contains_ban'] = df_words['text'].str.contains('ban', case=False).astype(int)\n",
        "\n",
        "# Preparing data for visualization\n",
        "# Aggregate data to see if there's a visible trend between the points above and rating\n",
        "aggregated_data_rating = df_words.groupby('rating').agg({\n",
        "    'review_length': 'mean',\n",
        "    'contains_excellent': 'mean',\n",
        "    'contains_terrible': 'mean',\n",
        "    'contains_covid': 'mean',\n",
        "    'contains_cancel': 'mean',\n",
        "    'contains_ban': 'mean'\n",
        "}).reset_index()\n",
        "\n",
        "# Aggregate data to see if there's a visible trend between the points above and year\n",
        "aggregated_data_year = df_words.groupby('year').agg({\n",
        "    'review_length': 'mean',\n",
        "    'contains_excellent': 'mean',\n",
        "    'contains_terrible': 'mean',\n",
        "    'contains_covid': 'mean',\n",
        "    'contains_cancel': 'mean',\n",
        "    'contains_ban': 'mean'\n",
        "}).reset_index()"
      ]
    },
    {
      "cell_type": "code",
      "execution_count": 176,
      "metadata": {
        "colab": {
          "base_uri": "https://localhost:8080/",
          "height": 607
        },
        "id": "jSheCDiNIi_E",
        "outputId": "4b275908-9049-4d4d-d264-6703ebddd288"
      },
      "outputs": [
        {
          "data": {
            "image/png": "[encoded data removed]",
            "text/plain": [
              "<Figure size 1200x600 with 6 Axes>"
            ]
          },
          "metadata": {},
          "output_type": "display_data"
        }
      ],
      "source": [
        "# Rating plots\n",
        "fig, axes = plt.subplots(2, 3, figsize=(12, 6))\n",
        "\n",
        "# Review length vs. rating\n",
        "axes[0][0].bar(aggregated_data_rating['rating'], aggregated_data_rating['review_length'], color='skyblue')\n",
        "axes[0][0].set_title('Average Review Length vs. Rating')\n",
        "axes[0][0].set_xlabel('Rating')\n",
        "axes[0][0].set_ylabel('Average Review Length')\n",
        "\n",
        "# Presence of \"excellent\" vs. rating\n",
        "axes[0][1].bar(aggregated_data_rating['rating'], aggregated_data_rating['contains_excellent'], color='lightgreen')\n",
        "axes[0][1].set_title('Presence of \"Excellent\" vs. Rating')\n",
        "axes[0][1].set_xlabel('Rating')\n",
        "axes[0][1].set_ylabel('Average Occurrence of \"Excellent\"')\n",
        "\n",
        "# Presence of \"terrible\" vs. rating\n",
        "axes[0][2].bar(aggregated_data_rating['rating'], aggregated_data_rating['contains_terrible'], color='salmon')\n",
        "axes[0][2].set_title('Presence of \"Terrible\" vs. Rating')\n",
        "axes[0][2].set_xlabel('Rating')\n",
        "axes[0][2].set_ylabel('Average Occurrence of \"Terrible\"')\n",
        "\n",
        "# Presence of \"covid\" vs. rating\n",
        "axes[1][0].bar(aggregated_data_rating['rating'], aggregated_data_rating['contains_covid'], color='skyblue')\n",
        "axes[1][0].set_title('Presence of \"covid\" vs. Rating')\n",
        "axes[1][0].set_xlabel('Rating')\n",
        "axes[1][0].set_ylabel('Presence of \"covid\"')\n",
        "\n",
        "# Presence of \"cancel\" vs. rating\n",
        "axes[1][1].bar(aggregated_data_rating['rating'], aggregated_data_rating['contains_cancel'], color='lightgreen')\n",
        "axes[1][1].set_title('Presence of \"cancel\" vs. Rating')\n",
        "axes[1][1].set_xlabel('Rating')\n",
        "axes[1][1].set_ylabel('Average Occurrence of \"ban\"')\n",
        "\n",
        "# Presence of \"ban\" vs. rating\n",
        "axes[1][2].bar(aggregated_data_rating['rating'], aggregated_data_rating['contains_ban'], color='salmon')\n",
        "axes[1][2].set_title('Presence of \"ban\" vs. Rating')\n",
        "axes[1][2].set_xlabel('Rating')\n",
        "axes[1][2].set_ylabel('Average Occurrence of \"ban\"')\n",
        "\n",
        "plt.tight_layout()\n",
        "plt.show()"
      ]
    },
    {
      "cell_type": "code",
      "execution_count": 177,
      "metadata": {
        "colab": {
          "base_uri": "https://localhost:8080/",
          "height": 607
        },
        "id": "al1opGcAIi_E",
        "outputId": "ae5d9cdc-6f0c-4488-bb16-f14493fa0b5e"
      },
      "outputs": [
        {
          "data": {
            "image/png": "[encoded data removed]",
            "text/plain": [
              "<Figure size 1200x600 with 6 Axes>"
            ]
          },
          "metadata": {},
          "output_type": "display_data"
        }
      ],
      "source": [
        "# Years plots\n",
        "fig, axes = plt.subplots(2, 3, figsize=(12, 6))\n",
        "\n",
        "# Review length vs. year\n",
        "axes[0][0].bar(aggregated_data_year['year'], aggregated_data_year['review_length'], color='skyblue')\n",
        "axes[0][0].set_title('Average Review Length vs. Year')\n",
        "axes[0][0].set_xlabel('Year')\n",
        "axes[0][0].set_ylabel('Average Review Length')\n",
        "\n",
        "# Presence of \"excellent\" vs. year\n",
        "axes[0][1].bar(aggregated_data_year['year'], aggregated_data_year['contains_excellent'], color='lightgreen')\n",
        "axes[0][1].set_title('Presence of \"Excellent\" vs. Year')\n",
        "axes[0][1].set_xlabel('Year')\n",
        "axes[0][1].set_ylabel('Average Occurrence of \"Excellent\"')\n",
        "\n",
        "# Presence of \"terrible\" vs. year\n",
        "axes[0][2].bar(aggregated_data_year['year'], aggregated_data_year['contains_terrible'], color='salmon')\n",
        "axes[0][2].set_title('Presence of \"Terrible\" vs. Year')\n",
        "axes[0][2].set_xlabel('Year')\n",
        "axes[0][2].set_ylabel('Average Occurrence of \"Terrible\"')\n",
        "\n",
        "# Presence of \"covid\" vs. year\n",
        "axes[1][0].bar(aggregated_data_year['year'], aggregated_data_year['contains_covid'], color='skyblue')\n",
        "axes[1][0].set_title('Presence of \"covid\" vs. Year')\n",
        "axes[1][0].set_xlabel('Year')\n",
        "axes[1][0].set_ylabel('Presence of \"covid\"')\n",
        "\n",
        "# Presence of \"cancel\" vs. year\n",
        "axes[1][1].bar(aggregated_data_year['year'], aggregated_data_year['contains_cancel'], color='lightgreen')\n",
        "axes[1][1].set_title('Presence of \"cancel\" vs. Year')\n",
        "axes[1][1].set_xlabel('Year')\n",
        "axes[1][1].set_ylabel('Average Occurrence of \"ban\"')\n",
        "\n",
        "# Presence of \"ban\" vs. year\n",
        "axes[1][2].bar(aggregated_data_year['year'], aggregated_data_year['contains_ban'], color='salmon')\n",
        "axes[1][2].set_title('Presence of \"ban\" vs. Year')\n",
        "axes[1][2].set_xlabel('Year')\n",
        "axes[1][2].set_ylabel('Average Occurrence of \"ban\"')\n",
        "\n",
        "plt.tight_layout()\n",
        "plt.show()"
      ]
    },
    {
      "cell_type": "markdown",
      "metadata": {
        "id": "kDxNTAoqIi_E"
      },
      "source": [
        "The plots show:\n",
        "- Mentions of _COVID_ reduced after the pandemic, HOWEVER,\n",
        "    - Mentions of _cancelation_ remained higher than pre-COVID level\n",
        "    - Mentions of _ban_ was present even before covid, but increased post-COVID\n",
        "- Interestingly, average sentance length increased over time, supporting the theory that negative reviews tend to be longer."
      ]
    },
    {
      "cell_type": "markdown",
      "metadata": {
        "id": "hl2AuonGIi_E"
      },
      "source": [
        "# __2. DATA SUBSETS__"
      ]
    },
    {
      "cell_type": "markdown",
      "metadata": {
        "id": "WTlsp5ixfrGT"
      },
      "source": [
        "To reduce number of comparisons made, while maintating the key obserations across different rating and periods of time, I created customized subsets. After examining each year and rating individually, I tried grouping them and achieved similar results. Therefore, justifing the chosen period and rating ranges for an efficient analysis."
      ]
    },
    {
      "cell_type": "code",
      "execution_count": 178,
      "metadata": {
        "id": "ybC8NiSlKFNv"
      },
      "outputs": [
        {
          "name": "stdout",
          "output_type": "stream",
          "text": [
            "===================DATA FRAMES LENGTHS=================== \n",
            "YEARS:   BEFORE = 8619, | COVID = 175,     | AFTER = 1206\n",
            "RATINGS: LOW = 1600,    | AVERAGE = 1009,  | HIGH = 7391\n",
            "\n",
            "BEFORE RATINGS: LOW = 798   | HIGH = 7821\n",
            "COVID RATING:   LOW = 77    | HIGH = 98\n",
            "AFTER RATINGS:  LOW = 725   | HIGH = 481\n"
          ]
        }
      ],
      "source": [
        "# DF slices for the testing\n",
        "# Split by year ranges before, during and after covid\n",
        "df_before = df[(df[\"published_date\"] >= \"2018-01-01\") & (df[\"published_date\"] < \"2020-04-01\")]  # years before covid with average rating above 4\n",
        "df_covid = df[(df[\"published_date\"] >= \"2020-04-01\") & (df[\"published_date\"] < \"2021-12-01\")]   # covid years with little reviews and hight monthly rating volatility\n",
        "df_after = df[df[\"published_date\"] >= \"2021-12-01\"]                                             # years after covid with average rating between 2 & 3\n",
        "\n",
        "# By rating:\n",
        "df_neg = df[(df['rating'] == 1) | (df['rating'] == 2)]\n",
        "df_avg = df[df['rating'] == 3]\n",
        "df_pos = df[(df['rating'] == 4) | (df['rating'] == 5)]\n",
        "\n",
        "# Year ranges split by low (1-2) and high (3-5) ratings\n",
        "df_before_neg = df_before[df_before['rating'].isin([1, 2])].shape[0]\n",
        "df_before_pos = df_before[df_before['rating'].isin([3, 4, 5])].shape[0]\n",
        "\n",
        "df_covid_neg = df_covid[df_covid['rating'].isin([1, 2])].shape[0]\n",
        "df_covid_pos = df_covid[df_covid['rating'].isin([3, 4, 5])].shape[0]\n",
        "\n",
        "df_after_neg = df_after[df_after['rating'].isin([1, 2])].shape[0]\n",
        "df_after_pos = df_after[df_after['rating'].isin([3, 4, 5])].shape[0]\n",
        "\n",
        "print(\n",
        "    \"===================DATA FRAMES LENGTHS===================\",\n",
        "    f\"\\nYEARS:   BEFORE = {len(df_before)}, | COVID = {len(df_covid)},     | AFTER = {len(df_after)}\\n\"\n",
        "    f\"RATINGS: LOW = {len(df_neg)},    | AVERAGE = {len(df_avg)},  | HIGH = {len(df_pos)}\\n\\n\"\n",
        "    f\"BEFORE RATINGS: LOW = {df_before_neg}   | HIGH = {df_before_pos}\\n\"\n",
        "    f\"COVID RATING:   LOW = {df_covid_neg}    | HIGH = {df_covid_pos}\\n\"\n",
        "    f\"AFTER RATINGS:  LOW = {df_after_neg}   | HIGH = {df_after_pos}\"\n",
        ")"
      ]
    },
    {
      "cell_type": "markdown",
      "metadata": {},
      "source": [
        "The output shows that most reviews are consentrated in pre-COVID period with 91% positive ratings. During COVID the rating distribution turns more equal with 56% positive. Finally, post-COVID shows 60% of the ratings to be negative. This shows that there are likely new issues that arose post-COVID, that were not presetn before.\n",
        "I initially considered using the periods devided by rating, but after using _topics over time_ and _topics per class_ visualizations (Section 4), I found them capturing patterns I wanted to explore."
      ]
    },
    {
      "cell_type": "markdown",
      "metadata": {
        "id": "14X804SPIi_F"
      },
      "source": [
        "# __3. Basic Model__"
      ]
    },
    {
      "cell_type": "markdown",
      "metadata": {
        "id": "tMNdV6MrVYj-"
      },
      "source": [
        "I first run the model using it base provided parameters from the assignment (with an addition of random seed for replicability and fair comparison)"
      ]
    },
    {
      "cell_type": "code",
      "execution_count": 179,
      "metadata": {
        "colab": {
          "base_uri": "https://localhost:8080/",
          "height": 424,
          "referenced_widgets": [
            "d30ddc91783147e698a926112e3ef679",
            "2599995bbbb649458c8c8f2781c91caf",
            "d34fc6e294034e13b88eb79958145343",
            "587ab6dbd89b4a22b8f832077844496b",
            "982002eeef114bc1b074ca8e2e35c49f",
            "a8ad7469620042bba16c70070881b07d",
            "afa803b5566644b1996dab485d2c1fb9",
            "15dd79bf283d4be8a34a991a9e85f5b0",
            "acd7d075d46644eb85be8155f27ec876",
            "69cd079b77e14acdb4f80933b49ccaba",
            "e54fb35476b14c648747d603dd304b6c",
            "16e6dde1af334a0992101055ed176849",
            "37c1a1333fc5481c88a18301ef4b4155",
            "b1c208af2e724b9e96b5a97ef0e6abb5",
            "d63786e5414942fe90fc19e1f4eef2a5",
            "f1475ffdd90d4ccc87b4bb630f142a53",
            "7a7b06df39fa4a29a93c26b4091e2949",
            "3b63c28448c94d55a01412717f9c61b5",
            "3e71cb4616bf475f8d6139f6c4b98ab3",
            "02a1cc07e1a647cc94093c8944c27230",
            "53a7932640d74efea06c0e0580409d54",
            "9fa51ca8da9b4334a2b8d14340cf5f77",
            "08e67182c43a481aa6f29c377a66b3a0",
            "aa36edb56725415494dd0879aaac90f1",
            "e7c1069f901043d7a98ed204aacd1445",
            "290e8546c941471aa5e302ee8b38cc98",
            "8405cdcb6444470b85d6d57f86c2538f",
            "7324af519e6b4e769e6f93b67a84bd69",
            "afe8a7f557094edeb3a5dabf26fc0edf",
            "11376bc39dcc4af39d782684fe31c9af",
            "2f6dbb8263f04d32ae8a7fcade72ae5d",
            "a0319d2f46474993ab41d39bd4c2647d",
            "fac5686413f5491496d526256cd0a454",
            "8c55e73b5c98435da919bfb2b99df8ac",
            "2736d03d39b549db864fb1eb295f9993",
            "daee92a6a14f4a93ab19ad7b773bb886",
            "542f509949eb449e9769f24b9258d342",
            "5aa8520a96164fea8b3a6a518488569e",
            "4be8b117808a4ba7b93b680ce2ef3be5",
            "da4614b717704834a81920a2d85f284a",
            "6d3d1b5a033e4e23a52437a763a0f7a1",
            "fac38486ca844bebbe6d42759c91d5af",
            "6a934f23fd044693906639dba7653561",
            "b2ede3eecf444748ad7e3c1cffa2c03d",
            "4f93e9b51d7b418698f46c41bead4c96",
            "c21db91c865c44e8baaedd5f62cd05a2",
            "b8a791ffe1804afd94cffcd0fe517e5f",
            "3de7aed6a546457996450b1450cfdaa0",
            "5ae1d31560ad49389ec2c44583b1b9e5",
            "b4e8ecbb230c4dd4b529a8cd49806136",
            "de376ae56ea34687adbe2fc55287aa8d",
            "8bb43d39034c4c12b13dfe1e78d6d85f",
            "c8250b7726c847faa4b4bb1a8725ac05",
            "83f10ea11cf74ff39bd34fbe63c20acb",
            "c254fd50b8464335b80b43553e3d1575",
            "4c812079e63a4a1d9329df4f6e538de4",
            "775f3c33eb7e422aa07e443435172cf0",
            "4d19fd7eb8114e449234c508da9f2c28",
            "d8b29312d7e14be6a24104cb01b53a50",
            "bd192895dc664f09bc49085a05f27722",
            "630a1dcda55e448e8f93d5999544201b",
            "064915f277d94a02804b853f5c5205b1",
            "c858d382b56b4d74ae8cffb60e5d31f9",
            "3b6c8fe0ab654102b77c89b246301945",
            "09cb3562415844559bba308815aafad4",
            "70153449341749169a7017c5fd9bc93f",
            "36cb08a0db044e8ba57f6a88630204da",
            "e79c4b1484e2455583775865c61f151c",
            "b9716a426e5348a6948a7ad897695c36",
            "1434c9ae8e54458ea92e58a92636572e",
            "c99f155d993d49d297d8597c9e462ade",
            "b2072bb394f641aab740dadce38a26c4",
            "23a14e89ba654792a81514ea91631cf9",
            "b2d7422b8e1346cb9758628746e4d97a",
            "9931724919cd4deab417c943112a6e42",
            "3e095306a96a4d48b1f48666ff1134d2",
            "fc19c13ab45a495d998bc77a70ec9725",
            "f088fb4df0be4a72b04c56c2ec1eb87a",
            "abb90d76980c4d598a00b3b7b91b53ed",
            "7edf5929e3b94ac8aa730094699a13be",
            "911ebcd766d940a382305642f1dc58b4",
            "5f41b48de33e490193bddb5ddc572b85",
            "3313a6aedd4641af98853ff8150edce0",
            "f0fd41590f8c494c9826518f3330276c",
            "fc0bdb64c7ab44f38750c5bc76b22972",
            "089896bd97cb460f88d02442f177de17",
            "e367d1ce72c84407aca41ea8cc68d3a4",
            "baff3e36e4f94ee1a022e54c4007bb15",
            "efbe719f70ed419d8a41e6b6ebc8f2d5",
            "d431c0d598f745c582a890799a39948d",
            "092ccc832192407485adbc89eaa22d89",
            "a5d03b89c8c149f2bae95bfcf3d87559",
            "d2c01c04d88f487ea58abad469665d23",
            "05d170ce69af4b1cb514763ad3adac71",
            "1b404521705047158d5c41959c0599c8",
            "f781c676820c4d368a40ba623cd23f42",
            "791fc1c61c064e299658f038a9eceb22",
            "feac31538bcb4895a222a5f943711f0f",
            "398699e36b37452fb7305326c4449bd8",
            "269a0ac655054b97b476c07e7bbce094",
            "4aeacdc5a1e94835afceabb9c5381e19",
            "07c2ae483d824c2e93c6c575ab3281dd",
            "33a698bb7cc84195ac3ae684a6ed5e00",
            "f249b78740db467b8ffe65dd3cb08f78",
            "309de9e7d3fc4edca8df4bf9313e909e",
            "eead2b8a07084fafa3e375f8a43f89ef",
            "7e6392fb80524672950caccf9fae889a",
            "bcc42174b3f246a1beb3eea9c4bdcb4c",
            "07b6650f88f64cc7a791974b3d567b75",
            "f3b5ae58b04b460d84e90b4100b342d4",
            "3a8622ba05604aada24e28c68f5749ac",
            "afff15535b5c44b6917cd5bd63259d42",
            "6a73519b53bf4c17a527beb26393aa76",
            "4f70f2cd9e1f4d96a1a8ba6c91ec15af",
            "ecec3704129b4604a7cfda08122b145c",
            "c4b47e555f7c41b699c6cc77dbc8753b",
            "b1c63742c0144e798a07fb14e4e0cbd4",
            "59860dcbe7e34e0f8927c9575763939f",
            "cfa5171ec02d4ae0a5914310bd430e83",
            "998b320a38a24abba55d18bf3c506a44",
            "c4ee250f79c841569c6ce72e72adaa08"
          ]
        },
        "id": "H-8UfrqYIi_F",
        "outputId": "319eabea-d8d3-49f4-a608-b96c8bc5eadd"
      },
      "outputs": [],
      "source": [
        "# Initiate the model\n",
        "base_umap = UMAP(random_state=rng, n_jobs=-1)\n",
        "base_model = BERTopic(embedding_model = 'all-MiniLM-L6-v2', umap_model=base_umap)\n",
        "\n",
        "# Fit the model\n",
        "topics, probs = base_model.fit_transform(df_before['text'])"
      ]
    },
    {
      "cell_type": "code",
      "execution_count": 180,
      "metadata": {
        "colab": {
          "base_uri": "https://localhost:8080/",
          "height": 645
        },
        "id": "T4HzmFs-Ii_F",
        "outputId": "9ad40f42-ef65-4694-bc20-66b2f7cdd950"
      },
      "outputs": [
        {
          "data": {
            "text/html": [
              "<div>\n",
              "<style scoped>\n",
              "    .dataframe tbody tr th:only-of-type {\n",
              "        vertical-align: middle;\n",
              "    }\n",
              "\n",
              "    .dataframe tbody tr th {\n",
              "        vertical-align: top;\n",
              "    }\n",
              "\n",
              "    .dataframe thead th {\n",
              "        text-align: right;\n",
              "    }\n",
              "</style>\n",
              "<table border=\"1\" class=\"dataframe\">\n",
              "  <thead>\n",
              "    <tr style=\"text-align: right;\">\n",
              "      <th></th>\n",
              "      <th>Topic</th>\n",
              "      <th>Count</th>\n",
              "      <th>Name</th>\n",
              "      <th>Representation</th>\n",
              "      <th>Representative_Docs</th>\n",
              "    </tr>\n",
              "  </thead>\n",
              "  <tbody>\n",
              "    <tr>\n",
              "      <th>0</th>\n",
              "      <td>-1</td>\n",
              "      <td>695</td>\n",
              "      <td>-1_the_to_and_was</td>\n",
              "      <td>[the, to, and, was, in, of, on, for, it, flight]</td>\n",
              "      <td>[I have made this trip a few times on differen...</td>\n",
              "    </tr>\n",
              "    <tr>\n",
              "      <th>1</th>\n",
              "      <td>0</td>\n",
              "      <td>5012</td>\n",
              "      <td>0_the_to_and_singapore</td>\n",
              "      <td>[the, to, and, singapore, was, in, of, we, on,...</td>\n",
              "      <td>[We have just returned from our first flights ...</td>\n",
              "    </tr>\n",
              "    <tr>\n",
              "      <th>2</th>\n",
              "      <td>1</td>\n",
              "      <td>2059</td>\n",
              "      <td>1_and_the_was_flight</td>\n",
              "      <td>[and, the, was, flight, good, food, very, serv...</td>\n",
              "      <td>[Great trip, full plane but the service was ex...</td>\n",
              "    </tr>\n",
              "    <tr>\n",
              "      <th>3</th>\n",
              "      <td>2</td>\n",
              "      <td>183</td>\n",
              "      <td>2_sq_is_the_and</td>\n",
              "      <td>[sq, is, the, and, to, with, of, always, for, in]</td>\n",
              "      <td>[Picking SQ over others was an obvious choice ...</td>\n",
              "    </tr>\n",
              "    <tr>\n",
              "      <th>4</th>\n",
              "      <td>3</td>\n",
              "      <td>130</td>\n",
              "      <td>3_sia_the_to_and</td>\n",
              "      <td>[sia, the, to, and, of, flight, was, is, for, ...</td>\n",
              "      <td>[I am a frequent traveller and had taken many ...</td>\n",
              "    </tr>\n",
              "    <tr>\n",
              "      <th>5</th>\n",
              "      <td>4</td>\n",
              "      <td>119</td>\n",
              "      <td>4_a380_the_was_and</td>\n",
              "      <td>[a380, the, was, and, on, very, in, flight, it...</td>\n",
              "      <td>[First time flying Airbus A380. Very nice flig...</td>\n",
              "    </tr>\n",
              "    <tr>\n",
              "      <th>6</th>\n",
              "      <td>5</td>\n",
              "      <td>118</td>\n",
              "      <td>5_economy_premium_the_seats</td>\n",
              "      <td>[economy, premium, the, seats, and, for, more,...</td>\n",
              "      <td>[I cannot recommend Premium Economy enough - p...</td>\n",
              "    </tr>\n",
              "    <tr>\n",
              "      <th>7</th>\n",
              "      <td>6</td>\n",
              "      <td>103</td>\n",
              "      <td>6_class_the_business_and</td>\n",
              "      <td>[class, the, business, and, was, economy, to, ...</td>\n",
              "      <td>[We have never flown business class before, so...</td>\n",
              "    </tr>\n",
              "    <tr>\n",
              "      <th>8</th>\n",
              "      <td>7</td>\n",
              "      <td>35</td>\n",
              "      <td>7_emirates_the_airlines_and</td>\n",
              "      <td>[emirates, the, airlines, and, was, singapore,...</td>\n",
              "      <td>[I have taken many airlines and they are all p...</td>\n",
              "    </tr>\n",
              "    <tr>\n",
              "      <th>9</th>\n",
              "      <td>8</td>\n",
              "      <td>30</td>\n",
              "      <td>8_sq_the_is_and</td>\n",
              "      <td>[sq, the, is, and, to, of, in, have, flight, my]</td>\n",
              "      <td>[I took an SQ flight from Singapore to Bangkok...</td>\n",
              "    </tr>\n",
              "    <tr>\n",
              "      <th>10</th>\n",
              "      <td>9</td>\n",
              "      <td>24</td>\n",
              "      <td>9_the_and_to_was</td>\n",
              "      <td>[the, and, to, was, of, for, in, that, my, they]</td>\n",
              "      <td>[On my recent flight from Singapore to Adelaid...</td>\n",
              "    </tr>\n",
              "    <tr>\n",
              "      <th>11</th>\n",
              "      <td>10</td>\n",
              "      <td>21</td>\n",
              "      <td>10_phuket_to_singapore_we</td>\n",
              "      <td>[phuket, to, singapore, we, and, were, flight,...</td>\n",
              "      <td>[After a two week holiday in Singapore and the...</td>\n",
              "    </tr>\n",
              "    <tr>\n",
              "      <th>12</th>\n",
              "      <td>11</td>\n",
              "      <td>18</td>\n",
              "      <td>11_a350_900_the_is</td>\n",
              "      <td>[a350, 900, the, is, flight, good, and, very, ...</td>\n",
              "      <td>[I've flown every model plane that SIA offer, ...</td>\n",
              "    </tr>\n",
              "    <tr>\n",
              "      <th>13</th>\n",
              "      <td>12</td>\n",
              "      <td>17</td>\n",
              "      <td>12_sa_with_and_food</td>\n",
              "      <td>[sa, with, and, food, flight, happy, the, is, ...</td>\n",
              "      <td>[I’d heard a couple of reports that SA had gon...</td>\n",
              "    </tr>\n",
              "    <tr>\n",
              "      <th>14</th>\n",
              "      <td>13</td>\n",
              "      <td>15</td>\n",
              "      <td>13_japanese_the_and_was</td>\n",
              "      <td>[japanese, the, and, was, to, tokyo, flight, o...</td>\n",
              "      <td>[The flight is new and the service offer by th...</td>\n",
              "    </tr>\n",
              "    <tr>\n",
              "      <th>15</th>\n",
              "      <td>14</td>\n",
              "      <td>15</td>\n",
              "      <td>14_and_was_the_were</td>\n",
              "      <td>[and, was, the, were, we, hours, to, flight, a...</td>\n",
              "      <td>[(06 DEC 2019) The flight had a not so pleasan...</td>\n",
              "    </tr>\n",
              "    <tr>\n",
              "      <th>16</th>\n",
              "      <td>15</td>\n",
              "      <td>15</td>\n",
              "      <td>15_fish_the_to_my</td>\n",
              "      <td>[fish, the, to, my, was, on, and, it, of, with]</td>\n",
              "      <td>[Was booked on the Boeing 777-300ER for my biz...</td>\n",
              "    </tr>\n",
              "    <tr>\n",
              "      <th>17</th>\n",
              "      <td>16</td>\n",
              "      <td>10</td>\n",
              "      <td>16_wheelchair_chair_assistance_wheel</td>\n",
              "      <td>[wheelchair, chair, assistance, wheel, was, tr...</td>\n",
              "      <td>[Flying SIN-DXB-SIN with my wheelchair elderly...</td>\n",
              "    </tr>\n",
              "  </tbody>\n",
              "</table>\n",
              "</div>"
            ],
            "text/plain": [
              "    Topic  Count                                  Name  \\\n",
              "0      -1    695                     -1_the_to_and_was   \n",
              "1       0   5012                0_the_to_and_singapore   \n",
              "2       1   2059                  1_and_the_was_flight   \n",
              "3       2    183                       2_sq_is_the_and   \n",
              "4       3    130                      3_sia_the_to_and   \n",
              "5       4    119                    4_a380_the_was_and   \n",
              "6       5    118           5_economy_premium_the_seats   \n",
              "7       6    103              6_class_the_business_and   \n",
              "8       7     35           7_emirates_the_airlines_and   \n",
              "9       8     30                       8_sq_the_is_and   \n",
              "10      9     24                      9_the_and_to_was   \n",
              "11     10     21             10_phuket_to_singapore_we   \n",
              "12     11     18                    11_a350_900_the_is   \n",
              "13     12     17                   12_sa_with_and_food   \n",
              "14     13     15               13_japanese_the_and_was   \n",
              "15     14     15                   14_and_was_the_were   \n",
              "16     15     15                     15_fish_the_to_my   \n",
              "17     16     10  16_wheelchair_chair_assistance_wheel   \n",
              "\n",
              "                                       Representation  \\\n",
              "0    [the, to, and, was, in, of, on, for, it, flight]   \n",
              "1   [the, to, and, singapore, was, in, of, we, on,...   \n",
              "2   [and, the, was, flight, good, food, very, serv...   \n",
              "3   [sq, is, the, and, to, with, of, always, for, in]   \n",
              "4   [sia, the, to, and, of, flight, was, is, for, ...   \n",
              "5   [a380, the, was, and, on, very, in, flight, it...   \n",
              "6   [economy, premium, the, seats, and, for, more,...   \n",
              "7   [class, the, business, and, was, economy, to, ...   \n",
              "8   [emirates, the, airlines, and, was, singapore,...   \n",
              "9    [sq, the, is, and, to, of, in, have, flight, my]   \n",
              "10   [the, and, to, was, of, for, in, that, my, they]   \n",
              "11  [phuket, to, singapore, we, and, were, flight,...   \n",
              "12  [a350, 900, the, is, flight, good, and, very, ...   \n",
              "13  [sa, with, and, food, flight, happy, the, is, ...   \n",
              "14  [japanese, the, and, was, to, tokyo, flight, o...   \n",
              "15  [and, was, the, were, we, hours, to, flight, a...   \n",
              "16    [fish, the, to, my, was, on, and, it, of, with]   \n",
              "17  [wheelchair, chair, assistance, wheel, was, tr...   \n",
              "\n",
              "                                  Representative_Docs  \n",
              "0   [I have made this trip a few times on differen...  \n",
              "1   [We have just returned from our first flights ...  \n",
              "2   [Great trip, full plane but the service was ex...  \n",
              "3   [Picking SQ over others was an obvious choice ...  \n",
              "4   [I am a frequent traveller and had taken many ...  \n",
              "5   [First time flying Airbus A380. Very nice flig...  \n",
              "6   [I cannot recommend Premium Economy enough - p...  \n",
              "7   [We have never flown business class before, so...  \n",
              "8   [I have taken many airlines and they are all p...  \n",
              "9   [I took an SQ flight from Singapore to Bangkok...  \n",
              "10  [On my recent flight from Singapore to Adelaid...  \n",
              "11  [After a two week holiday in Singapore and the...  \n",
              "12  [I've flown every model plane that SIA offer, ...  \n",
              "13  [I’d heard a couple of reports that SA had gon...  \n",
              "14  [The flight is new and the service offer by th...  \n",
              "15  [(06 DEC 2019) The flight had a not so pleasan...  \n",
              "16  [Was booked on the Boeing 777-300ER for my biz...  \n",
              "17  [Flying SIN-DXB-SIN with my wheelchair elderly...  "
            ]
          },
          "execution_count": 180,
          "metadata": {},
          "output_type": "execute_result"
        }
      ],
      "source": [
        "# Topic list by size\n",
        "base_model.get_topic_info()"
      ]
    },
    {
      "cell_type": "markdown",
      "metadata": {
        "id": "B_kvf6q3MX1d"
      },
      "source": [
        "Summary: after analyzing topics across years and ratings, the base model results were uninformative. Primary issue being the extreme amounts of stop words. The first step to perform for the  tuning model has to be text vectorization to improve interpretability."
      ]
    },
    {
      "cell_type": "markdown",
      "metadata": {
        "id": "0S-9iy-IO7xB"
      },
      "source": [
        "# __4. Fine-Tuned Model__"
      ]
    },
    {
      "cell_type": "markdown",
      "metadata": {
        "id": "prZD8WJ6VYj_"
      },
      "source": [
        "Fine-tuning of the model i followed the '[Best Practices](https://maartengr.github.io/BERTopic/getting_started/best_practices/best_practices.html)' BERTopic documentation provides. Before starting, I considered whether to fine-tune separate models for each subset or a single model that generilizes across all subsets (more efficient approach). I began by tuning a model for `df_before`, and then applied it to other subsets. The results were good across subsets, with model requiring minimal adjustments to fit all well (this shows that BERTopic model is alreasy great, just requires small adjustments to the data). Given the exploratory nature of the assignment, I believe this approach is justified."
      ]
    },
    {
      "cell_type": "markdown",
      "metadata": {},
      "source": [
        "## 4.1. Fine-Tuning & Trainig the Model"
      ]
    },
    {
      "cell_type": "markdown",
      "metadata": {},
      "source": [
        "Steps of fine-tuning:\n",
        "1. Applying text vectorization, removing common stop-words, uninformative high-frequency words (data specific), ignoring words that appear once and allowign 1 & 2-gram selection.\n",
        "    - Although 'Best Practices' apply vectorization after embedding, I priotized it since the topics were hard to interpret otherwise.\n",
        "    - I attempted using [Additional Representations](https://maartengr.github.io/BERTopic/getting_started/best_practices/best_practices.html#additional-representations), but experienced installation issues.\n",
        "1. I tested various [pre-trained embedding models](https://www.sbert.net/docs/sentence_transformer/pretrained_models.html):\n",
        "    - `\"all-mpnet-base-v2\"` produced good adn defined topic, but was too slow (even in Colab)\n",
        "    - `\"all-MiniLM-L6-v2\"` and `\"all-MiniLM-L12-v2\"` both prodiced good results in relatively good time, with the latter having slight edge.\n",
        "1. I removed stochastic behavior of UMAP and attempted changing the  `n_neighbours`, where (original settings yielded best results.): \n",
        "    - higher = broader topics\n",
        "    - lower = finer topics\n",
        "1. To control the number of topics, there are 2 ways:\n",
        "    - Using `nr_topics` setting limits the maximum number of topics by \"merging topics after they have been created\", it was not recomended in the documentation for BERTopic\n",
        "    - Usings _HDBSCAN()_ changing the `min_cluster_size` and `cluster selection methods` was recomended instead (inderectly controlling numebr of clusters). \n",
        "    - I used both, `nr_topics` = 11 and `min_cluster_size` 25 with `'eom'` method. The combination slightly increasing topic count while controlling vague topics, yieldign overall best resutls.\n",
        "1. After trainign the model, I calculated the average review rating for each topic to estime the sentiment (without the need for additional models).\n",
        "1. To interpret each topic, I viewed the tokens of topics and read their representative reviews across all subsets. Combined with the topics' average ratings and plots provided insights recoded in the summary (Section 6).\n",
        "\n",
        "I considered using light summarization model `\"sshleifer/distilbart-cnn-12-6\"` on represetative documents, but it missed key aspects of the reviews. More advanced models are either too slow or require an API key (e.g., OpenAI).\n",
        "\n",
        "The data contains `helpful_votes`, using them to give more weight to repective reviews to improve the model (e.g., for better `Representative_Docs`), however, ultimately not implemeted due to additional time required for research and implementation."
      ]
    },
    {
      "cell_type": "code",
      "execution_count": 181,
      "metadata": {},
      "outputs": [],
      "source": [
        "# Data\n",
        "df_slice = df_after\n",
        "\n",
        "# Using df_covid is not very representative due to little observation in that period with high volatility in ratings"
      ]
    },
    {
      "cell_type": "code",
      "execution_count": 182,
      "metadata": {},
      "outputs": [],
      "source": [
        "# Improving Default Representation\n",
        "custom_stopwords = [\"singapore\", \"airline\", \"flight\", \"airlines\", \"sq\", \"sa\", \"sia\", \"air\", \"flights\", 'sin', \"fly\", \"flying\"]  # \"service\" appears often but not across all topics and is key to our analysis\n",
        "all_stopwords = list(text.ENGLISH_STOP_WORDS.union(custom_stopwords))\n",
        "ft_vectorizer = CountVectorizer(stop_words=all_stopwords, \n",
        "                                min_df=2, \n",
        "                                ngram_range=(1, 2))   # tried increasing the ngrams taken, but after 2, there was mostly no change"
      ]
    },
    {
      "cell_type": "code",
      "execution_count": 183,
      "metadata": {
        "id": "HTGMH9O0VYj_"
      },
      "outputs": [],
      "source": [
        "# Pre-calculate Embeddings\n",
        "ft_embed = SentenceTransformer(               # '*' = consider\n",
        "    # \"all-MiniLM-L6-v2\"                      #* standard, not bad at all\n",
        "    # \"all-mpnet-base-v2\"                     #* takes very long to fit (>1min for biggest subset in G-colab), topic groupping improvements do not justfy the extra time\n",
        "    # \"all-distilroberta-v1\"                  # decent speed, but generated too little concentrated or too many vague topics\n",
        "    \"all-MiniLM-L12-v2\"                       #* relatively quick and very good topic seperation across all df subsets (FINAL)\n",
        "    # \"distiluse-base-multilingual-cased-v1\"  #* fast and good topic grouppings for df_after, bad for df_before\n",
        "    # \"distiluse-base-multilingual-cased-v2\"  # worse than v1, poor groupings\n",
        ")\n",
        "# from model2vec import StaticModel\n",
        "# StaticModel.from_pretrained(\"minishlab/potion-base-8M\")  # extremely fast, but averge topics"
      ]
    },
    {
      "cell_type": "code",
      "execution_count": 184,
      "metadata": {
        "id": "T8jDiPjGYs2H"
      },
      "outputs": [],
      "source": [
        "# Preventing Stochastic Behavior\n",
        "ft_umap = UMAP(n_neighbors=15,\n",
        "               random_state=rng,\n",
        "               n_jobs=-1)"
      ]
    },
    {
      "cell_type": "code",
      "execution_count": 185,
      "metadata": {},
      "outputs": [],
      "source": [
        "# Controlling Number of Topics\n",
        "ft_hdbscan = HDBSCAN(min_cluster_size=25, \n",
        "                     metric='euclidean', \n",
        "                     cluster_selection_method='eom', \n",
        "                     prediction_data=True,\n",
        "                     core_dist_n_jobs=-1)"
      ]
    },
    {
      "cell_type": "code",
      "execution_count": 186,
      "metadata": {
        "id": "4ucHlxhCVYj_"
      },
      "outputs": [
        {
          "name": "stderr",
          "output_type": "stream",
          "text": [
            "2025-04-15 08:25:28,098 - BERTopic - Embedding - Transforming documents to embeddings.\n",
            "Batches: 100%|██████████| 38/38 [00:11<00:00,  3.31it/s]\n",
            "2025-04-15 08:25:39,600 - BERTopic - Embedding - Completed ✓\n",
            "2025-04-15 08:25:39,600 - BERTopic - Dimensionality - Fitting the dimensionality reduction algorithm\n",
            "2025-04-15 08:25:41,131 - BERTopic - Dimensionality - Completed ✓\n",
            "2025-04-15 08:25:41,132 - BERTopic - Cluster - Start clustering the reduced embeddings\n",
            "2025-04-15 08:25:41,169 - BERTopic - Cluster - Completed ✓\n",
            "2025-04-15 08:25:41,170 - BERTopic - Representation - Extracting topics using c-TF-IDF for topic reduction.\n",
            "2025-04-15 08:25:41,310 - BERTopic - Representation - Completed ✓\n",
            "2025-04-15 08:25:41,311 - BERTopic - Topic reduction - Reducing number of topics\n",
            "2025-04-15 08:25:41,312 - BERTopic - Topic reduction - Number of topics (11) is equal or higher than the clustered topics(9).\n",
            "2025-04-15 08:25:41,312 - BERTopic - Representation - Fine-tuning topics using representation models.\n",
            "2025-04-15 08:25:41,543 - BERTopic - Representation - Completed ✓\n"
          ]
        }
      ],
      "source": [
        "# Training\n",
        "ft_model = BERTopic(\n",
        "    vectorizer_model=ft_vectorizer,\n",
        "    embedding_model = ft_embed,\n",
        "    umap_model=ft_umap,\n",
        "    hdbscan_model=ft_hdbscan,\n",
        "    nr_topics=11,\n",
        "\n",
        "    top_n_words=10,\n",
        "    verbose=True,\n",
        "    calculate_probabilities=True\n",
        ")\n",
        "\n",
        "# Fit the model\n",
        "topics1, probs1 = ft_model.fit_transform(df_slice['text'])"
      ]
    },
    {
      "cell_type": "markdown",
      "metadata": {},
      "source": [
        "## 4.2. OUTPUTS: Data (df_slice specific)"
      ]
    },
    {
      "cell_type": "code",
      "execution_count": 187,
      "metadata": {},
      "outputs": [
        {
          "data": {
            "text/html": [
              "<div>\n",
              "<style scoped>\n",
              "    .dataframe tbody tr th:only-of-type {\n",
              "        vertical-align: middle;\n",
              "    }\n",
              "\n",
              "    .dataframe tbody tr th {\n",
              "        vertical-align: top;\n",
              "    }\n",
              "\n",
              "    .dataframe thead th {\n",
              "        text-align: right;\n",
              "    }\n",
              "</style>\n",
              "<table border=\"1\" class=\"dataframe\">\n",
              "  <thead>\n",
              "    <tr style=\"text-align: right;\">\n",
              "      <th></th>\n",
              "      <th>Topic</th>\n",
              "      <th>Count</th>\n",
              "      <th>Average Rating</th>\n",
              "      <th>Name</th>\n",
              "      <th>Representation</th>\n",
              "      <th>Representative_Docs</th>\n",
              "    </tr>\n",
              "  </thead>\n",
              "  <tbody>\n",
              "    <tr>\n",
              "      <th>0</th>\n",
              "      <td>-1</td>\n",
              "      <td>372</td>\n",
              "      <td>2.268817</td>\n",
              "      <td>-1_service_class_seat_business</td>\n",
              "      <td>[service, class, seat, business, seats, econom...</td>\n",
              "      <td>[We flew Singapore Airlines to US of A from In...</td>\n",
              "    </tr>\n",
              "    <tr>\n",
              "      <th>1</th>\n",
              "      <td>0</td>\n",
              "      <td>32</td>\n",
              "      <td>2.718750</td>\n",
              "      <td>0_service_seat_class_business</td>\n",
              "      <td>[service, seat, class, business, staff, crew, ...</td>\n",
              "      <td>[I have not flown with SIA for a few years now...</td>\n",
              "    </tr>\n",
              "    <tr>\n",
              "      <th>2</th>\n",
              "      <td>1</td>\n",
              "      <td>34</td>\n",
              "      <td>2.500000</td>\n",
              "      <td>1_crew_service_meal_food</td>\n",
              "      <td>[crew, service, meal, food, 22, used, members,...</td>\n",
              "      <td>[I have used SQ and Changi often and generally...</td>\n",
              "    </tr>\n",
              "    <tr>\n",
              "      <th>3</th>\n",
              "      <td>2</td>\n",
              "      <td>63</td>\n",
              "      <td>1.269841</td>\n",
              "      <td>2_luggage_baggage_lost_bag</td>\n",
              "      <td>[luggage, baggage, lost, bag, days, customer, ...</td>\n",
              "      <td>[Me and my family travelled from Perth to Toky...</td>\n",
              "    </tr>\n",
              "    <tr>\n",
              "      <th>4</th>\n",
              "      <td>3</td>\n",
              "      <td>138</td>\n",
              "      <td>3.420290</td>\n",
              "      <td>3_food_good_service_crew</td>\n",
              "      <td>[food, good, service, crew, great, seat, time,...</td>\n",
              "      <td>[When we arrived at the airport to check in ou...</td>\n",
              "    </tr>\n",
              "    <tr>\n",
              "      <th>5</th>\n",
              "      <td>4</td>\n",
              "      <td>268</td>\n",
              "      <td>1.343284</td>\n",
              "      <td>4_customer_ticket_hours_refund</td>\n",
              "      <td>[customer, ticket, hours, refund, service, boo...</td>\n",
              "      <td>[I booked ROUND TRIP tickets on March 2022 whi...</td>\n",
              "    </tr>\n",
              "    <tr>\n",
              "      <th>6</th>\n",
              "      <td>5</td>\n",
              "      <td>36</td>\n",
              "      <td>2.361111</td>\n",
              "      <td>5_economy_premium_premium economy_seat</td>\n",
              "      <td>[economy, premium, premium economy, seat, seat...</td>\n",
              "      <td>[My wife and I recently flew to and from Sydne...</td>\n",
              "    </tr>\n",
              "    <tr>\n",
              "      <th>7</th>\n",
              "      <td>6</td>\n",
              "      <td>41</td>\n",
              "      <td>2.536585</td>\n",
              "      <td>6_class_seat_business_business class</td>\n",
              "      <td>[class, seat, business, business class, seats,...</td>\n",
              "      <td>[I have flown so many business class airlines ...</td>\n",
              "    </tr>\n",
              "    <tr>\n",
              "      <th>8</th>\n",
              "      <td>7</td>\n",
              "      <td>222</td>\n",
              "      <td>3.572072</td>\n",
              "      <td>7_food_service_good_time</td>\n",
              "      <td>[food, service, good, time, crew, experience, ...</td>\n",
              "      <td>[Flight SQ286 first class Auckland to Singapor...</td>\n",
              "    </tr>\n",
              "  </tbody>\n",
              "</table>\n",
              "</div>"
            ],
            "text/plain": [
              "   Topic  Count  Average Rating                                    Name  \\\n",
              "0     -1    372        2.268817          -1_service_class_seat_business   \n",
              "1      0     32        2.718750           0_service_seat_class_business   \n",
              "2      1     34        2.500000                1_crew_service_meal_food   \n",
              "3      2     63        1.269841              2_luggage_baggage_lost_bag   \n",
              "4      3    138        3.420290                3_food_good_service_crew   \n",
              "5      4    268        1.343284          4_customer_ticket_hours_refund   \n",
              "6      5     36        2.361111  5_economy_premium_premium economy_seat   \n",
              "7      6     41        2.536585    6_class_seat_business_business class   \n",
              "8      7    222        3.572072                7_food_service_good_time   \n",
              "\n",
              "                                      Representation  \\\n",
              "0  [service, class, seat, business, seats, econom...   \n",
              "1  [service, seat, class, business, staff, crew, ...   \n",
              "2  [crew, service, meal, food, 22, used, members,...   \n",
              "3  [luggage, baggage, lost, bag, days, customer, ...   \n",
              "4  [food, good, service, crew, great, seat, time,...   \n",
              "5  [customer, ticket, hours, refund, service, boo...   \n",
              "6  [economy, premium, premium economy, seat, seat...   \n",
              "7  [class, seat, business, business class, seats,...   \n",
              "8  [food, service, good, time, crew, experience, ...   \n",
              "\n",
              "                                 Representative_Docs  \n",
              "0  [We flew Singapore Airlines to US of A from In...  \n",
              "1  [I have not flown with SIA for a few years now...  \n",
              "2  [I have used SQ and Changi often and generally...  \n",
              "3  [Me and my family travelled from Perth to Toky...  \n",
              "4  [When we arrived at the airport to check in ou...  \n",
              "5  [I booked ROUND TRIP tickets on March 2022 whi...  \n",
              "6  [My wife and I recently flew to and from Sydne...  \n",
              "7  [I have flown so many business class airlines ...  \n",
              "8  [Flight SQ286 first class Auckland to Singapor...  "
            ]
          },
          "execution_count": 187,
          "metadata": {},
          "output_type": "execute_result"
        }
      ],
      "source": [
        "# 1. Add topic assignments to the DataFrame\n",
        "df_temp1 = df_slice.copy()\n",
        "df_temp1[\"topic\"] = topics1\n",
        "\n",
        "# 2. Get BERTopic's topic info\n",
        "topic_info = ft_model.get_topic_info()\n",
        "\n",
        "# 3. Compute average rating per topic\n",
        "avg_rating = df_temp1.groupby(\"topic\")[\"rating\"].mean().reset_index()\n",
        "avg_rating.columns = [\"Topic\", \"Average Rating\"]\n",
        "\n",
        "# 4. Merge with topic info\n",
        "df_merged1 = topic_info.merge(avg_rating, how=\"left\", on=\"Topic\")\n",
        "\n",
        "# 5. Reorder columns: Topic, Count, Average Rating, Name\n",
        "df_merged1 = df_merged1[[\"Topic\", \"Count\", \"Average Rating\", \"Name\", \"Representation\", \"Representative_Docs\"]]\n",
        "\n",
        "# 7. Display\n",
        "df_merged1\n"
      ]
    },
    {
      "cell_type": "code",
      "execution_count": 188,
      "metadata": {
        "id": "Li7kciKwvTMh"
      },
      "outputs": [
        {
          "data": {
            "text/plain": [
              "[('service', np.float64(0.04070056242139564)),\n",
              " ('seat', np.float64(0.023969581416881807)),\n",
              " ('class', np.float64(0.023843522615495265)),\n",
              " ('business', np.float64(0.023820355342764703)),\n",
              " ('staff', np.float64(0.023773597333240838)),\n",
              " ('crew', np.float64(0.020299341201850937)),\n",
              " ('covid', np.float64(0.01992748075796291)),\n",
              " ('good', np.float64(0.01951211692308829)),\n",
              " ('ms', np.float64(0.019358867473053556)),\n",
              " ('business class', np.float64(0.018583609281728933))]"
            ]
          },
          "execution_count": 188,
          "metadata": {},
          "output_type": "execute_result"
        }
      ],
      "source": [
        "ft_model.get_topic(0)"
      ]
    },
    {
      "cell_type": "code",
      "execution_count": 189,
      "metadata": {},
      "outputs": [
        {
          "data": {
            "text/plain": [
              "{-1: ['We flew Singapore Airlines to US of A from India . To  be precise from Chennai to San Francisco and back with flight  change  both ways at  Changi airport in Singapore.We had done some preliminary research of the other airlines too but this one had higher customer approval ratings.\\n\\nIn the parlance of the the new age flyers, Economy  is often known as  cattle class.Some justification may be seen in that description when one surveys the boarding time scenario. Passengers in  this class  are herded towards the boarding gate  like cattle through a checkpoint where each one is examined and scanned for carrying just one cabin baggage and a valid boarding pass .  As the herd enters the aircraft they need to fall in line and walk past the superior class section to the cramped  narrow aisle way into the economy class section where they start looking for their assigned seats. After finding it they manage to squeeze their usually overstuffed cabin baggage in an already usually overstuffed over head compartment before strapping themselves in their seat.These manoeuvres often block the progress of their fellow passengers who must wait patiently till the path is cleared. If there happens to be any irate passenger in the waiting line a scuffle could erupt if the passengers are a family and took too much time to settle down . I and my family  did block the line but  managed to keep the delay short and avoided such a possibility.\\n\\nThe space in front and sides of my seat , as I foresaw ,was cramped as I sat down and straitjacketed myself . I had very little space to move my limbs freely although the seats were cushioned and soft . As always the hand rest in this class had to be shared with one\\'s neighbouring passenger who incidentally were no strangers to me. They were my own family members .  The speaker socket and the control handset were all tucked around the inner part of my seat.Without the necessity to move this way or that I managed to get access to these .Thanks to  my grand daughter ,seated on my left, who managed it for me.\\n\\nThe plight of an occupant of such a seat is best compared to that of a sardine stuffed in a can . A living human being  however ,is more demanding  than  dead sardines and requires space, and lots of it, for real comfort but unfortunately  today\\'s airline economics is based on space conservation as priority. All others are secondary, although this is not spelt out in so many words.In simpler words, \"They dare not throw away space generously at the going rate of economy airfares\" - and remain flying.  Comfort, therefore is  compromised by  re-interpreting it  as minimum discomfort and that makes all the difference in defining the present day economy class . Increasing the size of the seat a  few inches more  and adding fancy devices like the  footrest and including an extra item or two in the food menu, the economy  becomes premium economy class with little or no added value at an extra cost , unless provided gratis by the airline itself, which incidentally they did for us for our return journey.  Other airlines, I believe, are no different from this airline  in this kind of space and seat management in this class.\\n\\nTo survive the cut throat competition  more innovative measures are necessary to keep an airline flying. Singapore Airlines have devised a path breaking  strategy in this direction admirably. They have  unleashed  a  team of  well trained flight crew inside the cabin . This unique team of select male and female members slim and trim in build and nimble in negotiating through the narrow aisle and row space and a polite to a fault and soft speaking voice often bend over backwards to please the passengers  to make them feel at home and wanted in their aircraft. Over and above this first step  they have  added a choice menu of delicious  sounding airline food and a huge range of flight entertainment material that can keep you awake on long haul flights ,that is , if you cannot manage your sleep  in the cramped position .  Hey presto ! They  have broken some barrier and soon started flying far higher than their rivals with sky high reviews to boot.\\n\\nBeing a heavy set man, my own estimate of minimum discomfort level  was far higher than that of the aircraft designers and this was a serious disadvantage for me .The tray table ,the kind that drops down from the seat in front and the retractable one that is drawn out from the hand rest never fail to rest on my belly at an inclined angle. During meal times the food tray needs to be held with my left hand to prevent it from slipping away while feeding myself with the right. it cannot be a comfortable  position to enjoy any kind of food.  One could  probably do with an additional hand or two to hold on to the polythene / paper wrappers etc from flying all over the cabin while busy eating. Thanks to both my left and right helps they lent theirs . These are minor issues and turns major only to the oversized passenger concerned . An airline cannot be expected to look into this kind of individualistic problems,except perhaps suggest an upgrade to Business class.\\n\\nAs for the entertainment material ,they were  insipid for me, probably because of my outdated preferences but quite a treat to the majority of my fellow passengers around me.  Again an individualistic problem for which the airline cannot be blamed.In all fairness I must add they did have provision to add one\\'s own entertainment material in the system .\\n\\nOf the four stretches I flew from Chennai to San Francisco and back  , the onward journey from Chennai to Singapore and there on to San Francisco was relatively less strenuous than the return journey. The stretch from San Francisco to Singapore was  upgraded to premium economy by Singapore Airlines itself at no extra cost as mentioned above . I don\\'t have much to rave about the premium economy as compared to the economy sections. The minimum discomfort level was probably higher than the economy class. Blame my bulky build I must remember not to forget I am unfit for cattle and start thinking of business  for all my future flying plans. I should also not forget  that all air lines follow  equation between comfort and minimum discomfort and this could well be a hidden factor in classes other than economy too.\\n\\nThe flight to Chennai from Singapore, the last stretch , was memorable for the wrong reasons. It was an ageing aircraft.  This was quite apparent when I took my seat because the tray table in front of me was quite clear of my belly and the  space availability  was  also more than the other newer aircrafts we had flown earlier. My amateur deduction was confirmed when the plane took off with a resounding plane shattering noise and vibration that lasted for several minutes during and after take off .No one seemed to be concerned. Least of all the crew  and everyone ignored it as if it was a normal phenomena. It could  be due to a bad weather take off because weather did seem inclement even during mid flight. However  the very  same noise and vibration occurred during landing in Chennai where the environment appeared normal. Age perhaps was telling.\\n\\nCatering in this flight was executed in a haphazard  manner.Meal trolleys were absent and food trays were carried by hand by the crew member moving from galley to passengers several times and served at random order. The food was  below par but we ignored both the service and the food quality. We were reaching home and I was looking forward to it more than anything else\\n\\nThe final  hours of the flight was amusing. The pilot probably forgot to switch off the seatbelt sign after a brief period of turbulence during mid-flight and a steward who appeared to be a novice, prevented passengers from using the toilet pointing to the seat belt sign every time some one stood up looking towards the toilet. A few intrepid passengers  defied his instructions  when he was not looking and started walking towards the toilet. Several others followed suit and the line lengthened  and remained so for the next one hour till the captain announced the flight was starting the descent. During this period one of the senior stewardess was kind enough to help my ageing wife skip the line to a toilet ,probably intended for the crew.\\n\\nThe incident of using an ageing aircraft, the haphazard meal service and the unending toilet queue with a trainee crew member who was learning his ropes is indicative of indifferent attitude to this particular flight. There could be a very good reason for this but who wants to know. Not me. But the airlines  management probably know.\\n\\n I have been flying economy and business since 1968 in various airlines in various parts of the world and the term cattle class was unknown or was non-existent those days.  Economy those days could be  compared to business today. I have no comments on the economics of airline operations then or now  . I leave these to the experts to figure out the decline.',\n",
              "  'Singapore Airlines A350-900 medium-haul aircraft is fitted with two cabins with 40 Business Class seats and 263 Economy Class seats. The 40 seats in Business Class are split into two sections, with 28 seats in the forward cabin, the larger cabin and 12 seats in the smaller rear cabin. The 1-2-1 seat configuration in Singapore Airlines’ regional Business Class product gives all passengers direct aisle access.\\n\\nThere are three lavatories, one located up front right behind the cockpit and another two between the two Business Class sections, serving all 40 passengers in Business Class. Singapore Airlines differentiates its Business Class lavatories from Economy Class by fitting them with brown leather backsplashes on the bulkhead. Singapore Airlines is one of the few airlines that packs its lavatories with amenities for guests’ convenience.\\n\\nSingapore Airlines regional Business Class seats have a seat pitch of 60″ and measure 28″ wide, providing its passengers with excellent legroom and enhanced privacy despite not having a door, thanks to the cacoon seat design. Singapore Airlines regional Business Class seats feature a 180° lie-flat bed. The seats come with several handy modes programmed into the seat control buttons on the side of the seat. Besides the seat controls, Singapore Airlines also included light controls and attendant call buttons on the touch-panelled seat control buttons.\\n\\npops out in its storage mode, which is half the size of the table. Passengers who do not need the large table can use it in its storage mode. The seat table folds out to its dining mode, which is twice the size of its storage mode. The seat table does not feel wobbly and is perfect for dining and working on a 16″ laptop. Under the IFE screen is a footwell, which is meant for passengers to stretch their feet into when the seat is deployed in its bed mode. Singapore Airlines fully used the space under the footwell by leaving it empty to double up as a space to stow carry-on or for passengers to place their shoes.\\n\\nThere is no lack of storage space on Singapore Airlines’ regional Business Class seats. There is a small cabinet at the side of each side for passengers to stow smaller items like mobile phones and passports. The small sliding door installed at the cabinet ensures the items inside remain secure and out of sight. Within the cabinet, passengers can find an international power socket and two USB charging outlets, making it very convenient for passengers to get juice for their devices. A hook next to the cabinet creates space for passengers to hang the headphones provided by Singapore Airlines when not in use. Singapore Airlines designed the space by the cabinet as a side table, which doubles up as a cocktail table, for passengers to place small items on. I thought the biggest flaw with the Singapore Airlines regional Business Class seats was the placement of the seat pocket. The seat pocket is placed at the lower corner of the seat on the back of the seat in front. Passengers wanting to access the seat pocket must unbuckle their seat belts and stretch for it. The seat pocket seems to be meant only for Singapore Airlines to place in-flight magazines and safety cards as it is too shallow (and tight) to fit in anything else.\\n\\nSingapore Airlines fits its Business Class with a large 18″ LED touchscreen TV. The LED TV can be tilted downwards so passengers can still watch the numerous options on KrisWorld lying down on the flatbed mode of the seat. The entertainment options on KrisWorld are laid out in an intuitive menu for passengers to browse and select from hundreds of shows, from the latest blockbuster movies to TV shows and even games. KrisWorld can be accessed via the touchscreen function on the TV or via the mobile phone, like IFE controller found under the seat controls at the side of the seat. Singapore Airlines supplies noise-cancelling headphones to its Business Class passengers. These headphones effectively cancel out the ambient noise from the aircraft cabin and are comfortable to put on. Business Class passengers are given free wifi to use onboard. \\n\\nSingapore Airlines does not offer its signature “Book the Cook” service for flights originating from Bangkok. I opted for the Indonesian Fried Rice, while my friend chose the Pan Fried Salmon. Of the three courses of the meal served, I thought only the appetiser was tasty. The Indonesian Fried Rice I had was disappointing in taste and presentation. I thought the presentation of the meal did not enhance its appetising appeal, the fried rice looked haphazardly splattered on the china, and the vegetables looked like a mess. The grilled chicken tasted blend, the fried rice tasted like plain steamed rice, and the vegetable was overpowered with spiciness. The sticky pudding dessert looked like some mouldy bread, but I tasted the dessert nonetheless. The pudding was too sweet for my liking that I had to wash the taste with Coke. My friend also commented the Pan Fried Salmon he opted for tasted bland and dry.\\n\\nService on Singapore Airlines Business Class was exceptional. The excellent service started the moment I boarded the aircraft. Cabin crew offered me pre-departure drinks, introducing Singapore Airlines’ latest cocktail, Bellini. When told I do not drink too much, the cabin crew offered me another glass of orange juice in case I was not too fond of the cocktail. Before taking off, the cabin crew – Stephanie stopped by every seat under her charge to introduce herself to all the passengers she would be taking care of during the flight. Despite a full flight, I find cabin crews onboard made an effort to check in with passengers if we required anything else.\\n\\nTowards the end of the flight, a passenger sitting across from me started to make noise about the requirement to submit an online arrival card in Singapore. He kicked up a ruckus that the ground staff did not inform him of this requirement. Instead of brushing him aside, I witness Stephanie patiently helping the passenger fill out an online form while her colleagues stand in for her to conduct pre-landing checks. I overheard Stephaine volunteering to share her mobile data with him when we landed to ensure the passenger could enter Singapore smoothly. Despite it being the passenger’s fault for not checking the immigration requirements, Stephaine handled the situation with much patience and professionalism.',\n",
              "  'The Singapore Airlines aircraft used for this BKK-SIN segment is fitted with 40 regional Business Class seats and 263 Economy Class seats. Business Class onboard this version of Singapore Airlines A350-900 is arranged in a large forward section and a smaller aft section. In addition, the Singapore Airlines regional Business Class cabin is decked in an earthy brown scheme. With the appropriate use of cabin lighting during boarding, the Business Class cabin exudes a comfortable and cosy feel. Seats in Singapore Airlines regional Business classes are arranged in a 1-2-1 configuration, giving all Business Class passengers direct aisle access.\\n\\nThe Singapore Airlines regional Business Class seats have a seat pitch of 60″ and 28″ wide and offer excellent legroom. The choice of leather in the seats in Singapore Airlines’ regional Business Class feels very premium and comfortable. A thick blanket and an oversized pillow are placed on the seat. Resting on the thick and fluffy pillow made me fall asleep despite the short 2-hour flight time. As this is a short flight, no mattress toppers are made available. Other than the three main modes – takeoff/landing, lounging, and flatbed mode, the seats are so customisable that passengers in the Singapore Airlines Business Class seats would find an angle that one would find comfortable. I find the fully flat 180 deg bed mode uncomfortable but found comfort in the seat at a slight elevation in its bed mode. The cocoon-designed seats ensure passengers get maximum privacy, even for those sitting next to the aisle.\\n\\nThe touchscreen seat controls are fitted in a very convenient part of the seat, allowing passengers to adjust to the seats and find the optimal angle that maximises their comfort. In addition, some standard options in the controls provide passengers with the convenience of getting to these modes at the touch of a button. There is a small cabinet at the side of the seat where the noise-cancelling headphones are placed for passengers to store smaller items. Here, passengers can also charge their mobile devices via the two USB outlets or the power outlet. The cocktail table next to the seat serves the dual purpose of placing a drink cup and a space for passengers to stow their items.\\n\\nA solid wooden table is stowed underneath the PTV., which is large enough to provide a decent space for passengers to work on their laptops. I like the flexibility of folding the table into half its size when passengers do not require the entire table, making getting in and out of the seat easier. The ottoman under the PTV in the regional Business Class seat provided extra comfort for passengers to rest their legs on. There is a space under the ottoman for shoes or bags. Speaking of storage for baggage, each passenger in Business Class gets an entire overhead bin space to themselves. A coat hook is strategically placed next to the PTV for passengers to hang their coats. I used this hook to hang the mango sticky rice I bought at the airport before boarding. I find the placement of the seat pocket under the coat hook to be a tad difficult to reach. Otherwise, this would be an additional space for passengers to stow smaller items. Due to the pandemic, the seat pocket contents were reduced to the safety card and an airsick bag.\\n\\nThe Singapore Airlines regional Business Class seats are fitted with a large 18″ touchscreen personal TV. The touchscreen functions on the PTV are very responsive and are an alternate way for passengers to choose from the wide range of entertainment options from Singapore Airlines’ KrisWorld. KrisWorld is loaded with movies, TV shows, music and games to keep passengers entertained even on a long flight. Business Class passengers are provided with noise-cancelling headphones, which effectively block out all sounds. The padded ear cups provided additional comfort when wearing. The IFE controller is stowed under the seat controls. The touchscreen mobile phone-like IFE controller is very easy to use, and the touchscreen function is equally responsive. One can display the flight map on the IFE controller while watching a movie on the PTV at the same time. In addition, Singapore Airlines KrisFlyer members can link their Singapore Airlines app to the IFE onboard. However, the onboard wifi must be switched on by the pilot (which is done so only after the aircraft reaches cruising altitude).\\n\\nDue to the pandemic, pre-departure drinks and snacks are not offered as part of the service in Business Class. After the seat belt signs were turned off in-flight, we were only served plain water. Singapore Airlines does not offer their signature “book the cook” service, nor was the famous satay service made available for this flight departing Bangkok. We were given three options to pre-book our meals – fish, chicken or seafood up to 24 hours before the flight. As we had pre-booked our meal, we were served first before the rest of the Business Class passengers got their food. Food was served at one go as this is a short flight, with fewer drinks and bread options. I chose the Pan Seared Snapper Fillet was well presented on porcelain plates, and the artichoke puree served by the side tasted delicious. The fish is cooked to perfection and still retains its moisture. The appetiser – Smoked Duck Breast, is tasty and not too tough. I did not like the Lemon Cheesecake, not that it is not delicious, just my personal preference. It is a pity that the bread came last after I had finished my meal. But I still enjoyed Singapore Airlines’ signature garlic bread.\\n\\nI opted for the Pan Seared Snapper Fillet.\\nNo welcome pre-departure drinks. We were served plain water in-flight\\nMenu for this flight\\nSingapore Airlines’ signature Garlic Bread\\nService\\n\\nService in Singapore Airlines felt cold in the Business Class. Besides the standard greeting by the door and “your seat is down this aisle” during boarding, I feel service is no different from that in Economy Class. Bread during meal time took forever to come, served by a male pursuer with a touch-and-go service, who gave me the impression that he was rushing off somewhere. The absence of pre-departure drinks and snacks in Business Class signals cost-cutting measures in the guise of the pandemic. Even during meal service, despite pre-ordering our meal and being served first, there was no attempt to check if we required any drinks; we were being skipped!\\n\\nDespite the coldness in service, Deniece (I hope I get her name correctly) shines out as the most personable pursuer. She introduced herself to every passenger under her charge and remembered our first names. She was seen patrolling the cabin and checking in with me if I needed anything whenever she walked past my seat and when I was not dozing off. Instead of going for her well-deserved break after the hectic meal service, Deniece would take the initiative to strike up a conversation with me when I was waiting for the loo. Service by Deniece felt personal, which is a stark difference from the rest of the crew onboard this flight.\\n\\nSingapore Airlines’ regional Business Class product is comfortable and provides various seating options, including a flatbed mode. Not many airlines provide 180 deg flatbed for their regional or short-haul flights. Kudos to Singapore Airlines for doing so. The seat provides passengers with privacy, thanks to its cocoon design. The seat I was in showed some signs of wear and tear, such as the armrest wouldn’t fold down as it was designed to. The large PTV makes watching the endless entertainment options offered by KrisWorld a pleasant experience. The food catering for this leg was delicious, and the fish retained its moisture. The service overall was a tad disappointing. The rest of the pursuers seem not to care about Business Class passengers other than those in their area of responsibility. I do find warmth and sincerity in the service rendered by Deniece. The way she welcomes passengers on the flight memorises and addresses passengers under her charge by their last name and notes passengers’ food allergies.'],\n",
              " 0: [\"I have not flown with SIA for a few years now as they've been over priced and disappointing service and old aircraft's flying out of Brisbane, in this instance I had no choice as I had to get to Manchester asap, at Brisbane there was one Cafe open in the whole airport, no lounges because of lack of flights due to covid, we were given a $20 voucher! So the flight from Brisbane to Singapore has an updated aircraft which has a better seat configuration 1-2-1, no welcome drink, (no hot towels menus mags or duty free because of covid) food and service was OK on that flight and we had lounge access before boarding flight from Singapore to Manchester, no welcome drink, they still have those badly designed big seats on SQ51 (12 hour flight) food OK and was told 2 hours before landing they may not be able to serve breakfast but they did and so they should, so all in all pretty ordinary.\\nBut then return flights from Manchester to Brisbane were not good, check in was chaos due to all Dpd covid forms, no priorty lane for security, so SQ52 to singapore no lounge access at singapore lounge if you were travelling from Europe even though triple vaccd and neg pcr test, again no welcome drink, no drink after take off either this time, I ordered lamb loin, the meals came out economy style all on a tray, I had to send mine back as I couldn't cut it it was so tough, I complained and was told I would have to wait 20 minutes for another meal, chicken curry and rice which came out cold, at that stage I couldn't be bothered sending back, I could hear other passengers complaining, crew disappeared and if you wanted anything you had to call for service, I felt like a leper, breakfast was pleasant and hot, upon arrival to Singapore we were to go to a holding pen but our flight was late so we were escorted to the gate, sq236  to Brisbane breakfast was served, good job I ate it as no other meal was served on this 7.5 hour flight, crew disappeared quickly after breakfast and no drink service of any kind unless you asked for it and then you got a a bag of nuts or crisps, I think standards have really slipped and covid is being used as an excuse for some of it, I wouldn't fly with SIA unless I had to, I usually fly with Etihad who provide a much better service but unfortunately not currently flying direct from Brisbane\",\n",
              "  \"This review covers four business class flights with SIA and they don't come close to either Etihad or Emirates. The lounge at Heathrow has a great view with floor to ceiling windows, or it would have if they were clean. Obviously there'd been children wiping their hands and faces all over the glass, a little off putting to put it mildly, and the lounge itself was very busy. The food was awful, I've had better breakfasts at Wetherspoons!\\nThe flight to Singapore was ok apart from the seat configuration meaning that if the seat was in lie flat mode you had to lie at an angle with only a small recess to put your feet. The inflight entertainment offered a very poor selection right across the board, very little on there to interest me which is something I've not encountered on any other airline.\\nThe positives were the food and the crew, both very good.\\nFlying from Changi on different flight, the lounge was packed and had hardly any western food, not great when my only real choice was crisps. The flight to Adelaide was ok but, given that it was a night flight, it was obvious that the crew just wanted to get us fed and turn the lights down as quickly as possible, a real dip in service there.\\nOur flight from Cairns to Singapore was a beauty, upon check in we were told there was no Business Class lounge and we were given a voucher each for twenty Australian dollars as compensation. Some compensation this was as it wasn't even enough to cover a drink and a sandwich but surely it would get better on the flight? No, the starter advertised as smoked duck somehow morphed into smoked salmon, ah well, they both live in water so I suppose that was near enough. My wife asked for a glass of Shiraz as advertised in the in flight menu, none available so she settles for the Chianti. Upon asking for a refill we were told they'd run out so it was on to whatever they could find! The choice of five deserts shrank to just ice cream or cheese and biscuits but by this stage we were no longer surprised although when they told us that they didn't have any brandy we were really taken aback. It should be noted that there was only ten business class seats on this flight and they couldn't even service that small number efficiently, not a criticism on the crew, just shocking planning.\\nOur flight back to Heathrow was again marred by the seat configuration, when you've paid such a premium for business class only to find that you can't get comfortable on a fourteen hour flight is simply not acceptable.\\nIn my opinion, SIA are now a long way behind their competitors and, reading other reviews, it seems they don't care. I have communicated my thoughts to their customer service but I'm not holding my breath waiting for any response or resolution. There are alternatives to this airline and I would suggest that people should explore them\",\n",
              "  'Singapore Airlines (SIA) is terrible\\nOutbound\\nI fly with a piece of medical equipment called a portable Oxygen Concentrator (POC). During long-hall flights, I always request the seat with a 10A outlet socket that can be used for medical equipment Every long-hall aircraft has these. Normal outlets for laptops etc. are 5A, so will trip out. Contacted SIA on many occasions to ensure the appropriate seat was reserved. Silence from SIA until a few days before departure so there was doubt about my departing Australia up until the morning of my departure on 10/8.22. My travel agent’s last words to me were “good luck”… Luckily, I plugged in and the flight to Singapore was uneventful.\\nChangi Airport: Taken off 2 flights in Singapore as the seat with the medical equipment (10A) socket was taken. Medical equipment sockets (10A) are always bulkhead window seats. Staff had no idea about these power-points and insisted that I was using the wrong adaptors. On the second disembarkation, I was shouted at and abused by 5 members of the public on the plane, who demanded that I was removed from the plane as they had connecting flights and I was delaying departure. I remonstrated, advising that it wasn’t my fault and was told by SIA staff to “calm down”.\\nMy luggage was unloaded, taken to some holding area and I was advised that as it was now past midnight, I was to be put up in an internal hotel in the airport, so my luggage had to be retrieved and taken to my room. Settled by 2am. 20+ hours at the airport.\\nAdvised that I was to be flown to Manchester rather than LHR. No options given.\\nPurchased duty free booze that was put in my luggage. Escorted to the 3rd flight with my luggage just fitting through the hand luggage x-ray machine (why?).\\nManaged to book 2 nights at Manchester at my cost, to put me back on schedule for my trip to Oxford. My meetings at West Wales were cancelled.\\nArrived Manchester, one day late, where I didn’t want to be and found the duty free had smashed and killed my laptop.\\n                                  -------------------------------------------------------\\nNo news from SIA apart from one email advising that an investigation was underway.                                 \\n\\nReturn\\n1/9/22: Arrived at LHR at 10am for a 10pm flight and made a beeline for the SIA office to ensure there would be no problems. Advised that all was noted and ok. A staff member (Michael) visited me at the coffee shop to discuss my flight and insisted that all was sorted. They still had no idea about a 5Amp vs 10Amp outlet socket, nor the minimum of 2 x 10 Amp medical equipment outlet sockets that are on all 777’s, 350’s and 380’s as I discovered after talking to a SIA engineer later in Singapore. \\nPut on a flight 2 hours before my scheduled flight and I was suddenly upgraded to first class (I can guess that they were advised that there was a plug available in 1st class and a movable customer there, but not business class on my booked flight) and on boarding, noted that the occupant of the window, bulkhead seat had been moved to a centre seat, so that I could have the required seat. I plugged my POC in and immediately tripped the power. A 5 Amp socket. More garbage about correct plugs and adaptors offered by staff. It’s not the plugs, it’s the outlet sockets.\\nThis engineer guy arrived and advised that the medical device sockets are for emergency stretcher cases and the like, but are regularly used by people with POC’s and Cpap machines.  He pointed out the socket underneath the window, slid open the cover and there was the 10 Amp outlet. Surprised staff from SIA took photographs and admitted that they didn’t even know the existence of these sockets. More garbage about correct plugs and adaptors offered by staff. It’s not the plugs, it’s the outlet sockets.\\nThe final flight home on the 777 was finally sorted out and I was given a window bulkhead seat 18K. The power supply for this flight came from overhead power outlet (with a Medical Cross sticker on the small overhead locker) without problems.\\nAll should be OK now if SIA realise and admit that they had no idea of what was going and train their relevant staff. Absolutely no one knew what to do as I advised over and over again, to no avail. Complete incompetence. \\nWhen I book with Qantas, the note in my file immediately allocates me the window bulkhead seat that has the 10Amp socket on any long-haul flight. I have no choice. This is done at time of booking (which I normally do 3-4 months in advance) to ensure no other passengers book my required seat. Simple, isn’t it? Not for SIA and a terrible experience for me. \\nI sent SIA my Qantas medical clearance form (unrequested) as they had not requested a SIA form and I was worried, from previous experience, with their silence. Finally received SIA form very late, returned asap and that’s when things went downhill. Questions about oxygen flow rates, pressures? Who is running this section of SIA?\\nOne call to Qantas, once, and all is sorted. SIA need to lift its game markedly if it wants further business. A terrible; no disgusting way to treat a customer. Certainly destroyed the memories of my holiday. Extra transport and accommodation costs were incurred but SIA have never offered any recompence. Long planned meetings were cancelled due to being transported to Manchester instead of London. SIA has done nothing and has not advised if they have changed their operational procedures to ensure that this sort of stuff-up does not occur to anyone. Stoney silence from SIA confirms, in my eyes, the contempt that they hold for customers, even top dollar Business Class passengers like me.\\nI would strongly urge anyone considering booking with SIA to seriously reconsider their plans, as I would not want anyone else’s holiday to be destroyed by this uncaring company. Two months after my return flight, There is still nothing from SIA. \\nCaveat emptor.\\n\\nDavid Astin\\nP.O. Box 3157\\nPort Adelaide\\nSouth Australia'],\n",
              " 1: ['I have used SQ and Changi often and generally praised both. Unfortunately both have declined significantly in the last few years - be wary!\\n\\nThe SQ631 HND-SIN experience 4 October 2023 is the worst airline experience of my couple of decades of international flying.\\n\\nAll was going to schedule on the day and all passengers boarded and the plane commenced taxiing. Part way through taxiing, the plane pulled over into a parking bay and passengers were left sitting for 1.5hrs with no announcement! I asked a crew member if they knew anything about what was going on and was just given a stupid answer of \"normal delay\"! So if flying SQ it is now \\'normal\\' to pull into a parking bay and watch engineers on ladders inspecting something in the engine bay!\\n\\nFinally after 1.5hrs of sitting a brief announcement \"technical issue\" still trying to be resolved. It was around another 1.5hr of sitting before the next announcement stating we\\'d have to wait around 20min for busses to come and take us back to the terminal.\\n\\nPassengers understand that things can go wrong but to just leave us sitting for 1.5hr with no announcement whatsoever is ridiculous ...and then another 1.5hr!\\n\\nFinally we\\'re all bussed back to the terminal and left sitting for an hour or so before some incomprehensible announcement in English is made apparently to queue up for meal vouchers for lunch. What should be a 5sec process per passenger to hand out meal vouchers (show boarding pass, have it endorsed and be handed vouchers) was an excruciatingly long process with the huge queue moving about 50cm a minute.\\n\\nAnd then staff ran out of vouchers!!! More waiting for staff to find some more. Finally get vouchers which could only be claimed at a cheap food court upstairs which was already crowded with no spare tables.\\n\\nA number of staff at the gate were standing around dumbfounded and others looking busy walking around with tablets asking questions but not achieving anything.\\n\\nNo offer of overnight accommodation and flights the next day, one had virtually no choice but await an email with what alternative flights SQ decided to hand out. So what should have been a pleasant day flight to SIN turned into an overnight nightmare arriving SIN 2:20am and having to wait 4.5hr for flight to KUL with no offer of accommodation or lounge!!! I had to ask for accommodation/lounge at Changi and only then given a pass for the Krisflyer Gold Lounge - thankfully better than nothing but not the standard expected of supposedly one of the world\\'s top full service airlines.\\n\\nFlight SIN-KUL 7:00am 5 October had no entertainment facilities and not a single scrap of food was offered - not even a packet of peanuts!\\n\\nOverall SQ\\'s performance experienced is now that of an expensive budget airline - not worth the premium anymore - avoid!\\n\\nAs for Changi, I went to meet my girlfriend at the gate earlier in the trip and observed the plane arriving at the gate but passengers and gate staff all had to wait half an hour for somebody to operate the airbridge! Seems Changi and SQ management are following suit.\\n',\n",
              "  \"The writer often travels on the kangaroo route and occasionally on regional flights in South East Asia - mostly for business reasons. \\n\\nIn those years, SQ was in a league of their own. They had really delicious inflight meal, innovative entertainment System.. And lets not to forget the SIA girls in those day when they wholeheartedly served the guests with the highest standards ever seen- great care and high level of adaptability to the guests behaviours, and also their attention to details. \\n\\nFast forward to today, where should I start?\\n\\nSQ girls\\n\\nDownright rigid and robotic, like IATA police. Chaotic crew management. When it was 45 minutes before landing, the cabin crew already began to diligently enforce all passengers to draw the window shades open and put seat back upright. And they will go around checking with such great efficiency that would have made Hitler proud. One crew member even asked me to take off the sq earphones for landing, and the plane hasn't descended. Some crew in red kabaya were a few times seen to talk down loudly at the junior crew to get something done. Truly shocking for the passengers around. I still haven't even touched on the topic on the vast disparity in the way they treat passengers of different races. \\n\\nNow come on, why are we forced to be so uptight with following the IATA rules? What's worse - they enforce the rules like a policeman. One can easily get the impression that SQ is institutionalising their past best practises. Every moves of the sq girls are subjected to ISO9001 audit! I can reveal that the crew do this much differently on other competing 5 star airlines!\\n\\nInflight meal-- absolutely horrendous, especially economy class meals. Regional meals replaced with bento box meals? Sure, the porridge taste OK. But the pasta and chicken rice don't. Pasta and vege were often overcooked when served. Haagen Daaz ice cream are gone. The wines taste cheap. \\n\\nSeats-- seats definitely feel harder and less comfy. On the 380 and 777, the Y seats are fine. They feel reasonably wide enough. But beware of their 787 dreamliner. Their Y seats are incredibly narrow. Many friends and family members commented the same to me. \\n\\nInflight entertainment and WiFi\\nDo not be fooled by their seemingly many choices on offer. The movie choices seem good, but many top-rated Hollywood movies and Netflix Shows are missing. OK, they try to make up for it by adding the krisflyer login and playlist option. Sounds like a nice touch, but if guests aren't looking forward to your entertainment options on offer, who will bother? Even kids movies feel cheap. And now SQ is trying to win back frequent flyers by offering unlimited WiFi only to krisflyer members registered on this flight, but not to passengers redeeming miles on other frequent flyer programs. Yikes! Sound like a trap. \\n\\nKrisflyer\\nIn general, award space availability for kf members have fallen. It also costs more miles to fly the same route as compared to other competing airlines. One glaring example is on the Singapore-Sydney route. I will leave it to you to do the research on the mile redemption costs. \\n\\nOverall, you can feel that SQ management is tweaking around with the onboard and on-ground experience in the face of greater financial pressure and competition. The overall experience feels cheaper, manipulated, and less premium than before, and they no longer justify the high airfare traditionally quoted by SQ. Standards have fallen. Frequent flyers loyalty deserves better elsewhere.\\n\\nI am so glad that I switched my airlines loyalty. \\n\\nThe writer is a former PPS club member and former Krisflyer elite gold member, both membership of which have since expired. He is now proudly a gold member of 2 competing 5-star airlines which also flies to Singapore.\",\n",
              "  'Note: This review includes SQ47 (Economy) and SQ422 (which was in Business)\\n\\nSQ used to be my home airline, and I used to really enjoy flying with them. I was looking forward to experiencing them after the pandemic, and I was left with mixed feelings, being disappointed after the first, and impressed after the second?\\n\\nMy first flight from Vancouver to Singapore, I was waitlisted for an upgrade. However, this caused a problem with my ticket, resulting in about a 30 minute check in process. Additionally, the check-in staff requested my OCI (an Indian overseas citizenship), despite my second flight being on a separate ticket made from a different mileage account, and the check-in staff only checking the bag through to Singapore, as they apparently couldn\\'t see my onward booking. They tried to avoid this question, and while I suspect it was so they could charge us extra in Singapore, since the baggage allowance is different for flights from Singapore to India, I won\\'t make any assumptions.\\n\\nMy initial reaction to the seat was that it definitely felt smaller than the older A350 seats (since I believe these are the same ones used on the 787 with a narrower cabin). I was seated in an extra legroom seat for this flight (48K), which I recommend if you\\'re flying on the A350. It has a window, great legroom, and if you\\'re relatively small, you can also get out into the aisle without disturbing your seatmates.\\n\\nI have to say, the entertainment system aboard SQ is great. Additionally, as KF members, we had access to unlimited free wifi throughout the flight, which worked great, and which was surprisingly fast. I ended up using it the whole flight. \\n\\nThe food on this flight was substandard. The first meal was fine, a bit on the small side, but I was OK with it. The second meal, however, was very low quality, and dry. Considering there were only 2 major meal services, I expected something more substantial, and with SQ being named \"Best Airline in the World\", I definitely expected more. Attached with this review is  a picture of a similar meal served on my Emirates flight a few weeks later. \\n\\nHowever, what really disappointed me was the service. One of the crew members working my section was very friendly and warm. However, I witnessed poor service from the other crew members. The other crew seemed to be a bit hostile. When I went to get snacks from the aft galley, the crew members were extremely unfriendly, and seemed quite annoyed when I asked what options were available. Also saw 2 crew on the other side of the cabin screaming at a passenger who went to use the washroom before takeoff (which is completely understandable lol, so I didn\\'t think much of it), but throughout the flight, they seemed to be unfriendly, and later screamed at a passenger seated near me who asked a question about the special assistance they needed disembarking, which is unacceptable behavior. \\n\\nCrew are extremely important to any experience, and growing up, I remember the friendly service from crew, and the care they treated children with aboard flights, which really built a strong image of SQ for me. However, I never saw that for the children seated behind me from the majority of the cabin crew, and to me, this shows either a drop in standard, or a lack of training. I have experienced friendlier cabin crew aboard budget airlines like Swoop, which certainly doesn\\'t charge the same as SQ. I\\'ve seen poor service on SQ (particularly on flights to the US, including in business class), but this was worse than what I\\'ve seen before, and I really hope this is not caused by lack of crew rest, as I noticed the crew working most of the flight.\\n\\nIn Singapore, I have to say Changi cannot be beaten. It was still a very smooth experience, and brought back many childhood memories, not having changed much in 4 years imo. I had access to the lounge on my second flight, and I have to say the new KrisFlyer lounge is great. Good selection of food, and lots of seating.\\n \\nSQs medium haul business is smaller than their LH product, but is still very comfortable. I wish they modified their 787 seats to take advantage of the wider cabin on the A350, in business and economy. The bed is comfortable, and the seat is well designed overall. It\\'s good to see this kind of product on medium haul/short haul flights.\\n\\nThe food on this flight was excellent. Had Laksa from the Book the Cook menu, and it was easily one of the best inflight meals I\\'ve had. The service on this flight was very different, much friendlier, and very attentive. All the crew went above and beyond on this flight. Although service standards are higher in business class, I do think the service definitely exceeded what I have experienced in business before. I wish these crew were deployed on the longer flights.\\n\\nOverall, after the pandemic, I\\'m left with mixed feelings about the airline. The first flight was very disappointing, nowhere near what my experience with them has been before. However, my second flight was great (although it was in business). This experience has definitely put me off flying SQ, and given my experience with EK this summer, I would definitely fly to India next time using the 3 big gulf carriers over SQ. I hope SQ really takes their service and catering more seriously, as I have been seeing other people complain about dropping standards too.'],\n",
              " 2: ['Me and my family travelled from Perth to Tokyo on January for 3 weeks holiday . First of all flight delayed for a hour because of the stupid reason that engineer had called in sick . When reaching Tokyo exhausted because of the chasing next flight at Singapore , my luggage was left behind at Singapore. Thankfully Japanese luggage handling team deals very professionally and deliver my luggage next day. \\nOn the way back to Perth , we told the lady at Singapore airlines check in time that please make sure our luggage will be arrive at time . She even added the priority tag . Flight was ok to Singapore . Flight attendants were looks very rush for everything and a very slow service . After that we arrive at Singapore and went to catch the next flight . Again the flight was delayed , flight attendants were agin rushed for everything and service was way too slow . And not forget to mentioned but the planes from both Perth to Tokyo and Tokyo to Perth was quite dirty and dusty. We can see they don’t clean the seat pockets as we find the used tissues and plastics were not cleaned . When we arrived at Perth , same story happens again , one of our luggage missing . We talked to the (Dnata) baggage handling desk lady and her respond was so rude. She said we can’t track your luggage so we don’t know anything . We are here just for customer service . Very very unprofessional and very loudly screaming to the customer . She keep\\nSaying she don’t know so please don’t ask anymore , once we got your luggage we will deliver to your house. \\nOverall very unpleasant and stressful flight . We are loyal customer of Singapore airlines for past 10-12 years but now their service is very big question mark. I hope they will be better in future .',\n",
              "  \"We flew with Singapore airlines from Copenhagen to Singapore, then from Singapore to Cairns on a Sunday. One of our luggage was lost. At Cairns airport, we have been told not to worry : when the luggage would be found, it would be delivered to us, wherever we may be. We insisted on the fact that we were on a 3 weeks road trip and would be moving every day, a little further to Sydney, but the staff at the airport reassured us they would send the luggage wherever we may be. \\n\\nWe had a first call with an employee of Singapore Airlines, named Suzan, on Monday, saying that the company lost the luggage. She promised to call again the next day to inform us about the ongoing investigation to find it. We insisted again on the fact that we were on the move and Suzan said it wouldn't be a problem to send the luggage at a specific address.  \\n\\nUnlike what was promised, we had no news on the next day. We then tried to reach Singapore Airlines on the next day, without success. That’s indeed when we found out that the number she used to call us was only one way: we couldn’t call it, only it could call us. Suzan finally called back on the evening of the Wednesday saying that our luggage was found.  \\n\\nWhen we said that we would be in Ingham the next day, we were answered that it was too far to deliver the luggage! We were very surprised by this answer and started arguing on that topic, since we've been told the exact opposite since the beginning. When we asked if there could be a compensation linked to the loss, Suzan laughed at us, which we found very disrespectful. She even ended up hanging up on us!  \\n\\nAs we were wondering about what just happened to us (maybe it was the “Australian way” to deal with customers), another employee of the company called us back right away. We then found a compromise: since we were passing by the city of Innisfail on the next day (Thursday), we agreed to meet a courier there to get our luggage back. We gave our itinerary of the next days: after visiting the falls of Milaa Milaa and Elinja, we would be heading to Mamu Tropical Skywalk. We were almost sure not to have phone reception there and informed them that we would only be reachable when arriving closer to Innisfail, around 12 (lunchtime), time at which we agreed to meet the delivery person. \\n\\nThe driver was supposed to have been given our contact details and to call us when leaving Cardwell in the morning to set up a meeting point in Innisfail. We arrived at 11.30 AM in Innisfail and then waited for the driver’s call to head up to a specific meeting point. But we received no call, and we waited for 1h30 in Innisfail for the driver to call us. We even tried to call Singapore Airlines, but every person we were speaking to had no idea of what the situation was, neither who to re-direct us too, they simply advised us to send another email. Since we had to be in Ingham at the end of the day (we had a hotel reservation there), we couldn't stay any longer and had to move. During our trip to Ingham, we took time to write an email to the email contact we had received in Cairns to explain the situation. We had Wifi that night and the next morning but received no answer to our email. At that moment we were very stressed because we had no idea what could have happened to our luggage. \\n\\nThe next day, Friday, we had to reach Townsville because we had a ferry booking to go to Magnetic Island. When we were on Magnetic Island (with poor reception), we received a call at 11 AM – the exact time he was supposed to call us the day before.\\n\\nWhat happened during that call was beyond disrespect. The person pretended that he tried to call, and email us the day before without success. He even mentioned having sent at least 10 text messages to both our numbers. Which is very strange because we had reception for sure from 11.30 AM, since we managed to contact Singapore airlines helplines ourselves. We received no text message nor email! He also said that since he couldn't contact us, he went up to Mamu Tropical Skywalk and consulted the register (that everybody is supposed to sign but we never were asked to at any time) to find out we never went there. We were so shocked because it meant that he was calling us liars. We went to Mamu Tropical Skywalk, we have pictures of the place and we have hotel reservation in Yungaburra and Ingham to prove our itinerary too. So we can’t understand why he would use this excuse.\\n\\nOn top of that, he said that he had money compensation with him, but since we didn’t show up in Innisfail, he wouldn’t give us the money anymore. Which means that since this day, we didn’t receive the compensation mentioned. And to finish the call, the driver informed us that we had no other choice than going to Townsville's airport to collect our luggage in the afternoon, otherwise, they wouldn’t take care of our file anymore. So in the end, the promise to deliver the luggage wherever we were was never met. \\n\\nWe were so angry and frustrated during the call, that we stopped arguing and just wanted to get the luggage back not to waste our holidays with stress anymore. Another really strange thing: following this call, we both received a text message from him, from Suzan and also an email to confirm where the luggage would be sent, and we received all text messages, calls and emails sent at that time on both phones. We wonder why we didn’t receive anything the day before.\\n\\nTo sum up, it took Singapore Airlines 5 days to get us the luggage back. We received only 150 Australian Dollars to cover this loss, which was clearly not enough to cover 5 days of clothing / hygiene product / snorkeling equipment / ... that was in the luggage. We waited 1h30 in Innisfail for nothing. We had been charged for international calls with both our phones several times due to the poor communication of both companies. We had suffered a great deal of stress and frustration, we had been laughed at and disrespected and we had been called liars! \\n\\n \",\n",
              "  'Here are my details of my trip. \\n2nd March, 2023 – I flew with Delta to JFK in order to connect with Singapore airlines – JFK-FRA-SIN-HKT , due to arrive 4th March, 2023. When I arrived at JFK, on my way to collect my luggage I saw a Singapore desk in the area. So, I decided to stop and ask for directions: where to get my bag and where to check in with Singapore airlines. It was staffed by 2 individuals. While asking for directions and informing them that I will pick up by luggage from Delta and bring it across to the check-in desk. They both told me that it wasn’t necessary, just show them my Delta tag and my itinerary and they will have my luggage picked up and delivered to Singapore. I asked them twice if they are sure because Delta is not Star alliance. However, my luggage wasn’t picked up from the Delta carousel. \\n3rd March, 2023 – Attempt to ask and verify my luggage was on board to a Singapore rep in Frankfurt, where I was told that she was too busy to help me I should come back later. \\n4th March, 2023 – I arrived in Singapore and I went to T2 service desk (near F30) and was told that my luggage is in the system, it would arrive in Phuket. \\nI arrived in Phuket but my luggage was missing, I was first told by the ground staff in Phuket that it was in Singapore and would arrive the next day and that I should make a claim. I did just that.\\n\\n5th March, 2023 – I waited 2 days before I realized that I was receiving no assistance from Singapore airlines except for e-mails stating that they are sorry for the delayed baggage. That’s when I had to take action on my own. I received this message about 10 times over the past few days. \"We are still trying to locate your delayed bag(s) and will provide another update by tomorrow. You can also check the status here, with your reference number.\"\\n6th March, 2023 – I decided to check myself to locate my luggage and found it on Delta’s website, I then tried to call Singapore – JFK and inform them of the situation and this is when they told me that they couldn’t help me and hung up the phone when I asked to speak to a supervisor.  Erroneously thinking that since I found the luggage that I would receive some help as I have been without clothes, toiletries and medicine for 2 days. \\nI finally got through to Singapore JFK via e-mail and they now asked me for a photo  of my bag and of my flight details and boarding passes before they can help me. How bizarre? \\n\\nQuestions for Singapore Airlines:\\n1.\\tWhy was I told by JFK ground staff that my luggage on Delta airlines would be transferred to Singapore airlines, when it wasn’t. Even though I offered twice to retrieved my luggage myself the two staff members insisted that it wasn’t necessary as it will be handled. It wasn’t and of today 9th March, 2023 I still don’t have my luggage.\\n2.\\tWhy is it at FRA airport where I was in transit that no staff was at the Singapore desk for most of the day. I did manage to find a person at the gate that told me they were too busy to assist me – I wanted to verify that my luggage was indeed transferred. \\n3.\\tWhy was I told when I arrived in Singapore by the staff at the service desk (next to F30) that my luggage was in the system and would be at my final destination – Phuket.\\n4.\\tWhy could the ground staff at Phuket airport and Singapore airline online unable to find my luggage and kept sending e-mails that they have contacted every station for information.\\n5.\\tWhy is it that when I called the Singapore customer service at JFK airport in NYC they told me that they can’t help me and hung up on my call.\\n6.\\tMost important – Why is it when I located the luggage myself 2 days later – as it was with Delta and informed all parties that my bag was in JFK Delta office that no personnel from either Singapore office made any attempt to retrieve my luggage. I had to call Delta in Atlanta and ask them to contact Singapore ground staff at JFK and inform them that the luggage they are looking for is at JFK.'],\n",
              " 3: [\"When we arrived at the airport to check in our bags there was a reasonable line of people waiting at the bag check in counters for the airline. This went down reasonably quick. The person who checked our bags in didn't seem to have the best attitude that you would generally expect to receive. \\n\\nBoarding the plane wasn't overly bad, the crew seemed friendly and helpful. The seats weren't too bad. There was a good choice of films and some TV programs, To access the games you have to have an account. The food wasn't too bad, did receive one meal which didn't seem to have been cooked properly so had to get to swapped. The crew came round with drinks fairly regularly and if you wanted anything you could just go to the back of the plane and ask.  The hygiene felt better as not flying since covid we were concerned a bit.  Overall the plane seemed newer, the crew friendly and helpful. \\n\\nFor the return journey, there wasn't any people really waiting to check baggage in, it seems to be self bag check in. The staff on hand to help with checking the baggage in were very helpful. Boarding the plane wasn't too bad and the crew seemed friendly. The plane seemed to be older and more worn as panels especially in the toilets were badly cracked and also the hygiene of the plane didn't seem to be as good as the outward flight. \\n\\nThe entertainment was the same as the outward flight. The crew occasionally came round with drinks. The food was ok. Overall the crew were friendly\",\n",
              "  'In the bigger scheme of things among all airlines, it provides a high level of service and offers a good product, though not outstanding. Staff service was professional and efficient but somewhat lacking in genuineness. Service, especially on the outbound, was very rushed. For example, the pre-departure hot towel was given and taken away before I could even touch it. Cabin crew can best be described as highly efficient but perfunctory. There is a high degree of helpfulness but also kind of stern. Seating was the same kind for inbound and outbound even though they were on different types of aircraft (B787 and A350). One is lucky to get flat-bed seating on a regional flight, but the seat is just uncomfortable, too narrow, and the head “wing” gets in the way and blocks the view from the window. The 3-point seatbelt was also uncomfortable. Food on the outbound was awful, even when it’s from “book the cook”. The duck was dry and pathetic looking, and tasted like it looked. On the inbound, the fish dish was excellent and succulent. I wonder if it’s from the Bangkok kitchen rather than from the Singapore kitchen. Beverages were good, with Piper Heidsieck champagne and a very good port, though the pre-takeoff champagne was served warm. There was strangely no beverage menu -- only a food menu with wine list. For the Singapore lounges, Terminal 3 lounge is renovated and expanded, and world class. Terminal 2 lounge is dated and in need of a revamp. The main issue with the Singapore lounges is the food – only mediocre local food is served. It is a real shame that there is no Western food, or other kinds of Asian cuisine such as Japanese and Middle Eastern. Singapore is not known for tasty food or fine cuisine, and the lounge food clearly reflects this. The lounge wines were very good, however; especially the 2 kinds of white. Lounge staff were rather surly. The Bangkok lounge was good enough for its purpose of being an outstation lounge. It has enough quantity and variety of seating and adequate F & B, though there are no showers. F & B on the whole – both on board and in the lounge – was one level below that of Qatar, though Singapore has better consistency in the various other aspects. Online check-in was very smooth and painless. You need not go to a counter nor get a paper boarding pass.\\n\\nOutbound:\\nCabin service: 3/5\\nMeal: 2/5\\nTerminal 3 lounge in Singapore: 4/5\\nTerminal 2 lounge in Singapore: 3/5\\n\\nInbound:\\nCabin service: 4/5\\nMeal: 5/5\\nLounge in Bangkok: 4/5\\n\\nGeneral:\\nOnline check-in: 5/5\\nSeating: 3/5\\nInflight entertainment: 4/5\\nInflight beverages: 4/5',\n",
              "  \"I travel a lot and can see why this is ranked so highly as a top airline winning numerous awards.  Service is outstanding, a lot of airlines can learn from them!  From checking in to cabin crew, excellent.  I did four flights with them and on all four flights, cabin crew were super sweet, polite, friendly and helpful.  I did notice that they had a lot more crew onboard than other airlines showing that they valued the customers.  What I also liked was even at night when people were sleeping, staff were available to see if people needed anything.  The crew did their job well.  The plane was very clean.  Meals were served quickly and they gave you enough time to eat and then cleared up really well.  The crew took pride in what they did and worked together as a team.  Nothing was ever too much for them.  Toilets were clean too!  One of the few airlines having flown a few in the pandemic that really manage social distancing.  Masks are compulsory and they try to keep the middle seat free between passengers.  They are very strict with boarding and when landing this is done in rows.  People need to wait their turn.  Other airlines do not always do this.  What is also good, if you are in transit upon arrival in Singapore, they allow the transit passengers to get off first and you will be met by ground staff depending where you have come from and when your next flight is.  They will help you if you are running short on time to get to your next flight.  This is all part of the new rules with the pandemic.  Check in and boarding is very efficient and on time.  Flights all departed on time and landed punctually or even early.  Planes were a nice temperature as they can sometimes be too cold or hot.  Seats in economy were very comfortable and spacious.  Really good selection of movies, games, music and more!  There are charging sockets too and wifi that you can pay for.  I think this is free if you are a member of their KrisFlyer Miles.  Food is really good and they have a big selection of other options if you have dietary restrictions that you can book prior to departure.  What I also like is you can check prior to your flight what choice of meal options you will get (usually a choice of 2 options), if you don't like either then choose a special meal or no meal at all.  The no meal at all is a good option if you don't plan to eat so they don't waste.  Even on a short flight, they gave a really nice light meal that some airlines don't.  Staff are very caring.  I did not want my breakfast and neither did a few other people but they kept asking us are you sure or if we wanted something else.  Very sweet.  Well organised.  Luggage came out quickly.  My only small negative is that you cannot check in online prior to departure which I am guessing is due to the pandemic and so they can check paperwork.  Having said this, I can totally understand but they should let you choose seats which I could not do.  Normally planes are really dirty at the end of a long flight but this was clean.  I would fly Singapore Airlines all the time if they were cheaper!  The other small negative is that on a long night flight, they have snacks available between meals.  They don't obviously serve it as most people are sleeping which is fine but they should let people know via an announcement before 'lights out'.  They do post it on the inflight system but not all people check this.  This has nothing to do with the airline but if you are in transit, I had one long layover and the airport is really dead at the moment.  Most things are closed with the pandemic and very few eateries or shops are opened.  I was super bored.  Wifi is generally fine but keeps disconnecting so take a book or download a movie on your phone or laptop to occupy the time.  There was a transit hotel I believe and you are free to go to the other terminals which were pretty much all the same.  Terminals 1 and 3 were the most active.  Rules change all the time and it really depends where you have come from as some countries are deemed high risk meaning if you are in transit you will go to a 'holding area' and cannot walk around the terminal.\"],\n",
              " 4: ['I booked ROUND TRIP tickets on March 2022 which are fully paid upon booking.I called Singapore Airlines customer service on May 2022 to change my booking, only the return tickets - Belgium to Singapore.\\nOn the departure day, 17 Jun 2022 \\nI wasn\\'t able to check-in in SQ App and webpage. So I called Singapore airlines to check any issues with the system. \\nThe answer I got from them was - your booking is changed to \"One-way\", only existing Belgium to Singapore. And they asked me to pay 821.30 SGD additionally to buy a one-way ticket from Singapore to Milan. The customer service representative who called me to pay an additional fee was ZERO professional. He was saying that if I don\\'t wanna pay 821.30 to re-book the flight ticket, he can offer me to cancel this flight and full refund but it was THREE hours before departure. \\nWhat kind of customer service is this? In the end, I paid an additional fee and purchase a one-way ticket from Singapore to Milan. I raised a refund for my additional payment - 821.30 SGD and told them very clearly that I don\\'t want any compensation from SQ. But my refund is rejected by SQ. \\nAdditionally, I paid extra when I called them for a booking change on May 2022 which is the second payment I made for this booking.I received an apology email from the SQ duty manager about what has happened and the mistake was made by the customer service representative who changed my booking, just not sure what kind of investigation is required.',\n",
              "  'post- Covid19 left Singapore Airlines with very poor customer service and false advertising when it comes to their complimentary rebooking policy, and the customer service communication process is poor. \\nI went to rebook a flight, had to call because their system wont allow one person to change their flight when booked with other people. looked at new itinerary and person booked me on a flight without confirming the time i preferred. She advised me she had to separate my booking from the others to allow me to change my flight. said to login and now change it. Hung up to follow her instructions and the flight had 2 return flights (1  x that she hadn’t asked me the time in the day i wanted to fly for the new date and the other the old flight) and the button to change my flight was greyed out. \\nCalled again and customer service said they could not change my flight because i had already used to complementary booking service. I explained she that wasn’t the case because previous customer service said they split my booking from the other. She then said it was going to cost $750 to change the time of the flight on that day.  I said ill leave it at the selected time. \\n3 weeks later went in to book my seat and meal and noticed the flight on the 19 had disappeared and reverted back to the 17th. Called customer service again and she said there would be now $1200 fee to change the flight from 17th to 19th. Said why? i had it confirmed flight on the prior booking? she said it was confirmed but not ticketed and lapsed because i hadn’t paid $580. Said no one had informed me that i needed to pay $580 to book the flight, and i had a complementary booking so shouldn’t have needed to pay a change fee. She said its now changed the economy seat type and refused to allow me to book the ticket that was originally booked for me even though the poor communication and booking process was a Singapore Airlines issue. \\nHave asked to speak to the Manager, she obviously didn’t me to speak to the manager because then instead of asking to book in a time to call, as she did before, she informed me to be available for 38 hours for a call. I raised this issue, and she begrudgingly agreed she would book in the call for tomorrow morning or same time next day. I am awaiting a call now from management.',\n",
              "  'I am writing this review of serious complaint.   \\n\\nPrior to my flight leaving the UK I had all the documents I needed which included the following:\\nNegative PCR test \\nAustralian Declaration \\nPassport \\nMy Australian Visa which I have held for almost 4 years. \\nDouble Vaccination certificate (which I got in Australia) \\nI live and work in Australia and have done for the past 5 years. I was visiting my family after 3 years as the international boarders have just recently opened to Skilled work visas. \\n\\nI arrived at Heathrow airport 4 hours before my scheduled flight and waited in the queue prior to check in. It was very busy and a staff member was making sure all passengers had the correct information. I got all the boxes ticked and queued to send my suitcase and do final check in. The lady at the desk took all my information and I placed my bag up ready for check in. She then asked if I had an \"Australian Exemption\". I explained I didn\\'t need an exemption as I hold a visa for Australia and meet all the requirements meaning I do not need to apply for one. The lady then made a call for help as I don\\'t think she knew what she doing. Another staff member came over to help and they both told me that I couldn\\'t board this flight because I needed an Australian Exemption. I then began to feel extremely overwhelmed/stressed and anxious as I was due back to work on the Monday 7th and really needed to catch this flight. They took my bag off the check in and turned me away. The man who came over to help said he can re-book my flight for the same time 24 hours later (on Sunday 6th February) and told me that I could either pay for an express exemption otherwise the exemption could take up to 5 days to come through. Although they did not believe me when I told them I didn\\'t need one. \\n\\nI got driven home which took almost an hour and opened up my laptop to start applying for an exemption as directed by the staff at Singapore Airlines. Once I filled in all my details and applied for the exemption it came back saying that based on the information I had provided \\'I DID NOT NEED AN EXEMPTION\\' this was also information that is clearly stated on the Australian Government home affairs website. This is exactly what I had originally told the Singapore Airlines staff who wouldn\\'t let me board the plane. Please see attached photo of my outcome. \\n\\nSo not only did the staff working for Singapore airlines give false and misleading information but they turned me away and made me miss my flight which I seriously needed to get - this gave me incredible anxiety.\\n\\nI instantly called Singapore Airlines to rebook my flight for the next available one.  The staff member on customer services said that he could re book my flight for this time.\\n\\nI was waiting roughly an hour for the changes to be confirmed via email, but I didn\\'t receive anything. I was extremely frustrated and panicking so then called Singapore airlines AGAIN to ask why my changes had not come through? I got through to a staff member called \"Tim\" he wouldn\\'t give me his surname. He said that no changes had been made and I couldn\\'t make the changes as I booked through a third party. He also told me that the flight was FULL which was another complete lie as I managed to eventually board this flight and many rows where empty. The first call I made he said he had made the changes and had sent a confirmation email and then when I called back to follow it up \\'Tim\\' is saying no changes were made? I was been constantly given wrong information by Singapore Airlines and this wasted hours of my time and caused even more stress! I wasn\\'t getting anywhere with customer services over the phone they said they could not help me at all and was extremely unhelpful. They told me it was all to do with the third party. Which it had nothing to do with them. I had wasted too much time so drove back to the airport and speak with Singapore Airlines face to face.\\n\\nI arrived back at the airport at roughly 1:30pm and spoke with the help desk. I explained my situation to her and she made a call. I received no apology on behalf of Singapore airlines. She then told me that I would find out if I can board the flight when I get to check in and she re booked my flight. The airline should know all this information and it\\'s disgusting they don\\'t.  So again, Singapore customer services over the phone lied as they said they couldn\\'t make changes to my now missed flight but as soon as I got to the airport and spoke with someone face to face, they managed to put me on another flight. I then waited another 2.5 hours anxious and stressed as I didn\\'t know if they would let me board the plane again even though I had all my documents. \\n\\nWhen arriving at the check in the lady behind the counter was shocked and apologized (first apology I received) she said she doesn\\'t understand why I couldn\\'t board the first flight as I had all the correct documents, I would have needed to board the original flight.\\n\\nI am Vegan and requested vegan special meals prior to my original flight. They told me I couldn\\'t get vegan meals on this new flight as they needed to be pre ordered like I had on my original flight. This meant I went all the way to Brisbane with no food. 24 hours. They did offer me a bread roll and nuts but this is not substantial. Having been a vegan for the entirety of my adult life I am acutely aware of the mixed connotations surrounding veganism and its attachment to some of the more life-threatening dietary issues.  I would however like to express that I find it wholeheartedly unacceptable that this was not taken more seriously. The result of which, thankfully, only lead to my sustained hunger for over 24 hours, something given the plight of many I can not complain of too much. However the principle of a dietary requirement of an individual not being of the utmost importance to an airline, given the severity of which some may jeopardise the Health & Safety of everyone involved, scares me a little. \\n\\nI had asked the lady at the desk if there is any upgrade I could have for the flight as I needed to sleep as I was now having to go straight to work as soon as I landed this new flight but she said she didn\\'t have any authorization to do so but to speak to a REP. Once I had checked in my bag and received my boarding pass, I waited for a rep. \\n\\nI spoke to a REP lady who again apologized sincerely for the mistake but again told me there was nothing she could do regarding an upgrade for the flight. But gave me this email address to write my complaint.\\n\\nMy mum had taken me to the airport twice and this cost over 50 pounds in car parking fees.\\n\\nSince February I have been back and forth with a customer service representative. Had no car park fees paid back and was offered a gift card worth $200 which I declined as wanted flight credit. I still have no received anything and so much more deserving. \\n\\nFinally, I would like to end with the emotioanl distress this incident caused both myself, my family in the UK & my family in Australia. As touched on previously this was my first trip back to the UK in over 3 years (*confirm), at a time when the World is in the midst of a pandemic. A time when my own stress levels are exasperated by the need to feel safe. To then be told by several of your colleagues that I wasn\\'t able to return to my home & family in Australia, without any one individual providing me adequate proof to refute my claim of exemption, really shook me emotionally & physically. The underlying feeling of anxiety I endured both at the time of the incident, during my rescheduled flight & following on from this has led to an upsetting change in my emotional state of mind, something I hadn\\'t experienced prior.  \\n\\nAll in all, I feel incredibly let down by Singapore Airlines as it failed to deliver, in my eyes, on many key areas an Airline should. \\n\\nI have STILL not received any email its been 7 MONTHS! It is absolutely disgusting and disgraceful.'],\n",
              " 5: ['My wife and I recently flew to and from Sydney to Singapore, travelling in Premium Economy. We were really looking forward to our Premium Economy experience with Singapore Airlines, especially after ready all of the positive reviews, including the accolades on Skytrax.\\n\\nWow, what a let down! \\n\\nFortunately I had booked the front row seats of Premium Economy, but besides the half an inch difference in seat width to economy (and that is questionable), and the legroom - this has to rate as one of my biggest disappointments in flying over all the years I have been doing this. \\nThe crew were absolutely nowhere to be seen once we had taken \"taken to the skies\". Besides offering us a plastic cup of water an hour after take off - the crew were conspicuous by the absence. No snacks were offered, no refresher towels, no softdrinks or wine or something even a little stronger. After 2 hours, I took a stroll down to the galley, only to find 4 cabin crew staff all sitting eating and chatting to one another - way too busy to provide customer service to us paying passengers.\\nIn addition to the complete lack of service, the menu was no different to economy class, unless you opted for the Book the Cook - which my wife and I did for breakfast. Not sure why we bothered, the so called scrambled eggs were so overdone, that they were almost blue - totally inedible. Our meal was served after economy class, as the crew started serving from the back of the aircraft - again, not sure why they call in Premium Economy?\\n\\nIf I compare this to the level of service received when flying Qantas (as an example), where we got sparkling wife before taking off (in a proper glass), fabulous food (different from economy), served on proper plates with steel cutlery, and the ever present crew attending to any customer needs (snacks, drinks, etc. - Singapore Airlines has a LOT of ground to make up.\\n\\nReally disappointed, and will definitely not waste my money fly Singapore Airlines Premium Economy again.\\n\\nVery disappointed Frequent Flyer',\n",
              "  'Travelled with Singapore on their premium economy service. This was supposed to be the industry standard and the photos looked great. \\nPre flight- this was ok, bag drop was to a specific lane but the promised priority boarding was poor, on the way out it was separated, bit at changing on the way back there was no separation between economy and premium.\\n\\nSeats - I have been flying a long time, and the seats are the same width as the economy of 20 years ago. Still far better than current economy, but not brilliant. As some controls for the entertainment system were on the inside of the seat armrests, anything in your pocket would catch and operate them. They were comfortable enough but had an irritating headrest which kept sliding down, so they started in position but then slid down becoming uncomfortable.\\n\\nEntertainment system- really good choices, BUT there are headphones provided which had special 3 prong fitting, so if you brought your own you can’t use them!! The headphones are average quality with little noise cancellation so making the whole thing pretty useless.\\n\\nCabin- on the A380 outward, the cabin was forward and was separated from economy and business by a curtain, with a dedicated toilet. On the way back in a 777-300 it was a small area which was separated from business but there was no separation from economy toilets were at the back of economy and generally had a long wait. The lack of premium benefits were clear from disembarking, as on the way out priority exit happened, but on the way back only business got off first.with everyone else lumped together, no premium aspect at all.\\n\\nService- This was perhaps the most disappointing, outward journey was not as good as any other airlines premium economy, or even Qatars basic economy. As was made clear, Premium was not in fact given any premium benefits, it was just economy with slightly bigger seats - even TUI did this better. Got off the flight outbound dehydrated, didn’t see much of any flight attendant after meal service.\\n\\nFood - Book the cook was the only premium benefit here, everything else was the same as economy, right down to the wooden cutlery on the outbound journey. The food was ok. Not good, just ok. Again Qatar and TUI did this MUCH better.\\n\\nSummary- Double the price for slightly bigger seats and a quick bag drop. That’s it. \\nInterestingly Scoot plus was significantly better in all departments, which is supposed to be the economy arm of Singapore airlines!\\n\\nI would suggest using another airline, Premium does not mean premium on Singapore, they have not got the balance right. I find it ridiculous that the service and product from TUI which is a holiday company is far superior than the supposedly industry leader. Not even close to Qatar…..\\n\\nDo better Singapore Airlines',\n",
              "  'In September 2022 we flew Premium Economy on SIA from Singapore to London. While it was a much more comfortable flight than our previous flight in Economy a few days before, the main thing we noticed was the surliness of the staff and their poor attitude towards the Caucasian passengers. They were friendly enough to their fellow Asians. We experienced exactly the same on our earlier flight in Economy. The Premium Economy seats were great, very comfortable with good leg room and footrests. There was a bottle of water in the pocket. However, apart from the comfort, there was nothing to set Premium Economy apart from Economy. For breakfast they brought us the Economy class food, and simply swapped the bun with a croissant. For a later meal, it was the Economy food again with no wine choice (apart from simply red or white from bottles already opened in Economy). They served Economy first. They seemed to be the same stewardesses. The restrooms were shared with Economy. We had no welcome drink, no little tablecloths, socks or eye masks, the little touches one would have expected in Premium Economy. Just as a comparison with another airline’s Premium Economy ... in September we also flew on a Canadian airline called Westjet. There were 2 flight attendants (Sarah and Paula) who were amazing. They greeted us personally and warmly, by name, and introduced themselves, assuring us we would be looked after, and we were. They actually made us feel as though we were the only people in Premium Economy, whereas in fact it was full! We were offered a pre-flight drink. We were offered a post-take-off drink. They took our orders for our wine selection for dinner. Out came white linen tablecloths. The trays that came were nice, the food was delicious. The warm and friendly service continued throughout the flight. Moreover, Premium Economy had its own restrooms. The whole flight was a wonderful experience. Westjet is a small Canadian airline, Singapore is a huge international airline, yet they fell short badly. Apart from the comfortable seats in Premium Economy on SIA it was not worth the extra money. We hope SIA will take a leaf out of Westjet’s book and make more of an effort to make their Premium Economy passengers feel just a little bit special.'],\n",
              " 6: [\"I have flown so many business class airlines in my time but never before with SA. Not only was the business lounge of the very poorest class I've ever seen but the actual aircraft was tired and old. My business class seat was sticking and the stewardess nearly injured her back trying to get it to move into its sleep position. The sewing on the seat was actually frayed - very old and tired. However this wasn't the worst  - as my husband while away -  had a severe spinal injury which meant that I had to try and have tickets reissued not once but several times as he had two very severe relapses necessitating emergency spinal surgery and months of rehabilitation. SA Customer Service were absolutely useless. Half the time - even with my flight details in front of them - they couldn't figure out the pattern of flight re-issues and each time even though it was obviously a medical emergency and could be verified at the highest level - they gave no help with the rebooking fees or the astronomical amounts required to rebook a ticket - the difference from the original ticket price and the re-issue price. I ended up paying for my business ticket twice over in the space of 6 months. Absolute exploitation of a customer who has no other options. We will never fly with them again and when I reported my concerns with this issue I was met with a very lacklustre response and a barrage of policy documents. There was not one person at SA who took any ownership of the situation.\",\n",
              "  \"I have a lot of experience flying in different airlines in business class. I rate Singapore airline as a weak 3.\\nBad seats in the business class, they do not fold out enough, it is difficult to stretch your legs, you fly crooked the whole flight. Business class, ticket costs $5,000!\\nVery small selection of food, portions are small, the food is so-so.\\nSpecial complaint about the organization of the flight. Departure from New York at 10 am. At 1 in the afternoon they turned off the lights on the whole plane and the whole flight we were in the dark the whole flight, and this is 18 hours! I didn't pay for business class ticket to fly in the dark during the day! This is unnatural.\\nSingapore Airlines - never again!\",\n",
              "  \"Singapore Airlines Business Class offers an unparalleled flying experience. It's a blend of luxury, comfort, and exceptional service that transforms travel into an indulgence. For anyone looking to fly from San Francisco to Singapore, I wholeheartedly recommend Singapore Air Business Class. It's not just a flight; it's a journey that celebrates the art of flying, setting a benchmark for what air travel should be.\\n\\nWorld-Class Service: The Flight Attendants' Touch\\n\\nThe heart and soul of Singapore Airlines are its flight attendants, and the crew on \\nSingapore Flight 33 exemplified this perfectly. The world-class service began from the moment I stepped on board, greeted by smiles that felt genuinely welcoming. A special thanks to Victor (IFM), Tan Wee Song (CS), Lionel (LS), Howard (FS), and Scarlette (FSS) who went above and beyond to ensure my comfort and satisfaction throughout the flight. Their professionalism, attention to detail, and warm demeanor made me feel valued and well taken care of.\\n\\nThe Culinary Experience: A Gastronomic Delight\\n\\nOne of the standout features of Singapore Air's Business Class is its culinary offerings. The menu choices, including Lobster Thermidor, Seared Sea Bass, and Grilled Filet Mignon, were not just meals but culinary experiences that rivaled some of the Michelin Star restaurants I've dined in. Each dish was prepared with meticulous attention to flavor, presentation, and quality, making dining one of the highlights of the flight.\\n\\nComfort Redefined: The Business Class Seat\\n\\nThe Business Class seat on Singapore Air was a haven of comfort. The spacious, fully-reclining seat provided a perfect environment for relaxation and sleep. With ample legroom, adjustable lighting, and a range of seating positions, it was easy to find the perfect setting for every part of the journey. The privacy and quietness of the cabin added to the sense of exclusivity, making it feel like a personal retreat in the sky.\\n\\nIn-Flight Entertainment: A World of Choices\\n\\nThe in-flight entertainment system was another aspect where Singapore Airlines shined. The wide selection of movies, TV shows, music, and games meant that there was never a dull moment. The screen was large and high-resolution, ensuring a great viewing experience, while the noise-canceling headphones provided by the airline allowed me to immerse myself in the entertainment without any distractions.\\n\\nAttention to Detail: Small Touches that Matter\\n\\nWhat sets Singapore Airlines apart are the small touches that show their commitment to excellence. The amenity kit provided was thoughtfully equipped with high-quality essentials. The restrooms were consistently clean and well-stocked, reflecting the crew’s dedication to maintaining a comfortable environment. Even the cabin lighting was adjusted to mimic the time of day, helping to reduce jet lag.\\n\\nThe Lounge: A Pre-Flight Indulgence\\n\\nBefore boarding, I had the pleasure of visiting the exclusive Singapore Airlines lounge. The lounge was a tranquil space, offering a variety of seating areas, delicious food, and an array of beverages. It was the perfect place to relax and prepare for the flight, adding another layer of luxury to the overall travel experience.\\n\\nA Commitment to Safety and Cleanliness\\n\\nIn an era where health and safety are paramount, Singapore Airlines demonstrated a rigorous commitment to cleanliness and safety protocols. The cabin was immaculate, and the crew took great care to ensure that all health guidelines were followed without compromising on service quality.\\n\\nThe Singapore Airlines Business Class Experience\\n\\nHaving traveled to Asia in First and Business Class for the past 25 years, I can confidently say that Singapore Airlines is among the best. Their attention to every aspect of the flight experience, from service to comfort to dining, sets them apart. The crew on Flight 33, with their exceptional service and dedication, played a pivotal role in making this one of the best flights I’ve ever experienced.\\n\\nAnticipating the Next Journey\\n\\nAs I disembark from Singapore Air, I find myself actually looking forward to my next 16-hour flight with them. It’s rare to find an airline that not only meets but exceeds expectations, turning what could be a tedious long-haul flight into a memorable journey.\"],\n",
              " 7: ['Flight SQ286 first class Auckland to Singapore on 05.01.2024 suite 1A and 2A . Was amazing all through the flight. A big thank you to the cabin crew. They made us feel very special and amazing service and food. The crew was a credit to your airline.\\nFlight SQ285 first class from Singapore on 19.01.2024. suite 1A and 2A\\nWe could not fault the reception through Changi airport starting from the First class reception and check in to the lounges. Unfortunately this changed after we boarded the flight. The inflight service was below par. The inflight crew presented as flustered, disorganised and appeared not to be working as a team. This was completely different from SQ286. Meals were served sporadically, meals being disorganised with very little enthusiasm, it was like the staff were just going through the motions to get it out of the way. This was very clear during the second meal which we pre ordered a main as it was Lunch, The cabin crew were very difficult to understand due to the quiet tone through out the flight. We were given breakfast with choices of cereal, fruit and breads followed very quickly with a main pre ordered meal of steak and my wife had burger, this was very strange and not appetizing it could not be eaten.\\nThe climate control on the flight during sleep period was extremely hot. During this period no cabin crew were within the vicinity to ask about this.\\nIt appeared that the First Class cabin crew were not as professional as the crew on  our flight SQ286.\\nVery disappointing return flight as this was a special occasion for my wife and I.\\nAlso the advert for First class had a teddy on each bed which our grandchildren were excited about having unfortunately on both flights this was not the case and were advised  they had ran out. again another disappointment .\\nUnsure if we would pay the $20.000 NZD plus again if this is the standard of service provided.',\n",
              "  'My wife and I recently resumed our regular trips from the USA to the Philippines post pandemic. We decided to try Singapore airlines and flew aboard the famous SQ21 flight Newark to Singapore just shy of 19 hours, touted as the world\\'s longest regularly scheduled flight! As an aviation buff I was stoked to experience this long flight, having flown 16.5 hours I figured what\\'s a couple more hours. First of all, there is no economy class on these flights. It\\'s a premium economy and in price comparable to what the competition is charging for economy. That being said, the seats were so much more comfortable, larger, more room, exceptional leg room and the premium economy cabin is in a 2X4X2 configuration. Traveling as a couple my wife and I enjoyed a two seat row to ourselves, which was awesome not having to disturb a stranger to get up mid flight to use the lavatory or stretch your legs. If you travel solo they offer phenomenal single seats that come with extra inflight storage. There is an additional nominal fee for these seats if I\\'m not mistaken but well worth the money for a long flight like this if you\\'re traveling alone. The food was very good for airline food. You have two options, choose from the inflight menu or log in to the website preflight and choose the \"book the cook\" option which not only gives you a choice of gourmet meals but you\\'ll get your meal first! So take advantage of this if you fly with Singapore airlines. The Singapore airlines cabin crews are second to none! The service was exceptional, they are so well trained, so friendly, attentive and professional, we can\\'t say enough good about them! The Aircraft itself was an Airbus A350-900 in the ULR configuration. \" Ultra Long Range\". It was a beautiful airplane inside and out. I was an aviation buff was able to appreciate the design and sound and feel of it\\'s very powerful and reliable engines. I was very very pleased with the whole experience. This was just one of 6 flights we recently flew to and from the Philippines from Newark NJ/NY 4 of which were with Singapore airlines. I\\'ve flown aboard their competition and I can tell you Singapore airlines is the best in my opinion for long haul service US to Asia. We will be flying with them again next year for sure without question. Thank you again Singapore Airlines for the great and memorable flights we really enjoyed them! ✈️',\n",
              "  'The Singapore girl is as much as a wonder as a delight. Before I am excused of sexism, there were male FA,s in service as well. you can say that they are representative of the country as a whole - warm, hospitable, excellence in efficiency and execution and yes culturally some what sterile. Our journey began in the utter chaos and dysfunction of Bangalore, India\\'s 5th metro city, and South Asia\\'s Si Valley and supposedly the Indian metro with the highest median income. Since the SQ flight from KIA left at 11 pm or so, we were airport bound, a distance of ~ 40 km during evening peak hour. To avoid inner city traffic jams our driver took us through the \"back alleys\" to get as close as he could to the highway north of BNC area. Oh well! Check in was super smooth. A SQ baggage handler at check in moved our 4 bags from the trolleys to the conveyor belt and refused a thank you money. The international dep lounge used by most airline at KIA is a nice space but can do better. Hopefully the new T2 where all phoren flights will A/D may have a nicer version. The lounge food was OK, the gin tonic seemed too dilute etc and not sure if the lounge has a shower facility. Great staff and clean otherwise. Boarding for us was thru a common mid cabin gate as our seats were closer to the end of the section and occurred along with the Y passengers. The A350-900 J module was of the older variety and was not as plush as on the SIN-LAX sector. since the cabin crew had come in from SIN and were also doing the return leg, a bit of fatigue showed on their faces, entirely understandable. we departed on time with a flying time of approx 3.5 hrs. Food (somewhat aflatoon) by Sanjeev Kapoor was ok but could have been better? The best was the simple rice with thin sliced shallots and chilgoze. The Chianti was superb as per my sources. Arrival at Changi was a breeze. Now this is where the effortless efficiency of this city-state shows. Since we had an e passport and had completed the required form online, exit from immigration was contactless and took <1 minute thru 2 barrriers. We were at luggage claim well before our bags that showed up 10 mins later. getting a taxi was efffortless and the ride to the other end of the island was smooth. In the early morning brain fog, the chaos of India/Bengaluru, and Twighlight hours, all i could utter \"yeh kahaan aggaye hum yun hi saath chalte chalte\" (yeah my Rekha darling was with me). we arrived at our location with NO issues, drivers use the GPS from point A to B, and there is NO tipping culture for services anywhere in the Lion City. After our 4 day stay we returned to Changi T3 to board the LAX flight. You need to tell the taxi driver your class of service as entry gates are different for J/Y etc. Check in was smooth. contactless scan your PP, and you can headd to duty free or lounge/gate etc. The dedicated SQ lounge in our terminal is supposedly not as nice as others (must be older) but worked for us - all we needed was a safe secluded space to wait until boarding. Lounge food is nothing to write home about, the men\\'s room had NO smell of piss, pee or phenyl, no buzzing insects,and were super clean (NO pubic hair littering the urinals). Our gate was a good 10 minute walk from the lounge. Security was at the gate it self, boarding was hassle free and the J cabin was superb on our A350-900. Clear differences in the business module were evident on the two sectors we flew.  The cabin staff, service  was warm and unobtrusive. if you are seated the cabin crew at times bent down to your eye level, who does that? In my 44 years of flying across continents the most recent such warmth was shown only by SWISS on the Zurich-DEL sector in an otherwise lack luster J hard product. The SQ J hard product had many storage bins, a reading light, a few indirect lights (in case you dont wish to use the overhead one) and the food served was the best i have had in any J cabin (my J experience is only 5 years, before that it was always Y). I am glad i had preordered a vegetarian meal - the onboard menu had no vegetarian option (quite unlike EU airlines that seem to include at least a pasta option). The IFE is OK, nothing like EK.  dont have too a high a hope on the amenity kit, tooth paste/brushes and razor/gel pouch were available in the toilets. Again rekha darling lovd herr on board red vino selection. Arrival at LAX was a no brainer, had to wait a bit longer than expected for bags, exit of Immigration with a US PP and global entry was a breeze. given my tepid experience on the BLR-SIN leg the prestigious NA sector ULHs were in a different league. Towards the end of the 14 hr 15 min nonstop, I did thank the cabin crew and the service manager for the warm and excellent SQ service. I also realised that in J, the crew is super busy preparing and serving a 3 course meal. Overall these ULH flights are a challenge for the flight crew. My salaams to them. Give it a try and check it out for yourself someday (SQ ULHs). Enroute we flew over the Midway atoll, well known in WW2 naval lore, with a clear view of the lagoon and runway from 37K feet.']}"
            ]
          },
          "execution_count": 189,
          "metadata": {},
          "output_type": "execute_result"
        }
      ],
      "source": [
        "# Gets all (3) representative tocs for each topic\n",
        "ft_model.representative_docs_"
      ]
    },
    {
      "cell_type": "markdown",
      "metadata": {},
      "source": [
        "## 4.3. OUTPUTS: Visualizations (df_slice specific)"
      ]
    },
    {
      "cell_type": "code",
      "execution_count": 190,
      "metadata": {},
      "outputs": [],
      "source": [
        "# Useful to see the closeness between topics\n",
        "# ft_model.visualize_hierarchy()"
      ]
    },
    {
      "cell_type": "code",
      "execution_count": 191,
      "metadata": {},
      "outputs": [],
      "source": [
        "# Visual representation of '.get_topic()' above to see the importance of tokens in each class\n",
        "# ft_model.visualize_barchart()"
      ]
    },
    {
      "cell_type": "code",
      "execution_count": 192,
      "metadata": {},
      "outputs": [],
      "source": [
        "# Shows how unique each token is to its topic vs. how common it is globally (e.g., \"service\" appears often across topics, so ranks lower).\n",
        "# ft_model.visualize_term_rank()"
      ]
    },
    {
      "cell_type": "code",
      "execution_count": 193,
      "metadata": {},
      "outputs": [
        {
          "name": "stderr",
          "output_type": "stream",
          "text": [
            "17it [00:00, 37.27it/s]\n"
          ]
        },
        {
          "data": {
            "application/vnd.plotly.v1+json": {
              "config": {
                "plotlyServerURL": "https://plot.ly"
              },
              "data": [
                {
                  "hoverinfo": "text",
                  "hovertext": [
                    "<b>Topic 0</b><br>Words: ms, pandemic, fss, crew, service",
                    "<b>Topic 0</b><br>Words: brisbane, drink, welcome drink, breakfast, covid",
                    "<b>Topic 0</b><br>Words: syd, difference, know, incredible cabin, know sound",
                    "<b>Topic 0</b><br>Words: service, vegetarian, western, past, business",
                    "<b>Topic 0</b><br>Words: seat, utter, failure, service, row",
                    "<b>Topic 0</b><br>Words: medical, outlet, sockets, socket, advised",
                    "<b>Topic 0</b><br>Words: lounge, business, business class, class, crew just",
                    "<b>Topic 0</b><br>Words: service, business, changes, middle eastern, eastern",
                    "<b>Topic 0</b><br>Words: lhr, son, service, baggage, phuket",
                    "<b>Topic 0</b><br>Words: scoot, leg, asia, fine, future",
                    "<b>Topic 0</b><br>Words: kg, unlike, providing, pre covid, service",
                    "<b>Topic 0</b><br>Words: legroom, problem, food, available economy, friendliness staff",
                    "<b>Topic 0</b><br>Words: service, clean staff, normal service, service took, plane clean",
                    "<b>Topic 0</b><br>Words: degraded, relative, pre covid, route, level"
                  ],
                  "marker": {
                    "color": "#E69F00"
                  },
                  "mode": "lines",
                  "name": "0_service_seat_class_business",
                  "type": "scatter",
                  "x": [
                    "2021-12-01T07:27:49.649000000",
                    "2022-01-20T01:29:50.705882353",
                    "2022-03-09T23:34:18.411764706",
                    "2022-04-27T21:38:46.117647060",
                    "2022-06-15T19:43:13.823529412",
                    "2022-09-21T15:52:09.235294120",
                    "2022-11-09T13:56:36.941176472",
                    "2022-12-28T12:01:04.647058824",
                    "2023-02-15T10:05:32.352941176",
                    "2023-04-05T08:10:00.058823528",
                    "2023-05-24T06:14:27.764705880",
                    "2023-08-30T02:23:23.176470592",
                    "2023-10-18T00:27:50.882352944",
                    "2023-12-05T22:32:18.588235296"
                  ],
                  "y": {
                    "bdata": "AgEBBQIEAgMEAgEBAgI=",
                    "dtype": "i1"
                  }
                },
                {
                  "hoverinfo": "text",
                  "hovertext": [
                    "<b>Topic 1</b><br>Words: service, especially, used, try, issue",
                    "<b>Topic 1</b><br>Words: emails promising, service reality, cheapest, worst world, frills",
                    "<b>Topic 1</b><br>Words: size, recent, welcome board, rave, service recent",
                    "<b>Topic 1</b><br>Words: 22, chi min, luggages, chi, ho chi",
                    "<b>Topic 1</b><br>Words: movies, cuz, kind food, best crew, food delicious",
                    "<b>Topic 1</b><br>Words: best, nice, food, waited, look",
                    "<b>Topic 1</b><br>Words: hi, world class, attendants, quite, world",
                    "<b>Topic 1</b><br>Words: compare, drawback, cleaning, major, frequent",
                    "<b>Topic 1</b><br>Words: meal, meals, crew, syd, rice",
                    "<b>Topic 1</b><br>Words: economy, premium, food, members, disappointment",
                    "<b>Topic 1</b><br>Words: crew, meal, krisflyer, competing, girls",
                    "<b>Topic 1</b><br>Words: crew, vouchers, service, announcement, meal",
                    "<b>Topic 1</b><br>Words: longer good, service hotline, things really, service oriented, really terrible",
                    "<b>Topic 1</b><br>Words: chicken, fa, meal, meals, ask"
                  ],
                  "marker": {
                    "color": "#56B4E9"
                  },
                  "mode": "lines",
                  "name": "1_crew_service_meal_food",
                  "type": "scatter",
                  "x": [
                    "2021-12-01T07:27:49.649000000",
                    "2022-03-09T23:34:18.411764706",
                    "2022-04-27T21:38:46.117647060",
                    "2022-06-15T19:43:13.823529412",
                    "2022-08-03T17:47:41.529411764",
                    "2022-09-21T15:52:09.235294120",
                    "2022-11-09T13:56:36.941176472",
                    "2023-02-15T10:05:32.352941176",
                    "2023-04-05T08:10:00.058823528",
                    "2023-05-24T06:14:27.764705880",
                    "2023-07-12T04:18:55.470588240",
                    "2023-08-30T02:23:23.176470592",
                    "2023-10-18T00:27:50.882352944",
                    "2024-01-23T20:36:46.294117648"
                  ],
                  "y": {
                    "bdata": "AgECAwEFAQEEBAQCAQM=",
                    "dtype": "i1"
                  }
                },
                {
                  "hoverinfo": "text",
                  "hovertext": [
                    "<b>Topic 2</b><br>Words: luggage, compensation, resort, maldives, missing",
                    "<b>Topic 2</b><br>Words: bag, luggage, son, lost, days",
                    "<b>Topic 2</b><br>Words: luggage, lost, baggage, delayed, bags",
                    "<b>Topic 2</b><br>Words: luggage, baggage, american, business, lost",
                    "<b>Topic 2</b><br>Words: luggage, baggage, lost, said, fixed",
                    "<b>Topic 2</b><br>Words: luggage, baggage, lost, customer, lax",
                    "<b>Topic 2</b><br>Words: luggage, baggage, suitcase, lost, customer",
                    "<b>Topic 2</b><br>Words: luggage, delta, jfk, march 2023, march",
                    "<b>Topic 2</b><br>Words: bag, lost, luggage, understand, lost bag",
                    "<b>Topic 2</b><br>Words: luggage, bag, lost, 2023, days",
                    "<b>Topic 2</b><br>Words: sub, carrier, lost, ignores, mail week",
                    "<b>Topic 2</b><br>Words: luggage, day, received, lost, email",
                    "<b>Topic 2</b><br>Words: luggage, bags, item, lost, inside",
                    "<b>Topic 2</b><br>Words: luggage, claim, baggage, lost, bag",
                    "<b>Topic 2</b><br>Words: luggage, baggage, customer, service, customer care"
                  ],
                  "marker": {
                    "color": "#009E73"
                  },
                  "mode": "lines",
                  "name": "2_luggage_baggage_lost_bag",
                  "type": "scatter",
                  "x": [
                    "2022-03-09T23:34:18.411764706",
                    "2022-04-27T21:38:46.117647060",
                    "2022-06-15T19:43:13.823529412",
                    "2022-08-03T17:47:41.529411764",
                    "2022-09-21T15:52:09.235294120",
                    "2022-11-09T13:56:36.941176472",
                    "2022-12-28T12:01:04.647058824",
                    "2023-02-15T10:05:32.352941176",
                    "2023-04-05T08:10:00.058823528",
                    "2023-05-24T06:14:27.764705880",
                    "2023-07-12T04:18:55.470588240",
                    "2023-08-30T02:23:23.176470592",
                    "2023-10-18T00:27:50.882352944",
                    "2023-12-05T22:32:18.588235296",
                    "2024-01-23T20:36:46.294117648"
                  ],
                  "y": {
                    "bdata": "AwUGBAUGCAQDBAEEBAMD",
                    "dtype": "i1"
                  }
                },
                {
                  "hoverinfo": "text",
                  "hovertext": [
                    "<b>Topic 3</b><br>Words: really, people, time, crew, good",
                    "<b>Topic 3</b><br>Words: covid, food, plane, say, meal",
                    "<b>Topic 3</b><br>Words: hung, friendly, crew, aircraft, speak",
                    "<b>Topic 3</b><br>Words: food, class, service, breakfast, meal",
                    "<b>Topic 3</b><br>Words: good, food, good nice, nice, spacious",
                    "<b>Topic 3</b><br>Words: food, good, service, poor, great",
                    "<b>Topic 3</b><br>Words: good, food, seat, class, great",
                    "<b>Topic 3</b><br>Words: crew, plane, good, food, friendly",
                    "<b>Topic 3</b><br>Words: food, good, excellent, service, crew",
                    "<b>Topic 3</b><br>Words: food, good, service, staff, great",
                    "<b>Topic 3</b><br>Words: seat, food, good, service, meals",
                    "<b>Topic 3</b><br>Words: good, food, t2, plane, service",
                    "<b>Topic 3</b><br>Words: great, july, service, friendly, experience",
                    "<b>Topic 3</b><br>Words: good, food, crew, dish, check",
                    "<b>Topic 3</b><br>Words: cold, good, seat, food, plane",
                    "<b>Topic 3</b><br>Words: food, good, great, meal, experience",
                    "<b>Topic 3</b><br>Words: food, lounge, good, service, seat"
                  ],
                  "marker": {
                    "color": "#F0E442"
                  },
                  "mode": "lines",
                  "name": "3_food_good_service_crew",
                  "type": "scatter",
                  "x": [
                    "2021-12-01T07:27:49.649000000",
                    "2022-01-20T01:29:50.705882353",
                    "2022-03-09T23:34:18.411764706",
                    "2022-04-27T21:38:46.117647060",
                    "2022-06-15T19:43:13.823529412",
                    "2022-08-03T17:47:41.529411764",
                    "2022-09-21T15:52:09.235294120",
                    "2022-11-09T13:56:36.941176472",
                    "2022-12-28T12:01:04.647058824",
                    "2023-02-15T10:05:32.352941176",
                    "2023-04-05T08:10:00.058823528",
                    "2023-05-24T06:14:27.764705880",
                    "2023-07-12T04:18:55.470588240",
                    "2023-08-30T02:23:23.176470592",
                    "2023-10-18T00:27:50.882352944",
                    "2023-12-05T22:32:18.588235296",
                    "2024-01-23T20:36:46.294117648"
                  ],
                  "y": {
                    "bdata": "AwIGBgYLBwgLDgoLBwsHCgg=",
                    "dtype": "i1"
                  }
                },
                {
                  "hoverinfo": "text",
                  "hovertext": [
                    "<b>Topic 4</b><br>Words: said, hours, customer, visa, phone",
                    "<b>Topic 4</b><br>Words: refund, hours, ticket, phone, email",
                    "<b>Topic 4</b><br>Words: hours, service, ticket, change, phone",
                    "<b>Topic 4</b><br>Words: refund, ticket, customer, hours, booking",
                    "<b>Topic 4</b><br>Words: refund, ticket, booking, tickets, customer",
                    "<b>Topic 4</b><br>Words: time, customer, said, hours, told",
                    "<b>Topic 4</b><br>Words: change, ticket, customer, said, customer service",
                    "<b>Topic 4</b><br>Words: customer, change, email, agent, department",
                    "<b>Topic 4</b><br>Words: customer, refund, service, customer service, told",
                    "<b>Topic 4</b><br>Words: booked, hours, brisbane, refund, told",
                    "<b>Topic 4</b><br>Words: customer, told, refund, duty manager, customer service",
                    "<b>Topic 4</b><br>Words: booking, hours, tickets, time, booked",
                    "<b>Topic 4</b><br>Words: change, hours, fare, customer, booked",
                    "<b>Topic 4</b><br>Words: ticket, customer, refund, class ticket, way economy",
                    "<b>Topic 4</b><br>Words: travel, service, delay, issues, refund",
                    "<b>Topic 4</b><br>Words: gate, hours, dubai, ticket, accommodation",
                    "<b>Topic 4</b><br>Words: ticket, booking, hours, customer, customer service"
                  ],
                  "marker": {
                    "color": "#D55E00"
                  },
                  "mode": "lines",
                  "name": "4_customer_ticket_hours_refund",
                  "type": "scatter",
                  "x": [
                    "2021-12-01T07:27:49.649000000",
                    "2022-01-20T01:29:50.705882353",
                    "2022-03-09T23:34:18.411764706",
                    "2022-04-27T21:38:46.117647060",
                    "2022-06-15T19:43:13.823529412",
                    "2022-08-03T17:47:41.529411764",
                    "2022-09-21T15:52:09.235294120",
                    "2022-11-09T13:56:36.941176472",
                    "2022-12-28T12:01:04.647058824",
                    "2023-02-15T10:05:32.352941176",
                    "2023-04-05T08:10:00.058823528",
                    "2023-05-24T06:14:27.764705880",
                    "2023-07-12T04:18:55.470588240",
                    "2023-08-30T02:23:23.176470592",
                    "2023-10-18T00:27:50.882352944",
                    "2023-12-05T22:32:18.588235296",
                    "2024-01-23T20:36:46.294117648"
                  ],
                  "y": {
                    "bdata": "FhUXGCAXDxAKEQkMDQUHBg0=",
                    "dtype": "i1"
                  }
                },
                {
                  "hoverinfo": "text",
                  "hovertext": [
                    "<b>Topic 5</b><br>Words: economy, economy class, room economy, leg room, room",
                    "<b>Topic 5</b><br>Words: economy, premium, premium economy, served, crew",
                    "<b>Topic 5</b><br>Words: economy, premium, premium economy, toilets, seats",
                    "<b>Topic 5</b><br>Words: economy, premium, premium economy, seats, apart",
                    "<b>Topic 5</b><br>Words: meal, economy, chicken, premium, premium economy",
                    "<b>Topic 5</b><br>Words: economy, premium, london, premium economy, classes",
                    "<b>Topic 5</b><br>Words: economy, wins hands, wins, qf, mediocre best",
                    "<b>Topic 5</b><br>Words: economy, premium, premium economy, finnair, econ",
                    "<b>Topic 5</b><br>Words: economy, premium, premium economy, food, better",
                    "<b>Topic 5</b><br>Words: economy, premium, premium economy, better, service",
                    "<b>Topic 5</b><br>Words: economy, premium, premium economy, leg room, room",
                    "<b>Topic 5</b><br>Words: economy, seat, upgrade, premium, premium economy",
                    "<b>Topic 5</b><br>Words: economy, premium, premium economy, drink, seat"
                  ],
                  "marker": {
                    "color": "#0072B2"
                  },
                  "mode": "lines",
                  "name": "5_economy_premium_premium economy_seat",
                  "type": "scatter",
                  "x": [
                    "2022-04-27T21:38:46.117647060",
                    "2022-06-15T19:43:13.823529412",
                    "2022-09-21T15:52:09.235294120",
                    "2022-11-09T13:56:36.941176472",
                    "2022-12-28T12:01:04.647058824",
                    "2023-02-15T10:05:32.352941176",
                    "2023-04-05T08:10:00.058823528",
                    "2023-05-24T06:14:27.764705880",
                    "2023-07-12T04:18:55.470588240",
                    "2023-08-30T02:23:23.176470592",
                    "2023-10-18T00:27:50.882352944",
                    "2023-12-05T22:32:18.588235296",
                    "2024-01-23T20:36:46.294117648"
                  ],
                  "y": {
                    "bdata": "AQMDAgECAQUEBQEBBw==",
                    "dtype": "i1"
                  }
                },
                {
                  "hoverinfo": "text",
                  "hovertext": [
                    "<b>Topic 6</b><br>Words: fake, nyc, class, luggage, indicated",
                    "<b>Topic 6</b><br>Words: business class, class, business, expectation, seats",
                    "<b>Topic 6</b><br>Words: milk, class, dairy free, dairy, free",
                    "<b>Topic 6</b><br>Words: seat, seats, class, wing, feet",
                    "<b>Topic 6</b><br>Words: uncomfortable, business class, class, business, seat",
                    "<b>Topic 6</b><br>Words: seat, seats, galley, extra, fold",
                    "<b>Topic 6</b><br>Words: seat, hard, seats, inches, wide",
                    "<b>Topic 6</b><br>Words: vistara, economy, upgrade premium, booked round, seat",
                    "<b>Topic 6</b><br>Words: seat, business class, class, business, uncomfortable",
                    "<b>Topic 6</b><br>Words: business, uncomfortable, toilets, space, business class",
                    "<b>Topic 6</b><br>Words: aircraft, business, class, severe, emergency",
                    "<b>Topic 6</b><br>Words: flat, business class, business, worst traveled, flown different",
                    "<b>Topic 6</b><br>Words: class, business class, business, comfort, attention",
                    "<b>Topic 6</b><br>Words: anymore, average, quality, class actually, partly",
                    "<b>Topic 6</b><br>Words: seat, business class, business, class, chose"
                  ],
                  "marker": {
                    "color": "#CC79A7"
                  },
                  "mode": "lines",
                  "name": "6_class_seat_business_business class",
                  "type": "scatter",
                  "x": [
                    "2022-01-20T01:29:50.705882353",
                    "2022-03-09T23:34:18.411764706",
                    "2022-06-15T19:43:13.823529412",
                    "2022-08-03T17:47:41.529411764",
                    "2022-09-21T15:52:09.235294120",
                    "2022-11-09T13:56:36.941176472",
                    "2022-12-28T12:01:04.647058824",
                    "2023-02-15T10:05:32.352941176",
                    "2023-04-05T08:10:00.058823528",
                    "2023-05-24T06:14:27.764705880",
                    "2023-07-12T04:18:55.470588240",
                    "2023-08-30T02:23:23.176470592",
                    "2023-10-18T00:27:50.882352944",
                    "2023-12-05T22:32:18.588235296",
                    "2024-01-23T20:36:46.294117648"
                  ],
                  "y": {
                    "bdata": "AQIFBQMDBgIFAgIBAQEC",
                    "dtype": "i1"
                  }
                },
                {
                  "hoverinfo": "text",
                  "hovertext": [
                    "<b>Topic 7</b><br>Words: cup, food, ve, hostess, children",
                    "<b>Topic 7</b><br>Words: food, good, time, gluten, eat",
                    "<b>Topic 7</b><br>Words: food, crew, seats, service, good",
                    "<b>Topic 7</b><br>Words: food, service, experience, lounge, good",
                    "<b>Topic 7</b><br>Words: food, service, good, time, great",
                    "<b>Topic 7</b><br>Words: food, service, passengers, good, time",
                    "<b>Topic 7</b><br>Words: good, food, service, experience, long",
                    "<b>Topic 7</b><br>Words: food, service, strike, good, meal",
                    "<b>Topic 7</b><br>Words: food, service, luggage, good, economy",
                    "<b>Topic 7</b><br>Words: food, service, crew, good, great",
                    "<b>Topic 7</b><br>Words: food, service, good, seat, economy",
                    "<b>Topic 7</b><br>Words: food, service, indian, crew, meals",
                    "<b>Topic 7</b><br>Words: steak, experience, great, food, wonderful",
                    "<b>Topic 7</b><br>Words: time, service, food, good, experience",
                    "<b>Topic 7</b><br>Words: economy, service, staff, food, hype",
                    "<b>Topic 7</b><br>Words: crew, food, service, meals, good",
                    "<b>Topic 7</b><br>Words: suite, food, suites, seat, service"
                  ],
                  "marker": {
                    "color": "#E69F00"
                  },
                  "mode": "lines",
                  "name": "7_food_service_good_time",
                  "type": "scatter",
                  "x": [
                    "2021-12-01T07:27:49.649000000",
                    "2022-01-20T01:29:50.705882353",
                    "2022-03-09T23:34:18.411764706",
                    "2022-04-27T21:38:46.117647060",
                    "2022-06-15T19:43:13.823529412",
                    "2022-08-03T17:47:41.529411764",
                    "2022-09-21T15:52:09.235294120",
                    "2022-11-09T13:56:36.941176472",
                    "2022-12-28T12:01:04.647058824",
                    "2023-02-15T10:05:32.352941176",
                    "2023-04-05T08:10:00.058823528",
                    "2023-05-24T06:14:27.764705880",
                    "2023-07-12T04:18:55.470588240",
                    "2023-08-30T02:23:23.176470592",
                    "2023-10-18T00:27:50.882352944",
                    "2023-12-05T22:32:18.588235296",
                    "2024-01-23T20:36:46.294117648"
                  ],
                  "y": {
                    "bdata": "BAQJCwoLEBQXEhIQChELCQ8=",
                    "dtype": "i1"
                  }
                }
              ],
              "layout": {
                "height": 450,
                "hoverlabel": {
                  "bgcolor": "white",
                  "font": {
                    "family": "Rockwell",
                    "size": 16
                  }
                },
                "legend": {
                  "title": {
                    "text": "<b>Global Topic Representation"
                  }
                },
                "template": {
                  "data": {
                    "bar": [
                      {
                        "error_x": {
                          "color": "rgb(36,36,36)"
                        },
                        "error_y": {
                          "color": "rgb(36,36,36)"
                        },
                        "marker": {
                          "line": {
                            "color": "white",
                            "width": 0.5
                          },
                          "pattern": {
                            "fillmode": "overlay",
                            "size": 10,
                            "solidity": 0.2
                          }
                        },
                        "type": "bar"
                      }
                    ],
                    "barpolar": [
                      {
                        "marker": {
                          "line": {
                            "color": "white",
                            "width": 0.5
                          },
                          "pattern": {
                            "fillmode": "overlay",
                            "size": 10,
                            "solidity": 0.2
                          }
                        },
                        "type": "barpolar"
                      }
                    ],
                    "carpet": [
                      {
                        "aaxis": {
                          "endlinecolor": "rgb(36,36,36)",
                          "gridcolor": "white",
                          "linecolor": "white",
                          "minorgridcolor": "white",
                          "startlinecolor": "rgb(36,36,36)"
                        },
                        "baxis": {
                          "endlinecolor": "rgb(36,36,36)",
                          "gridcolor": "white",
                          "linecolor": "white",
                          "minorgridcolor": "white",
                          "startlinecolor": "rgb(36,36,36)"
                        },
                        "type": "carpet"
                      }
                    ],
                    "choropleth": [
                      {
                        "colorbar": {
                          "outlinewidth": 1,
                          "tickcolor": "rgb(36,36,36)",
                          "ticks": "outside"
                        },
                        "type": "choropleth"
                      }
                    ],
                    "contour": [
                      {
                        "colorbar": {
                          "outlinewidth": 1,
                          "tickcolor": "rgb(36,36,36)",
                          "ticks": "outside"
                        },
                        "colorscale": [
                          [
                            0,
                            "#440154"
                          ],
                          [
                            0.1111111111111111,
                            "#482878"
                          ],
                          [
                            0.2222222222222222,
                            "#3e4989"
                          ],
                          [
                            0.3333333333333333,
                            "#31688e"
                          ],
                          [
                            0.4444444444444444,
                            "#26828e"
                          ],
                          [
                            0.5555555555555556,
                            "#1f9e89"
                          ],
                          [
                            0.6666666666666666,
                            "#35b779"
                          ],
                          [
                            0.7777777777777778,
                            "#6ece58"
                          ],
                          [
                            0.8888888888888888,
                            "#b5de2b"
                          ],
                          [
                            1,
                            "#fde725"
                          ]
                        ],
                        "type": "contour"
                      }
                    ],
                    "contourcarpet": [
                      {
                        "colorbar": {
                          "outlinewidth": 1,
                          "tickcolor": "rgb(36,36,36)",
                          "ticks": "outside"
                        },
                        "type": "contourcarpet"
                      }
                    ],
                    "heatmap": [
                      {
                        "colorbar": {
                          "outlinewidth": 1,
                          "tickcolor": "rgb(36,36,36)",
                          "ticks": "outside"
                        },
                        "colorscale": [
                          [
                            0,
                            "#440154"
                          ],
                          [
                            0.1111111111111111,
                            "#482878"
                          ],
                          [
                            0.2222222222222222,
                            "#3e4989"
                          ],
                          [
                            0.3333333333333333,
                            "#31688e"
                          ],
                          [
                            0.4444444444444444,
                            "#26828e"
                          ],
                          [
                            0.5555555555555556,
                            "#1f9e89"
                          ],
                          [
                            0.6666666666666666,
                            "#35b779"
                          ],
                          [
                            0.7777777777777778,
                            "#6ece58"
                          ],
                          [
                            0.8888888888888888,
                            "#b5de2b"
                          ],
                          [
                            1,
                            "#fde725"
                          ]
                        ],
                        "type": "heatmap"
                      }
                    ],
                    "histogram": [
                      {
                        "marker": {
                          "line": {
                            "color": "white",
                            "width": 0.6
                          }
                        },
                        "type": "histogram"
                      }
                    ],
                    "histogram2d": [
                      {
                        "colorbar": {
                          "outlinewidth": 1,
                          "tickcolor": "rgb(36,36,36)",
                          "ticks": "outside"
                        },
                        "colorscale": [
                          [
                            0,
                            "#440154"
                          ],
                          [
                            0.1111111111111111,
                            "#482878"
                          ],
                          [
                            0.2222222222222222,
                            "#3e4989"
                          ],
                          [
                            0.3333333333333333,
                            "#31688e"
                          ],
                          [
                            0.4444444444444444,
                            "#26828e"
                          ],
                          [
                            0.5555555555555556,
                            "#1f9e89"
                          ],
                          [
                            0.6666666666666666,
                            "#35b779"
                          ],
                          [
                            0.7777777777777778,
                            "#6ece58"
                          ],
                          [
                            0.8888888888888888,
                            "#b5de2b"
                          ],
                          [
                            1,
                            "#fde725"
                          ]
                        ],
                        "type": "histogram2d"
                      }
                    ],
                    "histogram2dcontour": [
                      {
                        "colorbar": {
                          "outlinewidth": 1,
                          "tickcolor": "rgb(36,36,36)",
                          "ticks": "outside"
                        },
                        "colorscale": [
                          [
                            0,
                            "#440154"
                          ],
                          [
                            0.1111111111111111,
                            "#482878"
                          ],
                          [
                            0.2222222222222222,
                            "#3e4989"
                          ],
                          [
                            0.3333333333333333,
                            "#31688e"
                          ],
                          [
                            0.4444444444444444,
                            "#26828e"
                          ],
                          [
                            0.5555555555555556,
                            "#1f9e89"
                          ],
                          [
                            0.6666666666666666,
                            "#35b779"
                          ],
                          [
                            0.7777777777777778,
                            "#6ece58"
                          ],
                          [
                            0.8888888888888888,
                            "#b5de2b"
                          ],
                          [
                            1,
                            "#fde725"
                          ]
                        ],
                        "type": "histogram2dcontour"
                      }
                    ],
                    "mesh3d": [
                      {
                        "colorbar": {
                          "outlinewidth": 1,
                          "tickcolor": "rgb(36,36,36)",
                          "ticks": "outside"
                        },
                        "type": "mesh3d"
                      }
                    ],
                    "parcoords": [
                      {
                        "line": {
                          "colorbar": {
                            "outlinewidth": 1,
                            "tickcolor": "rgb(36,36,36)",
                            "ticks": "outside"
                          }
                        },
                        "type": "parcoords"
                      }
                    ],
                    "pie": [
                      {
                        "automargin": true,
                        "type": "pie"
                      }
                    ],
                    "scatter": [
                      {
                        "fillpattern": {
                          "fillmode": "overlay",
                          "size": 10,
                          "solidity": 0.2
                        },
                        "type": "scatter"
                      }
                    ],
                    "scatter3d": [
                      {
                        "line": {
                          "colorbar": {
                            "outlinewidth": 1,
                            "tickcolor": "rgb(36,36,36)",
                            "ticks": "outside"
                          }
                        },
                        "marker": {
                          "colorbar": {
                            "outlinewidth": 1,
                            "tickcolor": "rgb(36,36,36)",
                            "ticks": "outside"
                          }
                        },
                        "type": "scatter3d"
                      }
                    ],
                    "scattercarpet": [
                      {
                        "marker": {
                          "colorbar": {
                            "outlinewidth": 1,
                            "tickcolor": "rgb(36,36,36)",
                            "ticks": "outside"
                          }
                        },
                        "type": "scattercarpet"
                      }
                    ],
                    "scattergeo": [
                      {
                        "marker": {
                          "colorbar": {
                            "outlinewidth": 1,
                            "tickcolor": "rgb(36,36,36)",
                            "ticks": "outside"
                          }
                        },
                        "type": "scattergeo"
                      }
                    ],
                    "scattergl": [
                      {
                        "marker": {
                          "colorbar": {
                            "outlinewidth": 1,
                            "tickcolor": "rgb(36,36,36)",
                            "ticks": "outside"
                          }
                        },
                        "type": "scattergl"
                      }
                    ],
                    "scattermap": [
                      {
                        "marker": {
                          "colorbar": {
                            "outlinewidth": 1,
                            "tickcolor": "rgb(36,36,36)",
                            "ticks": "outside"
                          }
                        },
                        "type": "scattermap"
                      }
                    ],
                    "scattermapbox": [
                      {
                        "marker": {
                          "colorbar": {
                            "outlinewidth": 1,
                            "tickcolor": "rgb(36,36,36)",
                            "ticks": "outside"
                          }
                        },
                        "type": "scattermapbox"
                      }
                    ],
                    "scatterpolar": [
                      {
                        "marker": {
                          "colorbar": {
                            "outlinewidth": 1,
                            "tickcolor": "rgb(36,36,36)",
                            "ticks": "outside"
                          }
                        },
                        "type": "scatterpolar"
                      }
                    ],
                    "scatterpolargl": [
                      {
                        "marker": {
                          "colorbar": {
                            "outlinewidth": 1,
                            "tickcolor": "rgb(36,36,36)",
                            "ticks": "outside"
                          }
                        },
                        "type": "scatterpolargl"
                      }
                    ],
                    "scatterternary": [
                      {
                        "marker": {
                          "colorbar": {
                            "outlinewidth": 1,
                            "tickcolor": "rgb(36,36,36)",
                            "ticks": "outside"
                          }
                        },
                        "type": "scatterternary"
                      }
                    ],
                    "surface": [
                      {
                        "colorbar": {
                          "outlinewidth": 1,
                          "tickcolor": "rgb(36,36,36)",
                          "ticks": "outside"
                        },
                        "colorscale": [
                          [
                            0,
                            "#440154"
                          ],
                          [
                            0.1111111111111111,
                            "#482878"
                          ],
                          [
                            0.2222222222222222,
                            "#3e4989"
                          ],
                          [
                            0.3333333333333333,
                            "#31688e"
                          ],
                          [
                            0.4444444444444444,
                            "#26828e"
                          ],
                          [
                            0.5555555555555556,
                            "#1f9e89"
                          ],
                          [
                            0.6666666666666666,
                            "#35b779"
                          ],
                          [
                            0.7777777777777778,
                            "#6ece58"
                          ],
                          [
                            0.8888888888888888,
                            "#b5de2b"
                          ],
                          [
                            1,
                            "#fde725"
                          ]
                        ],
                        "type": "surface"
                      }
                    ],
                    "table": [
                      {
                        "cells": {
                          "fill": {
                            "color": "rgb(237,237,237)"
                          },
                          "line": {
                            "color": "white"
                          }
                        },
                        "header": {
                          "fill": {
                            "color": "rgb(217,217,217)"
                          },
                          "line": {
                            "color": "white"
                          }
                        },
                        "type": "table"
                      }
                    ]
                  },
                  "layout": {
                    "annotationdefaults": {
                      "arrowhead": 0,
                      "arrowwidth": 1
                    },
                    "autotypenumbers": "strict",
                    "coloraxis": {
                      "colorbar": {
                        "outlinewidth": 1,
                        "tickcolor": "rgb(36,36,36)",
                        "ticks": "outside"
                      }
                    },
                    "colorscale": {
                      "diverging": [
                        [
                          0,
                          "rgb(103,0,31)"
                        ],
                        [
                          0.1,
                          "rgb(178,24,43)"
                        ],
                        [
                          0.2,
                          "rgb(214,96,77)"
                        ],
                        [
                          0.3,
                          "rgb(244,165,130)"
                        ],
                        [
                          0.4,
                          "rgb(253,219,199)"
                        ],
                        [
                          0.5,
                          "rgb(247,247,247)"
                        ],
                        [
                          0.6,
                          "rgb(209,229,240)"
                        ],
                        [
                          0.7,
                          "rgb(146,197,222)"
                        ],
                        [
                          0.8,
                          "rgb(67,147,195)"
                        ],
                        [
                          0.9,
                          "rgb(33,102,172)"
                        ],
                        [
                          1,
                          "rgb(5,48,97)"
                        ]
                      ],
                      "sequential": [
                        [
                          0,
                          "#440154"
                        ],
                        [
                          0.1111111111111111,
                          "#482878"
                        ],
                        [
                          0.2222222222222222,
                          "#3e4989"
                        ],
                        [
                          0.3333333333333333,
                          "#31688e"
                        ],
                        [
                          0.4444444444444444,
                          "#26828e"
                        ],
                        [
                          0.5555555555555556,
                          "#1f9e89"
                        ],
                        [
                          0.6666666666666666,
                          "#35b779"
                        ],
                        [
                          0.7777777777777778,
                          "#6ece58"
                        ],
                        [
                          0.8888888888888888,
                          "#b5de2b"
                        ],
                        [
                          1,
                          "#fde725"
                        ]
                      ],
                      "sequentialminus": [
                        [
                          0,
                          "#440154"
                        ],
                        [
                          0.1111111111111111,
                          "#482878"
                        ],
                        [
                          0.2222222222222222,
                          "#3e4989"
                        ],
                        [
                          0.3333333333333333,
                          "#31688e"
                        ],
                        [
                          0.4444444444444444,
                          "#26828e"
                        ],
                        [
                          0.5555555555555556,
                          "#1f9e89"
                        ],
                        [
                          0.6666666666666666,
                          "#35b779"
                        ],
                        [
                          0.7777777777777778,
                          "#6ece58"
                        ],
                        [
                          0.8888888888888888,
                          "#b5de2b"
                        ],
                        [
                          1,
                          "#fde725"
                        ]
                      ]
                    },
                    "colorway": [
                      "#1F77B4",
                      "#FF7F0E",
                      "#2CA02C",
                      "#D62728",
                      "#9467BD",
                      "#8C564B",
                      "#E377C2",
                      "#7F7F7F",
                      "#BCBD22",
                      "#17BECF"
                    ],
                    "font": {
                      "color": "rgb(36,36,36)"
                    },
                    "geo": {
                      "bgcolor": "white",
                      "lakecolor": "white",
                      "landcolor": "white",
                      "showlakes": true,
                      "showland": true,
                      "subunitcolor": "white"
                    },
                    "hoverlabel": {
                      "align": "left"
                    },
                    "hovermode": "closest",
                    "mapbox": {
                      "style": "light"
                    },
                    "paper_bgcolor": "white",
                    "plot_bgcolor": "white",
                    "polar": {
                      "angularaxis": {
                        "gridcolor": "rgb(232,232,232)",
                        "linecolor": "rgb(36,36,36)",
                        "showgrid": false,
                        "showline": true,
                        "ticks": "outside"
                      },
                      "bgcolor": "white",
                      "radialaxis": {
                        "gridcolor": "rgb(232,232,232)",
                        "linecolor": "rgb(36,36,36)",
                        "showgrid": false,
                        "showline": true,
                        "ticks": "outside"
                      }
                    },
                    "scene": {
                      "xaxis": {
                        "backgroundcolor": "white",
                        "gridcolor": "rgb(232,232,232)",
                        "gridwidth": 2,
                        "linecolor": "rgb(36,36,36)",
                        "showbackground": true,
                        "showgrid": false,
                        "showline": true,
                        "ticks": "outside",
                        "zeroline": false,
                        "zerolinecolor": "rgb(36,36,36)"
                      },
                      "yaxis": {
                        "backgroundcolor": "white",
                        "gridcolor": "rgb(232,232,232)",
                        "gridwidth": 2,
                        "linecolor": "rgb(36,36,36)",
                        "showbackground": true,
                        "showgrid": false,
                        "showline": true,
                        "ticks": "outside",
                        "zeroline": false,
                        "zerolinecolor": "rgb(36,36,36)"
                      },
                      "zaxis": {
                        "backgroundcolor": "white",
                        "gridcolor": "rgb(232,232,232)",
                        "gridwidth": 2,
                        "linecolor": "rgb(36,36,36)",
                        "showbackground": true,
                        "showgrid": false,
                        "showline": true,
                        "ticks": "outside",
                        "zeroline": false,
                        "zerolinecolor": "rgb(36,36,36)"
                      }
                    },
                    "shapedefaults": {
                      "fillcolor": "black",
                      "line": {
                        "width": 0
                      },
                      "opacity": 0.3
                    },
                    "ternary": {
                      "aaxis": {
                        "gridcolor": "rgb(232,232,232)",
                        "linecolor": "rgb(36,36,36)",
                        "showgrid": false,
                        "showline": true,
                        "ticks": "outside"
                      },
                      "baxis": {
                        "gridcolor": "rgb(232,232,232)",
                        "linecolor": "rgb(36,36,36)",
                        "showgrid": false,
                        "showline": true,
                        "ticks": "outside"
                      },
                      "bgcolor": "white",
                      "caxis": {
                        "gridcolor": "rgb(232,232,232)",
                        "linecolor": "rgb(36,36,36)",
                        "showgrid": false,
                        "showline": true,
                        "ticks": "outside"
                      }
                    },
                    "title": {
                      "x": 0.05
                    },
                    "xaxis": {
                      "automargin": true,
                      "gridcolor": "rgb(232,232,232)",
                      "linecolor": "rgb(36,36,36)",
                      "showgrid": false,
                      "showline": true,
                      "ticks": "outside",
                      "title": {
                        "standoff": 15
                      },
                      "zeroline": false,
                      "zerolinecolor": "rgb(36,36,36)"
                    },
                    "yaxis": {
                      "automargin": true,
                      "gridcolor": "rgb(232,232,232)",
                      "linecolor": "rgb(36,36,36)",
                      "showgrid": false,
                      "showline": true,
                      "ticks": "outside",
                      "title": {
                        "standoff": 15
                      },
                      "zeroline": false,
                      "zerolinecolor": "rgb(36,36,36)"
                    }
                  }
                },
                "title": {
                  "font": {
                    "color": "Black",
                    "size": 22
                  },
                  "text": "<b>Topics over Time</b>",
                  "x": 0.4,
                  "xanchor": "center",
                  "y": 0.95,
                  "yanchor": "top"
                },
                "width": 1250,
                "xaxis": {
                  "showgrid": true
                },
                "yaxis": {
                  "showgrid": true,
                  "title": {
                    "text": "Frequency"
                  }
                }
              }
            }
          },
          "metadata": {},
          "output_type": "display_data"
        }
      ],
      "source": [
        "# Prepare inputs\n",
        "documents = df_slice[\"text\"].tolist()\n",
        "timestamps = df_slice[\"published_date\"].tolist()\n",
        "\n",
        "# Get topics over time\n",
        "topics_over_time = ft_model.topics_over_time(\n",
        "    docs=documents,\n",
        "    topics=topics1,\n",
        "    timestamps=timestamps,\n",
        "    nr_bins=17,  # number of months (68) / 4\n",
        "    evolution_tuning=True,\n",
        "    global_tuning=True\n",
        ")\n",
        "\n",
        "# Visualize\n",
        "ft_model.visualize_topics_over_time(topics_over_time)\n",
        "# !!! The plot is interactive. Click legend labels to hide large topics (skewing resutls) to better view smaller ones. !!!"
      ]
    },
    {
      "cell_type": "code",
      "execution_count": 194,
      "metadata": {},
      "outputs": [
        {
          "name": "stderr",
          "output_type": "stream",
          "text": [
            "5it [00:00, 34.34it/s]\n"
          ]
        },
        {
          "data": {
            "application/vnd.plotly.v1+json": {
              "config": {
                "plotlyServerURL": "https://plot.ly"
              },
              "data": [
                {
                  "hoverinfo": "text",
                  "hovertext": [
                    "<b>Topic 0</b><br>Words: service, business, medical, outlet, class",
                    "<b>Topic 0</b><br>Words: service, class, crew, staff, business",
                    "<b>Topic 0</b><br>Words: service, degraded, covid, seat, pre covid",
                    "<b>Topic 0</b><br>Words: ms, service, crew, good, pandemic"
                  ],
                  "marker": {
                    "color": "#E69F00"
                  },
                  "name": "0_service_seat_class_business",
                  "orientation": "h",
                  "type": "bar",
                  "visible": true,
                  "x": {
                    "bdata": "CgcGCQ==",
                    "dtype": "i1"
                  },
                  "y": {
                    "bdata": "AQIDBQ==",
                    "dtype": "i1"
                  }
                },
                {
                  "hoverinfo": "text",
                  "hovertext": [
                    "<b>Topic 1</b><br>Words: 22, service, crew, krisflyer, meal",
                    "<b>Topic 1</b><br>Words: economy, used, best, time, service",
                    "<b>Topic 1</b><br>Words: crew, meal, service, food, really",
                    "<b>Topic 1</b><br>Words: especially, nice, especially long, service efficient, efficient food",
                    "<b>Topic 1</b><br>Words: fully, crew, meal, food delicious, service"
                  ],
                  "marker": {
                    "color": "#56B4E9"
                  },
                  "name": "1_crew_service_meal_food",
                  "orientation": "h",
                  "type": "bar",
                  "visible": "legendonly",
                  "x": {
                    "bdata": "DQUIAgY=",
                    "dtype": "i1"
                  },
                  "y": {
                    "bdata": "AQIDBAU=",
                    "dtype": "i1"
                  }
                },
                {
                  "hoverinfo": "text",
                  "hovertext": [
                    "<b>Topic 2</b><br>Words: luggage, lost, baggage, bag, days",
                    "<b>Topic 2</b><br>Words: luggage, baggage, bag, delayed, lost",
                    "<b>Topic 2</b><br>Words: loose, think, money lot, 25kg, 39",
                    "<b>Topic 2</b><br>Words: luggage, ground crew, ground, ask ground, guided",
                    "<b>Topic 2</b><br>Words: lost, day, airport, day went, days ask"
                  ],
                  "marker": {
                    "color": "#009E73"
                  },
                  "name": "2_luggage_baggage_lost_bag",
                  "orientation": "h",
                  "type": "bar",
                  "visible": "legendonly",
                  "x": {
                    "bdata": "NAgBAQE=",
                    "dtype": "i1"
                  },
                  "y": {
                    "bdata": "AQIDBAU=",
                    "dtype": "i1"
                  }
                },
                {
                  "hoverinfo": "text",
                  "hovertext": [
                    "<b>Topic 3</b><br>Words: food, good, service, seat, crew",
                    "<b>Topic 3</b><br>Words: food, cold, good, service, served",
                    "<b>Topic 3</b><br>Words: food, poor, good, service, seat",
                    "<b>Topic 3</b><br>Words: good, food, crew, staff, plane",
                    "<b>Topic 3</b><br>Words: good, food, great, crew, service"
                  ],
                  "marker": {
                    "color": "#F0E442"
                  },
                  "name": "3_food_good_service_crew",
                  "orientation": "h",
                  "type": "bar",
                  "visible": "legendonly",
                  "x": {
                    "bdata": "GxERGTQ=",
                    "dtype": "i1"
                  },
                  "y": {
                    "bdata": "AQIDBAU=",
                    "dtype": "i1"
                  }
                },
                {
                  "hoverinfo": "text",
                  "hovertext": [
                    "<b>Topic 4</b><br>Words: ticket, customer, refund, hours, service",
                    "<b>Topic 4</b><br>Words: hours, customer, service, time, change",
                    "<b>Topic 4</b><br>Words: melbourne, day, booking, manila, hours",
                    "<b>Topic 4</b><br>Words: journey, tickets, family, extra, money lot",
                    "<b>Topic 4</b><br>Words: refund, time, ticket, day, service"
                  ],
                  "marker": {
                    "color": "#D55E00"
                  },
                  "name": "4_customer_ticket_hours_refund",
                  "orientation": "h",
                  "type": "bar",
                  "visible": "legendonly",
                  "x": {
                    "bdata": "4wATAAcAAQAOAA==",
                    "dtype": "i2"
                  },
                  "y": {
                    "bdata": "AQIDBAU=",
                    "dtype": "i1"
                  }
                },
                {
                  "hoverinfo": "text",
                  "hovertext": [
                    "<b>Topic 5</b><br>Words: economy, premium, premium economy, seat, finnair",
                    "<b>Topic 5</b><br>Words: economy, premium, premium economy, better, drink",
                    "<b>Topic 5</b><br>Words: economy, premium, premium economy, econ, better",
                    "<b>Topic 5</b><br>Words: economy, premium, premium economy, section, toilets",
                    "<b>Topic 5</b><br>Words: economy, premium, premium economy, seats, worth"
                  ],
                  "marker": {
                    "color": "#0072B2"
                  },
                  "name": "5_economy_premium_premium economy_seat",
                  "orientation": "h",
                  "type": "bar",
                  "visible": "legendonly",
                  "x": {
                    "bdata": "CA8HBAI=",
                    "dtype": "i1"
                  },
                  "y": {
                    "bdata": "AQIDBAU=",
                    "dtype": "i1"
                  }
                },
                {
                  "hoverinfo": "text",
                  "hovertext": [
                    "<b>Topic 6</b><br>Words: class, business, business class, seat, seats",
                    "<b>Topic 6</b><br>Words: seat, window, windows, wing, seats",
                    "<b>Topic 6</b><br>Words: class, business class, business, seat, seats",
                    "<b>Topic 6</b><br>Words: seat, seats, staff, class, feet",
                    "<b>Topic 6</b><br>Words: class, business class, business, seat, experience"
                  ],
                  "marker": {
                    "color": "#CC79A7"
                  },
                  "name": "6_class_seat_business_business class",
                  "orientation": "h",
                  "type": "bar",
                  "visible": "legendonly",
                  "x": {
                    "bdata": "DwUKBgU=",
                    "dtype": "i1"
                  },
                  "y": {
                    "bdata": "AQIDBAU=",
                    "dtype": "i1"
                  }
                },
                {
                  "hoverinfo": "text",
                  "hovertext": [
                    "<b>Topic 7</b><br>Words: food, service, crew, time, good",
                    "<b>Topic 7</b><br>Words: food, service, strike, economy, time",
                    "<b>Topic 7</b><br>Words: food, service, good, economy, class",
                    "<b>Topic 7</b><br>Words: food, good, service, time, great",
                    "<b>Topic 7</b><br>Words: food, service, good, best, great"
                  ],
                  "marker": {
                    "color": "#E69F00"
                  },
                  "name": "7_food_service_good_time",
                  "orientation": "h",
                  "type": "bar",
                  "visible": "legendonly",
                  "x": {
                    "bdata": "KRUjFGk=",
                    "dtype": "i1"
                  },
                  "y": {
                    "bdata": "AQIDBAU=",
                    "dtype": "i1"
                  }
                }
              ],
              "layout": {
                "height": 900,
                "hoverlabel": {
                  "bgcolor": "white",
                  "font": {
                    "family": "Rockwell",
                    "size": 16
                  }
                },
                "legend": {
                  "title": {
                    "text": "<b>Global Topic Representation"
                  }
                },
                "template": {
                  "data": {
                    "bar": [
                      {
                        "error_x": {
                          "color": "rgb(36,36,36)"
                        },
                        "error_y": {
                          "color": "rgb(36,36,36)"
                        },
                        "marker": {
                          "line": {
                            "color": "white",
                            "width": 0.5
                          },
                          "pattern": {
                            "fillmode": "overlay",
                            "size": 10,
                            "solidity": 0.2
                          }
                        },
                        "type": "bar"
                      }
                    ],
                    "barpolar": [
                      {
                        "marker": {
                          "line": {
                            "color": "white",
                            "width": 0.5
                          },
                          "pattern": {
                            "fillmode": "overlay",
                            "size": 10,
                            "solidity": 0.2
                          }
                        },
                        "type": "barpolar"
                      }
                    ],
                    "carpet": [
                      {
                        "aaxis": {
                          "endlinecolor": "rgb(36,36,36)",
                          "gridcolor": "white",
                          "linecolor": "white",
                          "minorgridcolor": "white",
                          "startlinecolor": "rgb(36,36,36)"
                        },
                        "baxis": {
                          "endlinecolor": "rgb(36,36,36)",
                          "gridcolor": "white",
                          "linecolor": "white",
                          "minorgridcolor": "white",
                          "startlinecolor": "rgb(36,36,36)"
                        },
                        "type": "carpet"
                      }
                    ],
                    "choropleth": [
                      {
                        "colorbar": {
                          "outlinewidth": 1,
                          "tickcolor": "rgb(36,36,36)",
                          "ticks": "outside"
                        },
                        "type": "choropleth"
                      }
                    ],
                    "contour": [
                      {
                        "colorbar": {
                          "outlinewidth": 1,
                          "tickcolor": "rgb(36,36,36)",
                          "ticks": "outside"
                        },
                        "colorscale": [
                          [
                            0,
                            "#440154"
                          ],
                          [
                            0.1111111111111111,
                            "#482878"
                          ],
                          [
                            0.2222222222222222,
                            "#3e4989"
                          ],
                          [
                            0.3333333333333333,
                            "#31688e"
                          ],
                          [
                            0.4444444444444444,
                            "#26828e"
                          ],
                          [
                            0.5555555555555556,
                            "#1f9e89"
                          ],
                          [
                            0.6666666666666666,
                            "#35b779"
                          ],
                          [
                            0.7777777777777778,
                            "#6ece58"
                          ],
                          [
                            0.8888888888888888,
                            "#b5de2b"
                          ],
                          [
                            1,
                            "#fde725"
                          ]
                        ],
                        "type": "contour"
                      }
                    ],
                    "contourcarpet": [
                      {
                        "colorbar": {
                          "outlinewidth": 1,
                          "tickcolor": "rgb(36,36,36)",
                          "ticks": "outside"
                        },
                        "type": "contourcarpet"
                      }
                    ],
                    "heatmap": [
                      {
                        "colorbar": {
                          "outlinewidth": 1,
                          "tickcolor": "rgb(36,36,36)",
                          "ticks": "outside"
                        },
                        "colorscale": [
                          [
                            0,
                            "#440154"
                          ],
                          [
                            0.1111111111111111,
                            "#482878"
                          ],
                          [
                            0.2222222222222222,
                            "#3e4989"
                          ],
                          [
                            0.3333333333333333,
                            "#31688e"
                          ],
                          [
                            0.4444444444444444,
                            "#26828e"
                          ],
                          [
                            0.5555555555555556,
                            "#1f9e89"
                          ],
                          [
                            0.6666666666666666,
                            "#35b779"
                          ],
                          [
                            0.7777777777777778,
                            "#6ece58"
                          ],
                          [
                            0.8888888888888888,
                            "#b5de2b"
                          ],
                          [
                            1,
                            "#fde725"
                          ]
                        ],
                        "type": "heatmap"
                      }
                    ],
                    "histogram": [
                      {
                        "marker": {
                          "line": {
                            "color": "white",
                            "width": 0.6
                          }
                        },
                        "type": "histogram"
                      }
                    ],
                    "histogram2d": [
                      {
                        "colorbar": {
                          "outlinewidth": 1,
                          "tickcolor": "rgb(36,36,36)",
                          "ticks": "outside"
                        },
                        "colorscale": [
                          [
                            0,
                            "#440154"
                          ],
                          [
                            0.1111111111111111,
                            "#482878"
                          ],
                          [
                            0.2222222222222222,
                            "#3e4989"
                          ],
                          [
                            0.3333333333333333,
                            "#31688e"
                          ],
                          [
                            0.4444444444444444,
                            "#26828e"
                          ],
                          [
                            0.5555555555555556,
                            "#1f9e89"
                          ],
                          [
                            0.6666666666666666,
                            "#35b779"
                          ],
                          [
                            0.7777777777777778,
                            "#6ece58"
                          ],
                          [
                            0.8888888888888888,
                            "#b5de2b"
                          ],
                          [
                            1,
                            "#fde725"
                          ]
                        ],
                        "type": "histogram2d"
                      }
                    ],
                    "histogram2dcontour": [
                      {
                        "colorbar": {
                          "outlinewidth": 1,
                          "tickcolor": "rgb(36,36,36)",
                          "ticks": "outside"
                        },
                        "colorscale": [
                          [
                            0,
                            "#440154"
                          ],
                          [
                            0.1111111111111111,
                            "#482878"
                          ],
                          [
                            0.2222222222222222,
                            "#3e4989"
                          ],
                          [
                            0.3333333333333333,
                            "#31688e"
                          ],
                          [
                            0.4444444444444444,
                            "#26828e"
                          ],
                          [
                            0.5555555555555556,
                            "#1f9e89"
                          ],
                          [
                            0.6666666666666666,
                            "#35b779"
                          ],
                          [
                            0.7777777777777778,
                            "#6ece58"
                          ],
                          [
                            0.8888888888888888,
                            "#b5de2b"
                          ],
                          [
                            1,
                            "#fde725"
                          ]
                        ],
                        "type": "histogram2dcontour"
                      }
                    ],
                    "mesh3d": [
                      {
                        "colorbar": {
                          "outlinewidth": 1,
                          "tickcolor": "rgb(36,36,36)",
                          "ticks": "outside"
                        },
                        "type": "mesh3d"
                      }
                    ],
                    "parcoords": [
                      {
                        "line": {
                          "colorbar": {
                            "outlinewidth": 1,
                            "tickcolor": "rgb(36,36,36)",
                            "ticks": "outside"
                          }
                        },
                        "type": "parcoords"
                      }
                    ],
                    "pie": [
                      {
                        "automargin": true,
                        "type": "pie"
                      }
                    ],
                    "scatter": [
                      {
                        "fillpattern": {
                          "fillmode": "overlay",
                          "size": 10,
                          "solidity": 0.2
                        },
                        "type": "scatter"
                      }
                    ],
                    "scatter3d": [
                      {
                        "line": {
                          "colorbar": {
                            "outlinewidth": 1,
                            "tickcolor": "rgb(36,36,36)",
                            "ticks": "outside"
                          }
                        },
                        "marker": {
                          "colorbar": {
                            "outlinewidth": 1,
                            "tickcolor": "rgb(36,36,36)",
                            "ticks": "outside"
                          }
                        },
                        "type": "scatter3d"
                      }
                    ],
                    "scattercarpet": [
                      {
                        "marker": {
                          "colorbar": {
                            "outlinewidth": 1,
                            "tickcolor": "rgb(36,36,36)",
                            "ticks": "outside"
                          }
                        },
                        "type": "scattercarpet"
                      }
                    ],
                    "scattergeo": [
                      {
                        "marker": {
                          "colorbar": {
                            "outlinewidth": 1,
                            "tickcolor": "rgb(36,36,36)",
                            "ticks": "outside"
                          }
                        },
                        "type": "scattergeo"
                      }
                    ],
                    "scattergl": [
                      {
                        "marker": {
                          "colorbar": {
                            "outlinewidth": 1,
                            "tickcolor": "rgb(36,36,36)",
                            "ticks": "outside"
                          }
                        },
                        "type": "scattergl"
                      }
                    ],
                    "scattermap": [
                      {
                        "marker": {
                          "colorbar": {
                            "outlinewidth": 1,
                            "tickcolor": "rgb(36,36,36)",
                            "ticks": "outside"
                          }
                        },
                        "type": "scattermap"
                      }
                    ],
                    "scattermapbox": [
                      {
                        "marker": {
                          "colorbar": {
                            "outlinewidth": 1,
                            "tickcolor": "rgb(36,36,36)",
                            "ticks": "outside"
                          }
                        },
                        "type": "scattermapbox"
                      }
                    ],
                    "scatterpolar": [
                      {
                        "marker": {
                          "colorbar": {
                            "outlinewidth": 1,
                            "tickcolor": "rgb(36,36,36)",
                            "ticks": "outside"
                          }
                        },
                        "type": "scatterpolar"
                      }
                    ],
                    "scatterpolargl": [
                      {
                        "marker": {
                          "colorbar": {
                            "outlinewidth": 1,
                            "tickcolor": "rgb(36,36,36)",
                            "ticks": "outside"
                          }
                        },
                        "type": "scatterpolargl"
                      }
                    ],
                    "scatterternary": [
                      {
                        "marker": {
                          "colorbar": {
                            "outlinewidth": 1,
                            "tickcolor": "rgb(36,36,36)",
                            "ticks": "outside"
                          }
                        },
                        "type": "scatterternary"
                      }
                    ],
                    "surface": [
                      {
                        "colorbar": {
                          "outlinewidth": 1,
                          "tickcolor": "rgb(36,36,36)",
                          "ticks": "outside"
                        },
                        "colorscale": [
                          [
                            0,
                            "#440154"
                          ],
                          [
                            0.1111111111111111,
                            "#482878"
                          ],
                          [
                            0.2222222222222222,
                            "#3e4989"
                          ],
                          [
                            0.3333333333333333,
                            "#31688e"
                          ],
                          [
                            0.4444444444444444,
                            "#26828e"
                          ],
                          [
                            0.5555555555555556,
                            "#1f9e89"
                          ],
                          [
                            0.6666666666666666,
                            "#35b779"
                          ],
                          [
                            0.7777777777777778,
                            "#6ece58"
                          ],
                          [
                            0.8888888888888888,
                            "#b5de2b"
                          ],
                          [
                            1,
                            "#fde725"
                          ]
                        ],
                        "type": "surface"
                      }
                    ],
                    "table": [
                      {
                        "cells": {
                          "fill": {
                            "color": "rgb(237,237,237)"
                          },
                          "line": {
                            "color": "white"
                          }
                        },
                        "header": {
                          "fill": {
                            "color": "rgb(217,217,217)"
                          },
                          "line": {
                            "color": "white"
                          }
                        },
                        "type": "table"
                      }
                    ]
                  },
                  "layout": {
                    "annotationdefaults": {
                      "arrowhead": 0,
                      "arrowwidth": 1
                    },
                    "autotypenumbers": "strict",
                    "coloraxis": {
                      "colorbar": {
                        "outlinewidth": 1,
                        "tickcolor": "rgb(36,36,36)",
                        "ticks": "outside"
                      }
                    },
                    "colorscale": {
                      "diverging": [
                        [
                          0,
                          "rgb(103,0,31)"
                        ],
                        [
                          0.1,
                          "rgb(178,24,43)"
                        ],
                        [
                          0.2,
                          "rgb(214,96,77)"
                        ],
                        [
                          0.3,
                          "rgb(244,165,130)"
                        ],
                        [
                          0.4,
                          "rgb(253,219,199)"
                        ],
                        [
                          0.5,
                          "rgb(247,247,247)"
                        ],
                        [
                          0.6,
                          "rgb(209,229,240)"
                        ],
                        [
                          0.7,
                          "rgb(146,197,222)"
                        ],
                        [
                          0.8,
                          "rgb(67,147,195)"
                        ],
                        [
                          0.9,
                          "rgb(33,102,172)"
                        ],
                        [
                          1,
                          "rgb(5,48,97)"
                        ]
                      ],
                      "sequential": [
                        [
                          0,
                          "#440154"
                        ],
                        [
                          0.1111111111111111,
                          "#482878"
                        ],
                        [
                          0.2222222222222222,
                          "#3e4989"
                        ],
                        [
                          0.3333333333333333,
                          "#31688e"
                        ],
                        [
                          0.4444444444444444,
                          "#26828e"
                        ],
                        [
                          0.5555555555555556,
                          "#1f9e89"
                        ],
                        [
                          0.6666666666666666,
                          "#35b779"
                        ],
                        [
                          0.7777777777777778,
                          "#6ece58"
                        ],
                        [
                          0.8888888888888888,
                          "#b5de2b"
                        ],
                        [
                          1,
                          "#fde725"
                        ]
                      ],
                      "sequentialminus": [
                        [
                          0,
                          "#440154"
                        ],
                        [
                          0.1111111111111111,
                          "#482878"
                        ],
                        [
                          0.2222222222222222,
                          "#3e4989"
                        ],
                        [
                          0.3333333333333333,
                          "#31688e"
                        ],
                        [
                          0.4444444444444444,
                          "#26828e"
                        ],
                        [
                          0.5555555555555556,
                          "#1f9e89"
                        ],
                        [
                          0.6666666666666666,
                          "#35b779"
                        ],
                        [
                          0.7777777777777778,
                          "#6ece58"
                        ],
                        [
                          0.8888888888888888,
                          "#b5de2b"
                        ],
                        [
                          1,
                          "#fde725"
                        ]
                      ]
                    },
                    "colorway": [
                      "#1F77B4",
                      "#FF7F0E",
                      "#2CA02C",
                      "#D62728",
                      "#9467BD",
                      "#8C564B",
                      "#E377C2",
                      "#7F7F7F",
                      "#BCBD22",
                      "#17BECF"
                    ],
                    "font": {
                      "color": "rgb(36,36,36)"
                    },
                    "geo": {
                      "bgcolor": "white",
                      "lakecolor": "white",
                      "landcolor": "white",
                      "showlakes": true,
                      "showland": true,
                      "subunitcolor": "white"
                    },
                    "hoverlabel": {
                      "align": "left"
                    },
                    "hovermode": "closest",
                    "mapbox": {
                      "style": "light"
                    },
                    "paper_bgcolor": "white",
                    "plot_bgcolor": "white",
                    "polar": {
                      "angularaxis": {
                        "gridcolor": "rgb(232,232,232)",
                        "linecolor": "rgb(36,36,36)",
                        "showgrid": false,
                        "showline": true,
                        "ticks": "outside"
                      },
                      "bgcolor": "white",
                      "radialaxis": {
                        "gridcolor": "rgb(232,232,232)",
                        "linecolor": "rgb(36,36,36)",
                        "showgrid": false,
                        "showline": true,
                        "ticks": "outside"
                      }
                    },
                    "scene": {
                      "xaxis": {
                        "backgroundcolor": "white",
                        "gridcolor": "rgb(232,232,232)",
                        "gridwidth": 2,
                        "linecolor": "rgb(36,36,36)",
                        "showbackground": true,
                        "showgrid": false,
                        "showline": true,
                        "ticks": "outside",
                        "zeroline": false,
                        "zerolinecolor": "rgb(36,36,36)"
                      },
                      "yaxis": {
                        "backgroundcolor": "white",
                        "gridcolor": "rgb(232,232,232)",
                        "gridwidth": 2,
                        "linecolor": "rgb(36,36,36)",
                        "showbackground": true,
                        "showgrid": false,
                        "showline": true,
                        "ticks": "outside",
                        "zeroline": false,
                        "zerolinecolor": "rgb(36,36,36)"
                      },
                      "zaxis": {
                        "backgroundcolor": "white",
                        "gridcolor": "rgb(232,232,232)",
                        "gridwidth": 2,
                        "linecolor": "rgb(36,36,36)",
                        "showbackground": true,
                        "showgrid": false,
                        "showline": true,
                        "ticks": "outside",
                        "zeroline": false,
                        "zerolinecolor": "rgb(36,36,36)"
                      }
                    },
                    "shapedefaults": {
                      "fillcolor": "black",
                      "line": {
                        "width": 0
                      },
                      "opacity": 0.3
                    },
                    "ternary": {
                      "aaxis": {
                        "gridcolor": "rgb(232,232,232)",
                        "linecolor": "rgb(36,36,36)",
                        "showgrid": false,
                        "showline": true,
                        "ticks": "outside"
                      },
                      "baxis": {
                        "gridcolor": "rgb(232,232,232)",
                        "linecolor": "rgb(36,36,36)",
                        "showgrid": false,
                        "showline": true,
                        "ticks": "outside"
                      },
                      "bgcolor": "white",
                      "caxis": {
                        "gridcolor": "rgb(232,232,232)",
                        "linecolor": "rgb(36,36,36)",
                        "showgrid": false,
                        "showline": true,
                        "ticks": "outside"
                      }
                    },
                    "title": {
                      "x": 0.05
                    },
                    "xaxis": {
                      "automargin": true,
                      "gridcolor": "rgb(232,232,232)",
                      "linecolor": "rgb(36,36,36)",
                      "showgrid": false,
                      "showline": true,
                      "ticks": "outside",
                      "title": {
                        "standoff": 15
                      },
                      "zeroline": false,
                      "zerolinecolor": "rgb(36,36,36)"
                    },
                    "yaxis": {
                      "automargin": true,
                      "gridcolor": "rgb(232,232,232)",
                      "linecolor": "rgb(36,36,36)",
                      "showgrid": false,
                      "showline": true,
                      "ticks": "outside",
                      "title": {
                        "standoff": 15
                      },
                      "zeroline": false,
                      "zerolinecolor": "rgb(36,36,36)"
                    }
                  }
                },
                "title": {
                  "font": {
                    "color": "Black",
                    "size": 22
                  },
                  "text": "<b>Topics per Class</b>",
                  "x": 0.4,
                  "xanchor": "center",
                  "y": 0.95,
                  "yanchor": "top"
                },
                "width": 1250,
                "xaxis": {
                  "showgrid": true,
                  "title": {
                    "text": "Frequency"
                  }
                },
                "yaxis": {
                  "showgrid": true,
                  "title": {
                    "text": "Class"
                  }
                }
              }
            }
          },
          "metadata": {},
          "output_type": "display_data"
        }
      ],
      "source": [
        "# Prepare inputs\n",
        "documents = df_slice[\"text\"].tolist()\n",
        "class_labels = df_slice[\"rating\"].tolist()  # or a grouped rating column\n",
        "topic_assignments = topics  # from fit_transform()\n",
        "\n",
        "# Get topics per class\n",
        "topics_per_class = ft_model.topics_per_class(\n",
        "    docs=documents,\n",
        "    classes=class_labels\n",
        ")\n",
        "\n",
        "# Visualize\n",
        "ft_model.visualize_topics_per_class(topics_per_class)\n",
        "# !!! The plot is interactive. Click legend labels to choose & compare topics (not recomended having >3 a time). !!!"
      ]
    },
    {
      "cell_type": "markdown",
      "metadata": {},
      "source": [
        "# __5. Full Dataset Model__"
      ]
    },
    {
      "cell_type": "markdown",
      "metadata": {},
      "source": [
        "After finetuning the model in section 4, and discovering `topics_over_time` and `topics_per_class`, I built a model on the entire dataset, only changing the _HDBSCAN_ clusterign method to `'leaf'`.\n",
        "\n",
        "Although topics were less refined, the model provided a useful overviews of topic distribtuions across full time range and ratings in the dataset, enriching the analysis."
      ]
    },
    {
      "cell_type": "code",
      "execution_count": 195,
      "metadata": {},
      "outputs": [
        {
          "name": "stderr",
          "output_type": "stream",
          "text": [
            "2025-04-15 08:25:42,441 - BERTopic - Embedding - Transforming documents to embeddings.\n",
            "Batches: 100%|██████████| 313/313 [01:19<00:00,  3.92it/s]\n",
            "2025-04-15 08:27:02,431 - BERTopic - Embedding - Completed ✓\n",
            "2025-04-15 08:27:02,433 - BERTopic - Dimensionality - Fitting the dimensionality reduction algorithm\n",
            "2025-04-15 08:27:11,721 - BERTopic - Dimensionality - Completed ✓\n",
            "2025-04-15 08:27:11,723 - BERTopic - Cluster - Start clustering the reduced embeddings\n",
            "2025-04-15 08:27:12,382 - BERTopic - Cluster - Completed ✓\n",
            "2025-04-15 08:27:12,383 - BERTopic - Representation - Extracting topics using c-TF-IDF for topic reduction.\n",
            "2025-04-15 08:27:13,221 - BERTopic - Representation - Completed ✓\n",
            "2025-04-15 08:27:13,223 - BERTopic - Topic reduction - Reducing number of topics\n",
            "2025-04-15 08:27:13,230 - BERTopic - Representation - Fine-tuning topics using representation models.\n",
            "2025-04-15 08:27:14,098 - BERTopic - Representation - Completed ✓\n",
            "2025-04-15 08:27:14,101 - BERTopic - Topic reduction - Reduced number of topics from 43 to 11\n"
          ]
        }
      ],
      "source": [
        "# Controlling Number of Topics\n",
        "df_hdbscan = HDBSCAN(min_cluster_size=25, \n",
        "                     metric='euclidean', \n",
        "                     cluster_selection_method='leaf',  # CHANGED: makes more topics (can be poorer, but controlled to an extent through 'nr_topics')\n",
        "                     prediction_data=True,\n",
        "                     core_dist_n_jobs=-1)\n",
        "\n",
        "# Training\n",
        "df_model = BERTopic(\n",
        "    vectorizer_model=ft_vectorizer,\n",
        "    embedding_model = ft_embed,\n",
        "    umap_model=ft_umap,\n",
        "    hdbscan_model=df_hdbscan,\n",
        "    nr_topics=11,\n",
        "\n",
        "    top_n_words=10,\n",
        "    verbose=True,\n",
        "    calculate_probabilities=True\n",
        ")\n",
        "\n",
        "# Fit the model\n",
        "topics2, probs2 = df_model.fit_transform(df['text'])"
      ]
    },
    {
      "cell_type": "code",
      "execution_count": 196,
      "metadata": {},
      "outputs": [
        {
          "data": {
            "text/html": [
              "<div>\n",
              "<style scoped>\n",
              "    .dataframe tbody tr th:only-of-type {\n",
              "        vertical-align: middle;\n",
              "    }\n",
              "\n",
              "    .dataframe tbody tr th {\n",
              "        vertical-align: top;\n",
              "    }\n",
              "\n",
              "    .dataframe thead th {\n",
              "        text-align: right;\n",
              "    }\n",
              "</style>\n",
              "<table border=\"1\" class=\"dataframe\">\n",
              "  <thead>\n",
              "    <tr style=\"text-align: right;\">\n",
              "      <th></th>\n",
              "      <th>Topic</th>\n",
              "      <th>Count</th>\n",
              "      <th>Average Rating</th>\n",
              "      <th>Name</th>\n",
              "      <th>Representation</th>\n",
              "      <th>Representative_Docs</th>\n",
              "    </tr>\n",
              "  </thead>\n",
              "  <tbody>\n",
              "    <tr>\n",
              "      <th>0</th>\n",
              "      <td>-1</td>\n",
              "      <td>5638</td>\n",
              "      <td>4.084250</td>\n",
              "      <td>-1_service_food_good_seats</td>\n",
              "      <td>[service, food, good, seats, seat, time, staff...</td>\n",
              "      <td>[First journey - Melbourne to Delhi on an A350...</td>\n",
              "    </tr>\n",
              "    <tr>\n",
              "      <th>1</th>\n",
              "      <td>0</td>\n",
              "      <td>1799</td>\n",
              "      <td>4.306281</td>\n",
              "      <td>0_service_food_good_class</td>\n",
              "      <td>[service, food, good, class, business, busines...</td>\n",
              "      <td>[We recently flew on Singapore Airlines from A...</td>\n",
              "    </tr>\n",
              "    <tr>\n",
              "      <th>2</th>\n",
              "      <td>1</td>\n",
              "      <td>1048</td>\n",
              "      <td>4.544847</td>\n",
              "      <td>1_good_food_service_great</td>\n",
              "      <td>[good, food, service, great, staff, crew, comf...</td>\n",
              "      <td>[Never failed to live up its expectation as th...</td>\n",
              "    </tr>\n",
              "    <tr>\n",
              "      <th>3</th>\n",
              "      <td>2</td>\n",
              "      <td>497</td>\n",
              "      <td>1.861167</td>\n",
              "      <td>2_luggage_customer_refund_ticket</td>\n",
              "      <td>[luggage, customer, refund, ticket, told, hour...</td>\n",
              "      <td>[I booked ROUND TRIP tickets on March 2022 whi...</td>\n",
              "    </tr>\n",
              "    <tr>\n",
              "      <th>4</th>\n",
              "      <td>3</td>\n",
              "      <td>302</td>\n",
              "      <td>4.142384</td>\n",
              "      <td>3_service_crew_good_food</td>\n",
              "      <td>[service, crew, good, food, class, time, exper...</td>\n",
              "      <td>[I would like to share my feedback on my recen...</td>\n",
              "    </tr>\n",
              "    <tr>\n",
              "      <th>5</th>\n",
              "      <td>4</td>\n",
              "      <td>290</td>\n",
              "      <td>3.575862</td>\n",
              "      <td>4_economy_premium_premium economy_seats</td>\n",
              "      <td>[economy, premium, premium economy, seats, ext...</td>\n",
              "      <td>[Travelled out via Singapore in Economy Class....</td>\n",
              "    </tr>\n",
              "    <tr>\n",
              "      <th>6</th>\n",
              "      <td>5</td>\n",
              "      <td>149</td>\n",
              "      <td>4.255034</td>\n",
              "      <td>5_a380_seat_seats_a350</td>\n",
              "      <td>[a380, seat, seats, a350, good, service, new, ...</td>\n",
              "      <td>[Having not had a remarkable trip on my first ...</td>\n",
              "    </tr>\n",
              "    <tr>\n",
              "      <th>7</th>\n",
              "      <td>6</td>\n",
              "      <td>113</td>\n",
              "      <td>2.654867</td>\n",
              "      <td>6_seat_wheelchair_seats_staff</td>\n",
              "      <td>[seat, wheelchair, seats, staff, asked, told, ...</td>\n",
              "      <td>[This is the worst experience that I have had ...</td>\n",
              "    </tr>\n",
              "    <tr>\n",
              "      <th>8</th>\n",
              "      <td>7</td>\n",
              "      <td>76</td>\n",
              "      <td>4.710526</td>\n",
              "      <td>7_kids_baby_food_old</td>\n",
              "      <td>[kids, baby, food, old, children, kid, year ol...</td>\n",
              "      <td>[Flew from Sydney to Paris on Singapore Airlin...</td>\n",
              "    </tr>\n",
              "    <tr>\n",
              "      <th>9</th>\n",
              "      <td>8</td>\n",
              "      <td>62</td>\n",
              "      <td>1.129032</td>\n",
              "      <td>8_customer_customer service_tried_emails</td>\n",
              "      <td>[customer, customer service, tried, emails, bo...</td>\n",
              "      <td>[I booked a round-trip flight from LAX to Cebu...</td>\n",
              "    </tr>\n",
              "    <tr>\n",
              "      <th>10</th>\n",
              "      <td>9</td>\n",
              "      <td>26</td>\n",
              "      <td>1.769231</td>\n",
              "      <td>9_miles_points_krisflyer_upgrade</td>\n",
              "      <td>[miles, points, krisflyer, upgrade, ticket, re...</td>\n",
              "      <td>[Singapore Air may have some of the best in-fl...</td>\n",
              "    </tr>\n",
              "  </tbody>\n",
              "</table>\n",
              "</div>"
            ],
            "text/plain": [
              "    Topic  Count  Average Rating                                      Name  \\\n",
              "0      -1   5638        4.084250                -1_service_food_good_seats   \n",
              "1       0   1799        4.306281                 0_service_food_good_class   \n",
              "2       1   1048        4.544847                 1_good_food_service_great   \n",
              "3       2    497        1.861167          2_luggage_customer_refund_ticket   \n",
              "4       3    302        4.142384                  3_service_crew_good_food   \n",
              "5       4    290        3.575862   4_economy_premium_premium economy_seats   \n",
              "6       5    149        4.255034                    5_a380_seat_seats_a350   \n",
              "7       6    113        2.654867             6_seat_wheelchair_seats_staff   \n",
              "8       7     76        4.710526                      7_kids_baby_food_old   \n",
              "9       8     62        1.129032  8_customer_customer service_tried_emails   \n",
              "10      9     26        1.769231          9_miles_points_krisflyer_upgrade   \n",
              "\n",
              "                                       Representation  \\\n",
              "0   [service, food, good, seats, seat, time, staff...   \n",
              "1   [service, food, good, class, business, busines...   \n",
              "2   [good, food, service, great, staff, crew, comf...   \n",
              "3   [luggage, customer, refund, ticket, told, hour...   \n",
              "4   [service, crew, good, food, class, time, exper...   \n",
              "5   [economy, premium, premium economy, seats, ext...   \n",
              "6   [a380, seat, seats, a350, good, service, new, ...   \n",
              "7   [seat, wheelchair, seats, staff, asked, told, ...   \n",
              "8   [kids, baby, food, old, children, kid, year ol...   \n",
              "9   [customer, customer service, tried, emails, bo...   \n",
              "10  [miles, points, krisflyer, upgrade, ticket, re...   \n",
              "\n",
              "                                  Representative_Docs  \n",
              "0   [First journey - Melbourne to Delhi on an A350...  \n",
              "1   [We recently flew on Singapore Airlines from A...  \n",
              "2   [Never failed to live up its expectation as th...  \n",
              "3   [I booked ROUND TRIP tickets on March 2022 whi...  \n",
              "4   [I would like to share my feedback on my recen...  \n",
              "5   [Travelled out via Singapore in Economy Class....  \n",
              "6   [Having not had a remarkable trip on my first ...  \n",
              "7   [This is the worst experience that I have had ...  \n",
              "8   [Flew from Sydney to Paris on Singapore Airlin...  \n",
              "9   [I booked a round-trip flight from LAX to Cebu...  \n",
              "10  [Singapore Air may have some of the best in-fl...  "
            ]
          },
          "execution_count": 196,
          "metadata": {},
          "output_type": "execute_result"
        }
      ],
      "source": [
        "# 1. Add topic assignments to the DataFrame\n",
        "df_temp2 = df.copy()\n",
        "df_temp2[\"topic\"] = topics2\n",
        "\n",
        "# 2. Get BERTopic's topic info\n",
        "topic_info = df_model.get_topic_info()\n",
        "\n",
        "# 3. Compute average rating per topic\n",
        "avg_rating = df_temp2.groupby(\"topic\")[\"rating\"].mean().reset_index()\n",
        "avg_rating.columns = [\"Topic\", \"Average Rating\"]\n",
        "\n",
        "# 4. Merge with topic info\n",
        "df_merged2 = topic_info.merge(avg_rating, how=\"left\", on=\"Topic\")\n",
        "\n",
        "# 5. Reorder columns: Topic, Count, Average Rating, Name\n",
        "df_merged2 = df_merged2[[\"Topic\", \"Count\", \"Average Rating\", \"Name\", \"Representation\", \"Representative_Docs\"]]\n",
        "\n",
        "# 7. Display\n",
        "df_merged2"
      ]
    },
    {
      "cell_type": "code",
      "execution_count": 197,
      "metadata": {},
      "outputs": [
        {
          "name": "stderr",
          "output_type": "stream",
          "text": [
            "20it [00:02,  7.91it/s]\n"
          ]
        },
        {
          "data": {
            "application/vnd.plotly.v1+json": {
              "config": {
                "plotlyServerURL": "https://plot.ly"
              },
              "data": [
                {
                  "hoverinfo": "text",
                  "hovertext": [
                    "<b>Topic 0</b><br>Words: service, food, class, good, business",
                    "<b>Topic 0</b><br>Words: service, good, food, class, business",
                    "<b>Topic 0</b><br>Words: service, food, good, class, business",
                    "<b>Topic 0</b><br>Words: service, food, good, class, business",
                    "<b>Topic 0</b><br>Words: service, food, good, class, business",
                    "<b>Topic 0</b><br>Words: service, food, class, business, good",
                    "<b>Topic 0</b><br>Words: return, decent, decent collection, fight entertainment, comfortable fight",
                    "<b>Topic 0</b><br>Words: distancing, social distancing, appreciated highly, enjoyable cabin, hour comfortable",
                    "<b>Topic 0</b><br>Words: direct, class ordered, boarding silk, direct hometown, booked ended",
                    "<b>Topic 0</b><br>Words: lounges, class lounges, money, clean comfortable, good",
                    "<b>Topic 0</b><br>Words: passport, passengers, lost passport, transported, shenzhen",
                    "<b>Topic 0</b><br>Words: worst, rice dishes, special, seats worst, continuation",
                    "<b>Topic 0</b><br>Words: ms, service, crew, class, airport",
                    "<b>Topic 0</b><br>Words: service, food, class, business, lounge",
                    "<b>Topic 0</b><br>Words: lounge, class, service, business, food",
                    "<b>Topic 0</b><br>Words: food, service, good, class, staff",
                    "<b>Topic 0</b><br>Words: service, food, class, business, good",
                    "<b>Topic 0</b><br>Words: food, service, staff, seat, class",
                    "<b>Topic 0</b><br>Words: time, service, class, food, experience",
                    "<b>Topic 0</b><br>Words: service, class, food, crew, world"
                  ],
                  "marker": {
                    "color": "#E69F00"
                  },
                  "mode": "lines",
                  "name": "0_service_food_good_class",
                  "type": "scatter",
                  "x": [
                    "2018-08-03T23:13:56.917000000",
                    "2018-11-16T07:14:55.150000000",
                    "2019-02-26T14:09:59.300000000",
                    "2019-06-08T21:05:03.450000000",
                    "2019-09-19T04:00:07.600000000",
                    "2019-12-30T10:55:11.750000000",
                    "2020-04-10T17:50:15.900000000",
                    "2020-07-22T00:45:20.050000000",
                    "2020-11-01T07:40:24.200000000",
                    "2021-02-11T14:35:28.350000000",
                    "2021-05-24T21:30:32.500000000",
                    "2021-09-04T04:25:36.650000000",
                    "2021-12-15T11:20:40.800000000",
                    "2022-03-27T18:15:44.950000000",
                    "2022-07-08T01:10:49.100000000",
                    "2022-10-18T08:05:53.250000000",
                    "2023-01-28T15:00:57.400000000",
                    "2023-05-10T21:56:01.550000000",
                    "2023-08-21T04:51:05.700000000",
                    "2023-12-01T11:46:09.850000000"
                  ],
                  "y": {
                    "bdata": "KgErASMBNQEWAakAAgABAAIAAwADAAIABwAPABAAGAAbAA8AGAAOAA==",
                    "dtype": "i2"
                  }
                },
                {
                  "hoverinfo": "text",
                  "hovertext": [
                    "<b>Topic 1</b><br>Words: good, food, service, staff, great",
                    "<b>Topic 1</b><br>Words: good, food, service, great, comfortable",
                    "<b>Topic 1</b><br>Words: food, good, service, great, staff",
                    "<b>Topic 1</b><br>Words: good, food, service, great, crew",
                    "<b>Topic 1</b><br>Words: food, good, service, great, staff",
                    "<b>Topic 1</b><br>Words: food, good, service, staff, crew",
                    "<b>Topic 1</b><br>Words: recommend perfect, perfect 10, briefs, aligned, food warm",
                    "<b>Topic 1</b><br>Words: good, covid, home, food, lucky",
                    "<b>Topic 1</b><br>Words: say, experience does, feedback just, leaders, write feedback",
                    "<b>Topic 1</b><br>Words: friendly addressed, sanitized, personalized service, great aircraft, personalized",
                    "<b>Topic 1</b><br>Words: mom, taken care, taken, mind staff, sq47",
                    "<b>Topic 1</b><br>Words: really, good, crew, time, people",
                    "<b>Topic 1</b><br>Words: class, service, class service, awful, business class",
                    "<b>Topic 1</b><br>Words: milk, dairy free, dairy, good, food",
                    "<b>Topic 1</b><br>Words: good, disembarkment, food, quantity, crew",
                    "<b>Topic 1</b><br>Words: food, service, good, great, staff",
                    "<b>Topic 1</b><br>Words: t2, high, service, food, great",
                    "<b>Topic 1</b><br>Words: good, check, service, food, staff",
                    "<b>Topic 1</b><br>Words: lounge, service, food, good, terminal lounge"
                  ],
                  "marker": {
                    "color": "#56B4E9"
                  },
                  "mode": "lines",
                  "name": "1_good_food_service_great",
                  "type": "scatter",
                  "x": [
                    "2018-08-03T23:13:56.917000000",
                    "2018-11-16T07:14:55.150000000",
                    "2019-02-26T14:09:59.300000000",
                    "2019-06-08T21:05:03.450000000",
                    "2019-09-19T04:00:07.600000000",
                    "2019-12-30T10:55:11.750000000",
                    "2020-04-10T17:50:15.900000000",
                    "2020-07-22T00:45:20.050000000",
                    "2020-11-01T07:40:24.200000000",
                    "2021-05-24T21:30:32.500000000",
                    "2021-09-04T04:25:36.650000000",
                    "2021-12-15T11:20:40.800000000",
                    "2022-03-27T18:15:44.950000000",
                    "2022-07-08T01:10:49.100000000",
                    "2022-10-18T08:05:53.250000000",
                    "2023-01-28T15:00:57.400000000",
                    "2023-05-10T21:56:01.550000000",
                    "2023-08-21T04:51:05.700000000",
                    "2023-12-01T11:46:09.850000000"
                  ],
                  "y": {
                    "bdata": "xQCWALkAywCcAGcAAgADAAEAAQABAAQAAwAFAAQABwAHAAcACQA=",
                    "dtype": "i2"
                  }
                },
                {
                  "hoverinfo": "text",
                  "hovertext": [
                    "<b>Topic 2</b><br>Words: luggage, delay, airport, hours, booked",
                    "<b>Topic 2</b><br>Words: luggage, hours, customer, ticket, told",
                    "<b>Topic 2</b><br>Words: luggage, ticket, customer, staff, time",
                    "<b>Topic 2</b><br>Words: hours, luggage, booked, told, delayed",
                    "<b>Topic 2</b><br>Words: luggage, hours, ticket, time, told",
                    "<b>Topic 2</b><br>Words: said, refund, cancellation, days, customer",
                    "<b>Topic 2</b><br>Words: refund, cancelled, travel, weeks, received",
                    "<b>Topic 2</b><br>Words: refund, customer, cancelled, money, date",
                    "<b>Topic 2</b><br>Words: weeks, refund, cancelled, home, called",
                    "<b>Topic 2</b><br>Words: refund, pandemic, booked, weeks, days",
                    "<b>Topic 2</b><br>Words: ac, told, tickets, kong, hong kong",
                    "<b>Topic 2</b><br>Words: change, agent, luggage, booking, ticket",
                    "<b>Topic 2</b><br>Words: said, phone, customer, ticket, refund",
                    "<b>Topic 2</b><br>Words: told, ticket, refund, hours, customer",
                    "<b>Topic 2</b><br>Words: customer, refund, luggage, lost, customer service",
                    "<b>Topic 2</b><br>Words: customer, change, luggage, said, customer service",
                    "<b>Topic 2</b><br>Words: luggage, told, booked, hours, cancelled",
                    "<b>Topic 2</b><br>Words: booking, refund, customer, days, luggage",
                    "<b>Topic 2</b><br>Words: luggage, day, received, just, lost",
                    "<b>Topic 2</b><br>Words: ticket, customer, luggage, booking, hours"
                  ],
                  "marker": {
                    "color": "#009E73"
                  },
                  "mode": "lines",
                  "name": "2_luggage_customer_refund_ticket",
                  "type": "scatter",
                  "x": [
                    "2018-08-03T23:13:56.917000000",
                    "2018-11-16T07:14:55.150000000",
                    "2019-02-26T14:09:59.300000000",
                    "2019-06-08T21:05:03.450000000",
                    "2019-09-19T04:00:07.600000000",
                    "2019-12-30T10:55:11.750000000",
                    "2020-04-10T17:50:15.900000000",
                    "2020-07-22T00:45:20.050000000",
                    "2020-11-01T07:40:24.200000000",
                    "2021-02-11T14:35:28.350000000",
                    "2021-05-24T21:30:32.500000000",
                    "2021-09-04T04:25:36.650000000",
                    "2021-12-15T11:20:40.800000000",
                    "2022-03-27T18:15:44.950000000",
                    "2022-07-08T01:10:49.100000000",
                    "2022-10-18T08:05:53.250000000",
                    "2023-01-28T15:00:57.400000000",
                    "2023-05-10T21:56:01.550000000",
                    "2023-08-21T04:51:05.700000000",
                    "2023-12-01T11:46:09.850000000"
                  ],
                  "y": {
                    "bdata": "HxsbJiItFQ8HBAMLHywoKBYWEhE=",
                    "dtype": "i1"
                  }
                },
                {
                  "hoverinfo": "text",
                  "hovertext": [
                    "<b>Topic 3</b><br>Words: service, good, food, crew, time",
                    "<b>Topic 3</b><br>Words: service, good, crew, class, time",
                    "<b>Topic 3</b><br>Words: service, class, crew, good, experience",
                    "<b>Topic 3</b><br>Words: service, crew, class, good, experience",
                    "<b>Topic 3</b><br>Words: service, crew, good, time, food",
                    "<b>Topic 3</b><br>Words: service, klm, good, time, crew",
                    "<b>Topic 3</b><br>Words: weekend trip, mins, weekend, mins late, 10",
                    "<b>Topic 3</b><br>Words: service acceptable, long waiting, unfortunately service, positively, fully understand",
                    "<b>Topic 3</b><br>Words: haul ensure, disinfecting, emails promising, despite emails, pleasure especially",
                    "<b>Topic 3</b><br>Words: halal food, halal, lamb, food, stick",
                    "<b>Topic 3</b><br>Words: 22, chi min, ho chi, chi, luggages",
                    "<b>Topic 3</b><br>Words: food, hi, time, korean, world",
                    "<b>Topic 3</b><br>Words: syd, crew, ng, meal, meals",
                    "<b>Topic 3</b><br>Words: airport, kong, hong kong, hong, gate",
                    "<b>Topic 3</b><br>Words: crew, service, members, experience, great",
                    "<b>Topic 3</b><br>Words: chicken, fa, ask, need attendant, 10000"
                  ],
                  "marker": {
                    "color": "#F0E442"
                  },
                  "mode": "lines",
                  "name": "3_service_crew_good_food",
                  "type": "scatter",
                  "x": [
                    "2018-08-03T23:13:56.917000000",
                    "2018-11-16T07:14:55.150000000",
                    "2019-02-26T14:09:59.300000000",
                    "2019-06-08T21:05:03.450000000",
                    "2019-09-19T04:00:07.600000000",
                    "2019-12-30T10:55:11.750000000",
                    "2020-04-10T17:50:15.900000000",
                    "2021-09-04T04:25:36.650000000",
                    "2021-12-15T11:20:40.800000000",
                    "2022-03-27T18:15:44.950000000",
                    "2022-07-08T01:10:49.100000000",
                    "2022-10-18T08:05:53.250000000",
                    "2023-01-28T15:00:57.400000000",
                    "2023-05-10T21:56:01.550000000",
                    "2023-08-21T04:51:05.700000000",
                    "2023-12-01T11:46:09.850000000"
                  ],
                  "y": {
                    "bdata": "OjAvPh8TAgECAwYFBQYEAw==",
                    "dtype": "i1"
                  }
                },
                {
                  "hoverinfo": "text",
                  "hovertext": [
                    "<b>Topic 4</b><br>Words: economy, premium, premium economy, seats, extra",
                    "<b>Topic 4</b><br>Words: economy, premium, premium economy, seats, extra",
                    "<b>Topic 4</b><br>Words: economy, premium, premium economy, seats, seat",
                    "<b>Topic 4</b><br>Words: economy, premium, premium economy, seats, extra",
                    "<b>Topic 4</b><br>Words: economy, premium, premium economy, seats, service",
                    "<b>Topic 4</b><br>Words: economy, premium, premium economy, extra, seats",
                    "<b>Topic 4</b><br>Words: help sleeping, usual entertainment, legroom adequate, seatings, great",
                    "<b>Topic 4</b><br>Words: upgrade, economy, premium, premium economy, firstly",
                    "<b>Topic 4</b><br>Words: economy, premium, premium economy, class, seat",
                    "<b>Topic 4</b><br>Words: economy, premium, premium economy, seats, crew",
                    "<b>Topic 4</b><br>Words: economy, premium, premium economy, seats, apart",
                    "<b>Topic 4</b><br>Words: economy, premium, premium economy, london, classes",
                    "<b>Topic 4</b><br>Words: economy, premium, premium economy, better, finnair",
                    "<b>Topic 4</b><br>Words: economy, premium, premium economy, service, extra",
                    "<b>Topic 4</b><br>Words: premium, economy, premium economy, offered, juice"
                  ],
                  "marker": {
                    "color": "#D55E00"
                  },
                  "mode": "lines",
                  "name": "4_economy_premium_premium economy_seats",
                  "type": "scatter",
                  "x": [
                    "2018-08-03T23:13:56.917000000",
                    "2018-11-16T07:14:55.150000000",
                    "2019-02-26T14:09:59.300000000",
                    "2019-06-08T21:05:03.450000000",
                    "2019-09-19T04:00:07.600000000",
                    "2019-12-30T10:55:11.750000000",
                    "2020-04-10T17:50:15.900000000",
                    "2021-02-11T14:35:28.350000000",
                    "2022-03-27T18:15:44.950000000",
                    "2022-07-08T01:10:49.100000000",
                    "2022-10-18T08:05:53.250000000",
                    "2023-01-28T15:00:57.400000000",
                    "2023-05-10T21:56:01.550000000",
                    "2023-08-21T04:51:05.700000000",
                    "2023-12-01T11:46:09.850000000"
                  ],
                  "y": {
                    "bdata": "OTMsKicRAQEHBAMDBwgG",
                    "dtype": "i1"
                  }
                },
                {
                  "hoverinfo": "text",
                  "hovertext": [
                    "<b>Topic 5</b><br>Words: a380, seat, good, seats, new",
                    "<b>Topic 5</b><br>Words: a380, seat, seats, food, good",
                    "<b>Topic 5</b><br>Words: a380, seat, a350, good, seats",
                    "<b>Topic 5</b><br>Words: a380, good, a350, seats, service",
                    "<b>Topic 5</b><br>Words: a380, seat, a350, seats, time",
                    "<b>Topic 5</b><br>Words: a380, seat, seats, new, comfortable",
                    "<b>Topic 5</b><br>Words: knew, stretch, seasoned traveler, slightly concerned, economy likely",
                    "<b>Topic 5</b><br>Words: a350, excuse, great good, cream, legroom",
                    "<b>Topic 5</b><br>Words: seat, a380, seats, small, economy",
                    "<b>Topic 5</b><br>Words: seat, a380, 43a, a350, excellent",
                    "<b>Topic 5</b><br>Words: a380, ba, class, anymore, seat"
                  ],
                  "marker": {
                    "color": "#0072B2"
                  },
                  "mode": "lines",
                  "name": "5_a380_seat_seats_a350",
                  "type": "scatter",
                  "x": [
                    "2018-08-03T23:13:56.917000000",
                    "2018-11-16T07:14:55.150000000",
                    "2019-02-26T14:09:59.300000000",
                    "2019-06-08T21:05:03.450000000",
                    "2019-09-19T04:00:07.600000000",
                    "2019-12-30T10:55:11.750000000",
                    "2020-04-10T17:50:15.900000000",
                    "2022-07-08T01:10:49.100000000",
                    "2022-10-18T08:05:53.250000000",
                    "2023-01-28T15:00:57.400000000",
                    "2023-12-01T11:46:09.850000000"
                  ],
                  "y": {
                    "bdata": "IBMaGhoHAQIFAwI=",
                    "dtype": "i1"
                  }
                },
                {
                  "hoverinfo": "text",
                  "hovertext": [
                    "<b>Topic 6</b><br>Words: wheelchair, seat, seats, airport, said",
                    "<b>Topic 6</b><br>Words: seat, seats, staff, wheelchair, time",
                    "<b>Topic 6</b><br>Words: seat, wheelchair, queue, mom, staff",
                    "<b>Topic 6</b><br>Words: seat, wheelchair, staff, seats, said",
                    "<b>Topic 6</b><br>Words: seat, seats, stairs, staff, wheelchair",
                    "<b>Topic 6</b><br>Words: seat, told, seats, new, emergency",
                    "<b>Topic 6</b><br>Words: large terminal, lovely, wheelchair, shops, inside",
                    "<b>Topic 6</b><br>Words: seat, bassinet, baby, boarding, bassinet seat",
                    "<b>Topic 6</b><br>Words: reserved, vomit, seating, stank, heathrow",
                    "<b>Topic 6</b><br>Words: deserve, rude, seats, kept, screens showing",
                    "<b>Topic 6</b><br>Words: son, istanbul, racism, indians, singaporean",
                    "<b>Topic 6</b><br>Words: terrible, didn extra, unbelievably bad, called help, dive",
                    "<b>Topic 6</b><br>Words: wheelchair, gate, seats, don, assistance"
                  ],
                  "marker": {
                    "color": "#CC79A7"
                  },
                  "mode": "lines",
                  "name": "6_seat_wheelchair_seats_staff",
                  "type": "scatter",
                  "x": [
                    "2018-08-03T23:13:56.917000000",
                    "2018-11-16T07:14:55.150000000",
                    "2019-02-26T14:09:59.300000000",
                    "2019-06-08T21:05:03.450000000",
                    "2019-09-19T04:00:07.600000000",
                    "2019-12-30T10:55:11.750000000",
                    "2020-07-22T00:45:20.050000000",
                    "2022-07-08T01:10:49.100000000",
                    "2022-10-18T08:05:53.250000000",
                    "2023-01-28T15:00:57.400000000",
                    "2023-05-10T21:56:01.550000000",
                    "2023-08-21T04:51:05.700000000",
                    "2023-12-01T11:46:09.850000000"
                  ],
                  "y": {
                    "bdata": "Gw4JEw4IAQcDAwIBBQ==",
                    "dtype": "i1"
                  }
                },
                {
                  "hoverinfo": "text",
                  "hovertext": [
                    "<b>Topic 7</b><br>Words: kids, kid, children, food, meal",
                    "<b>Topic 7</b><br>Words: kids, travelling, food, year old, old",
                    "<b>Topic 7</b><br>Words: kids, year old, old, baby, son",
                    "<b>Topic 7</b><br>Words: kids, crew, baby, food, good",
                    "<b>Topic 7</b><br>Words: kids, baby, food, children, boys",
                    "<b>Topic 7</b><br>Words: kid, kids, daughter, old, years old",
                    "<b>Topic 7</b><br>Words: young, kids, staffs attentive, good young, short good",
                    "<b>Topic 7</b><br>Words: baby, child, complimentary, check, free basinet",
                    "<b>Topic 7</b><br>Words: kids, kids just, kelly, offer kids, attend request",
                    "<b>Topic 7</b><br>Words: advertise, wonderful attentive, overnight return, staff look, dozen",
                    "<b>Topic 7</b><br>Words: bassinet, chair, disappointing, good thr, bagging"
                  ],
                  "marker": {
                    "color": "#E69F00"
                  },
                  "mode": "lines",
                  "name": "7_kids_baby_food_old",
                  "type": "scatter",
                  "x": [
                    "2018-08-03T23:13:56.917000000",
                    "2018-11-16T07:14:55.150000000",
                    "2019-02-26T14:09:59.300000000",
                    "2019-06-08T21:05:03.450000000",
                    "2019-09-19T04:00:07.600000000",
                    "2019-12-30T10:55:11.750000000",
                    "2020-04-10T17:50:15.900000000",
                    "2021-12-15T11:20:40.800000000",
                    "2022-03-27T18:15:44.950000000",
                    "2022-07-08T01:10:49.100000000",
                    "2023-05-10T21:56:01.550000000"
                  ],
                  "y": {
                    "bdata": "ChESEQYDAQEBAQE=",
                    "dtype": "i1"
                  }
                },
                {
                  "hoverinfo": "text",
                  "hovertext": [
                    "<b>Topic 8</b><br>Words: couldn, website, booking, time, customer",
                    "<b>Topic 8</b><br>Words: manager, assured, speak, tokyo, lack",
                    "<b>Topic 8</b><br>Words: customer, confirmed, speak, company, makes",
                    "<b>Topic 8</b><br>Words: fare, child, provide, contact, charged",
                    "<b>Topic 8</b><br>Words: heathrow manchester, manchester, cancelled, refund, heathrow",
                    "<b>Topic 8</b><br>Words: hold, change date, forms, email, phone",
                    "<b>Topic 8</b><br>Words: customer service, customer, online form, success, times",
                    "<b>Topic 8</b><br>Words: customer, customer service, phone, emails, hours",
                    "<b>Topic 8</b><br>Words: refund, emails, phone, tried, customer service",
                    "<b>Topic 8</b><br>Words: 20k, book, customer, customer service, booking",
                    "<b>Topic 8</b><br>Words: investigation, horrible, deal, isn problem, told thing",
                    "<b>Topic 8</b><br>Words: bank, customer service, customer, initiate, emails",
                    "<b>Topic 8</b><br>Words: hold, mother, life, tried, messages",
                    "<b>Topic 8</b><br>Words: ticket, tickets, make extra, change way, booking"
                  ],
                  "marker": {
                    "color": "#56B4E9"
                  },
                  "mode": "lines",
                  "name": "8_customer_customer service_tried_emails",
                  "type": "scatter",
                  "x": [
                    "2018-08-03T23:13:56.917000000",
                    "2019-02-26T14:09:59.300000000",
                    "2019-06-08T21:05:03.450000000",
                    "2019-12-30T10:55:11.750000000",
                    "2020-07-22T00:45:20.050000000",
                    "2021-05-24T21:30:32.500000000",
                    "2021-09-04T04:25:36.650000000",
                    "2021-12-15T11:20:40.800000000",
                    "2022-03-27T18:15:44.950000000",
                    "2022-07-08T01:10:49.100000000",
                    "2023-01-28T15:00:57.400000000",
                    "2023-05-10T21:56:01.550000000",
                    "2023-08-21T04:51:05.700000000",
                    "2023-12-01T11:46:09.850000000"
                  ],
                  "y": {
                    "bdata": "BQICBAECBA0KCQIDAwI=",
                    "dtype": "i1"
                  }
                },
                {
                  "hoverinfo": "text",
                  "hovertext": [
                    "<b>Topic 9</b><br>Words: miles, points, 000, booking, redeem",
                    "<b>Topic 9</b><br>Words: points, upgrade, account, card, credit card",
                    "<b>Topic 9</b><br>Words: dac, upgrade business, upgrade, class, business",
                    "<b>Topic 9</b><br>Words: points, miles, use, krisflyer, 000",
                    "<b>Topic 9</b><br>Words: points, krisflyer, use, upgrade, use points",
                    "<b>Topic 9</b><br>Words: center, totally incompetent, average customer, say need, snap",
                    "<b>Topic 9</b><br>Words: miles, redeem, miles money, ticket, scam",
                    "<b>Topic 9</b><br>Words: bag, class rip, deliberate, forceful, damaged bag",
                    "<b>Topic 9</b><br>Words: 50, miles, cash, points, upgrade economy",
                    "<b>Topic 9</b><br>Words: miles, earn, elite, told, weeks",
                    "<b>Topic 9</b><br>Words: associates, redemption, mileage, points, ticket",
                    "<b>Topic 9</b><br>Words: miles, claims, alliance, july 2023, booking class",
                    "<b>Topic 9</b><br>Words: miles, redeem, ve, challenges, cancellations"
                  ],
                  "marker": {
                    "color": "#009E73"
                  },
                  "mode": "lines",
                  "name": "9_miles_points_krisflyer_upgrade",
                  "type": "scatter",
                  "x": [
                    "2018-08-03T23:13:56.917000000",
                    "2018-11-16T07:14:55.150000000",
                    "2019-02-26T14:09:59.300000000",
                    "2019-06-08T21:05:03.450000000",
                    "2019-09-19T04:00:07.600000000",
                    "2021-05-24T21:30:32.500000000",
                    "2022-03-27T18:15:44.950000000",
                    "2022-07-08T01:10:49.100000000",
                    "2022-10-18T08:05:53.250000000",
                    "2023-01-28T15:00:57.400000000",
                    "2023-05-10T21:56:01.550000000",
                    "2023-08-21T04:51:05.700000000",
                    "2023-12-01T11:46:09.850000000"
                  ],
                  "y": {
                    "bdata": "AwMCAgMBAwEBAwEBAg==",
                    "dtype": "i1"
                  }
                }
              ],
              "layout": {
                "height": 450,
                "hoverlabel": {
                  "bgcolor": "white",
                  "font": {
                    "family": "Rockwell",
                    "size": 16
                  }
                },
                "legend": {
                  "title": {
                    "text": "<b>Global Topic Representation"
                  }
                },
                "template": {
                  "data": {
                    "bar": [
                      {
                        "error_x": {
                          "color": "rgb(36,36,36)"
                        },
                        "error_y": {
                          "color": "rgb(36,36,36)"
                        },
                        "marker": {
                          "line": {
                            "color": "white",
                            "width": 0.5
                          },
                          "pattern": {
                            "fillmode": "overlay",
                            "size": 10,
                            "solidity": 0.2
                          }
                        },
                        "type": "bar"
                      }
                    ],
                    "barpolar": [
                      {
                        "marker": {
                          "line": {
                            "color": "white",
                            "width": 0.5
                          },
                          "pattern": {
                            "fillmode": "overlay",
                            "size": 10,
                            "solidity": 0.2
                          }
                        },
                        "type": "barpolar"
                      }
                    ],
                    "carpet": [
                      {
                        "aaxis": {
                          "endlinecolor": "rgb(36,36,36)",
                          "gridcolor": "white",
                          "linecolor": "white",
                          "minorgridcolor": "white",
                          "startlinecolor": "rgb(36,36,36)"
                        },
                        "baxis": {
                          "endlinecolor": "rgb(36,36,36)",
                          "gridcolor": "white",
                          "linecolor": "white",
                          "minorgridcolor": "white",
                          "startlinecolor": "rgb(36,36,36)"
                        },
                        "type": "carpet"
                      }
                    ],
                    "choropleth": [
                      {
                        "colorbar": {
                          "outlinewidth": 1,
                          "tickcolor": "rgb(36,36,36)",
                          "ticks": "outside"
                        },
                        "type": "choropleth"
                      }
                    ],
                    "contour": [
                      {
                        "colorbar": {
                          "outlinewidth": 1,
                          "tickcolor": "rgb(36,36,36)",
                          "ticks": "outside"
                        },
                        "colorscale": [
                          [
                            0,
                            "#440154"
                          ],
                          [
                            0.1111111111111111,
                            "#482878"
                          ],
                          [
                            0.2222222222222222,
                            "#3e4989"
                          ],
                          [
                            0.3333333333333333,
                            "#31688e"
                          ],
                          [
                            0.4444444444444444,
                            "#26828e"
                          ],
                          [
                            0.5555555555555556,
                            "#1f9e89"
                          ],
                          [
                            0.6666666666666666,
                            "#35b779"
                          ],
                          [
                            0.7777777777777778,
                            "#6ece58"
                          ],
                          [
                            0.8888888888888888,
                            "#b5de2b"
                          ],
                          [
                            1,
                            "#fde725"
                          ]
                        ],
                        "type": "contour"
                      }
                    ],
                    "contourcarpet": [
                      {
                        "colorbar": {
                          "outlinewidth": 1,
                          "tickcolor": "rgb(36,36,36)",
                          "ticks": "outside"
                        },
                        "type": "contourcarpet"
                      }
                    ],
                    "heatmap": [
                      {
                        "colorbar": {
                          "outlinewidth": 1,
                          "tickcolor": "rgb(36,36,36)",
                          "ticks": "outside"
                        },
                        "colorscale": [
                          [
                            0,
                            "#440154"
                          ],
                          [
                            0.1111111111111111,
                            "#482878"
                          ],
                          [
                            0.2222222222222222,
                            "#3e4989"
                          ],
                          [
                            0.3333333333333333,
                            "#31688e"
                          ],
                          [
                            0.4444444444444444,
                            "#26828e"
                          ],
                          [
                            0.5555555555555556,
                            "#1f9e89"
                          ],
                          [
                            0.6666666666666666,
                            "#35b779"
                          ],
                          [
                            0.7777777777777778,
                            "#6ece58"
                          ],
                          [
                            0.8888888888888888,
                            "#b5de2b"
                          ],
                          [
                            1,
                            "#fde725"
                          ]
                        ],
                        "type": "heatmap"
                      }
                    ],
                    "histogram": [
                      {
                        "marker": {
                          "line": {
                            "color": "white",
                            "width": 0.6
                          }
                        },
                        "type": "histogram"
                      }
                    ],
                    "histogram2d": [
                      {
                        "colorbar": {
                          "outlinewidth": 1,
                          "tickcolor": "rgb(36,36,36)",
                          "ticks": "outside"
                        },
                        "colorscale": [
                          [
                            0,
                            "#440154"
                          ],
                          [
                            0.1111111111111111,
                            "#482878"
                          ],
                          [
                            0.2222222222222222,
                            "#3e4989"
                          ],
                          [
                            0.3333333333333333,
                            "#31688e"
                          ],
                          [
                            0.4444444444444444,
                            "#26828e"
                          ],
                          [
                            0.5555555555555556,
                            "#1f9e89"
                          ],
                          [
                            0.6666666666666666,
                            "#35b779"
                          ],
                          [
                            0.7777777777777778,
                            "#6ece58"
                          ],
                          [
                            0.8888888888888888,
                            "#b5de2b"
                          ],
                          [
                            1,
                            "#fde725"
                          ]
                        ],
                        "type": "histogram2d"
                      }
                    ],
                    "histogram2dcontour": [
                      {
                        "colorbar": {
                          "outlinewidth": 1,
                          "tickcolor": "rgb(36,36,36)",
                          "ticks": "outside"
                        },
                        "colorscale": [
                          [
                            0,
                            "#440154"
                          ],
                          [
                            0.1111111111111111,
                            "#482878"
                          ],
                          [
                            0.2222222222222222,
                            "#3e4989"
                          ],
                          [
                            0.3333333333333333,
                            "#31688e"
                          ],
                          [
                            0.4444444444444444,
                            "#26828e"
                          ],
                          [
                            0.5555555555555556,
                            "#1f9e89"
                          ],
                          [
                            0.6666666666666666,
                            "#35b779"
                          ],
                          [
                            0.7777777777777778,
                            "#6ece58"
                          ],
                          [
                            0.8888888888888888,
                            "#b5de2b"
                          ],
                          [
                            1,
                            "#fde725"
                          ]
                        ],
                        "type": "histogram2dcontour"
                      }
                    ],
                    "mesh3d": [
                      {
                        "colorbar": {
                          "outlinewidth": 1,
                          "tickcolor": "rgb(36,36,36)",
                          "ticks": "outside"
                        },
                        "type": "mesh3d"
                      }
                    ],
                    "parcoords": [
                      {
                        "line": {
                          "colorbar": {
                            "outlinewidth": 1,
                            "tickcolor": "rgb(36,36,36)",
                            "ticks": "outside"
                          }
                        },
                        "type": "parcoords"
                      }
                    ],
                    "pie": [
                      {
                        "automargin": true,
                        "type": "pie"
                      }
                    ],
                    "scatter": [
                      {
                        "fillpattern": {
                          "fillmode": "overlay",
                          "size": 10,
                          "solidity": 0.2
                        },
                        "type": "scatter"
                      }
                    ],
                    "scatter3d": [
                      {
                        "line": {
                          "colorbar": {
                            "outlinewidth": 1,
                            "tickcolor": "rgb(36,36,36)",
                            "ticks": "outside"
                          }
                        },
                        "marker": {
                          "colorbar": {
                            "outlinewidth": 1,
                            "tickcolor": "rgb(36,36,36)",
                            "ticks": "outside"
                          }
                        },
                        "type": "scatter3d"
                      }
                    ],
                    "scattercarpet": [
                      {
                        "marker": {
                          "colorbar": {
                            "outlinewidth": 1,
                            "tickcolor": "rgb(36,36,36)",
                            "ticks": "outside"
                          }
                        },
                        "type": "scattercarpet"
                      }
                    ],
                    "scattergeo": [
                      {
                        "marker": {
                          "colorbar": {
                            "outlinewidth": 1,
                            "tickcolor": "rgb(36,36,36)",
                            "ticks": "outside"
                          }
                        },
                        "type": "scattergeo"
                      }
                    ],
                    "scattergl": [
                      {
                        "marker": {
                          "colorbar": {
                            "outlinewidth": 1,
                            "tickcolor": "rgb(36,36,36)",
                            "ticks": "outside"
                          }
                        },
                        "type": "scattergl"
                      }
                    ],
                    "scattermap": [
                      {
                        "marker": {
                          "colorbar": {
                            "outlinewidth": 1,
                            "tickcolor": "rgb(36,36,36)",
                            "ticks": "outside"
                          }
                        },
                        "type": "scattermap"
                      }
                    ],
                    "scattermapbox": [
                      {
                        "marker": {
                          "colorbar": {
                            "outlinewidth": 1,
                            "tickcolor": "rgb(36,36,36)",
                            "ticks": "outside"
                          }
                        },
                        "type": "scattermapbox"
                      }
                    ],
                    "scatterpolar": [
                      {
                        "marker": {
                          "colorbar": {
                            "outlinewidth": 1,
                            "tickcolor": "rgb(36,36,36)",
                            "ticks": "outside"
                          }
                        },
                        "type": "scatterpolar"
                      }
                    ],
                    "scatterpolargl": [
                      {
                        "marker": {
                          "colorbar": {
                            "outlinewidth": 1,
                            "tickcolor": "rgb(36,36,36)",
                            "ticks": "outside"
                          }
                        },
                        "type": "scatterpolargl"
                      }
                    ],
                    "scatterternary": [
                      {
                        "marker": {
                          "colorbar": {
                            "outlinewidth": 1,
                            "tickcolor": "rgb(36,36,36)",
                            "ticks": "outside"
                          }
                        },
                        "type": "scatterternary"
                      }
                    ],
                    "surface": [
                      {
                        "colorbar": {
                          "outlinewidth": 1,
                          "tickcolor": "rgb(36,36,36)",
                          "ticks": "outside"
                        },
                        "colorscale": [
                          [
                            0,
                            "#440154"
                          ],
                          [
                            0.1111111111111111,
                            "#482878"
                          ],
                          [
                            0.2222222222222222,
                            "#3e4989"
                          ],
                          [
                            0.3333333333333333,
                            "#31688e"
                          ],
                          [
                            0.4444444444444444,
                            "#26828e"
                          ],
                          [
                            0.5555555555555556,
                            "#1f9e89"
                          ],
                          [
                            0.6666666666666666,
                            "#35b779"
                          ],
                          [
                            0.7777777777777778,
                            "#6ece58"
                          ],
                          [
                            0.8888888888888888,
                            "#b5de2b"
                          ],
                          [
                            1,
                            "#fde725"
                          ]
                        ],
                        "type": "surface"
                      }
                    ],
                    "table": [
                      {
                        "cells": {
                          "fill": {
                            "color": "rgb(237,237,237)"
                          },
                          "line": {
                            "color": "white"
                          }
                        },
                        "header": {
                          "fill": {
                            "color": "rgb(217,217,217)"
                          },
                          "line": {
                            "color": "white"
                          }
                        },
                        "type": "table"
                      }
                    ]
                  },
                  "layout": {
                    "annotationdefaults": {
                      "arrowhead": 0,
                      "arrowwidth": 1
                    },
                    "autotypenumbers": "strict",
                    "coloraxis": {
                      "colorbar": {
                        "outlinewidth": 1,
                        "tickcolor": "rgb(36,36,36)",
                        "ticks": "outside"
                      }
                    },
                    "colorscale": {
                      "diverging": [
                        [
                          0,
                          "rgb(103,0,31)"
                        ],
                        [
                          0.1,
                          "rgb(178,24,43)"
                        ],
                        [
                          0.2,
                          "rgb(214,96,77)"
                        ],
                        [
                          0.3,
                          "rgb(244,165,130)"
                        ],
                        [
                          0.4,
                          "rgb(253,219,199)"
                        ],
                        [
                          0.5,
                          "rgb(247,247,247)"
                        ],
                        [
                          0.6,
                          "rgb(209,229,240)"
                        ],
                        [
                          0.7,
                          "rgb(146,197,222)"
                        ],
                        [
                          0.8,
                          "rgb(67,147,195)"
                        ],
                        [
                          0.9,
                          "rgb(33,102,172)"
                        ],
                        [
                          1,
                          "rgb(5,48,97)"
                        ]
                      ],
                      "sequential": [
                        [
                          0,
                          "#440154"
                        ],
                        [
                          0.1111111111111111,
                          "#482878"
                        ],
                        [
                          0.2222222222222222,
                          "#3e4989"
                        ],
                        [
                          0.3333333333333333,
                          "#31688e"
                        ],
                        [
                          0.4444444444444444,
                          "#26828e"
                        ],
                        [
                          0.5555555555555556,
                          "#1f9e89"
                        ],
                        [
                          0.6666666666666666,
                          "#35b779"
                        ],
                        [
                          0.7777777777777778,
                          "#6ece58"
                        ],
                        [
                          0.8888888888888888,
                          "#b5de2b"
                        ],
                        [
                          1,
                          "#fde725"
                        ]
                      ],
                      "sequentialminus": [
                        [
                          0,
                          "#440154"
                        ],
                        [
                          0.1111111111111111,
                          "#482878"
                        ],
                        [
                          0.2222222222222222,
                          "#3e4989"
                        ],
                        [
                          0.3333333333333333,
                          "#31688e"
                        ],
                        [
                          0.4444444444444444,
                          "#26828e"
                        ],
                        [
                          0.5555555555555556,
                          "#1f9e89"
                        ],
                        [
                          0.6666666666666666,
                          "#35b779"
                        ],
                        [
                          0.7777777777777778,
                          "#6ece58"
                        ],
                        [
                          0.8888888888888888,
                          "#b5de2b"
                        ],
                        [
                          1,
                          "#fde725"
                        ]
                      ]
                    },
                    "colorway": [
                      "#1F77B4",
                      "#FF7F0E",
                      "#2CA02C",
                      "#D62728",
                      "#9467BD",
                      "#8C564B",
                      "#E377C2",
                      "#7F7F7F",
                      "#BCBD22",
                      "#17BECF"
                    ],
                    "font": {
                      "color": "rgb(36,36,36)"
                    },
                    "geo": {
                      "bgcolor": "white",
                      "lakecolor": "white",
                      "landcolor": "white",
                      "showlakes": true,
                      "showland": true,
                      "subunitcolor": "white"
                    },
                    "hoverlabel": {
                      "align": "left"
                    },
                    "hovermode": "closest",
                    "mapbox": {
                      "style": "light"
                    },
                    "paper_bgcolor": "white",
                    "plot_bgcolor": "white",
                    "polar": {
                      "angularaxis": {
                        "gridcolor": "rgb(232,232,232)",
                        "linecolor": "rgb(36,36,36)",
                        "showgrid": false,
                        "showline": true,
                        "ticks": "outside"
                      },
                      "bgcolor": "white",
                      "radialaxis": {
                        "gridcolor": "rgb(232,232,232)",
                        "linecolor": "rgb(36,36,36)",
                        "showgrid": false,
                        "showline": true,
                        "ticks": "outside"
                      }
                    },
                    "scene": {
                      "xaxis": {
                        "backgroundcolor": "white",
                        "gridcolor": "rgb(232,232,232)",
                        "gridwidth": 2,
                        "linecolor": "rgb(36,36,36)",
                        "showbackground": true,
                        "showgrid": false,
                        "showline": true,
                        "ticks": "outside",
                        "zeroline": false,
                        "zerolinecolor": "rgb(36,36,36)"
                      },
                      "yaxis": {
                        "backgroundcolor": "white",
                        "gridcolor": "rgb(232,232,232)",
                        "gridwidth": 2,
                        "linecolor": "rgb(36,36,36)",
                        "showbackground": true,
                        "showgrid": false,
                        "showline": true,
                        "ticks": "outside",
                        "zeroline": false,
                        "zerolinecolor": "rgb(36,36,36)"
                      },
                      "zaxis": {
                        "backgroundcolor": "white",
                        "gridcolor": "rgb(232,232,232)",
                        "gridwidth": 2,
                        "linecolor": "rgb(36,36,36)",
                        "showbackground": true,
                        "showgrid": false,
                        "showline": true,
                        "ticks": "outside",
                        "zeroline": false,
                        "zerolinecolor": "rgb(36,36,36)"
                      }
                    },
                    "shapedefaults": {
                      "fillcolor": "black",
                      "line": {
                        "width": 0
                      },
                      "opacity": 0.3
                    },
                    "ternary": {
                      "aaxis": {
                        "gridcolor": "rgb(232,232,232)",
                        "linecolor": "rgb(36,36,36)",
                        "showgrid": false,
                        "showline": true,
                        "ticks": "outside"
                      },
                      "baxis": {
                        "gridcolor": "rgb(232,232,232)",
                        "linecolor": "rgb(36,36,36)",
                        "showgrid": false,
                        "showline": true,
                        "ticks": "outside"
                      },
                      "bgcolor": "white",
                      "caxis": {
                        "gridcolor": "rgb(232,232,232)",
                        "linecolor": "rgb(36,36,36)",
                        "showgrid": false,
                        "showline": true,
                        "ticks": "outside"
                      }
                    },
                    "title": {
                      "x": 0.05
                    },
                    "xaxis": {
                      "automargin": true,
                      "gridcolor": "rgb(232,232,232)",
                      "linecolor": "rgb(36,36,36)",
                      "showgrid": false,
                      "showline": true,
                      "ticks": "outside",
                      "title": {
                        "standoff": 15
                      },
                      "zeroline": false,
                      "zerolinecolor": "rgb(36,36,36)"
                    },
                    "yaxis": {
                      "automargin": true,
                      "gridcolor": "rgb(232,232,232)",
                      "linecolor": "rgb(36,36,36)",
                      "showgrid": false,
                      "showline": true,
                      "ticks": "outside",
                      "title": {
                        "standoff": 15
                      },
                      "zeroline": false,
                      "zerolinecolor": "rgb(36,36,36)"
                    }
                  }
                },
                "title": {
                  "font": {
                    "color": "Black",
                    "size": 22
                  },
                  "text": "<b>Topics over Time</b>",
                  "x": 0.4,
                  "xanchor": "center",
                  "y": 0.95,
                  "yanchor": "top"
                },
                "width": 1250,
                "xaxis": {
                  "showgrid": true
                },
                "yaxis": {
                  "showgrid": true,
                  "title": {
                    "text": "Frequency"
                  }
                }
              }
            }
          },
          "metadata": {},
          "output_type": "display_data"
        }
      ],
      "source": [
        "# Prepare inputs\n",
        "documents = df[\"text\"].tolist()\n",
        "timestamps = df[\"published_date\"].tolist()\n",
        "\n",
        "# Get topics over time\n",
        "topics_over_time = df_model.topics_over_time(\n",
        "    docs=documents,\n",
        "    topics=topics2,\n",
        "    timestamps=timestamps,\n",
        "    nr_bins=20,  # Or set to 'year', 'quarter', or a number of bins\n",
        "    evolution_tuning=True,\n",
        "    global_tuning=True\n",
        ")\n",
        "\n",
        "# Visualize\n",
        "df_model.visualize_topics_over_time(topics_over_time)\n",
        "# !!! The plot is interactive. Click legend labels to hide large topics (skewing resutls) to better view smaller ones. !!!"
      ]
    },
    {
      "cell_type": "markdown",
      "metadata": {},
      "source": [
        "Keeping the topic over time plot as is, shows good food and service topic 0 & 1 to skew the results, and while topic 0 sees a return post-COVID, topic 1 continues to drop even after. Removing the two topics to see less populated topics we can see what dominated the reviews. \n",
        "- `Yellow` topic 3 line with good service and food, shows high frequency for pre-COVID period, but practically disacppear after the starat of COVID\n",
        "- `Green` topic 2 line, however, is present before and after covid, it concers luggage loss, poor sustomer service, refunds and bookings. This is an important observartion for understading that negative review surrounding this topic were present even pre-COVID.\n",
        "- `Light Blue` topic 8 line also reffers to poor customer services and communication which is higher from end of 2021 to mid 2022, could be representative of post-COVID requests back-log processing."
      ]
    },
    {
      "cell_type": "code",
      "execution_count": 198,
      "metadata": {},
      "outputs": [
        {
          "name": "stderr",
          "output_type": "stream",
          "text": [
            "5it [00:00,  6.78it/s]\n"
          ]
        },
        {
          "data": {
            "application/vnd.plotly.v1+json": {
              "config": {
                "plotlyServerURL": "https://plot.ly"
              },
              "data": [
                {
                  "hoverinfo": "text",
                  "hovertext": [
                    "<b>Topic 0</b><br>Words: business, class, service, business class, food",
                    "<b>Topic 0</b><br>Words: class, food, service, business, business class",
                    "<b>Topic 0</b><br>Words: food, service, class, business, good",
                    "<b>Topic 0</b><br>Words: good, service, food, class, business",
                    "<b>Topic 0</b><br>Words: service, food, good, class, business"
                  ],
                  "marker": {
                    "color": "#E69F00"
                  },
                  "name": "0_service_food_good_class",
                  "orientation": "h",
                  "type": "bar",
                  "visible": true,
                  "x": {
                    "bdata": "TgBGALsAYAFYBA==",
                    "dtype": "i2"
                  },
                  "y": {
                    "bdata": "AQIDBAU=",
                    "dtype": "i1"
                  }
                },
                {
                  "hoverinfo": "text",
                  "hovertext": [
                    "<b>Topic 1</b><br>Words: service, good, food, staff, plastic",
                    "<b>Topic 1</b><br>Words: food, good, service, crew, entertainment",
                    "<b>Topic 1</b><br>Words: food, good, service, staff, class",
                    "<b>Topic 1</b><br>Words: good, food, service, crew, staff",
                    "<b>Topic 1</b><br>Words: food, good, service, great, staff"
                  ],
                  "marker": {
                    "color": "#56B4E9"
                  },
                  "name": "1_good_food_service_great",
                  "orientation": "h",
                  "type": "bar",
                  "visible": "legendonly",
                  "x": {
                    "bdata": "FAARADkA6ADSAg==",
                    "dtype": "i2"
                  },
                  "y": {
                    "bdata": "AQIDBAU=",
                    "dtype": "i1"
                  }
                },
                {
                  "hoverinfo": "text",
                  "hovertext": [
                    "<b>Topic 2</b><br>Words: customer, luggage, ticket, refund, told",
                    "<b>Topic 2</b><br>Words: hours, luggage, refund, customer, told",
                    "<b>Topic 2</b><br>Words: luggage, days, got, customer, hours",
                    "<b>Topic 2</b><br>Words: luggage, delay, time, connecting, told",
                    "<b>Topic 2</b><br>Words: refund, hours, customer, luggage, time"
                  ],
                  "marker": {
                    "color": "#009E73"
                  },
                  "name": "2_luggage_customer_refund_ticket",
                  "orientation": "h",
                  "type": "bar",
                  "visible": "legendonly",
                  "x": {
                    "bdata": "SwE5ABUAFwBBAA==",
                    "dtype": "i2"
                  },
                  "y": {
                    "bdata": "AQIDBAU=",
                    "dtype": "i1"
                  }
                },
                {
                  "hoverinfo": "text",
                  "hovertext": [
                    "<b>Topic 3</b><br>Words: service, crew, 22, like, time",
                    "<b>Topic 3</b><br>Words: service, time, crew, klm, good",
                    "<b>Topic 3</b><br>Words: service, crew, good, food, class",
                    "<b>Topic 3</b><br>Words: service, good, food, crew, class",
                    "<b>Topic 3</b><br>Words: service, crew, good, class, best"
                  ],
                  "marker": {
                    "color": "#F0E442"
                  },
                  "name": "3_service_crew_good_food",
                  "orientation": "h",
                  "type": "bar",
                  "visible": "legendonly",
                  "x": {
                    "bdata": "FAAQACUAOQCsAA==",
                    "dtype": "i2"
                  },
                  "y": {
                    "bdata": "AQIDBAU=",
                    "dtype": "i1"
                  }
                },
                {
                  "hoverinfo": "text",
                  "hovertext": [
                    "<b>Topic 4</b><br>Words: economy, premium, premium economy, seats, extra",
                    "<b>Topic 4</b><br>Words: economy, premium, premium economy, seats, service",
                    "<b>Topic 4</b><br>Words: economy, premium, premium economy, seats, extra",
                    "<b>Topic 4</b><br>Words: economy, premium, premium economy, seats, extra",
                    "<b>Topic 4</b><br>Words: economy, premium, premium economy, seats, extra"
                  ],
                  "marker": {
                    "color": "#D55E00"
                  },
                  "name": "4_economy_premium_premium economy_seats",
                  "orientation": "h",
                  "type": "bar",
                  "visible": "legendonly",
                  "x": {
                    "bdata": "ICswPGs=",
                    "dtype": "i1"
                  },
                  "y": {
                    "bdata": "AQIDBAU=",
                    "dtype": "i1"
                  }
                },
                {
                  "hoverinfo": "text",
                  "hovertext": [
                    "<b>Topic 5</b><br>Words: a380, seat, seats, just, ba",
                    "<b>Topic 5</b><br>Words: seat, a380, looks, service, class",
                    "<b>Topic 5</b><br>Words: a380, seat, seats, a350, economy",
                    "<b>Topic 5</b><br>Words: a380, seat, good, seats, a350",
                    "<b>Topic 5</b><br>Words: a380, seat, a350, seats, good"
                  ],
                  "marker": {
                    "color": "#0072B2"
                  },
                  "name": "5_a380_seat_seats_a350",
                  "orientation": "h",
                  "type": "bar",
                  "visible": "legendonly",
                  "x": {
                    "bdata": "BgQVIVU=",
                    "dtype": "i1"
                  },
                  "y": {
                    "bdata": "AQIDBAU=",
                    "dtype": "i1"
                  }
                },
                {
                  "hoverinfo": "text",
                  "hovertext": [
                    "<b>Topic 6</b><br>Words: seat, wheelchair, said, asked, staff",
                    "<b>Topic 6</b><br>Words: seat, seats, baby, passenger, wheelchair",
                    "<b>Topic 6</b><br>Words: seat, seats, told, passengers, stairs",
                    "<b>Topic 6</b><br>Words: seat, seats, wheelchair, staff, journey",
                    "<b>Topic 6</b><br>Words: wheelchair, seat, staff, airport, seats"
                  ],
                  "marker": {
                    "color": "#CC79A7"
                  },
                  "name": "6_seat_wheelchair_seats_staff",
                  "orientation": "h",
                  "type": "bar",
                  "visible": "legendonly",
                  "x": {
                    "bdata": "LA4TCRs=",
                    "dtype": "i1"
                  },
                  "y": {
                    "bdata": "AQIDBAU=",
                    "dtype": "i1"
                  }
                },
                {
                  "hoverinfo": "text",
                  "hovertext": [
                    "<b>Topic 7</b><br>Words: bassinet, chair, kids, disappointing, window point",
                    "<b>Topic 7</b><br>Words: kids, sitting, children, wouldn, eat",
                    "<b>Topic 7</b><br>Words: kids, kid, children, food, meal",
                    "<b>Topic 7</b><br>Words: kids, baby, food, old, year old"
                  ],
                  "marker": {
                    "color": "#E69F00"
                  },
                  "name": "7_kids_baby_food_old",
                  "orientation": "h",
                  "type": "bar",
                  "visible": "legendonly",
                  "x": {
                    "bdata": "AgIKPg==",
                    "dtype": "i1"
                  },
                  "y": {
                    "bdata": "AQMEBQ==",
                    "dtype": "i1"
                  }
                },
                {
                  "hoverinfo": "text",
                  "hovertext": [
                    "<b>Topic 8</b><br>Words: customer, customer service, tried, emails, booking",
                    "<b>Topic 8</b><br>Words: tokyo, complaint, earlier, later, airport needed",
                    "<b>Topic 8</b><br>Words: change date, forms, email, phone, date",
                    "<b>Topic 8</b><br>Words: native, write reviews, nearly impossible, tried change, tripadvisor"
                  ],
                  "marker": {
                    "color": "#56B4E9"
                  },
                  "name": "8_customer_customer service_tried_emails",
                  "orientation": "h",
                  "type": "bar",
                  "visible": "legendonly",
                  "x": {
                    "bdata": "OgIBAQ==",
                    "dtype": "i1"
                  },
                  "y": {
                    "bdata": "AQIDBQ==",
                    "dtype": "i1"
                  }
                },
                {
                  "hoverinfo": "text",
                  "hovertext": [
                    "<b>Topic 9</b><br>Words: miles, points, krisflyer, upgrade, ticket",
                    "<b>Topic 9</b><br>Words: miles, claims, alliance, redemption, process",
                    "<b>Topic 9</b><br>Words: points, legroom better, credit card, upgrade, credit",
                    "<b>Topic 9</b><br>Words: membership, process, mailed, points travel, luck shame",
                    "<b>Topic 9</b><br>Words: points, krisflyer, krisflyer points, redemption, use"
                  ],
                  "marker": {
                    "color": "#009E73"
                  },
                  "name": "9_miles_points_krisflyer_upgrade",
                  "orientation": "h",
                  "type": "bar",
                  "visible": "legendonly",
                  "x": {
                    "bdata": "EQQBAgI=",
                    "dtype": "i1"
                  },
                  "y": {
                    "bdata": "AQIDBAU=",
                    "dtype": "i1"
                  }
                }
              ],
              "layout": {
                "height": 900,
                "hoverlabel": {
                  "bgcolor": "white",
                  "font": {
                    "family": "Rockwell",
                    "size": 16
                  }
                },
                "legend": {
                  "title": {
                    "text": "<b>Global Topic Representation"
                  }
                },
                "template": {
                  "data": {
                    "bar": [
                      {
                        "error_x": {
                          "color": "rgb(36,36,36)"
                        },
                        "error_y": {
                          "color": "rgb(36,36,36)"
                        },
                        "marker": {
                          "line": {
                            "color": "white",
                            "width": 0.5
                          },
                          "pattern": {
                            "fillmode": "overlay",
                            "size": 10,
                            "solidity": 0.2
                          }
                        },
                        "type": "bar"
                      }
                    ],
                    "barpolar": [
                      {
                        "marker": {
                          "line": {
                            "color": "white",
                            "width": 0.5
                          },
                          "pattern": {
                            "fillmode": "overlay",
                            "size": 10,
                            "solidity": 0.2
                          }
                        },
                        "type": "barpolar"
                      }
                    ],
                    "carpet": [
                      {
                        "aaxis": {
                          "endlinecolor": "rgb(36,36,36)",
                          "gridcolor": "white",
                          "linecolor": "white",
                          "minorgridcolor": "white",
                          "startlinecolor": "rgb(36,36,36)"
                        },
                        "baxis": {
                          "endlinecolor": "rgb(36,36,36)",
                          "gridcolor": "white",
                          "linecolor": "white",
                          "minorgridcolor": "white",
                          "startlinecolor": "rgb(36,36,36)"
                        },
                        "type": "carpet"
                      }
                    ],
                    "choropleth": [
                      {
                        "colorbar": {
                          "outlinewidth": 1,
                          "tickcolor": "rgb(36,36,36)",
                          "ticks": "outside"
                        },
                        "type": "choropleth"
                      }
                    ],
                    "contour": [
                      {
                        "colorbar": {
                          "outlinewidth": 1,
                          "tickcolor": "rgb(36,36,36)",
                          "ticks": "outside"
                        },
                        "colorscale": [
                          [
                            0,
                            "#440154"
                          ],
                          [
                            0.1111111111111111,
                            "#482878"
                          ],
                          [
                            0.2222222222222222,
                            "#3e4989"
                          ],
                          [
                            0.3333333333333333,
                            "#31688e"
                          ],
                          [
                            0.4444444444444444,
                            "#26828e"
                          ],
                          [
                            0.5555555555555556,
                            "#1f9e89"
                          ],
                          [
                            0.6666666666666666,
                            "#35b779"
                          ],
                          [
                            0.7777777777777778,
                            "#6ece58"
                          ],
                          [
                            0.8888888888888888,
                            "#b5de2b"
                          ],
                          [
                            1,
                            "#fde725"
                          ]
                        ],
                        "type": "contour"
                      }
                    ],
                    "contourcarpet": [
                      {
                        "colorbar": {
                          "outlinewidth": 1,
                          "tickcolor": "rgb(36,36,36)",
                          "ticks": "outside"
                        },
                        "type": "contourcarpet"
                      }
                    ],
                    "heatmap": [
                      {
                        "colorbar": {
                          "outlinewidth": 1,
                          "tickcolor": "rgb(36,36,36)",
                          "ticks": "outside"
                        },
                        "colorscale": [
                          [
                            0,
                            "#440154"
                          ],
                          [
                            0.1111111111111111,
                            "#482878"
                          ],
                          [
                            0.2222222222222222,
                            "#3e4989"
                          ],
                          [
                            0.3333333333333333,
                            "#31688e"
                          ],
                          [
                            0.4444444444444444,
                            "#26828e"
                          ],
                          [
                            0.5555555555555556,
                            "#1f9e89"
                          ],
                          [
                            0.6666666666666666,
                            "#35b779"
                          ],
                          [
                            0.7777777777777778,
                            "#6ece58"
                          ],
                          [
                            0.8888888888888888,
                            "#b5de2b"
                          ],
                          [
                            1,
                            "#fde725"
                          ]
                        ],
                        "type": "heatmap"
                      }
                    ],
                    "histogram": [
                      {
                        "marker": {
                          "line": {
                            "color": "white",
                            "width": 0.6
                          }
                        },
                        "type": "histogram"
                      }
                    ],
                    "histogram2d": [
                      {
                        "colorbar": {
                          "outlinewidth": 1,
                          "tickcolor": "rgb(36,36,36)",
                          "ticks": "outside"
                        },
                        "colorscale": [
                          [
                            0,
                            "#440154"
                          ],
                          [
                            0.1111111111111111,
                            "#482878"
                          ],
                          [
                            0.2222222222222222,
                            "#3e4989"
                          ],
                          [
                            0.3333333333333333,
                            "#31688e"
                          ],
                          [
                            0.4444444444444444,
                            "#26828e"
                          ],
                          [
                            0.5555555555555556,
                            "#1f9e89"
                          ],
                          [
                            0.6666666666666666,
                            "#35b779"
                          ],
                          [
                            0.7777777777777778,
                            "#6ece58"
                          ],
                          [
                            0.8888888888888888,
                            "#b5de2b"
                          ],
                          [
                            1,
                            "#fde725"
                          ]
                        ],
                        "type": "histogram2d"
                      }
                    ],
                    "histogram2dcontour": [
                      {
                        "colorbar": {
                          "outlinewidth": 1,
                          "tickcolor": "rgb(36,36,36)",
                          "ticks": "outside"
                        },
                        "colorscale": [
                          [
                            0,
                            "#440154"
                          ],
                          [
                            0.1111111111111111,
                            "#482878"
                          ],
                          [
                            0.2222222222222222,
                            "#3e4989"
                          ],
                          [
                            0.3333333333333333,
                            "#31688e"
                          ],
                          [
                            0.4444444444444444,
                            "#26828e"
                          ],
                          [
                            0.5555555555555556,
                            "#1f9e89"
                          ],
                          [
                            0.6666666666666666,
                            "#35b779"
                          ],
                          [
                            0.7777777777777778,
                            "#6ece58"
                          ],
                          [
                            0.8888888888888888,
                            "#b5de2b"
                          ],
                          [
                            1,
                            "#fde725"
                          ]
                        ],
                        "type": "histogram2dcontour"
                      }
                    ],
                    "mesh3d": [
                      {
                        "colorbar": {
                          "outlinewidth": 1,
                          "tickcolor": "rgb(36,36,36)",
                          "ticks": "outside"
                        },
                        "type": "mesh3d"
                      }
                    ],
                    "parcoords": [
                      {
                        "line": {
                          "colorbar": {
                            "outlinewidth": 1,
                            "tickcolor": "rgb(36,36,36)",
                            "ticks": "outside"
                          }
                        },
                        "type": "parcoords"
                      }
                    ],
                    "pie": [
                      {
                        "automargin": true,
                        "type": "pie"
                      }
                    ],
                    "scatter": [
                      {
                        "fillpattern": {
                          "fillmode": "overlay",
                          "size": 10,
                          "solidity": 0.2
                        },
                        "type": "scatter"
                      }
                    ],
                    "scatter3d": [
                      {
                        "line": {
                          "colorbar": {
                            "outlinewidth": 1,
                            "tickcolor": "rgb(36,36,36)",
                            "ticks": "outside"
                          }
                        },
                        "marker": {
                          "colorbar": {
                            "outlinewidth": 1,
                            "tickcolor": "rgb(36,36,36)",
                            "ticks": "outside"
                          }
                        },
                        "type": "scatter3d"
                      }
                    ],
                    "scattercarpet": [
                      {
                        "marker": {
                          "colorbar": {
                            "outlinewidth": 1,
                            "tickcolor": "rgb(36,36,36)",
                            "ticks": "outside"
                          }
                        },
                        "type": "scattercarpet"
                      }
                    ],
                    "scattergeo": [
                      {
                        "marker": {
                          "colorbar": {
                            "outlinewidth": 1,
                            "tickcolor": "rgb(36,36,36)",
                            "ticks": "outside"
                          }
                        },
                        "type": "scattergeo"
                      }
                    ],
                    "scattergl": [
                      {
                        "marker": {
                          "colorbar": {
                            "outlinewidth": 1,
                            "tickcolor": "rgb(36,36,36)",
                            "ticks": "outside"
                          }
                        },
                        "type": "scattergl"
                      }
                    ],
                    "scattermap": [
                      {
                        "marker": {
                          "colorbar": {
                            "outlinewidth": 1,
                            "tickcolor": "rgb(36,36,36)",
                            "ticks": "outside"
                          }
                        },
                        "type": "scattermap"
                      }
                    ],
                    "scattermapbox": [
                      {
                        "marker": {
                          "colorbar": {
                            "outlinewidth": 1,
                            "tickcolor": "rgb(36,36,36)",
                            "ticks": "outside"
                          }
                        },
                        "type": "scattermapbox"
                      }
                    ],
                    "scatterpolar": [
                      {
                        "marker": {
                          "colorbar": {
                            "outlinewidth": 1,
                            "tickcolor": "rgb(36,36,36)",
                            "ticks": "outside"
                          }
                        },
                        "type": "scatterpolar"
                      }
                    ],
                    "scatterpolargl": [
                      {
                        "marker": {
                          "colorbar": {
                            "outlinewidth": 1,
                            "tickcolor": "rgb(36,36,36)",
                            "ticks": "outside"
                          }
                        },
                        "type": "scatterpolargl"
                      }
                    ],
                    "scatterternary": [
                      {
                        "marker": {
                          "colorbar": {
                            "outlinewidth": 1,
                            "tickcolor": "rgb(36,36,36)",
                            "ticks": "outside"
                          }
                        },
                        "type": "scatterternary"
                      }
                    ],
                    "surface": [
                      {
                        "colorbar": {
                          "outlinewidth": 1,
                          "tickcolor": "rgb(36,36,36)",
                          "ticks": "outside"
                        },
                        "colorscale": [
                          [
                            0,
                            "#440154"
                          ],
                          [
                            0.1111111111111111,
                            "#482878"
                          ],
                          [
                            0.2222222222222222,
                            "#3e4989"
                          ],
                          [
                            0.3333333333333333,
                            "#31688e"
                          ],
                          [
                            0.4444444444444444,
                            "#26828e"
                          ],
                          [
                            0.5555555555555556,
                            "#1f9e89"
                          ],
                          [
                            0.6666666666666666,
                            "#35b779"
                          ],
                          [
                            0.7777777777777778,
                            "#6ece58"
                          ],
                          [
                            0.8888888888888888,
                            "#b5de2b"
                          ],
                          [
                            1,
                            "#fde725"
                          ]
                        ],
                        "type": "surface"
                      }
                    ],
                    "table": [
                      {
                        "cells": {
                          "fill": {
                            "color": "rgb(237,237,237)"
                          },
                          "line": {
                            "color": "white"
                          }
                        },
                        "header": {
                          "fill": {
                            "color": "rgb(217,217,217)"
                          },
                          "line": {
                            "color": "white"
                          }
                        },
                        "type": "table"
                      }
                    ]
                  },
                  "layout": {
                    "annotationdefaults": {
                      "arrowhead": 0,
                      "arrowwidth": 1
                    },
                    "autotypenumbers": "strict",
                    "coloraxis": {
                      "colorbar": {
                        "outlinewidth": 1,
                        "tickcolor": "rgb(36,36,36)",
                        "ticks": "outside"
                      }
                    },
                    "colorscale": {
                      "diverging": [
                        [
                          0,
                          "rgb(103,0,31)"
                        ],
                        [
                          0.1,
                          "rgb(178,24,43)"
                        ],
                        [
                          0.2,
                          "rgb(214,96,77)"
                        ],
                        [
                          0.3,
                          "rgb(244,165,130)"
                        ],
                        [
                          0.4,
                          "rgb(253,219,199)"
                        ],
                        [
                          0.5,
                          "rgb(247,247,247)"
                        ],
                        [
                          0.6,
                          "rgb(209,229,240)"
                        ],
                        [
                          0.7,
                          "rgb(146,197,222)"
                        ],
                        [
                          0.8,
                          "rgb(67,147,195)"
                        ],
                        [
                          0.9,
                          "rgb(33,102,172)"
                        ],
                        [
                          1,
                          "rgb(5,48,97)"
                        ]
                      ],
                      "sequential": [
                        [
                          0,
                          "#440154"
                        ],
                        [
                          0.1111111111111111,
                          "#482878"
                        ],
                        [
                          0.2222222222222222,
                          "#3e4989"
                        ],
                        [
                          0.3333333333333333,
                          "#31688e"
                        ],
                        [
                          0.4444444444444444,
                          "#26828e"
                        ],
                        [
                          0.5555555555555556,
                          "#1f9e89"
                        ],
                        [
                          0.6666666666666666,
                          "#35b779"
                        ],
                        [
                          0.7777777777777778,
                          "#6ece58"
                        ],
                        [
                          0.8888888888888888,
                          "#b5de2b"
                        ],
                        [
                          1,
                          "#fde725"
                        ]
                      ],
                      "sequentialminus": [
                        [
                          0,
                          "#440154"
                        ],
                        [
                          0.1111111111111111,
                          "#482878"
                        ],
                        [
                          0.2222222222222222,
                          "#3e4989"
                        ],
                        [
                          0.3333333333333333,
                          "#31688e"
                        ],
                        [
                          0.4444444444444444,
                          "#26828e"
                        ],
                        [
                          0.5555555555555556,
                          "#1f9e89"
                        ],
                        [
                          0.6666666666666666,
                          "#35b779"
                        ],
                        [
                          0.7777777777777778,
                          "#6ece58"
                        ],
                        [
                          0.8888888888888888,
                          "#b5de2b"
                        ],
                        [
                          1,
                          "#fde725"
                        ]
                      ]
                    },
                    "colorway": [
                      "#1F77B4",
                      "#FF7F0E",
                      "#2CA02C",
                      "#D62728",
                      "#9467BD",
                      "#8C564B",
                      "#E377C2",
                      "#7F7F7F",
                      "#BCBD22",
                      "#17BECF"
                    ],
                    "font": {
                      "color": "rgb(36,36,36)"
                    },
                    "geo": {
                      "bgcolor": "white",
                      "lakecolor": "white",
                      "landcolor": "white",
                      "showlakes": true,
                      "showland": true,
                      "subunitcolor": "white"
                    },
                    "hoverlabel": {
                      "align": "left"
                    },
                    "hovermode": "closest",
                    "mapbox": {
                      "style": "light"
                    },
                    "paper_bgcolor": "white",
                    "plot_bgcolor": "white",
                    "polar": {
                      "angularaxis": {
                        "gridcolor": "rgb(232,232,232)",
                        "linecolor": "rgb(36,36,36)",
                        "showgrid": false,
                        "showline": true,
                        "ticks": "outside"
                      },
                      "bgcolor": "white",
                      "radialaxis": {
                        "gridcolor": "rgb(232,232,232)",
                        "linecolor": "rgb(36,36,36)",
                        "showgrid": false,
                        "showline": true,
                        "ticks": "outside"
                      }
                    },
                    "scene": {
                      "xaxis": {
                        "backgroundcolor": "white",
                        "gridcolor": "rgb(232,232,232)",
                        "gridwidth": 2,
                        "linecolor": "rgb(36,36,36)",
                        "showbackground": true,
                        "showgrid": false,
                        "showline": true,
                        "ticks": "outside",
                        "zeroline": false,
                        "zerolinecolor": "rgb(36,36,36)"
                      },
                      "yaxis": {
                        "backgroundcolor": "white",
                        "gridcolor": "rgb(232,232,232)",
                        "gridwidth": 2,
                        "linecolor": "rgb(36,36,36)",
                        "showbackground": true,
                        "showgrid": false,
                        "showline": true,
                        "ticks": "outside",
                        "zeroline": false,
                        "zerolinecolor": "rgb(36,36,36)"
                      },
                      "zaxis": {
                        "backgroundcolor": "white",
                        "gridcolor": "rgb(232,232,232)",
                        "gridwidth": 2,
                        "linecolor": "rgb(36,36,36)",
                        "showbackground": true,
                        "showgrid": false,
                        "showline": true,
                        "ticks": "outside",
                        "zeroline": false,
                        "zerolinecolor": "rgb(36,36,36)"
                      }
                    },
                    "shapedefaults": {
                      "fillcolor": "black",
                      "line": {
                        "width": 0
                      },
                      "opacity": 0.3
                    },
                    "ternary": {
                      "aaxis": {
                        "gridcolor": "rgb(232,232,232)",
                        "linecolor": "rgb(36,36,36)",
                        "showgrid": false,
                        "showline": true,
                        "ticks": "outside"
                      },
                      "baxis": {
                        "gridcolor": "rgb(232,232,232)",
                        "linecolor": "rgb(36,36,36)",
                        "showgrid": false,
                        "showline": true,
                        "ticks": "outside"
                      },
                      "bgcolor": "white",
                      "caxis": {
                        "gridcolor": "rgb(232,232,232)",
                        "linecolor": "rgb(36,36,36)",
                        "showgrid": false,
                        "showline": true,
                        "ticks": "outside"
                      }
                    },
                    "title": {
                      "x": 0.05
                    },
                    "xaxis": {
                      "automargin": true,
                      "gridcolor": "rgb(232,232,232)",
                      "linecolor": "rgb(36,36,36)",
                      "showgrid": false,
                      "showline": true,
                      "ticks": "outside",
                      "title": {
                        "standoff": 15
                      },
                      "zeroline": false,
                      "zerolinecolor": "rgb(36,36,36)"
                    },
                    "yaxis": {
                      "automargin": true,
                      "gridcolor": "rgb(232,232,232)",
                      "linecolor": "rgb(36,36,36)",
                      "showgrid": false,
                      "showline": true,
                      "ticks": "outside",
                      "title": {
                        "standoff": 15
                      },
                      "zeroline": false,
                      "zerolinecolor": "rgb(36,36,36)"
                    }
                  }
                },
                "title": {
                  "font": {
                    "color": "Black",
                    "size": 22
                  },
                  "text": "<b>Topics per Class</b>",
                  "x": 0.4,
                  "xanchor": "center",
                  "y": 0.95,
                  "yanchor": "top"
                },
                "width": 1250,
                "xaxis": {
                  "showgrid": true,
                  "title": {
                    "text": "Frequency"
                  }
                },
                "yaxis": {
                  "showgrid": true,
                  "title": {
                    "text": "Class"
                  }
                }
              }
            }
          },
          "metadata": {},
          "output_type": "display_data"
        }
      ],
      "source": [
        "# Prepare Inputs\n",
        "documents = df[\"text\"].tolist()\n",
        "class_labels = df[\"rating\"].tolist()  # or a grouped rating column\n",
        "topic_assignments = topics2  # from fit_transform()\n",
        "\n",
        "# Get topics per class\n",
        "topics_per_class = df_model.topics_per_class(\n",
        "    docs=documents,\n",
        "    classes=class_labels\n",
        ")\n",
        "\n",
        "# Visualize\n",
        "df_model.visualize_topics_per_class(topics_per_class)\n",
        "# !!! The plot is interactive. Click legend labels to choose & compare topics (not recomended having >3 a time). !!!"
      ]
    },
    {
      "cell_type": "markdown",
      "metadata": {},
      "source": [
        "While topics 0, 1, 3, 5, 7 are mostly rated 5, topics 2, 6, 8, 9 are mostly rated 1, which is obvious from their average ratings. However, looking at Topic 4, we know the average rating to be 3.58, however the distribution is across ratings is significantly skewed towards 5."
      ]
    },
    {
      "cell_type": "markdown",
      "metadata": {},
      "source": [
        "# __6. SUMMARY OF RESULTS__"
      ]
    },
    {
      "cell_type": "markdown",
      "metadata": {},
      "source": [
        "Summary results are based on the outputs of the `ft_model` traiend on the respective datasets. The findings were reviewed, condensed and summarized to their key insights."
      ]
    },
    {
      "cell_type": "markdown",
      "metadata": {},
      "source": [
        "### __6.1. BEFORE COVID:__\n",
        "- Topics (excl. -1): 7\n",
        "- Overall Sentiment: Largely positive, with average ratings ranging from 4.19 to 4.57.\n",
        "- Outliers Topic `-1` includes strong negative feedback, with average rating 3.85\n",
        "\n",
        "Positive mentions:\n",
        "- __Food & Staff Quality__ (mentioned most frequently particularly by topic 1)\n",
        "    - Topics: 0, 1, 4\n",
        "    - Great food/ attentive and helpful staff/ overall pleasant experience\n",
        "- __Classes__\n",
        "    - Topics: 4, 5\n",
        "    - Praised business class wine selection/ clean (premium)economy/ responsive crew\n",
        "- __Family/Kids Travel__\n",
        "    - Topics: 2\n",
        "    - Kids friendly services/ toys, bassinet seats/ warm & understanding crew\n",
        "\n",
        "Negative mentions:\n",
        "- __Poor Custumer Service & Confusing Booking Experience__\n",
        "    - Topics: -1\n",
        "    - Confusing upgrade policies/ overcharging/ paid-for seats unavailable/ delays/ poor customer service\n",
        "- __Business and Economy Classes__\n",
        "    - Topics: 3, 4\n",
        "    - Overpriced/ outdated business design/ poor meal timing\n",
        "- SilkAir is considered as 'dragging' SIA's reputation due to poor sevices (even for budget)"
      ]
    },
    {
      "cell_type": "markdown",
      "metadata": {},
      "source": [
        "### __6.2. DURING COVID:__\n",
        "- Topics (excl. -1): 3\n",
        "- Overall Sentiment: Mixed, with average ratings ranging from 2.46 to 4.17.\n",
        "\n",
        "Positive mentions:\n",
        "- __Good Experince__\n",
        "    - Topics: 1\n",
        "    - Professional & freindly crew/ clean planes/ good food\n",
        "\n",
        "Negative mentions:\n",
        "- __Refunds & Customer Service__ (this was during COVID!)\n",
        "    - Topics: 0\n",
        "    - Dissatisfaction with return handling (first & business class extra)/ lack of transperancy & communication (months call-back wait)/ long & partial refunds\n",
        "- __Premium Economy Steating__\n",
        "    - Topics: 1\n",
        "    - Overpriced/ minimal upgrades over standard/ identical food"
      ]
    },
    {
      "cell_type": "markdown",
      "metadata": {},
      "source": [
        "### __6.3. AFTER COVID:__\n",
        "- Topics (excl. -1): 8\n",
        "- Overall Sentiment: Generally negative, topics' average rating below 2.5 with exception of 2 topics above 3.5\n",
        "\n",
        "Positive mentions:\n",
        "- __Good Experince__  (for long distance & first class)\n",
        "    - Topics: 3, 7\n",
        "    - Premium dining/ attentive & professional crew (inconsistent)/ KrisWorld entertainment/ nice design and clean (especially econ)\n",
        "\n",
        "Negative mentions:\n",
        "- __Luggage__\n",
        "    - Topics: 2\n",
        "    - lost bags/ lack of transperancy & communication/ rude agents/ missed compensations\n",
        "- __Refunds, Customer Service, Booking__\n",
        "    - Topics: 4\n",
        "    - poor communication/ booking errors/ inflexible booking policies/ poor refund policies\n",
        "- __Premium Economy__\n",
        "    - Topics: 5\n",
        "    - Overpriced/ minimal upgrades over standard/ no food upgrades/ other airlines are better for the price\n",
        "- __Other__\n",
        "    - Againg aircracfts/ poor meal quality/ inconsistent crew professionalism/ poor special needs and medical assistance"
      ]
    },
    {
      "cell_type": "markdown",
      "metadata": {},
      "source": [
        "### __6.4. POSITIVE RATING:__\n",
        "- Topics (excl. -1): 9\n",
        "- Overall Sentiment: Average rating ranges 4.70 to 4.89 (makes sence since it is purely positve)\n",
        "\n",
        "Mentions:\n",
        "- __Refunds, Tickets & Cancellation Handling__  (for long distance & first class)\n",
        "    - Topics: 9 (relatively small cluster of 36obs)\n",
        "    - fast resolution/ transparent communication/ flexible policy during COVID\n",
        "- __Food & Staff Quality__\n",
        "    - Topics: 5, 7, 8\n",
        "    - crew warmth/ friendly connection (post-COVID)/ expereince consitency/ great food\n",
        "- __Child-Friendly__\n",
        "    - Topics: 6\n",
        "    - crew patience & support/ toys/ bassinets/ snaks/ better compared to rivals\n",
        "- __Comfort & Features__\n",
        "    - Topics: 0, 2\n",
        "    - Comfort in business (especially A380/350)/ in-flight entertainment/ seat design/ on-time boarding/ friendly lounges/ smooth landing\n",
        "\n",
        "Looking at the topics over time plot, the frequency of these topics drops in-line with the pandemic and practically disappears after 2022. Topics 1 and 0 do get mentioned to an extent, but not at pre-COVID levels."
      ]
    },
    {
      "cell_type": "markdown",
      "metadata": {},
      "source": [
        "### __6.5. AVERAGE RATING:__\n",
        "- Topics (excl. -1): 8\n",
        "- Overall Sentiment: Average rating 3\n",
        "\n",
        "Mentions:\n",
        "- __Premium Economy__  (for long distance & first class)\n",
        "    - Topics: 1\n",
        "    - _Positives_: leg-room/ priority boarding\n",
        "    - _Negatives_: treated like economy/ shared restrooms/ economy food/ overpriced\n",
        "- __Economy & Staff__\n",
        "    - Topics: 2, 3\n",
        "    - _Positives_: polite crew (inconsistent)/ on-time departures\n",
        "    - _Negatives_: uncomfortable seats/ cold & dirty seats/ vegeterian and special meals misshandled/ inconsistent crew service\n",
        "- __Long Flights & Business Class__\n",
        "    - Topics: 0, 4, 5, 7\n",
        "    - _Positives_: spacious/ patient staff (inconsistent)/ bar options/ families are treated nice\n",
        "    - _Negatives_: poor seat comfort (777 & A330)/ food quality & portions lack/ outdated lounge/ poor children meals\n",
        "- __Members__\n",
        "    - Topics: 6\n",
        "    - _Positives_: complimentary upgrades sometimes\n",
        "    - _Negatives_: little recognition of Star Alliance Gold/ United elites etc./ Lounge quality lacking\n",
        "\n",
        "Looking at the topics over time plot, the frequency of these topics drops in-line with the pandemic and practically disappears after 2021. However, to begin with, rating of 3 is least commom rating, likely because reviews are often based on strong emotion (positive or negative)."
      ]
    },
    {
      "cell_type": "markdown",
      "metadata": {},
      "source": [
        "### __6.6. NEGATIVE RATING:__\n",
        "- Topics (excl. -1): 7\n",
        "- Overall Sentiment: Average rating ranges 1.06 to 1.57 (makes sence since it is purely negative)\n",
        "\n",
        "Mentions:\n",
        "- __Service Crew__  (for long distance & first class)\n",
        "    - Topics: 0\n",
        "    - inconsistent and poor staff quality/ boarding inefficiencies (long taxiing, delays, class miss-priority)\n",
        "- __Luggage__\n",
        "    - Topics: 1\n",
        "    - frequent luggage missplacement on connecting flights/ poor customer service regarding luggage recovery/ delayed recovery/ dismissive staff\n",
        "- __Seats & Food__\n",
        "    - Topics: 2, 5, 6\n",
        "    - overprices premium/ no distinction from standard (meals, facilities)/ rude cabin crew/ poor design business and economy/ low quality meals (mentioned post-COVID more)/ poor handling dietary needs\n",
        "- __Customer Service & Refunds__\n",
        "    - Topics: 3, 4\n",
        "    - unresponsive customer support (emails, calls)/ refund delays, undercompensation & failures/ poor booking & editing system/ inaccurate information from customer services/ poor communication of changes\n",
        "\n",
        "Looking at the topics over time plot, the frequncy of these topics reduces during COVID (like all other expected), but returns towards the end of 2021. While the frequency is similar to pre-COVID, relative to the positve and average resposes it increased significantly."
      ]
    },
    {
      "cell_type": "markdown",
      "metadata": {},
      "source": [
        "# __7. RECOMMENDATIONS__"
      ]
    },
    {
      "cell_type": "markdown",
      "metadata": {},
      "source": [
        "The recommendations are in a listed in the order of importance to the Singapore Airlines (SQ). Within the reccomendations, outside of describing and reasoning my recommendation, I will mention what SIA are already doing well and need to preserve if there are points applicable."
      ]
    },
    {
      "cell_type": "markdown",
      "metadata": {},
      "source": [
        "## 7.1. Update Customer Service System"
      ]
    },
    {
      "cell_type": "markdown",
      "metadata": {},
      "source": [
        "Customer service issues were not only one of the most common issues mentioned in the reviews, but also consistent across pre- and post-COVID periods. When looking at only negative reviews, it has the lowest average ratings of 1.06 & 1.13 (`df_neg`, _Topics 3 & 4_). Passengers mention long wait times, unreturned emails, rude or misinformed agents and overall lack of transparency, especially when requiring support for refunds (being delayed, undercompensated or denied). Refund and customer support were often mentioned in the same reviews and topics, these were the lowest rated topics with harshest reviews, with some reviews stating they \"reported SIA to the Department of Transportation\". To regain customer confidence SQ must invest in an improved customer service system. It should include smarter AI-Chatbots to handle minor queries (current bots were reported often unhelpful), an automated refund system for small and non-regular claims (personnel dedicated to prioritise larger claims), and auto-generated communication updates for flight timeline, status changes and disruptions. Additionally, more human agents must be re-trained to be professional, consistent, well-informed and empathetic to customers. Finally, during high-traffic periods (e.g., early post-COVID months), the number of agents on-call should increase. Satisfying these recommendations will improve SQ's image, reduce response time (and customer frustration) and improve average ratings."
      ]
    },
    {
      "cell_type": "markdown",
      "metadata": {},
      "source": [
        "## 7.2. Redesign the Booking System"
      ]
    },
    {
      "cell_type": "markdown",
      "metadata": {},
      "source": [
        "To reinforce the Section 7.1, SQ needs to redesign its booking system. Across tested dataframes, customers mention malfunctioning and confusing booking experience (pre- and post-COVID). Passengers encounter problems with changing travel dates, seats, upgrade classes, and cancel flights, often requiring them to seek online assistance (linking back to Section 7.1 recommendation). The issue causes vary from system processing delays, price fluctuations during booking, and incorrect information presented during booking resulting in incorrect bookings. Investing in a modernized booking system that is real-time synchronized with the database and has a more customer-friendly User Interface for amending bookings is a requirement in today's world, where small quality-of-life digital improvements are appreciated by the end-users. The improvement would reduce the need for customer support services (supporting Section 7.1) and boost SQ to the digital standard of other airlines. \n",
        "\n",
        "Finally, frequent flyers report the lack of their recognition (`df_avg`, _Topic 6_), Alliance Gold and United Elites were specifically mentioned. Integrating a system to recognise such flyers and offer them additional services (e.g., lounge) can capture a previously dissatisfied customer segment."
      ]
    },
    {
      "cell_type": "markdown",
      "metadata": {},
      "source": [
        "## 7.3. Improve Services to Pre-COVID Standards"
      ]
    },
    {
      "cell_type": "markdown",
      "metadata": {},
      "source": [
        "Moving away from long-term issues, after COVID, the passengers report crew to be 'inconsistent', 'robotic', dismissive and  lacking empathy (similar to Section 7.1). This suggests a post-COVID culture shift in the crew that damages SQ's reputation. SQ must perform a standardized service re-training program across their teams (in-flight crew, luggage handling, lounge) ensuring to promote consistency, warmth and professionalism. To incentivize this, SQ can hire 'mystery-flyers' that evaluate the performance of the staff, and given a good evaluation, the staff would receive a minor salary bonus (performed on a monthly basis). SQ customers also rate highly when the crew is helpful and understanding with children, therefore the crew should pay extra attention to such passengers (providing toy packages and helping with formula bottles were mentioned in highly rated reviews). Clean planes are also praised in highly rated reviews, but post-COVID passengers report inconsistencies, the re-training program should bring tidiness back to standard.\n",
        "\n",
        "Additionally, post-COVID there was a significant increase in luggage mishandling and loss, particularly for connecting flights (`df_after`, _Topics 1 & 2_). Some issues were reported to be due to communication causing issues in getting luggage back (further highlighting the need for Section 7.1), but the root cause is the luggage handling itself. Therefore, the re-training program for ground personnel should help to reduce luggage loss. Adding a similar to 'mystery-flyer' bonus system (e.g., set bonus on top of base salary, reduced for every mishandled baggage), should ensure follow-through. \n",
        "\n",
        "Finally, food which was mostly praised during pre-COVID periods, is now showing average ratings below 3.6 (`df_after`, _Topics 1 & 3 & 7_). While not as prevalent as issues mentioned so far, customers do report issues with handling dietary needs and boring food choices. Custom dietary needs can be improved through re-training and improved booking system, however, SQ needs to consider diversifying food options (at least to higher class passengers)."
      ]
    },
    {
      "cell_type": "markdown",
      "metadata": {},
      "source": [
        "## 7.4. Satisfy the Classes"
      ]
    },
    {
      "cell_type": "markdown",
      "metadata": {},
      "source": [
        "Final recommendation concerns premium economy and business class passengers. The segment is smaller, however, significant. Premium economy passengers report (pre- & post-COVID) dissatisfaction with minimal difference to economy considering it overpriced. Main issues mentioned are in-flight meals and drinks being the same as economy and shared facilities with economy, however, enjoying the extra leg-room. Improving the meal quality (e.g., offering cheap wine) and restricting the use of a bathroom to premium economy should resolve these concerns at minimal added costs, however, bathroom restriction may lead to an increase in negative reviews from economy class (single bathroom may not be enough).\n",
        "\n",
        "Business class passengers have specific complains. They state that the planes [Boeing 777s](https://en.wikipedia.org/wiki/Boeing_777) and [Airbus A330s](https://en.wikipedia.org/wiki/Airbus_A330) (both released pre-2000) are outdated and would like to see more Airbus [A350s](https://en.wikipedia.org/wiki/Airbus_A350) and [A380s](https://en.wikipedia.org/wiki/Airbus_A380) (released post-2000). This would require significant investment and before that a detailed cost analysis (additional revenue from new model satisfaction against costs incurred). I will mention that business class passengers highly praise the bar menu option, so ensuring its availability or even improving it could boost their satisfaction as well."
      ]
    }
  ],
  "metadata": {
    "accelerator": "GPU",
    "colab": {
      "collapsed_sections": [
        "QWwOLsVlV8Xg",
        "elS5OXxjV8Xk"
      ],
      "gpuType": "T4",
      "provenance": [],
      "toc_visible": true
    },
    "kernelspec": {
      "display_name": "smm768",
      "language": "python",
      "name": "python3"
    },
    "language_info": {
      "codemirror_mode": {
        "name": "ipython",
        "version": 3
      },
      "file_extension": ".py",
      "mimetype": "text/x-python",
      "name": "python",
      "nbconvert_exporter": "python",
      "pygments_lexer": "ipython3",
      "version": "3.11.11"
    },
    "widgets": {
      "application/vnd.jupyter.widget-state+json": {
        "02a1cc07e1a647cc94093c8944c27230": {
          "model_module": "@jupyter-widgets/controls",
          "model_module_version": "1.5.0",
          "model_name": "ProgressStyleModel",
          "state": {
            "_model_module": "@jupyter-widgets/controls",
            "_model_module_version": "1.5.0",
            "_model_name": "ProgressStyleModel",
            "_view_count": null,
            "_view_module": "@jupyter-widgets/base",
            "_view_module_version": "1.2.0",
            "_view_name": "StyleView",
            "bar_color": null,
            "description_width": ""
          }
        },
        "05d170ce69af4b1cb514763ad3adac71": {
          "model_module": "@jupyter-widgets/base",
          "model_module_version": "1.2.0",
          "model_name": "LayoutModel",
          "state": {
            "_model_module": "@jupyter-widgets/base",
            "_model_module_version": "1.2.0",
            "_model_name": "LayoutModel",
            "_view_count": null,
            "_view_module": "@jupyter-widgets/base",
            "_view_module_version": "1.2.0",
            "_view_name": "LayoutView",
            "align_content": null,
            "align_items": null,
            "align_self": null,
            "border": null,
            "bottom": null,
            "display": null,
            "flex": null,
            "flex_flow": null,
            "grid_area": null,
            "grid_auto_columns": null,
            "grid_auto_flow": null,
            "grid_auto_rows": null,
            "grid_column": null,
            "grid_gap": null,
            "grid_row": null,
            "grid_template_areas": null,
            "grid_template_columns": null,
            "grid_template_rows": null,
            "height": null,
            "justify_content": null,
            "justify_items": null,
            "left": null,
            "margin": null,
            "max_height": null,
            "max_width": null,
            "min_height": null,
            "min_width": null,
            "object_fit": null,
            "object_position": null,
            "order": null,
            "overflow": null,
            "overflow_x": null,
            "overflow_y": null,
            "padding": null,
            "right": null,
            "top": null,
            "visibility": null,
            "width": null
          }
        },
        "064915f277d94a02804b853f5c5205b1": {
          "model_module": "@jupyter-widgets/controls",
          "model_module_version": "1.5.0",
          "model_name": "DescriptionStyleModel",
          "state": {
            "_model_module": "@jupyter-widgets/controls",
            "_model_module_version": "1.5.0",
            "_model_name": "DescriptionStyleModel",
            "_view_count": null,
            "_view_module": "@jupyter-widgets/base",
            "_view_module_version": "1.2.0",
            "_view_name": "StyleView",
            "description_width": ""
          }
        },
        "07b6650f88f64cc7a791974b3d567b75": {
          "model_module": "@jupyter-widgets/base",
          "model_module_version": "1.2.0",
          "model_name": "LayoutModel",
          "state": {
            "_model_module": "@jupyter-widgets/base",
            "_model_module_version": "1.2.0",
            "_model_name": "LayoutModel",
            "_view_count": null,
            "_view_module": "@jupyter-widgets/base",
            "_view_module_version": "1.2.0",
            "_view_name": "LayoutView",
            "align_content": null,
            "align_items": null,
            "align_self": null,
            "border": null,
            "bottom": null,
            "display": null,
            "flex": null,
            "flex_flow": null,
            "grid_area": null,
            "grid_auto_columns": null,
            "grid_auto_flow": null,
            "grid_auto_rows": null,
            "grid_column": null,
            "grid_gap": null,
            "grid_row": null,
            "grid_template_areas": null,
            "grid_template_columns": null,
            "grid_template_rows": null,
            "height": null,
            "justify_content": null,
            "justify_items": null,
            "left": null,
            "margin": null,
            "max_height": null,
            "max_width": null,
            "min_height": null,
            "min_width": null,
            "object_fit": null,
            "object_position": null,
            "order": null,
            "overflow": null,
            "overflow_x": null,
            "overflow_y": null,
            "padding": null,
            "right": null,
            "top": null,
            "visibility": null,
            "width": null
          }
        },
        "07c2ae483d824c2e93c6c575ab3281dd": {
          "model_module": "@jupyter-widgets/controls",
          "model_module_version": "1.5.0",
          "model_name": "FloatProgressModel",
          "state": {
            "_dom_classes": [],
            "_model_module": "@jupyter-widgets/controls",
            "_model_module_version": "1.5.0",
            "_model_name": "FloatProgressModel",
            "_view_count": null,
            "_view_module": "@jupyter-widgets/controls",
            "_view_module_version": "1.5.0",
            "_view_name": "ProgressView",
            "bar_style": "success",
            "description": "",
            "description_tooltip": null,
            "layout": "IPY_MODEL_7e6392fb80524672950caccf9fae889a",
            "max": 112,
            "min": 0,
            "orientation": "horizontal",
            "style": "IPY_MODEL_bcc42174b3f246a1beb3eea9c4bdcb4c",
            "value": 112
          }
        },
        "089896bd97cb460f88d02442f177de17": {
          "model_module": "@jupyter-widgets/controls",
          "model_module_version": "1.5.0",
          "model_name": "ProgressStyleModel",
          "state": {
            "_model_module": "@jupyter-widgets/controls",
            "_model_module_version": "1.5.0",
            "_model_name": "ProgressStyleModel",
            "_view_count": null,
            "_view_module": "@jupyter-widgets/base",
            "_view_module_version": "1.2.0",
            "_view_name": "StyleView",
            "bar_color": null,
            "description_width": ""
          }
        },
        "08e67182c43a481aa6f29c377a66b3a0": {
          "model_module": "@jupyter-widgets/controls",
          "model_module_version": "1.5.0",
          "model_name": "HBoxModel",
          "state": {
            "_dom_classes": [],
            "_model_module": "@jupyter-widgets/controls",
            "_model_module_version": "1.5.0",
            "_model_name": "HBoxModel",
            "_view_count": null,
            "_view_module": "@jupyter-widgets/controls",
            "_view_module_version": "1.5.0",
            "_view_name": "HBoxView",
            "box_style": "",
            "children": [
              "IPY_MODEL_aa36edb56725415494dd0879aaac90f1",
              "IPY_MODEL_e7c1069f901043d7a98ed204aacd1445",
              "IPY_MODEL_290e8546c941471aa5e302ee8b38cc98"
            ],
            "layout": "IPY_MODEL_8405cdcb6444470b85d6d57f86c2538f"
          }
        },
        "092ccc832192407485adbc89eaa22d89": {
          "model_module": "@jupyter-widgets/controls",
          "model_module_version": "1.5.0",
          "model_name": "FloatProgressModel",
          "state": {
            "_dom_classes": [],
            "_model_module": "@jupyter-widgets/controls",
            "_model_module_version": "1.5.0",
            "_model_name": "FloatProgressModel",
            "_view_count": null,
            "_view_module": "@jupyter-widgets/controls",
            "_view_module_version": "1.5.0",
            "_view_name": "ProgressView",
            "bar_style": "success",
            "description": "",
            "description_tooltip": null,
            "layout": "IPY_MODEL_f781c676820c4d368a40ba623cd23f42",
            "max": 466247,
            "min": 0,
            "orientation": "horizontal",
            "style": "IPY_MODEL_791fc1c61c064e299658f038a9eceb22",
            "value": 466247
          }
        },
        "09cb3562415844559bba308815aafad4": {
          "model_module": "@jupyter-widgets/base",
          "model_module_version": "1.2.0",
          "model_name": "LayoutModel",
          "state": {
            "_model_module": "@jupyter-widgets/base",
            "_model_module_version": "1.2.0",
            "_model_name": "LayoutModel",
            "_view_count": null,
            "_view_module": "@jupyter-widgets/base",
            "_view_module_version": "1.2.0",
            "_view_name": "LayoutView",
            "align_content": null,
            "align_items": null,
            "align_self": null,
            "border": null,
            "bottom": null,
            "display": null,
            "flex": null,
            "flex_flow": null,
            "grid_area": null,
            "grid_auto_columns": null,
            "grid_auto_flow": null,
            "grid_auto_rows": null,
            "grid_column": null,
            "grid_gap": null,
            "grid_row": null,
            "grid_template_areas": null,
            "grid_template_columns": null,
            "grid_template_rows": null,
            "height": null,
            "justify_content": null,
            "justify_items": null,
            "left": null,
            "margin": null,
            "max_height": null,
            "max_width": null,
            "min_height": null,
            "min_width": null,
            "object_fit": null,
            "object_position": null,
            "order": null,
            "overflow": null,
            "overflow_x": null,
            "overflow_y": null,
            "padding": null,
            "right": null,
            "top": null,
            "visibility": null,
            "width": null
          }
        },
        "11376bc39dcc4af39d782684fe31c9af": {
          "model_module": "@jupyter-widgets/base",
          "model_module_version": "1.2.0",
          "model_name": "LayoutModel",
          "state": {
            "_model_module": "@jupyter-widgets/base",
            "_model_module_version": "1.2.0",
            "_model_name": "LayoutModel",
            "_view_count": null,
            "_view_module": "@jupyter-widgets/base",
            "_view_module_version": "1.2.0",
            "_view_name": "LayoutView",
            "align_content": null,
            "align_items": null,
            "align_self": null,
            "border": null,
            "bottom": null,
            "display": null,
            "flex": null,
            "flex_flow": null,
            "grid_area": null,
            "grid_auto_columns": null,
            "grid_auto_flow": null,
            "grid_auto_rows": null,
            "grid_column": null,
            "grid_gap": null,
            "grid_row": null,
            "grid_template_areas": null,
            "grid_template_columns": null,
            "grid_template_rows": null,
            "height": null,
            "justify_content": null,
            "justify_items": null,
            "left": null,
            "margin": null,
            "max_height": null,
            "max_width": null,
            "min_height": null,
            "min_width": null,
            "object_fit": null,
            "object_position": null,
            "order": null,
            "overflow": null,
            "overflow_x": null,
            "overflow_y": null,
            "padding": null,
            "right": null,
            "top": null,
            "visibility": null,
            "width": null
          }
        },
        "1434c9ae8e54458ea92e58a92636572e": {
          "model_module": "@jupyter-widgets/controls",
          "model_module_version": "1.5.0",
          "model_name": "HTMLModel",
          "state": {
            "_dom_classes": [],
            "_model_module": "@jupyter-widgets/controls",
            "_model_module_version": "1.5.0",
            "_model_name": "HTMLModel",
            "_view_count": null,
            "_view_module": "@jupyter-widgets/controls",
            "_view_module_version": "1.5.0",
            "_view_name": "HTMLView",
            "description": "",
            "description_tooltip": null,
            "layout": "IPY_MODEL_3e095306a96a4d48b1f48666ff1134d2",
            "placeholder": "​",
            "style": "IPY_MODEL_fc19c13ab45a495d998bc77a70ec9725",
            "value": " 350/350 [00:00&lt;00:00, 39.2kB/s]"
          }
        },
        "15dd79bf283d4be8a34a991a9e85f5b0": {
          "model_module": "@jupyter-widgets/base",
          "model_module_version": "1.2.0",
          "model_name": "LayoutModel",
          "state": {
            "_model_module": "@jupyter-widgets/base",
            "_model_module_version": "1.2.0",
            "_model_name": "LayoutModel",
            "_view_count": null,
            "_view_module": "@jupyter-widgets/base",
            "_view_module_version": "1.2.0",
            "_view_name": "LayoutView",
            "align_content": null,
            "align_items": null,
            "align_self": null,
            "border": null,
            "bottom": null,
            "display": null,
            "flex": null,
            "flex_flow": null,
            "grid_area": null,
            "grid_auto_columns": null,
            "grid_auto_flow": null,
            "grid_auto_rows": null,
            "grid_column": null,
            "grid_gap": null,
            "grid_row": null,
            "grid_template_areas": null,
            "grid_template_columns": null,
            "grid_template_rows": null,
            "height": null,
            "justify_content": null,
            "justify_items": null,
            "left": null,
            "margin": null,
            "max_height": null,
            "max_width": null,
            "min_height": null,
            "min_width": null,
            "object_fit": null,
            "object_position": null,
            "order": null,
            "overflow": null,
            "overflow_x": null,
            "overflow_y": null,
            "padding": null,
            "right": null,
            "top": null,
            "visibility": null,
            "width": null
          }
        },
        "16e6dde1af334a0992101055ed176849": {
          "model_module": "@jupyter-widgets/controls",
          "model_module_version": "1.5.0",
          "model_name": "HBoxModel",
          "state": {
            "_dom_classes": [],
            "_model_module": "@jupyter-widgets/controls",
            "_model_module_version": "1.5.0",
            "_model_name": "HBoxModel",
            "_view_count": null,
            "_view_module": "@jupyter-widgets/controls",
            "_view_module_version": "1.5.0",
            "_view_name": "HBoxView",
            "box_style": "",
            "children": [
              "IPY_MODEL_37c1a1333fc5481c88a18301ef4b4155",
              "IPY_MODEL_b1c208af2e724b9e96b5a97ef0e6abb5",
              "IPY_MODEL_d63786e5414942fe90fc19e1f4eef2a5"
            ],
            "layout": "IPY_MODEL_f1475ffdd90d4ccc87b4bb630f142a53"
          }
        },
        "1b404521705047158d5c41959c0599c8": {
          "model_module": "@jupyter-widgets/controls",
          "model_module_version": "1.5.0",
          "model_name": "DescriptionStyleModel",
          "state": {
            "_model_module": "@jupyter-widgets/controls",
            "_model_module_version": "1.5.0",
            "_model_name": "DescriptionStyleModel",
            "_view_count": null,
            "_view_module": "@jupyter-widgets/base",
            "_view_module_version": "1.2.0",
            "_view_name": "StyleView",
            "description_width": ""
          }
        },
        "23a14e89ba654792a81514ea91631cf9": {
          "model_module": "@jupyter-widgets/controls",
          "model_module_version": "1.5.0",
          "model_name": "DescriptionStyleModel",
          "state": {
            "_model_module": "@jupyter-widgets/controls",
            "_model_module_version": "1.5.0",
            "_model_name": "DescriptionStyleModel",
            "_view_count": null,
            "_view_module": "@jupyter-widgets/base",
            "_view_module_version": "1.2.0",
            "_view_name": "StyleView",
            "description_width": ""
          }
        },
        "2599995bbbb649458c8c8f2781c91caf": {
          "model_module": "@jupyter-widgets/controls",
          "model_module_version": "1.5.0",
          "model_name": "HTMLModel",
          "state": {
            "_dom_classes": [],
            "_model_module": "@jupyter-widgets/controls",
            "_model_module_version": "1.5.0",
            "_model_name": "HTMLModel",
            "_view_count": null,
            "_view_module": "@jupyter-widgets/controls",
            "_view_module_version": "1.5.0",
            "_view_name": "HTMLView",
            "description": "",
            "description_tooltip": null,
            "layout": "IPY_MODEL_a8ad7469620042bba16c70070881b07d",
            "placeholder": "​",
            "style": "IPY_MODEL_afa803b5566644b1996dab485d2c1fb9",
            "value": "modules.json: 100%"
          }
        },
        "269a0ac655054b97b476c07e7bbce094": {
          "model_module": "@jupyter-widgets/controls",
          "model_module_version": "1.5.0",
          "model_name": "HBoxModel",
          "state": {
            "_dom_classes": [],
            "_model_module": "@jupyter-widgets/controls",
            "_model_module_version": "1.5.0",
            "_model_name": "HBoxModel",
            "_view_count": null,
            "_view_module": "@jupyter-widgets/controls",
            "_view_module_version": "1.5.0",
            "_view_name": "HBoxView",
            "box_style": "",
            "children": [
              "IPY_MODEL_4aeacdc5a1e94835afceabb9c5381e19",
              "IPY_MODEL_07c2ae483d824c2e93c6c575ab3281dd",
              "IPY_MODEL_33a698bb7cc84195ac3ae684a6ed5e00"
            ],
            "layout": "IPY_MODEL_f249b78740db467b8ffe65dd3cb08f78"
          }
        },
        "2736d03d39b549db864fb1eb295f9993": {
          "model_module": "@jupyter-widgets/controls",
          "model_module_version": "1.5.0",
          "model_name": "HTMLModel",
          "state": {
            "_dom_classes": [],
            "_model_module": "@jupyter-widgets/controls",
            "_model_module_version": "1.5.0",
            "_model_name": "HTMLModel",
            "_view_count": null,
            "_view_module": "@jupyter-widgets/controls",
            "_view_module_version": "1.5.0",
            "_view_name": "HTMLView",
            "description": "",
            "description_tooltip": null,
            "layout": "IPY_MODEL_4be8b117808a4ba7b93b680ce2ef3be5",
            "placeholder": "​",
            "style": "IPY_MODEL_da4614b717704834a81920a2d85f284a",
            "value": "sentence_bert_config.json: 100%"
          }
        },
        "290e8546c941471aa5e302ee8b38cc98": {
          "model_module": "@jupyter-widgets/controls",
          "model_module_version": "1.5.0",
          "model_name": "HTMLModel",
          "state": {
            "_dom_classes": [],
            "_model_module": "@jupyter-widgets/controls",
            "_model_module_version": "1.5.0",
            "_model_name": "HTMLModel",
            "_view_count": null,
            "_view_module": "@jupyter-widgets/controls",
            "_view_module_version": "1.5.0",
            "_view_name": "HTMLView",
            "description": "",
            "description_tooltip": null,
            "layout": "IPY_MODEL_a0319d2f46474993ab41d39bd4c2647d",
            "placeholder": "​",
            "style": "IPY_MODEL_fac5686413f5491496d526256cd0a454",
            "value": " 10.5k/10.5k [00:00&lt;00:00, 951kB/s]"
          }
        },
        "2f6dbb8263f04d32ae8a7fcade72ae5d": {
          "model_module": "@jupyter-widgets/controls",
          "model_module_version": "1.5.0",
          "model_name": "ProgressStyleModel",
          "state": {
            "_model_module": "@jupyter-widgets/controls",
            "_model_module_version": "1.5.0",
            "_model_name": "ProgressStyleModel",
            "_view_count": null,
            "_view_module": "@jupyter-widgets/base",
            "_view_module_version": "1.2.0",
            "_view_name": "StyleView",
            "bar_color": null,
            "description_width": ""
          }
        },
        "309de9e7d3fc4edca8df4bf9313e909e": {
          "model_module": "@jupyter-widgets/base",
          "model_module_version": "1.2.0",
          "model_name": "LayoutModel",
          "state": {
            "_model_module": "@jupyter-widgets/base",
            "_model_module_version": "1.2.0",
            "_model_name": "LayoutModel",
            "_view_count": null,
            "_view_module": "@jupyter-widgets/base",
            "_view_module_version": "1.2.0",
            "_view_name": "LayoutView",
            "align_content": null,
            "align_items": null,
            "align_self": null,
            "border": null,
            "bottom": null,
            "display": null,
            "flex": null,
            "flex_flow": null,
            "grid_area": null,
            "grid_auto_columns": null,
            "grid_auto_flow": null,
            "grid_auto_rows": null,
            "grid_column": null,
            "grid_gap": null,
            "grid_row": null,
            "grid_template_areas": null,
            "grid_template_columns": null,
            "grid_template_rows": null,
            "height": null,
            "justify_content": null,
            "justify_items": null,
            "left": null,
            "margin": null,
            "max_height": null,
            "max_width": null,
            "min_height": null,
            "min_width": null,
            "object_fit": null,
            "object_position": null,
            "order": null,
            "overflow": null,
            "overflow_x": null,
            "overflow_y": null,
            "padding": null,
            "right": null,
            "top": null,
            "visibility": null,
            "width": null
          }
        },
        "3313a6aedd4641af98853ff8150edce0": {
          "model_module": "@jupyter-widgets/base",
          "model_module_version": "1.2.0",
          "model_name": "LayoutModel",
          "state": {
            "_model_module": "@jupyter-widgets/base",
            "_model_module_version": "1.2.0",
            "_model_name": "LayoutModel",
            "_view_count": null,
            "_view_module": "@jupyter-widgets/base",
            "_view_module_version": "1.2.0",
            "_view_name": "LayoutView",
            "align_content": null,
            "align_items": null,
            "align_self": null,
            "border": null,
            "bottom": null,
            "display": null,
            "flex": null,
            "flex_flow": null,
            "grid_area": null,
            "grid_auto_columns": null,
            "grid_auto_flow": null,
            "grid_auto_rows": null,
            "grid_column": null,
            "grid_gap": null,
            "grid_row": null,
            "grid_template_areas": null,
            "grid_template_columns": null,
            "grid_template_rows": null,
            "height": null,
            "justify_content": null,
            "justify_items": null,
            "left": null,
            "margin": null,
            "max_height": null,
            "max_width": null,
            "min_height": null,
            "min_width": null,
            "object_fit": null,
            "object_position": null,
            "order": null,
            "overflow": null,
            "overflow_x": null,
            "overflow_y": null,
            "padding": null,
            "right": null,
            "top": null,
            "visibility": null,
            "width": null
          }
        },
        "33a698bb7cc84195ac3ae684a6ed5e00": {
          "model_module": "@jupyter-widgets/controls",
          "model_module_version": "1.5.0",
          "model_name": "HTMLModel",
          "state": {
            "_dom_classes": [],
            "_model_module": "@jupyter-widgets/controls",
            "_model_module_version": "1.5.0",
            "_model_name": "HTMLModel",
            "_view_count": null,
            "_view_module": "@jupyter-widgets/controls",
            "_view_module_version": "1.5.0",
            "_view_name": "HTMLView",
            "description": "",
            "description_tooltip": null,
            "layout": "IPY_MODEL_07b6650f88f64cc7a791974b3d567b75",
            "placeholder": "​",
            "style": "IPY_MODEL_f3b5ae58b04b460d84e90b4100b342d4",
            "value": " 112/112 [00:00&lt;00:00, 9.50kB/s]"
          }
        },
        "36cb08a0db044e8ba57f6a88630204da": {
          "model_module": "@jupyter-widgets/controls",
          "model_module_version": "1.5.0",
          "model_name": "HBoxModel",
          "state": {
            "_dom_classes": [],
            "_model_module": "@jupyter-widgets/controls",
            "_model_module_version": "1.5.0",
            "_model_name": "HBoxModel",
            "_view_count": null,
            "_view_module": "@jupyter-widgets/controls",
            "_view_module_version": "1.5.0",
            "_view_name": "HBoxView",
            "box_style": "",
            "children": [
              "IPY_MODEL_e79c4b1484e2455583775865c61f151c",
              "IPY_MODEL_b9716a426e5348a6948a7ad897695c36",
              "IPY_MODEL_1434c9ae8e54458ea92e58a92636572e"
            ],
            "layout": "IPY_MODEL_c99f155d993d49d297d8597c9e462ade"
          }
        },
        "37c1a1333fc5481c88a18301ef4b4155": {
          "model_module": "@jupyter-widgets/controls",
          "model_module_version": "1.5.0",
          "model_name": "HTMLModel",
          "state": {
            "_dom_classes": [],
            "_model_module": "@jupyter-widgets/controls",
            "_model_module_version": "1.5.0",
            "_model_name": "HTMLModel",
            "_view_count": null,
            "_view_module": "@jupyter-widgets/controls",
            "_view_module_version": "1.5.0",
            "_view_name": "HTMLView",
            "description": "",
            "description_tooltip": null,
            "layout": "IPY_MODEL_7a7b06df39fa4a29a93c26b4091e2949",
            "placeholder": "​",
            "style": "IPY_MODEL_3b63c28448c94d55a01412717f9c61b5",
            "value": "config_sentence_transformers.json: 100%"
          }
        },
        "398699e36b37452fb7305326c4449bd8": {
          "model_module": "@jupyter-widgets/controls",
          "model_module_version": "1.5.0",
          "model_name": "DescriptionStyleModel",
          "state": {
            "_model_module": "@jupyter-widgets/controls",
            "_model_module_version": "1.5.0",
            "_model_name": "DescriptionStyleModel",
            "_view_count": null,
            "_view_module": "@jupyter-widgets/base",
            "_view_module_version": "1.2.0",
            "_view_name": "StyleView",
            "description_width": ""
          }
        },
        "3a8622ba05604aada24e28c68f5749ac": {
          "model_module": "@jupyter-widgets/controls",
          "model_module_version": "1.5.0",
          "model_name": "HBoxModel",
          "state": {
            "_dom_classes": [],
            "_model_module": "@jupyter-widgets/controls",
            "_model_module_version": "1.5.0",
            "_model_name": "HBoxModel",
            "_view_count": null,
            "_view_module": "@jupyter-widgets/controls",
            "_view_module_version": "1.5.0",
            "_view_name": "HBoxView",
            "box_style": "",
            "children": [
              "IPY_MODEL_afff15535b5c44b6917cd5bd63259d42",
              "IPY_MODEL_6a73519b53bf4c17a527beb26393aa76",
              "IPY_MODEL_4f70f2cd9e1f4d96a1a8ba6c91ec15af"
            ],
            "layout": "IPY_MODEL_ecec3704129b4604a7cfda08122b145c"
          }
        },
        "3b63c28448c94d55a01412717f9c61b5": {
          "model_module": "@jupyter-widgets/controls",
          "model_module_version": "1.5.0",
          "model_name": "DescriptionStyleModel",
          "state": {
            "_model_module": "@jupyter-widgets/controls",
            "_model_module_version": "1.5.0",
            "_model_name": "DescriptionStyleModel",
            "_view_count": null,
            "_view_module": "@jupyter-widgets/base",
            "_view_module_version": "1.2.0",
            "_view_name": "StyleView",
            "description_width": ""
          }
        },
        "3b6c8fe0ab654102b77c89b246301945": {
          "model_module": "@jupyter-widgets/controls",
          "model_module_version": "1.5.0",
          "model_name": "ProgressStyleModel",
          "state": {
            "_model_module": "@jupyter-widgets/controls",
            "_model_module_version": "1.5.0",
            "_model_name": "ProgressStyleModel",
            "_view_count": null,
            "_view_module": "@jupyter-widgets/base",
            "_view_module_version": "1.2.0",
            "_view_name": "StyleView",
            "bar_color": null,
            "description_width": ""
          }
        },
        "3de7aed6a546457996450b1450cfdaa0": {
          "model_module": "@jupyter-widgets/controls",
          "model_module_version": "1.5.0",
          "model_name": "HTMLModel",
          "state": {
            "_dom_classes": [],
            "_model_module": "@jupyter-widgets/controls",
            "_model_module_version": "1.5.0",
            "_model_name": "HTMLModel",
            "_view_count": null,
            "_view_module": "@jupyter-widgets/controls",
            "_view_module_version": "1.5.0",
            "_view_name": "HTMLView",
            "description": "",
            "description_tooltip": null,
            "layout": "IPY_MODEL_83f10ea11cf74ff39bd34fbe63c20acb",
            "placeholder": "​",
            "style": "IPY_MODEL_c254fd50b8464335b80b43553e3d1575",
            "value": " 612/612 [00:00&lt;00:00, 40.6kB/s]"
          }
        },
        "3e095306a96a4d48b1f48666ff1134d2": {
          "model_module": "@jupyter-widgets/base",
          "model_module_version": "1.2.0",
          "model_name": "LayoutModel",
          "state": {
            "_model_module": "@jupyter-widgets/base",
            "_model_module_version": "1.2.0",
            "_model_name": "LayoutModel",
            "_view_count": null,
            "_view_module": "@jupyter-widgets/base",
            "_view_module_version": "1.2.0",
            "_view_name": "LayoutView",
            "align_content": null,
            "align_items": null,
            "align_self": null,
            "border": null,
            "bottom": null,
            "display": null,
            "flex": null,
            "flex_flow": null,
            "grid_area": null,
            "grid_auto_columns": null,
            "grid_auto_flow": null,
            "grid_auto_rows": null,
            "grid_column": null,
            "grid_gap": null,
            "grid_row": null,
            "grid_template_areas": null,
            "grid_template_columns": null,
            "grid_template_rows": null,
            "height": null,
            "justify_content": null,
            "justify_items": null,
            "left": null,
            "margin": null,
            "max_height": null,
            "max_width": null,
            "min_height": null,
            "min_width": null,
            "object_fit": null,
            "object_position": null,
            "order": null,
            "overflow": null,
            "overflow_x": null,
            "overflow_y": null,
            "padding": null,
            "right": null,
            "top": null,
            "visibility": null,
            "width": null
          }
        },
        "3e71cb4616bf475f8d6139f6c4b98ab3": {
          "model_module": "@jupyter-widgets/base",
          "model_module_version": "1.2.0",
          "model_name": "LayoutModel",
          "state": {
            "_model_module": "@jupyter-widgets/base",
            "_model_module_version": "1.2.0",
            "_model_name": "LayoutModel",
            "_view_count": null,
            "_view_module": "@jupyter-widgets/base",
            "_view_module_version": "1.2.0",
            "_view_name": "LayoutView",
            "align_content": null,
            "align_items": null,
            "align_self": null,
            "border": null,
            "bottom": null,
            "display": null,
            "flex": null,
            "flex_flow": null,
            "grid_area": null,
            "grid_auto_columns": null,
            "grid_auto_flow": null,
            "grid_auto_rows": null,
            "grid_column": null,
            "grid_gap": null,
            "grid_row": null,
            "grid_template_areas": null,
            "grid_template_columns": null,
            "grid_template_rows": null,
            "height": null,
            "justify_content": null,
            "justify_items": null,
            "left": null,
            "margin": null,
            "max_height": null,
            "max_width": null,
            "min_height": null,
            "min_width": null,
            "object_fit": null,
            "object_position": null,
            "order": null,
            "overflow": null,
            "overflow_x": null,
            "overflow_y": null,
            "padding": null,
            "right": null,
            "top": null,
            "visibility": null,
            "width": null
          }
        },
        "4aeacdc5a1e94835afceabb9c5381e19": {
          "model_module": "@jupyter-widgets/controls",
          "model_module_version": "1.5.0",
          "model_name": "HTMLModel",
          "state": {
            "_dom_classes": [],
            "_model_module": "@jupyter-widgets/controls",
            "_model_module_version": "1.5.0",
            "_model_name": "HTMLModel",
            "_view_count": null,
            "_view_module": "@jupyter-widgets/controls",
            "_view_module_version": "1.5.0",
            "_view_name": "HTMLView",
            "description": "",
            "description_tooltip": null,
            "layout": "IPY_MODEL_309de9e7d3fc4edca8df4bf9313e909e",
            "placeholder": "​",
            "style": "IPY_MODEL_eead2b8a07084fafa3e375f8a43f89ef",
            "value": "special_tokens_map.json: 100%"
          }
        },
        "4be8b117808a4ba7b93b680ce2ef3be5": {
          "model_module": "@jupyter-widgets/base",
          "model_module_version": "1.2.0",
          "model_name": "LayoutModel",
          "state": {
            "_model_module": "@jupyter-widgets/base",
            "_model_module_version": "1.2.0",
            "_model_name": "LayoutModel",
            "_view_count": null,
            "_view_module": "@jupyter-widgets/base",
            "_view_module_version": "1.2.0",
            "_view_name": "LayoutView",
            "align_content": null,
            "align_items": null,
            "align_self": null,
            "border": null,
            "bottom": null,
            "display": null,
            "flex": null,
            "flex_flow": null,
            "grid_area": null,
            "grid_auto_columns": null,
            "grid_auto_flow": null,
            "grid_auto_rows": null,
            "grid_column": null,
            "grid_gap": null,
            "grid_row": null,
            "grid_template_areas": null,
            "grid_template_columns": null,
            "grid_template_rows": null,
            "height": null,
            "justify_content": null,
            "justify_items": null,
            "left": null,
            "margin": null,
            "max_height": null,
            "max_width": null,
            "min_height": null,
            "min_width": null,
            "object_fit": null,
            "object_position": null,
            "order": null,
            "overflow": null,
            "overflow_x": null,
            "overflow_y": null,
            "padding": null,
            "right": null,
            "top": null,
            "visibility": null,
            "width": null
          }
        },
        "4c812079e63a4a1d9329df4f6e538de4": {
          "model_module": "@jupyter-widgets/controls",
          "model_module_version": "1.5.0",
          "model_name": "HBoxModel",
          "state": {
            "_dom_classes": [],
            "_model_module": "@jupyter-widgets/controls",
            "_model_module_version": "1.5.0",
            "_model_name": "HBoxModel",
            "_view_count": null,
            "_view_module": "@jupyter-widgets/controls",
            "_view_module_version": "1.5.0",
            "_view_name": "HBoxView",
            "box_style": "",
            "children": [
              "IPY_MODEL_775f3c33eb7e422aa07e443435172cf0",
              "IPY_MODEL_4d19fd7eb8114e449234c508da9f2c28",
              "IPY_MODEL_d8b29312d7e14be6a24104cb01b53a50"
            ],
            "layout": "IPY_MODEL_bd192895dc664f09bc49085a05f27722"
          }
        },
        "4d19fd7eb8114e449234c508da9f2c28": {
          "model_module": "@jupyter-widgets/controls",
          "model_module_version": "1.5.0",
          "model_name": "FloatProgressModel",
          "state": {
            "_dom_classes": [],
            "_model_module": "@jupyter-widgets/controls",
            "_model_module_version": "1.5.0",
            "_model_name": "FloatProgressModel",
            "_view_count": null,
            "_view_module": "@jupyter-widgets/controls",
            "_view_module_version": "1.5.0",
            "_view_name": "ProgressView",
            "bar_style": "success",
            "description": "",
            "description_tooltip": null,
            "layout": "IPY_MODEL_c858d382b56b4d74ae8cffb60e5d31f9",
            "max": 90868376,
            "min": 0,
            "orientation": "horizontal",
            "style": "IPY_MODEL_3b6c8fe0ab654102b77c89b246301945",
            "value": 90868376
          }
        },
        "4f70f2cd9e1f4d96a1a8ba6c91ec15af": {
          "model_module": "@jupyter-widgets/controls",
          "model_module_version": "1.5.0",
          "model_name": "HTMLModel",
          "state": {
            "_dom_classes": [],
            "_model_module": "@jupyter-widgets/controls",
            "_model_module_version": "1.5.0",
            "_model_name": "HTMLModel",
            "_view_count": null,
            "_view_module": "@jupyter-widgets/controls",
            "_view_module_version": "1.5.0",
            "_view_name": "HTMLView",
            "description": "",
            "description_tooltip": null,
            "layout": "IPY_MODEL_998b320a38a24abba55d18bf3c506a44",
            "placeholder": "​",
            "style": "IPY_MODEL_c4ee250f79c841569c6ce72e72adaa08",
            "value": " 190/190 [00:00&lt;00:00, 18.5kB/s]"
          }
        },
        "4f93e9b51d7b418698f46c41bead4c96": {
          "model_module": "@jupyter-widgets/controls",
          "model_module_version": "1.5.0",
          "model_name": "HBoxModel",
          "state": {
            "_dom_classes": [],
            "_model_module": "@jupyter-widgets/controls",
            "_model_module_version": "1.5.0",
            "_model_name": "HBoxModel",
            "_view_count": null,
            "_view_module": "@jupyter-widgets/controls",
            "_view_module_version": "1.5.0",
            "_view_name": "HBoxView",
            "box_style": "",
            "children": [
              "IPY_MODEL_c21db91c865c44e8baaedd5f62cd05a2",
              "IPY_MODEL_b8a791ffe1804afd94cffcd0fe517e5f",
              "IPY_MODEL_3de7aed6a546457996450b1450cfdaa0"
            ],
            "layout": "IPY_MODEL_5ae1d31560ad49389ec2c44583b1b9e5"
          }
        },
        "53a7932640d74efea06c0e0580409d54": {
          "model_module": "@jupyter-widgets/base",
          "model_module_version": "1.2.0",
          "model_name": "LayoutModel",
          "state": {
            "_model_module": "@jupyter-widgets/base",
            "_model_module_version": "1.2.0",
            "_model_name": "LayoutModel",
            "_view_count": null,
            "_view_module": "@jupyter-widgets/base",
            "_view_module_version": "1.2.0",
            "_view_name": "LayoutView",
            "align_content": null,
            "align_items": null,
            "align_self": null,
            "border": null,
            "bottom": null,
            "display": null,
            "flex": null,
            "flex_flow": null,
            "grid_area": null,
            "grid_auto_columns": null,
            "grid_auto_flow": null,
            "grid_auto_rows": null,
            "grid_column": null,
            "grid_gap": null,
            "grid_row": null,
            "grid_template_areas": null,
            "grid_template_columns": null,
            "grid_template_rows": null,
            "height": null,
            "justify_content": null,
            "justify_items": null,
            "left": null,
            "margin": null,
            "max_height": null,
            "max_width": null,
            "min_height": null,
            "min_width": null,
            "object_fit": null,
            "object_position": null,
            "order": null,
            "overflow": null,
            "overflow_x": null,
            "overflow_y": null,
            "padding": null,
            "right": null,
            "top": null,
            "visibility": null,
            "width": null
          }
        },
        "542f509949eb449e9769f24b9258d342": {
          "model_module": "@jupyter-widgets/controls",
          "model_module_version": "1.5.0",
          "model_name": "HTMLModel",
          "state": {
            "_dom_classes": [],
            "_model_module": "@jupyter-widgets/controls",
            "_model_module_version": "1.5.0",
            "_model_name": "HTMLModel",
            "_view_count": null,
            "_view_module": "@jupyter-widgets/controls",
            "_view_module_version": "1.5.0",
            "_view_name": "HTMLView",
            "description": "",
            "description_tooltip": null,
            "layout": "IPY_MODEL_6a934f23fd044693906639dba7653561",
            "placeholder": "​",
            "style": "IPY_MODEL_b2ede3eecf444748ad7e3c1cffa2c03d",
            "value": " 53.0/53.0 [00:00&lt;00:00, 3.60kB/s]"
          }
        },
        "587ab6dbd89b4a22b8f832077844496b": {
          "model_module": "@jupyter-widgets/controls",
          "model_module_version": "1.5.0",
          "model_name": "HTMLModel",
          "state": {
            "_dom_classes": [],
            "_model_module": "@jupyter-widgets/controls",
            "_model_module_version": "1.5.0",
            "_model_name": "HTMLModel",
            "_view_count": null,
            "_view_module": "@jupyter-widgets/controls",
            "_view_module_version": "1.5.0",
            "_view_name": "HTMLView",
            "description": "",
            "description_tooltip": null,
            "layout": "IPY_MODEL_69cd079b77e14acdb4f80933b49ccaba",
            "placeholder": "​",
            "style": "IPY_MODEL_e54fb35476b14c648747d603dd304b6c",
            "value": " 349/349 [00:00&lt;00:00, 33.3kB/s]"
          }
        },
        "59860dcbe7e34e0f8927c9575763939f": {
          "model_module": "@jupyter-widgets/base",
          "model_module_version": "1.2.0",
          "model_name": "LayoutModel",
          "state": {
            "_model_module": "@jupyter-widgets/base",
            "_model_module_version": "1.2.0",
            "_model_name": "LayoutModel",
            "_view_count": null,
            "_view_module": "@jupyter-widgets/base",
            "_view_module_version": "1.2.0",
            "_view_name": "LayoutView",
            "align_content": null,
            "align_items": null,
            "align_self": null,
            "border": null,
            "bottom": null,
            "display": null,
            "flex": null,
            "flex_flow": null,
            "grid_area": null,
            "grid_auto_columns": null,
            "grid_auto_flow": null,
            "grid_auto_rows": null,
            "grid_column": null,
            "grid_gap": null,
            "grid_row": null,
            "grid_template_areas": null,
            "grid_template_columns": null,
            "grid_template_rows": null,
            "height": null,
            "justify_content": null,
            "justify_items": null,
            "left": null,
            "margin": null,
            "max_height": null,
            "max_width": null,
            "min_height": null,
            "min_width": null,
            "object_fit": null,
            "object_position": null,
            "order": null,
            "overflow": null,
            "overflow_x": null,
            "overflow_y": null,
            "padding": null,
            "right": null,
            "top": null,
            "visibility": null,
            "width": null
          }
        },
        "5aa8520a96164fea8b3a6a518488569e": {
          "model_module": "@jupyter-widgets/base",
          "model_module_version": "1.2.0",
          "model_name": "LayoutModel",
          "state": {
            "_model_module": "@jupyter-widgets/base",
            "_model_module_version": "1.2.0",
            "_model_name": "LayoutModel",
            "_view_count": null,
            "_view_module": "@jupyter-widgets/base",
            "_view_module_version": "1.2.0",
            "_view_name": "LayoutView",
            "align_content": null,
            "align_items": null,
            "align_self": null,
            "border": null,
            "bottom": null,
            "display": null,
            "flex": null,
            "flex_flow": null,
            "grid_area": null,
            "grid_auto_columns": null,
            "grid_auto_flow": null,
            "grid_auto_rows": null,
            "grid_column": null,
            "grid_gap": null,
            "grid_row": null,
            "grid_template_areas": null,
            "grid_template_columns": null,
            "grid_template_rows": null,
            "height": null,
            "justify_content": null,
            "justify_items": null,
            "left": null,
            "margin": null,
            "max_height": null,
            "max_width": null,
            "min_height": null,
            "min_width": null,
            "object_fit": null,
            "object_position": null,
            "order": null,
            "overflow": null,
            "overflow_x": null,
            "overflow_y": null,
            "padding": null,
            "right": null,
            "top": null,
            "visibility": null,
            "width": null
          }
        },
        "5ae1d31560ad49389ec2c44583b1b9e5": {
          "model_module": "@jupyter-widgets/base",
          "model_module_version": "1.2.0",
          "model_name": "LayoutModel",
          "state": {
            "_model_module": "@jupyter-widgets/base",
            "_model_module_version": "1.2.0",
            "_model_name": "LayoutModel",
            "_view_count": null,
            "_view_module": "@jupyter-widgets/base",
            "_view_module_version": "1.2.0",
            "_view_name": "LayoutView",
            "align_content": null,
            "align_items": null,
            "align_self": null,
            "border": null,
            "bottom": null,
            "display": null,
            "flex": null,
            "flex_flow": null,
            "grid_area": null,
            "grid_auto_columns": null,
            "grid_auto_flow": null,
            "grid_auto_rows": null,
            "grid_column": null,
            "grid_gap": null,
            "grid_row": null,
            "grid_template_areas": null,
            "grid_template_columns": null,
            "grid_template_rows": null,
            "height": null,
            "justify_content": null,
            "justify_items": null,
            "left": null,
            "margin": null,
            "max_height": null,
            "max_width": null,
            "min_height": null,
            "min_width": null,
            "object_fit": null,
            "object_position": null,
            "order": null,
            "overflow": null,
            "overflow_x": null,
            "overflow_y": null,
            "padding": null,
            "right": null,
            "top": null,
            "visibility": null,
            "width": null
          }
        },
        "5f41b48de33e490193bddb5ddc572b85": {
          "model_module": "@jupyter-widgets/base",
          "model_module_version": "1.2.0",
          "model_name": "LayoutModel",
          "state": {
            "_model_module": "@jupyter-widgets/base",
            "_model_module_version": "1.2.0",
            "_model_name": "LayoutModel",
            "_view_count": null,
            "_view_module": "@jupyter-widgets/base",
            "_view_module_version": "1.2.0",
            "_view_name": "LayoutView",
            "align_content": null,
            "align_items": null,
            "align_self": null,
            "border": null,
            "bottom": null,
            "display": null,
            "flex": null,
            "flex_flow": null,
            "grid_area": null,
            "grid_auto_columns": null,
            "grid_auto_flow": null,
            "grid_auto_rows": null,
            "grid_column": null,
            "grid_gap": null,
            "grid_row": null,
            "grid_template_areas": null,
            "grid_template_columns": null,
            "grid_template_rows": null,
            "height": null,
            "justify_content": null,
            "justify_items": null,
            "left": null,
            "margin": null,
            "max_height": null,
            "max_width": null,
            "min_height": null,
            "min_width": null,
            "object_fit": null,
            "object_position": null,
            "order": null,
            "overflow": null,
            "overflow_x": null,
            "overflow_y": null,
            "padding": null,
            "right": null,
            "top": null,
            "visibility": null,
            "width": null
          }
        },
        "630a1dcda55e448e8f93d5999544201b": {
          "model_module": "@jupyter-widgets/base",
          "model_module_version": "1.2.0",
          "model_name": "LayoutModel",
          "state": {
            "_model_module": "@jupyter-widgets/base",
            "_model_module_version": "1.2.0",
            "_model_name": "LayoutModel",
            "_view_count": null,
            "_view_module": "@jupyter-widgets/base",
            "_view_module_version": "1.2.0",
            "_view_name": "LayoutView",
            "align_content": null,
            "align_items": null,
            "align_self": null,
            "border": null,
            "bottom": null,
            "display": null,
            "flex": null,
            "flex_flow": null,
            "grid_area": null,
            "grid_auto_columns": null,
            "grid_auto_flow": null,
            "grid_auto_rows": null,
            "grid_column": null,
            "grid_gap": null,
            "grid_row": null,
            "grid_template_areas": null,
            "grid_template_columns": null,
            "grid_template_rows": null,
            "height": null,
            "justify_content": null,
            "justify_items": null,
            "left": null,
            "margin": null,
            "max_height": null,
            "max_width": null,
            "min_height": null,
            "min_width": null,
            "object_fit": null,
            "object_position": null,
            "order": null,
            "overflow": null,
            "overflow_x": null,
            "overflow_y": null,
            "padding": null,
            "right": null,
            "top": null,
            "visibility": null,
            "width": null
          }
        },
        "69cd079b77e14acdb4f80933b49ccaba": {
          "model_module": "@jupyter-widgets/base",
          "model_module_version": "1.2.0",
          "model_name": "LayoutModel",
          "state": {
            "_model_module": "@jupyter-widgets/base",
            "_model_module_version": "1.2.0",
            "_model_name": "LayoutModel",
            "_view_count": null,
            "_view_module": "@jupyter-widgets/base",
            "_view_module_version": "1.2.0",
            "_view_name": "LayoutView",
            "align_content": null,
            "align_items": null,
            "align_self": null,
            "border": null,
            "bottom": null,
            "display": null,
            "flex": null,
            "flex_flow": null,
            "grid_area": null,
            "grid_auto_columns": null,
            "grid_auto_flow": null,
            "grid_auto_rows": null,
            "grid_column": null,
            "grid_gap": null,
            "grid_row": null,
            "grid_template_areas": null,
            "grid_template_columns": null,
            "grid_template_rows": null,
            "height": null,
            "justify_content": null,
            "justify_items": null,
            "left": null,
            "margin": null,
            "max_height": null,
            "max_width": null,
            "min_height": null,
            "min_width": null,
            "object_fit": null,
            "object_position": null,
            "order": null,
            "overflow": null,
            "overflow_x": null,
            "overflow_y": null,
            "padding": null,
            "right": null,
            "top": null,
            "visibility": null,
            "width": null
          }
        },
        "6a73519b53bf4c17a527beb26393aa76": {
          "model_module": "@jupyter-widgets/controls",
          "model_module_version": "1.5.0",
          "model_name": "FloatProgressModel",
          "state": {
            "_dom_classes": [],
            "_model_module": "@jupyter-widgets/controls",
            "_model_module_version": "1.5.0",
            "_model_name": "FloatProgressModel",
            "_view_count": null,
            "_view_module": "@jupyter-widgets/controls",
            "_view_module_version": "1.5.0",
            "_view_name": "ProgressView",
            "bar_style": "success",
            "description": "",
            "description_tooltip": null,
            "layout": "IPY_MODEL_59860dcbe7e34e0f8927c9575763939f",
            "max": 190,
            "min": 0,
            "orientation": "horizontal",
            "style": "IPY_MODEL_cfa5171ec02d4ae0a5914310bd430e83",
            "value": 190
          }
        },
        "6a934f23fd044693906639dba7653561": {
          "model_module": "@jupyter-widgets/base",
          "model_module_version": "1.2.0",
          "model_name": "LayoutModel",
          "state": {
            "_model_module": "@jupyter-widgets/base",
            "_model_module_version": "1.2.0",
            "_model_name": "LayoutModel",
            "_view_count": null,
            "_view_module": "@jupyter-widgets/base",
            "_view_module_version": "1.2.0",
            "_view_name": "LayoutView",
            "align_content": null,
            "align_items": null,
            "align_self": null,
            "border": null,
            "bottom": null,
            "display": null,
            "flex": null,
            "flex_flow": null,
            "grid_area": null,
            "grid_auto_columns": null,
            "grid_auto_flow": null,
            "grid_auto_rows": null,
            "grid_column": null,
            "grid_gap": null,
            "grid_row": null,
            "grid_template_areas": null,
            "grid_template_columns": null,
            "grid_template_rows": null,
            "height": null,
            "justify_content": null,
            "justify_items": null,
            "left": null,
            "margin": null,
            "max_height": null,
            "max_width": null,
            "min_height": null,
            "min_width": null,
            "object_fit": null,
            "object_position": null,
            "order": null,
            "overflow": null,
            "overflow_x": null,
            "overflow_y": null,
            "padding": null,
            "right": null,
            "top": null,
            "visibility": null,
            "width": null
          }
        },
        "6d3d1b5a033e4e23a52437a763a0f7a1": {
          "model_module": "@jupyter-widgets/base",
          "model_module_version": "1.2.0",
          "model_name": "LayoutModel",
          "state": {
            "_model_module": "@jupyter-widgets/base",
            "_model_module_version": "1.2.0",
            "_model_name": "LayoutModel",
            "_view_count": null,
            "_view_module": "@jupyter-widgets/base",
            "_view_module_version": "1.2.0",
            "_view_name": "LayoutView",
            "align_content": null,
            "align_items": null,
            "align_self": null,
            "border": null,
            "bottom": null,
            "display": null,
            "flex": null,
            "flex_flow": null,
            "grid_area": null,
            "grid_auto_columns": null,
            "grid_auto_flow": null,
            "grid_auto_rows": null,
            "grid_column": null,
            "grid_gap": null,
            "grid_row": null,
            "grid_template_areas": null,
            "grid_template_columns": null,
            "grid_template_rows": null,
            "height": null,
            "justify_content": null,
            "justify_items": null,
            "left": null,
            "margin": null,
            "max_height": null,
            "max_width": null,
            "min_height": null,
            "min_width": null,
            "object_fit": null,
            "object_position": null,
            "order": null,
            "overflow": null,
            "overflow_x": null,
            "overflow_y": null,
            "padding": null,
            "right": null,
            "top": null,
            "visibility": null,
            "width": null
          }
        },
        "70153449341749169a7017c5fd9bc93f": {
          "model_module": "@jupyter-widgets/controls",
          "model_module_version": "1.5.0",
          "model_name": "DescriptionStyleModel",
          "state": {
            "_model_module": "@jupyter-widgets/controls",
            "_model_module_version": "1.5.0",
            "_model_name": "DescriptionStyleModel",
            "_view_count": null,
            "_view_module": "@jupyter-widgets/base",
            "_view_module_version": "1.2.0",
            "_view_name": "StyleView",
            "description_width": ""
          }
        },
        "7324af519e6b4e769e6f93b67a84bd69": {
          "model_module": "@jupyter-widgets/base",
          "model_module_version": "1.2.0",
          "model_name": "LayoutModel",
          "state": {
            "_model_module": "@jupyter-widgets/base",
            "_model_module_version": "1.2.0",
            "_model_name": "LayoutModel",
            "_view_count": null,
            "_view_module": "@jupyter-widgets/base",
            "_view_module_version": "1.2.0",
            "_view_name": "LayoutView",
            "align_content": null,
            "align_items": null,
            "align_self": null,
            "border": null,
            "bottom": null,
            "display": null,
            "flex": null,
            "flex_flow": null,
            "grid_area": null,
            "grid_auto_columns": null,
            "grid_auto_flow": null,
            "grid_auto_rows": null,
            "grid_column": null,
            "grid_gap": null,
            "grid_row": null,
            "grid_template_areas": null,
            "grid_template_columns": null,
            "grid_template_rows": null,
            "height": null,
            "justify_content": null,
            "justify_items": null,
            "left": null,
            "margin": null,
            "max_height": null,
            "max_width": null,
            "min_height": null,
            "min_width": null,
            "object_fit": null,
            "object_position": null,
            "order": null,
            "overflow": null,
            "overflow_x": null,
            "overflow_y": null,
            "padding": null,
            "right": null,
            "top": null,
            "visibility": null,
            "width": null
          }
        },
        "775f3c33eb7e422aa07e443435172cf0": {
          "model_module": "@jupyter-widgets/controls",
          "model_module_version": "1.5.0",
          "model_name": "HTMLModel",
          "state": {
            "_dom_classes": [],
            "_model_module": "@jupyter-widgets/controls",
            "_model_module_version": "1.5.0",
            "_model_name": "HTMLModel",
            "_view_count": null,
            "_view_module": "@jupyter-widgets/controls",
            "_view_module_version": "1.5.0",
            "_view_name": "HTMLView",
            "description": "",
            "description_tooltip": null,
            "layout": "IPY_MODEL_630a1dcda55e448e8f93d5999544201b",
            "placeholder": "​",
            "style": "IPY_MODEL_064915f277d94a02804b853f5c5205b1",
            "value": "model.safetensors: 100%"
          }
        },
        "791fc1c61c064e299658f038a9eceb22": {
          "model_module": "@jupyter-widgets/controls",
          "model_module_version": "1.5.0",
          "model_name": "ProgressStyleModel",
          "state": {
            "_model_module": "@jupyter-widgets/controls",
            "_model_module_version": "1.5.0",
            "_model_name": "ProgressStyleModel",
            "_view_count": null,
            "_view_module": "@jupyter-widgets/base",
            "_view_module_version": "1.2.0",
            "_view_name": "StyleView",
            "bar_color": null,
            "description_width": ""
          }
        },
        "7a7b06df39fa4a29a93c26b4091e2949": {
          "model_module": "@jupyter-widgets/base",
          "model_module_version": "1.2.0",
          "model_name": "LayoutModel",
          "state": {
            "_model_module": "@jupyter-widgets/base",
            "_model_module_version": "1.2.0",
            "_model_name": "LayoutModel",
            "_view_count": null,
            "_view_module": "@jupyter-widgets/base",
            "_view_module_version": "1.2.0",
            "_view_name": "LayoutView",
            "align_content": null,
            "align_items": null,
            "align_self": null,
            "border": null,
            "bottom": null,
            "display": null,
            "flex": null,
            "flex_flow": null,
            "grid_area": null,
            "grid_auto_columns": null,
            "grid_auto_flow": null,
            "grid_auto_rows": null,
            "grid_column": null,
            "grid_gap": null,
            "grid_row": null,
            "grid_template_areas": null,
            "grid_template_columns": null,
            "grid_template_rows": null,
            "height": null,
            "justify_content": null,
            "justify_items": null,
            "left": null,
            "margin": null,
            "max_height": null,
            "max_width": null,
            "min_height": null,
            "min_width": null,
            "object_fit": null,
            "object_position": null,
            "order": null,
            "overflow": null,
            "overflow_x": null,
            "overflow_y": null,
            "padding": null,
            "right": null,
            "top": null,
            "visibility": null,
            "width": null
          }
        },
        "7e6392fb80524672950caccf9fae889a": {
          "model_module": "@jupyter-widgets/base",
          "model_module_version": "1.2.0",
          "model_name": "LayoutModel",
          "state": {
            "_model_module": "@jupyter-widgets/base",
            "_model_module_version": "1.2.0",
            "_model_name": "LayoutModel",
            "_view_count": null,
            "_view_module": "@jupyter-widgets/base",
            "_view_module_version": "1.2.0",
            "_view_name": "LayoutView",
            "align_content": null,
            "align_items": null,
            "align_self": null,
            "border": null,
            "bottom": null,
            "display": null,
            "flex": null,
            "flex_flow": null,
            "grid_area": null,
            "grid_auto_columns": null,
            "grid_auto_flow": null,
            "grid_auto_rows": null,
            "grid_column": null,
            "grid_gap": null,
            "grid_row": null,
            "grid_template_areas": null,
            "grid_template_columns": null,
            "grid_template_rows": null,
            "height": null,
            "justify_content": null,
            "justify_items": null,
            "left": null,
            "margin": null,
            "max_height": null,
            "max_width": null,
            "min_height": null,
            "min_width": null,
            "object_fit": null,
            "object_position": null,
            "order": null,
            "overflow": null,
            "overflow_x": null,
            "overflow_y": null,
            "padding": null,
            "right": null,
            "top": null,
            "visibility": null,
            "width": null
          }
        },
        "7edf5929e3b94ac8aa730094699a13be": {
          "model_module": "@jupyter-widgets/controls",
          "model_module_version": "1.5.0",
          "model_name": "FloatProgressModel",
          "state": {
            "_dom_classes": [],
            "_model_module": "@jupyter-widgets/controls",
            "_model_module_version": "1.5.0",
            "_model_name": "FloatProgressModel",
            "_view_count": null,
            "_view_module": "@jupyter-widgets/controls",
            "_view_module_version": "1.5.0",
            "_view_name": "ProgressView",
            "bar_style": "success",
            "description": "",
            "description_tooltip": null,
            "layout": "IPY_MODEL_fc0bdb64c7ab44f38750c5bc76b22972",
            "max": 231508,
            "min": 0,
            "orientation": "horizontal",
            "style": "IPY_MODEL_089896bd97cb460f88d02442f177de17",
            "value": 231508
          }
        },
        "83f10ea11cf74ff39bd34fbe63c20acb": {
          "model_module": "@jupyter-widgets/base",
          "model_module_version": "1.2.0",
          "model_name": "LayoutModel",
          "state": {
            "_model_module": "@jupyter-widgets/base",
            "_model_module_version": "1.2.0",
            "_model_name": "LayoutModel",
            "_view_count": null,
            "_view_module": "@jupyter-widgets/base",
            "_view_module_version": "1.2.0",
            "_view_name": "LayoutView",
            "align_content": null,
            "align_items": null,
            "align_self": null,
            "border": null,
            "bottom": null,
            "display": null,
            "flex": null,
            "flex_flow": null,
            "grid_area": null,
            "grid_auto_columns": null,
            "grid_auto_flow": null,
            "grid_auto_rows": null,
            "grid_column": null,
            "grid_gap": null,
            "grid_row": null,
            "grid_template_areas": null,
            "grid_template_columns": null,
            "grid_template_rows": null,
            "height": null,
            "justify_content": null,
            "justify_items": null,
            "left": null,
            "margin": null,
            "max_height": null,
            "max_width": null,
            "min_height": null,
            "min_width": null,
            "object_fit": null,
            "object_position": null,
            "order": null,
            "overflow": null,
            "overflow_x": null,
            "overflow_y": null,
            "padding": null,
            "right": null,
            "top": null,
            "visibility": null,
            "width": null
          }
        },
        "8405cdcb6444470b85d6d57f86c2538f": {
          "model_module": "@jupyter-widgets/base",
          "model_module_version": "1.2.0",
          "model_name": "LayoutModel",
          "state": {
            "_model_module": "@jupyter-widgets/base",
            "_model_module_version": "1.2.0",
            "_model_name": "LayoutModel",
            "_view_count": null,
            "_view_module": "@jupyter-widgets/base",
            "_view_module_version": "1.2.0",
            "_view_name": "LayoutView",
            "align_content": null,
            "align_items": null,
            "align_self": null,
            "border": null,
            "bottom": null,
            "display": null,
            "flex": null,
            "flex_flow": null,
            "grid_area": null,
            "grid_auto_columns": null,
            "grid_auto_flow": null,
            "grid_auto_rows": null,
            "grid_column": null,
            "grid_gap": null,
            "grid_row": null,
            "grid_template_areas": null,
            "grid_template_columns": null,
            "grid_template_rows": null,
            "height": null,
            "justify_content": null,
            "justify_items": null,
            "left": null,
            "margin": null,
            "max_height": null,
            "max_width": null,
            "min_height": null,
            "min_width": null,
            "object_fit": null,
            "object_position": null,
            "order": null,
            "overflow": null,
            "overflow_x": null,
            "overflow_y": null,
            "padding": null,
            "right": null,
            "top": null,
            "visibility": null,
            "width": null
          }
        },
        "8bb43d39034c4c12b13dfe1e78d6d85f": {
          "model_module": "@jupyter-widgets/base",
          "model_module_version": "1.2.0",
          "model_name": "LayoutModel",
          "state": {
            "_model_module": "@jupyter-widgets/base",
            "_model_module_version": "1.2.0",
            "_model_name": "LayoutModel",
            "_view_count": null,
            "_view_module": "@jupyter-widgets/base",
            "_view_module_version": "1.2.0",
            "_view_name": "LayoutView",
            "align_content": null,
            "align_items": null,
            "align_self": null,
            "border": null,
            "bottom": null,
            "display": null,
            "flex": null,
            "flex_flow": null,
            "grid_area": null,
            "grid_auto_columns": null,
            "grid_auto_flow": null,
            "grid_auto_rows": null,
            "grid_column": null,
            "grid_gap": null,
            "grid_row": null,
            "grid_template_areas": null,
            "grid_template_columns": null,
            "grid_template_rows": null,
            "height": null,
            "justify_content": null,
            "justify_items": null,
            "left": null,
            "margin": null,
            "max_height": null,
            "max_width": null,
            "min_height": null,
            "min_width": null,
            "object_fit": null,
            "object_position": null,
            "order": null,
            "overflow": null,
            "overflow_x": null,
            "overflow_y": null,
            "padding": null,
            "right": null,
            "top": null,
            "visibility": null,
            "width": null
          }
        },
        "8c55e73b5c98435da919bfb2b99df8ac": {
          "model_module": "@jupyter-widgets/controls",
          "model_module_version": "1.5.0",
          "model_name": "HBoxModel",
          "state": {
            "_dom_classes": [],
            "_model_module": "@jupyter-widgets/controls",
            "_model_module_version": "1.5.0",
            "_model_name": "HBoxModel",
            "_view_count": null,
            "_view_module": "@jupyter-widgets/controls",
            "_view_module_version": "1.5.0",
            "_view_name": "HBoxView",
            "box_style": "",
            "children": [
              "IPY_MODEL_2736d03d39b549db864fb1eb295f9993",
              "IPY_MODEL_daee92a6a14f4a93ab19ad7b773bb886",
              "IPY_MODEL_542f509949eb449e9769f24b9258d342"
            ],
            "layout": "IPY_MODEL_5aa8520a96164fea8b3a6a518488569e"
          }
        },
        "911ebcd766d940a382305642f1dc58b4": {
          "model_module": "@jupyter-widgets/controls",
          "model_module_version": "1.5.0",
          "model_name": "HTMLModel",
          "state": {
            "_dom_classes": [],
            "_model_module": "@jupyter-widgets/controls",
            "_model_module_version": "1.5.0",
            "_model_name": "HTMLModel",
            "_view_count": null,
            "_view_module": "@jupyter-widgets/controls",
            "_view_module_version": "1.5.0",
            "_view_name": "HTMLView",
            "description": "",
            "description_tooltip": null,
            "layout": "IPY_MODEL_e367d1ce72c84407aca41ea8cc68d3a4",
            "placeholder": "​",
            "style": "IPY_MODEL_baff3e36e4f94ee1a022e54c4007bb15",
            "value": " 232k/232k [00:00&lt;00:00, 2.90MB/s]"
          }
        },
        "982002eeef114bc1b074ca8e2e35c49f": {
          "model_module": "@jupyter-widgets/base",
          "model_module_version": "1.2.0",
          "model_name": "LayoutModel",
          "state": {
            "_model_module": "@jupyter-widgets/base",
            "_model_module_version": "1.2.0",
            "_model_name": "LayoutModel",
            "_view_count": null,
            "_view_module": "@jupyter-widgets/base",
            "_view_module_version": "1.2.0",
            "_view_name": "LayoutView",
            "align_content": null,
            "align_items": null,
            "align_self": null,
            "border": null,
            "bottom": null,
            "display": null,
            "flex": null,
            "flex_flow": null,
            "grid_area": null,
            "grid_auto_columns": null,
            "grid_auto_flow": null,
            "grid_auto_rows": null,
            "grid_column": null,
            "grid_gap": null,
            "grid_row": null,
            "grid_template_areas": null,
            "grid_template_columns": null,
            "grid_template_rows": null,
            "height": null,
            "justify_content": null,
            "justify_items": null,
            "left": null,
            "margin": null,
            "max_height": null,
            "max_width": null,
            "min_height": null,
            "min_width": null,
            "object_fit": null,
            "object_position": null,
            "order": null,
            "overflow": null,
            "overflow_x": null,
            "overflow_y": null,
            "padding": null,
            "right": null,
            "top": null,
            "visibility": null,
            "width": null
          }
        },
        "9931724919cd4deab417c943112a6e42": {
          "model_module": "@jupyter-widgets/controls",
          "model_module_version": "1.5.0",
          "model_name": "ProgressStyleModel",
          "state": {
            "_model_module": "@jupyter-widgets/controls",
            "_model_module_version": "1.5.0",
            "_model_name": "ProgressStyleModel",
            "_view_count": null,
            "_view_module": "@jupyter-widgets/base",
            "_view_module_version": "1.2.0",
            "_view_name": "StyleView",
            "bar_color": null,
            "description_width": ""
          }
        },
        "998b320a38a24abba55d18bf3c506a44": {
          "model_module": "@jupyter-widgets/base",
          "model_module_version": "1.2.0",
          "model_name": "LayoutModel",
          "state": {
            "_model_module": "@jupyter-widgets/base",
            "_model_module_version": "1.2.0",
            "_model_name": "LayoutModel",
            "_view_count": null,
            "_view_module": "@jupyter-widgets/base",
            "_view_module_version": "1.2.0",
            "_view_name": "LayoutView",
            "align_content": null,
            "align_items": null,
            "align_self": null,
            "border": null,
            "bottom": null,
            "display": null,
            "flex": null,
            "flex_flow": null,
            "grid_area": null,
            "grid_auto_columns": null,
            "grid_auto_flow": null,
            "grid_auto_rows": null,
            "grid_column": null,
            "grid_gap": null,
            "grid_row": null,
            "grid_template_areas": null,
            "grid_template_columns": null,
            "grid_template_rows": null,
            "height": null,
            "justify_content": null,
            "justify_items": null,
            "left": null,
            "margin": null,
            "max_height": null,
            "max_width": null,
            "min_height": null,
            "min_width": null,
            "object_fit": null,
            "object_position": null,
            "order": null,
            "overflow": null,
            "overflow_x": null,
            "overflow_y": null,
            "padding": null,
            "right": null,
            "top": null,
            "visibility": null,
            "width": null
          }
        },
        "9fa51ca8da9b4334a2b8d14340cf5f77": {
          "model_module": "@jupyter-widgets/controls",
          "model_module_version": "1.5.0",
          "model_name": "DescriptionStyleModel",
          "state": {
            "_model_module": "@jupyter-widgets/controls",
            "_model_module_version": "1.5.0",
            "_model_name": "DescriptionStyleModel",
            "_view_count": null,
            "_view_module": "@jupyter-widgets/base",
            "_view_module_version": "1.2.0",
            "_view_name": "StyleView",
            "description_width": ""
          }
        },
        "a0319d2f46474993ab41d39bd4c2647d": {
          "model_module": "@jupyter-widgets/base",
          "model_module_version": "1.2.0",
          "model_name": "LayoutModel",
          "state": {
            "_model_module": "@jupyter-widgets/base",
            "_model_module_version": "1.2.0",
            "_model_name": "LayoutModel",
            "_view_count": null,
            "_view_module": "@jupyter-widgets/base",
            "_view_module_version": "1.2.0",
            "_view_name": "LayoutView",
            "align_content": null,
            "align_items": null,
            "align_self": null,
            "border": null,
            "bottom": null,
            "display": null,
            "flex": null,
            "flex_flow": null,
            "grid_area": null,
            "grid_auto_columns": null,
            "grid_auto_flow": null,
            "grid_auto_rows": null,
            "grid_column": null,
            "grid_gap": null,
            "grid_row": null,
            "grid_template_areas": null,
            "grid_template_columns": null,
            "grid_template_rows": null,
            "height": null,
            "justify_content": null,
            "justify_items": null,
            "left": null,
            "margin": null,
            "max_height": null,
            "max_width": null,
            "min_height": null,
            "min_width": null,
            "object_fit": null,
            "object_position": null,
            "order": null,
            "overflow": null,
            "overflow_x": null,
            "overflow_y": null,
            "padding": null,
            "right": null,
            "top": null,
            "visibility": null,
            "width": null
          }
        },
        "a5d03b89c8c149f2bae95bfcf3d87559": {
          "model_module": "@jupyter-widgets/controls",
          "model_module_version": "1.5.0",
          "model_name": "HTMLModel",
          "state": {
            "_dom_classes": [],
            "_model_module": "@jupyter-widgets/controls",
            "_model_module_version": "1.5.0",
            "_model_name": "HTMLModel",
            "_view_count": null,
            "_view_module": "@jupyter-widgets/controls",
            "_view_module_version": "1.5.0",
            "_view_name": "HTMLView",
            "description": "",
            "description_tooltip": null,
            "layout": "IPY_MODEL_feac31538bcb4895a222a5f943711f0f",
            "placeholder": "​",
            "style": "IPY_MODEL_398699e36b37452fb7305326c4449bd8",
            "value": " 466k/466k [00:00&lt;00:00, 9.60MB/s]"
          }
        },
        "a8ad7469620042bba16c70070881b07d": {
          "model_module": "@jupyter-widgets/base",
          "model_module_version": "1.2.0",
          "model_name": "LayoutModel",
          "state": {
            "_model_module": "@jupyter-widgets/base",
            "_model_module_version": "1.2.0",
            "_model_name": "LayoutModel",
            "_view_count": null,
            "_view_module": "@jupyter-widgets/base",
            "_view_module_version": "1.2.0",
            "_view_name": "LayoutView",
            "align_content": null,
            "align_items": null,
            "align_self": null,
            "border": null,
            "bottom": null,
            "display": null,
            "flex": null,
            "flex_flow": null,
            "grid_area": null,
            "grid_auto_columns": null,
            "grid_auto_flow": null,
            "grid_auto_rows": null,
            "grid_column": null,
            "grid_gap": null,
            "grid_row": null,
            "grid_template_areas": null,
            "grid_template_columns": null,
            "grid_template_rows": null,
            "height": null,
            "justify_content": null,
            "justify_items": null,
            "left": null,
            "margin": null,
            "max_height": null,
            "max_width": null,
            "min_height": null,
            "min_width": null,
            "object_fit": null,
            "object_position": null,
            "order": null,
            "overflow": null,
            "overflow_x": null,
            "overflow_y": null,
            "padding": null,
            "right": null,
            "top": null,
            "visibility": null,
            "width": null
          }
        },
        "aa36edb56725415494dd0879aaac90f1": {
          "model_module": "@jupyter-widgets/controls",
          "model_module_version": "1.5.0",
          "model_name": "HTMLModel",
          "state": {
            "_dom_classes": [],
            "_model_module": "@jupyter-widgets/controls",
            "_model_module_version": "1.5.0",
            "_model_name": "HTMLModel",
            "_view_count": null,
            "_view_module": "@jupyter-widgets/controls",
            "_view_module_version": "1.5.0",
            "_view_name": "HTMLView",
            "description": "",
            "description_tooltip": null,
            "layout": "IPY_MODEL_7324af519e6b4e769e6f93b67a84bd69",
            "placeholder": "​",
            "style": "IPY_MODEL_afe8a7f557094edeb3a5dabf26fc0edf",
            "value": "README.md: 100%"
          }
        },
        "abb90d76980c4d598a00b3b7b91b53ed": {
          "model_module": "@jupyter-widgets/controls",
          "model_module_version": "1.5.0",
          "model_name": "HTMLModel",
          "state": {
            "_dom_classes": [],
            "_model_module": "@jupyter-widgets/controls",
            "_model_module_version": "1.5.0",
            "_model_name": "HTMLModel",
            "_view_count": null,
            "_view_module": "@jupyter-widgets/controls",
            "_view_module_version": "1.5.0",
            "_view_name": "HTMLView",
            "description": "",
            "description_tooltip": null,
            "layout": "IPY_MODEL_3313a6aedd4641af98853ff8150edce0",
            "placeholder": "​",
            "style": "IPY_MODEL_f0fd41590f8c494c9826518f3330276c",
            "value": "vocab.txt: 100%"
          }
        },
        "acd7d075d46644eb85be8155f27ec876": {
          "model_module": "@jupyter-widgets/controls",
          "model_module_version": "1.5.0",
          "model_name": "ProgressStyleModel",
          "state": {
            "_model_module": "@jupyter-widgets/controls",
            "_model_module_version": "1.5.0",
            "_model_name": "ProgressStyleModel",
            "_view_count": null,
            "_view_module": "@jupyter-widgets/base",
            "_view_module_version": "1.2.0",
            "_view_name": "StyleView",
            "bar_color": null,
            "description_width": ""
          }
        },
        "afa803b5566644b1996dab485d2c1fb9": {
          "model_module": "@jupyter-widgets/controls",
          "model_module_version": "1.5.0",
          "model_name": "DescriptionStyleModel",
          "state": {
            "_model_module": "@jupyter-widgets/controls",
            "_model_module_version": "1.5.0",
            "_model_name": "DescriptionStyleModel",
            "_view_count": null,
            "_view_module": "@jupyter-widgets/base",
            "_view_module_version": "1.2.0",
            "_view_name": "StyleView",
            "description_width": ""
          }
        },
        "afe8a7f557094edeb3a5dabf26fc0edf": {
          "model_module": "@jupyter-widgets/controls",
          "model_module_version": "1.5.0",
          "model_name": "DescriptionStyleModel",
          "state": {
            "_model_module": "@jupyter-widgets/controls",
            "_model_module_version": "1.5.0",
            "_model_name": "DescriptionStyleModel",
            "_view_count": null,
            "_view_module": "@jupyter-widgets/base",
            "_view_module_version": "1.2.0",
            "_view_name": "StyleView",
            "description_width": ""
          }
        },
        "afff15535b5c44b6917cd5bd63259d42": {
          "model_module": "@jupyter-widgets/controls",
          "model_module_version": "1.5.0",
          "model_name": "HTMLModel",
          "state": {
            "_dom_classes": [],
            "_model_module": "@jupyter-widgets/controls",
            "_model_module_version": "1.5.0",
            "_model_name": "HTMLModel",
            "_view_count": null,
            "_view_module": "@jupyter-widgets/controls",
            "_view_module_version": "1.5.0",
            "_view_name": "HTMLView",
            "description": "",
            "description_tooltip": null,
            "layout": "IPY_MODEL_c4b47e555f7c41b699c6cc77dbc8753b",
            "placeholder": "​",
            "style": "IPY_MODEL_b1c63742c0144e798a07fb14e4e0cbd4",
            "value": "config.json: 100%"
          }
        },
        "b1c208af2e724b9e96b5a97ef0e6abb5": {
          "model_module": "@jupyter-widgets/controls",
          "model_module_version": "1.5.0",
          "model_name": "FloatProgressModel",
          "state": {
            "_dom_classes": [],
            "_model_module": "@jupyter-widgets/controls",
            "_model_module_version": "1.5.0",
            "_model_name": "FloatProgressModel",
            "_view_count": null,
            "_view_module": "@jupyter-widgets/controls",
            "_view_module_version": "1.5.0",
            "_view_name": "ProgressView",
            "bar_style": "success",
            "description": "",
            "description_tooltip": null,
            "layout": "IPY_MODEL_3e71cb4616bf475f8d6139f6c4b98ab3",
            "max": 116,
            "min": 0,
            "orientation": "horizontal",
            "style": "IPY_MODEL_02a1cc07e1a647cc94093c8944c27230",
            "value": 116
          }
        },
        "b1c63742c0144e798a07fb14e4e0cbd4": {
          "model_module": "@jupyter-widgets/controls",
          "model_module_version": "1.5.0",
          "model_name": "DescriptionStyleModel",
          "state": {
            "_model_module": "@jupyter-widgets/controls",
            "_model_module_version": "1.5.0",
            "_model_name": "DescriptionStyleModel",
            "_view_count": null,
            "_view_module": "@jupyter-widgets/base",
            "_view_module_version": "1.2.0",
            "_view_name": "StyleView",
            "description_width": ""
          }
        },
        "b2072bb394f641aab740dadce38a26c4": {
          "model_module": "@jupyter-widgets/base",
          "model_module_version": "1.2.0",
          "model_name": "LayoutModel",
          "state": {
            "_model_module": "@jupyter-widgets/base",
            "_model_module_version": "1.2.0",
            "_model_name": "LayoutModel",
            "_view_count": null,
            "_view_module": "@jupyter-widgets/base",
            "_view_module_version": "1.2.0",
            "_view_name": "LayoutView",
            "align_content": null,
            "align_items": null,
            "align_self": null,
            "border": null,
            "bottom": null,
            "display": null,
            "flex": null,
            "flex_flow": null,
            "grid_area": null,
            "grid_auto_columns": null,
            "grid_auto_flow": null,
            "grid_auto_rows": null,
            "grid_column": null,
            "grid_gap": null,
            "grid_row": null,
            "grid_template_areas": null,
            "grid_template_columns": null,
            "grid_template_rows": null,
            "height": null,
            "justify_content": null,
            "justify_items": null,
            "left": null,
            "margin": null,
            "max_height": null,
            "max_width": null,
            "min_height": null,
            "min_width": null,
            "object_fit": null,
            "object_position": null,
            "order": null,
            "overflow": null,
            "overflow_x": null,
            "overflow_y": null,
            "padding": null,
            "right": null,
            "top": null,
            "visibility": null,
            "width": null
          }
        },
        "b2d7422b8e1346cb9758628746e4d97a": {
          "model_module": "@jupyter-widgets/base",
          "model_module_version": "1.2.0",
          "model_name": "LayoutModel",
          "state": {
            "_model_module": "@jupyter-widgets/base",
            "_model_module_version": "1.2.0",
            "_model_name": "LayoutModel",
            "_view_count": null,
            "_view_module": "@jupyter-widgets/base",
            "_view_module_version": "1.2.0",
            "_view_name": "LayoutView",
            "align_content": null,
            "align_items": null,
            "align_self": null,
            "border": null,
            "bottom": null,
            "display": null,
            "flex": null,
            "flex_flow": null,
            "grid_area": null,
            "grid_auto_columns": null,
            "grid_auto_flow": null,
            "grid_auto_rows": null,
            "grid_column": null,
            "grid_gap": null,
            "grid_row": null,
            "grid_template_areas": null,
            "grid_template_columns": null,
            "grid_template_rows": null,
            "height": null,
            "justify_content": null,
            "justify_items": null,
            "left": null,
            "margin": null,
            "max_height": null,
            "max_width": null,
            "min_height": null,
            "min_width": null,
            "object_fit": null,
            "object_position": null,
            "order": null,
            "overflow": null,
            "overflow_x": null,
            "overflow_y": null,
            "padding": null,
            "right": null,
            "top": null,
            "visibility": null,
            "width": null
          }
        },
        "b2ede3eecf444748ad7e3c1cffa2c03d": {
          "model_module": "@jupyter-widgets/controls",
          "model_module_version": "1.5.0",
          "model_name": "DescriptionStyleModel",
          "state": {
            "_model_module": "@jupyter-widgets/controls",
            "_model_module_version": "1.5.0",
            "_model_name": "DescriptionStyleModel",
            "_view_count": null,
            "_view_module": "@jupyter-widgets/base",
            "_view_module_version": "1.2.0",
            "_view_name": "StyleView",
            "description_width": ""
          }
        },
        "b4e8ecbb230c4dd4b529a8cd49806136": {
          "model_module": "@jupyter-widgets/base",
          "model_module_version": "1.2.0",
          "model_name": "LayoutModel",
          "state": {
            "_model_module": "@jupyter-widgets/base",
            "_model_module_version": "1.2.0",
            "_model_name": "LayoutModel",
            "_view_count": null,
            "_view_module": "@jupyter-widgets/base",
            "_view_module_version": "1.2.0",
            "_view_name": "LayoutView",
            "align_content": null,
            "align_items": null,
            "align_self": null,
            "border": null,
            "bottom": null,
            "display": null,
            "flex": null,
            "flex_flow": null,
            "grid_area": null,
            "grid_auto_columns": null,
            "grid_auto_flow": null,
            "grid_auto_rows": null,
            "grid_column": null,
            "grid_gap": null,
            "grid_row": null,
            "grid_template_areas": null,
            "grid_template_columns": null,
            "grid_template_rows": null,
            "height": null,
            "justify_content": null,
            "justify_items": null,
            "left": null,
            "margin": null,
            "max_height": null,
            "max_width": null,
            "min_height": null,
            "min_width": null,
            "object_fit": null,
            "object_position": null,
            "order": null,
            "overflow": null,
            "overflow_x": null,
            "overflow_y": null,
            "padding": null,
            "right": null,
            "top": null,
            "visibility": null,
            "width": null
          }
        },
        "b8a791ffe1804afd94cffcd0fe517e5f": {
          "model_module": "@jupyter-widgets/controls",
          "model_module_version": "1.5.0",
          "model_name": "FloatProgressModel",
          "state": {
            "_dom_classes": [],
            "_model_module": "@jupyter-widgets/controls",
            "_model_module_version": "1.5.0",
            "_model_name": "FloatProgressModel",
            "_view_count": null,
            "_view_module": "@jupyter-widgets/controls",
            "_view_module_version": "1.5.0",
            "_view_name": "ProgressView",
            "bar_style": "success",
            "description": "",
            "description_tooltip": null,
            "layout": "IPY_MODEL_8bb43d39034c4c12b13dfe1e78d6d85f",
            "max": 612,
            "min": 0,
            "orientation": "horizontal",
            "style": "IPY_MODEL_c8250b7726c847faa4b4bb1a8725ac05",
            "value": 612
          }
        },
        "b9716a426e5348a6948a7ad897695c36": {
          "model_module": "@jupyter-widgets/controls",
          "model_module_version": "1.5.0",
          "model_name": "FloatProgressModel",
          "state": {
            "_dom_classes": [],
            "_model_module": "@jupyter-widgets/controls",
            "_model_module_version": "1.5.0",
            "_model_name": "FloatProgressModel",
            "_view_count": null,
            "_view_module": "@jupyter-widgets/controls",
            "_view_module_version": "1.5.0",
            "_view_name": "ProgressView",
            "bar_style": "success",
            "description": "",
            "description_tooltip": null,
            "layout": "IPY_MODEL_b2d7422b8e1346cb9758628746e4d97a",
            "max": 350,
            "min": 0,
            "orientation": "horizontal",
            "style": "IPY_MODEL_9931724919cd4deab417c943112a6e42",
            "value": 350
          }
        },
        "baff3e36e4f94ee1a022e54c4007bb15": {
          "model_module": "@jupyter-widgets/controls",
          "model_module_version": "1.5.0",
          "model_name": "DescriptionStyleModel",
          "state": {
            "_model_module": "@jupyter-widgets/controls",
            "_model_module_version": "1.5.0",
            "_model_name": "DescriptionStyleModel",
            "_view_count": null,
            "_view_module": "@jupyter-widgets/base",
            "_view_module_version": "1.2.0",
            "_view_name": "StyleView",
            "description_width": ""
          }
        },
        "bcc42174b3f246a1beb3eea9c4bdcb4c": {
          "model_module": "@jupyter-widgets/controls",
          "model_module_version": "1.5.0",
          "model_name": "ProgressStyleModel",
          "state": {
            "_model_module": "@jupyter-widgets/controls",
            "_model_module_version": "1.5.0",
            "_model_name": "ProgressStyleModel",
            "_view_count": null,
            "_view_module": "@jupyter-widgets/base",
            "_view_module_version": "1.2.0",
            "_view_name": "StyleView",
            "bar_color": null,
            "description_width": ""
          }
        },
        "bd192895dc664f09bc49085a05f27722": {
          "model_module": "@jupyter-widgets/base",
          "model_module_version": "1.2.0",
          "model_name": "LayoutModel",
          "state": {
            "_model_module": "@jupyter-widgets/base",
            "_model_module_version": "1.2.0",
            "_model_name": "LayoutModel",
            "_view_count": null,
            "_view_module": "@jupyter-widgets/base",
            "_view_module_version": "1.2.0",
            "_view_name": "LayoutView",
            "align_content": null,
            "align_items": null,
            "align_self": null,
            "border": null,
            "bottom": null,
            "display": null,
            "flex": null,
            "flex_flow": null,
            "grid_area": null,
            "grid_auto_columns": null,
            "grid_auto_flow": null,
            "grid_auto_rows": null,
            "grid_column": null,
            "grid_gap": null,
            "grid_row": null,
            "grid_template_areas": null,
            "grid_template_columns": null,
            "grid_template_rows": null,
            "height": null,
            "justify_content": null,
            "justify_items": null,
            "left": null,
            "margin": null,
            "max_height": null,
            "max_width": null,
            "min_height": null,
            "min_width": null,
            "object_fit": null,
            "object_position": null,
            "order": null,
            "overflow": null,
            "overflow_x": null,
            "overflow_y": null,
            "padding": null,
            "right": null,
            "top": null,
            "visibility": null,
            "width": null
          }
        },
        "c21db91c865c44e8baaedd5f62cd05a2": {
          "model_module": "@jupyter-widgets/controls",
          "model_module_version": "1.5.0",
          "model_name": "HTMLModel",
          "state": {
            "_dom_classes": [],
            "_model_module": "@jupyter-widgets/controls",
            "_model_module_version": "1.5.0",
            "_model_name": "HTMLModel",
            "_view_count": null,
            "_view_module": "@jupyter-widgets/controls",
            "_view_module_version": "1.5.0",
            "_view_name": "HTMLView",
            "description": "",
            "description_tooltip": null,
            "layout": "IPY_MODEL_b4e8ecbb230c4dd4b529a8cd49806136",
            "placeholder": "​",
            "style": "IPY_MODEL_de376ae56ea34687adbe2fc55287aa8d",
            "value": "config.json: 100%"
          }
        },
        "c254fd50b8464335b80b43553e3d1575": {
          "model_module": "@jupyter-widgets/controls",
          "model_module_version": "1.5.0",
          "model_name": "DescriptionStyleModel",
          "state": {
            "_model_module": "@jupyter-widgets/controls",
            "_model_module_version": "1.5.0",
            "_model_name": "DescriptionStyleModel",
            "_view_count": null,
            "_view_module": "@jupyter-widgets/base",
            "_view_module_version": "1.2.0",
            "_view_name": "StyleView",
            "description_width": ""
          }
        },
        "c4b47e555f7c41b699c6cc77dbc8753b": {
          "model_module": "@jupyter-widgets/base",
          "model_module_version": "1.2.0",
          "model_name": "LayoutModel",
          "state": {
            "_model_module": "@jupyter-widgets/base",
            "_model_module_version": "1.2.0",
            "_model_name": "LayoutModel",
            "_view_count": null,
            "_view_module": "@jupyter-widgets/base",
            "_view_module_version": "1.2.0",
            "_view_name": "LayoutView",
            "align_content": null,
            "align_items": null,
            "align_self": null,
            "border": null,
            "bottom": null,
            "display": null,
            "flex": null,
            "flex_flow": null,
            "grid_area": null,
            "grid_auto_columns": null,
            "grid_auto_flow": null,
            "grid_auto_rows": null,
            "grid_column": null,
            "grid_gap": null,
            "grid_row": null,
            "grid_template_areas": null,
            "grid_template_columns": null,
            "grid_template_rows": null,
            "height": null,
            "justify_content": null,
            "justify_items": null,
            "left": null,
            "margin": null,
            "max_height": null,
            "max_width": null,
            "min_height": null,
            "min_width": null,
            "object_fit": null,
            "object_position": null,
            "order": null,
            "overflow": null,
            "overflow_x": null,
            "overflow_y": null,
            "padding": null,
            "right": null,
            "top": null,
            "visibility": null,
            "width": null
          }
        },
        "c4ee250f79c841569c6ce72e72adaa08": {
          "model_module": "@jupyter-widgets/controls",
          "model_module_version": "1.5.0",
          "model_name": "DescriptionStyleModel",
          "state": {
            "_model_module": "@jupyter-widgets/controls",
            "_model_module_version": "1.5.0",
            "_model_name": "DescriptionStyleModel",
            "_view_count": null,
            "_view_module": "@jupyter-widgets/base",
            "_view_module_version": "1.2.0",
            "_view_name": "StyleView",
            "description_width": ""
          }
        },
        "c8250b7726c847faa4b4bb1a8725ac05": {
          "model_module": "@jupyter-widgets/controls",
          "model_module_version": "1.5.0",
          "model_name": "ProgressStyleModel",
          "state": {
            "_model_module": "@jupyter-widgets/controls",
            "_model_module_version": "1.5.0",
            "_model_name": "ProgressStyleModel",
            "_view_count": null,
            "_view_module": "@jupyter-widgets/base",
            "_view_module_version": "1.2.0",
            "_view_name": "StyleView",
            "bar_color": null,
            "description_width": ""
          }
        },
        "c858d382b56b4d74ae8cffb60e5d31f9": {
          "model_module": "@jupyter-widgets/base",
          "model_module_version": "1.2.0",
          "model_name": "LayoutModel",
          "state": {
            "_model_module": "@jupyter-widgets/base",
            "_model_module_version": "1.2.0",
            "_model_name": "LayoutModel",
            "_view_count": null,
            "_view_module": "@jupyter-widgets/base",
            "_view_module_version": "1.2.0",
            "_view_name": "LayoutView",
            "align_content": null,
            "align_items": null,
            "align_self": null,
            "border": null,
            "bottom": null,
            "display": null,
            "flex": null,
            "flex_flow": null,
            "grid_area": null,
            "grid_auto_columns": null,
            "grid_auto_flow": null,
            "grid_auto_rows": null,
            "grid_column": null,
            "grid_gap": null,
            "grid_row": null,
            "grid_template_areas": null,
            "grid_template_columns": null,
            "grid_template_rows": null,
            "height": null,
            "justify_content": null,
            "justify_items": null,
            "left": null,
            "margin": null,
            "max_height": null,
            "max_width": null,
            "min_height": null,
            "min_width": null,
            "object_fit": null,
            "object_position": null,
            "order": null,
            "overflow": null,
            "overflow_x": null,
            "overflow_y": null,
            "padding": null,
            "right": null,
            "top": null,
            "visibility": null,
            "width": null
          }
        },
        "c99f155d993d49d297d8597c9e462ade": {
          "model_module": "@jupyter-widgets/base",
          "model_module_version": "1.2.0",
          "model_name": "LayoutModel",
          "state": {
            "_model_module": "@jupyter-widgets/base",
            "_model_module_version": "1.2.0",
            "_model_name": "LayoutModel",
            "_view_count": null,
            "_view_module": "@jupyter-widgets/base",
            "_view_module_version": "1.2.0",
            "_view_name": "LayoutView",
            "align_content": null,
            "align_items": null,
            "align_self": null,
            "border": null,
            "bottom": null,
            "display": null,
            "flex": null,
            "flex_flow": null,
            "grid_area": null,
            "grid_auto_columns": null,
            "grid_auto_flow": null,
            "grid_auto_rows": null,
            "grid_column": null,
            "grid_gap": null,
            "grid_row": null,
            "grid_template_areas": null,
            "grid_template_columns": null,
            "grid_template_rows": null,
            "height": null,
            "justify_content": null,
            "justify_items": null,
            "left": null,
            "margin": null,
            "max_height": null,
            "max_width": null,
            "min_height": null,
            "min_width": null,
            "object_fit": null,
            "object_position": null,
            "order": null,
            "overflow": null,
            "overflow_x": null,
            "overflow_y": null,
            "padding": null,
            "right": null,
            "top": null,
            "visibility": null,
            "width": null
          }
        },
        "cfa5171ec02d4ae0a5914310bd430e83": {
          "model_module": "@jupyter-widgets/controls",
          "model_module_version": "1.5.0",
          "model_name": "ProgressStyleModel",
          "state": {
            "_model_module": "@jupyter-widgets/controls",
            "_model_module_version": "1.5.0",
            "_model_name": "ProgressStyleModel",
            "_view_count": null,
            "_view_module": "@jupyter-widgets/base",
            "_view_module_version": "1.2.0",
            "_view_name": "StyleView",
            "bar_color": null,
            "description_width": ""
          }
        },
        "d2c01c04d88f487ea58abad469665d23": {
          "model_module": "@jupyter-widgets/base",
          "model_module_version": "1.2.0",
          "model_name": "LayoutModel",
          "state": {
            "_model_module": "@jupyter-widgets/base",
            "_model_module_version": "1.2.0",
            "_model_name": "LayoutModel",
            "_view_count": null,
            "_view_module": "@jupyter-widgets/base",
            "_view_module_version": "1.2.0",
            "_view_name": "LayoutView",
            "align_content": null,
            "align_items": null,
            "align_self": null,
            "border": null,
            "bottom": null,
            "display": null,
            "flex": null,
            "flex_flow": null,
            "grid_area": null,
            "grid_auto_columns": null,
            "grid_auto_flow": null,
            "grid_auto_rows": null,
            "grid_column": null,
            "grid_gap": null,
            "grid_row": null,
            "grid_template_areas": null,
            "grid_template_columns": null,
            "grid_template_rows": null,
            "height": null,
            "justify_content": null,
            "justify_items": null,
            "left": null,
            "margin": null,
            "max_height": null,
            "max_width": null,
            "min_height": null,
            "min_width": null,
            "object_fit": null,
            "object_position": null,
            "order": null,
            "overflow": null,
            "overflow_x": null,
            "overflow_y": null,
            "padding": null,
            "right": null,
            "top": null,
            "visibility": null,
            "width": null
          }
        },
        "d30ddc91783147e698a926112e3ef679": {
          "model_module": "@jupyter-widgets/controls",
          "model_module_version": "1.5.0",
          "model_name": "HBoxModel",
          "state": {
            "_dom_classes": [],
            "_model_module": "@jupyter-widgets/controls",
            "_model_module_version": "1.5.0",
            "_model_name": "HBoxModel",
            "_view_count": null,
            "_view_module": "@jupyter-widgets/controls",
            "_view_module_version": "1.5.0",
            "_view_name": "HBoxView",
            "box_style": "",
            "children": [
              "IPY_MODEL_2599995bbbb649458c8c8f2781c91caf",
              "IPY_MODEL_d34fc6e294034e13b88eb79958145343",
              "IPY_MODEL_587ab6dbd89b4a22b8f832077844496b"
            ],
            "layout": "IPY_MODEL_982002eeef114bc1b074ca8e2e35c49f"
          }
        },
        "d34fc6e294034e13b88eb79958145343": {
          "model_module": "@jupyter-widgets/controls",
          "model_module_version": "1.5.0",
          "model_name": "FloatProgressModel",
          "state": {
            "_dom_classes": [],
            "_model_module": "@jupyter-widgets/controls",
            "_model_module_version": "1.5.0",
            "_model_name": "FloatProgressModel",
            "_view_count": null,
            "_view_module": "@jupyter-widgets/controls",
            "_view_module_version": "1.5.0",
            "_view_name": "ProgressView",
            "bar_style": "success",
            "description": "",
            "description_tooltip": null,
            "layout": "IPY_MODEL_15dd79bf283d4be8a34a991a9e85f5b0",
            "max": 349,
            "min": 0,
            "orientation": "horizontal",
            "style": "IPY_MODEL_acd7d075d46644eb85be8155f27ec876",
            "value": 349
          }
        },
        "d431c0d598f745c582a890799a39948d": {
          "model_module": "@jupyter-widgets/controls",
          "model_module_version": "1.5.0",
          "model_name": "HTMLModel",
          "state": {
            "_dom_classes": [],
            "_model_module": "@jupyter-widgets/controls",
            "_model_module_version": "1.5.0",
            "_model_name": "HTMLModel",
            "_view_count": null,
            "_view_module": "@jupyter-widgets/controls",
            "_view_module_version": "1.5.0",
            "_view_name": "HTMLView",
            "description": "",
            "description_tooltip": null,
            "layout": "IPY_MODEL_05d170ce69af4b1cb514763ad3adac71",
            "placeholder": "​",
            "style": "IPY_MODEL_1b404521705047158d5c41959c0599c8",
            "value": "tokenizer.json: 100%"
          }
        },
        "d63786e5414942fe90fc19e1f4eef2a5": {
          "model_module": "@jupyter-widgets/controls",
          "model_module_version": "1.5.0",
          "model_name": "HTMLModel",
          "state": {
            "_dom_classes": [],
            "_model_module": "@jupyter-widgets/controls",
            "_model_module_version": "1.5.0",
            "_model_name": "HTMLModel",
            "_view_count": null,
            "_view_module": "@jupyter-widgets/controls",
            "_view_module_version": "1.5.0",
            "_view_name": "HTMLView",
            "description": "",
            "description_tooltip": null,
            "layout": "IPY_MODEL_53a7932640d74efea06c0e0580409d54",
            "placeholder": "​",
            "style": "IPY_MODEL_9fa51ca8da9b4334a2b8d14340cf5f77",
            "value": " 116/116 [00:00&lt;00:00, 8.51kB/s]"
          }
        },
        "d8b29312d7e14be6a24104cb01b53a50": {
          "model_module": "@jupyter-widgets/controls",
          "model_module_version": "1.5.0",
          "model_name": "HTMLModel",
          "state": {
            "_dom_classes": [],
            "_model_module": "@jupyter-widgets/controls",
            "_model_module_version": "1.5.0",
            "_model_name": "HTMLModel",
            "_view_count": null,
            "_view_module": "@jupyter-widgets/controls",
            "_view_module_version": "1.5.0",
            "_view_name": "HTMLView",
            "description": "",
            "description_tooltip": null,
            "layout": "IPY_MODEL_09cb3562415844559bba308815aafad4",
            "placeholder": "​",
            "style": "IPY_MODEL_70153449341749169a7017c5fd9bc93f",
            "value": " 90.9M/90.9M [00:01&lt;00:00, 104MB/s]"
          }
        },
        "da4614b717704834a81920a2d85f284a": {
          "model_module": "@jupyter-widgets/controls",
          "model_module_version": "1.5.0",
          "model_name": "DescriptionStyleModel",
          "state": {
            "_model_module": "@jupyter-widgets/controls",
            "_model_module_version": "1.5.0",
            "_model_name": "DescriptionStyleModel",
            "_view_count": null,
            "_view_module": "@jupyter-widgets/base",
            "_view_module_version": "1.2.0",
            "_view_name": "StyleView",
            "description_width": ""
          }
        },
        "daee92a6a14f4a93ab19ad7b773bb886": {
          "model_module": "@jupyter-widgets/controls",
          "model_module_version": "1.5.0",
          "model_name": "FloatProgressModel",
          "state": {
            "_dom_classes": [],
            "_model_module": "@jupyter-widgets/controls",
            "_model_module_version": "1.5.0",
            "_model_name": "FloatProgressModel",
            "_view_count": null,
            "_view_module": "@jupyter-widgets/controls",
            "_view_module_version": "1.5.0",
            "_view_name": "ProgressView",
            "bar_style": "success",
            "description": "",
            "description_tooltip": null,
            "layout": "IPY_MODEL_6d3d1b5a033e4e23a52437a763a0f7a1",
            "max": 53,
            "min": 0,
            "orientation": "horizontal",
            "style": "IPY_MODEL_fac38486ca844bebbe6d42759c91d5af",
            "value": 53
          }
        },
        "de376ae56ea34687adbe2fc55287aa8d": {
          "model_module": "@jupyter-widgets/controls",
          "model_module_version": "1.5.0",
          "model_name": "DescriptionStyleModel",
          "state": {
            "_model_module": "@jupyter-widgets/controls",
            "_model_module_version": "1.5.0",
            "_model_name": "DescriptionStyleModel",
            "_view_count": null,
            "_view_module": "@jupyter-widgets/base",
            "_view_module_version": "1.2.0",
            "_view_name": "StyleView",
            "description_width": ""
          }
        },
        "e367d1ce72c84407aca41ea8cc68d3a4": {
          "model_module": "@jupyter-widgets/base",
          "model_module_version": "1.2.0",
          "model_name": "LayoutModel",
          "state": {
            "_model_module": "@jupyter-widgets/base",
            "_model_module_version": "1.2.0",
            "_model_name": "LayoutModel",
            "_view_count": null,
            "_view_module": "@jupyter-widgets/base",
            "_view_module_version": "1.2.0",
            "_view_name": "LayoutView",
            "align_content": null,
            "align_items": null,
            "align_self": null,
            "border": null,
            "bottom": null,
            "display": null,
            "flex": null,
            "flex_flow": null,
            "grid_area": null,
            "grid_auto_columns": null,
            "grid_auto_flow": null,
            "grid_auto_rows": null,
            "grid_column": null,
            "grid_gap": null,
            "grid_row": null,
            "grid_template_areas": null,
            "grid_template_columns": null,
            "grid_template_rows": null,
            "height": null,
            "justify_content": null,
            "justify_items": null,
            "left": null,
            "margin": null,
            "max_height": null,
            "max_width": null,
            "min_height": null,
            "min_width": null,
            "object_fit": null,
            "object_position": null,
            "order": null,
            "overflow": null,
            "overflow_x": null,
            "overflow_y": null,
            "padding": null,
            "right": null,
            "top": null,
            "visibility": null,
            "width": null
          }
        },
        "e54fb35476b14c648747d603dd304b6c": {
          "model_module": "@jupyter-widgets/controls",
          "model_module_version": "1.5.0",
          "model_name": "DescriptionStyleModel",
          "state": {
            "_model_module": "@jupyter-widgets/controls",
            "_model_module_version": "1.5.0",
            "_model_name": "DescriptionStyleModel",
            "_view_count": null,
            "_view_module": "@jupyter-widgets/base",
            "_view_module_version": "1.2.0",
            "_view_name": "StyleView",
            "description_width": ""
          }
        },
        "e79c4b1484e2455583775865c61f151c": {
          "model_module": "@jupyter-widgets/controls",
          "model_module_version": "1.5.0",
          "model_name": "HTMLModel",
          "state": {
            "_dom_classes": [],
            "_model_module": "@jupyter-widgets/controls",
            "_model_module_version": "1.5.0",
            "_model_name": "HTMLModel",
            "_view_count": null,
            "_view_module": "@jupyter-widgets/controls",
            "_view_module_version": "1.5.0",
            "_view_name": "HTMLView",
            "description": "",
            "description_tooltip": null,
            "layout": "IPY_MODEL_b2072bb394f641aab740dadce38a26c4",
            "placeholder": "​",
            "style": "IPY_MODEL_23a14e89ba654792a81514ea91631cf9",
            "value": "tokenizer_config.json: 100%"
          }
        },
        "e7c1069f901043d7a98ed204aacd1445": {
          "model_module": "@jupyter-widgets/controls",
          "model_module_version": "1.5.0",
          "model_name": "FloatProgressModel",
          "state": {
            "_dom_classes": [],
            "_model_module": "@jupyter-widgets/controls",
            "_model_module_version": "1.5.0",
            "_model_name": "FloatProgressModel",
            "_view_count": null,
            "_view_module": "@jupyter-widgets/controls",
            "_view_module_version": "1.5.0",
            "_view_name": "ProgressView",
            "bar_style": "success",
            "description": "",
            "description_tooltip": null,
            "layout": "IPY_MODEL_11376bc39dcc4af39d782684fe31c9af",
            "max": 10454,
            "min": 0,
            "orientation": "horizontal",
            "style": "IPY_MODEL_2f6dbb8263f04d32ae8a7fcade72ae5d",
            "value": 10454
          }
        },
        "ecec3704129b4604a7cfda08122b145c": {
          "model_module": "@jupyter-widgets/base",
          "model_module_version": "1.2.0",
          "model_name": "LayoutModel",
          "state": {
            "_model_module": "@jupyter-widgets/base",
            "_model_module_version": "1.2.0",
            "_model_name": "LayoutModel",
            "_view_count": null,
            "_view_module": "@jupyter-widgets/base",
            "_view_module_version": "1.2.0",
            "_view_name": "LayoutView",
            "align_content": null,
            "align_items": null,
            "align_self": null,
            "border": null,
            "bottom": null,
            "display": null,
            "flex": null,
            "flex_flow": null,
            "grid_area": null,
            "grid_auto_columns": null,
            "grid_auto_flow": null,
            "grid_auto_rows": null,
            "grid_column": null,
            "grid_gap": null,
            "grid_row": null,
            "grid_template_areas": null,
            "grid_template_columns": null,
            "grid_template_rows": null,
            "height": null,
            "justify_content": null,
            "justify_items": null,
            "left": null,
            "margin": null,
            "max_height": null,
            "max_width": null,
            "min_height": null,
            "min_width": null,
            "object_fit": null,
            "object_position": null,
            "order": null,
            "overflow": null,
            "overflow_x": null,
            "overflow_y": null,
            "padding": null,
            "right": null,
            "top": null,
            "visibility": null,
            "width": null
          }
        },
        "eead2b8a07084fafa3e375f8a43f89ef": {
          "model_module": "@jupyter-widgets/controls",
          "model_module_version": "1.5.0",
          "model_name": "DescriptionStyleModel",
          "state": {
            "_model_module": "@jupyter-widgets/controls",
            "_model_module_version": "1.5.0",
            "_model_name": "DescriptionStyleModel",
            "_view_count": null,
            "_view_module": "@jupyter-widgets/base",
            "_view_module_version": "1.2.0",
            "_view_name": "StyleView",
            "description_width": ""
          }
        },
        "efbe719f70ed419d8a41e6b6ebc8f2d5": {
          "model_module": "@jupyter-widgets/controls",
          "model_module_version": "1.5.0",
          "model_name": "HBoxModel",
          "state": {
            "_dom_classes": [],
            "_model_module": "@jupyter-widgets/controls",
            "_model_module_version": "1.5.0",
            "_model_name": "HBoxModel",
            "_view_count": null,
            "_view_module": "@jupyter-widgets/controls",
            "_view_module_version": "1.5.0",
            "_view_name": "HBoxView",
            "box_style": "",
            "children": [
              "IPY_MODEL_d431c0d598f745c582a890799a39948d",
              "IPY_MODEL_092ccc832192407485adbc89eaa22d89",
              "IPY_MODEL_a5d03b89c8c149f2bae95bfcf3d87559"
            ],
            "layout": "IPY_MODEL_d2c01c04d88f487ea58abad469665d23"
          }
        },
        "f088fb4df0be4a72b04c56c2ec1eb87a": {
          "model_module": "@jupyter-widgets/controls",
          "model_module_version": "1.5.0",
          "model_name": "HBoxModel",
          "state": {
            "_dom_classes": [],
            "_model_module": "@jupyter-widgets/controls",
            "_model_module_version": "1.5.0",
            "_model_name": "HBoxModel",
            "_view_count": null,
            "_view_module": "@jupyter-widgets/controls",
            "_view_module_version": "1.5.0",
            "_view_name": "HBoxView",
            "box_style": "",
            "children": [
              "IPY_MODEL_abb90d76980c4d598a00b3b7b91b53ed",
              "IPY_MODEL_7edf5929e3b94ac8aa730094699a13be",
              "IPY_MODEL_911ebcd766d940a382305642f1dc58b4"
            ],
            "layout": "IPY_MODEL_5f41b48de33e490193bddb5ddc572b85"
          }
        },
        "f0fd41590f8c494c9826518f3330276c": {
          "model_module": "@jupyter-widgets/controls",
          "model_module_version": "1.5.0",
          "model_name": "DescriptionStyleModel",
          "state": {
            "_model_module": "@jupyter-widgets/controls",
            "_model_module_version": "1.5.0",
            "_model_name": "DescriptionStyleModel",
            "_view_count": null,
            "_view_module": "@jupyter-widgets/base",
            "_view_module_version": "1.2.0",
            "_view_name": "StyleView",
            "description_width": ""
          }
        },
        "f1475ffdd90d4ccc87b4bb630f142a53": {
          "model_module": "@jupyter-widgets/base",
          "model_module_version": "1.2.0",
          "model_name": "LayoutModel",
          "state": {
            "_model_module": "@jupyter-widgets/base",
            "_model_module_version": "1.2.0",
            "_model_name": "LayoutModel",
            "_view_count": null,
            "_view_module": "@jupyter-widgets/base",
            "_view_module_version": "1.2.0",
            "_view_name": "LayoutView",
            "align_content": null,
            "align_items": null,
            "align_self": null,
            "border": null,
            "bottom": null,
            "display": null,
            "flex": null,
            "flex_flow": null,
            "grid_area": null,
            "grid_auto_columns": null,
            "grid_auto_flow": null,
            "grid_auto_rows": null,
            "grid_column": null,
            "grid_gap": null,
            "grid_row": null,
            "grid_template_areas": null,
            "grid_template_columns": null,
            "grid_template_rows": null,
            "height": null,
            "justify_content": null,
            "justify_items": null,
            "left": null,
            "margin": null,
            "max_height": null,
            "max_width": null,
            "min_height": null,
            "min_width": null,
            "object_fit": null,
            "object_position": null,
            "order": null,
            "overflow": null,
            "overflow_x": null,
            "overflow_y": null,
            "padding": null,
            "right": null,
            "top": null,
            "visibility": null,
            "width": null
          }
        },
        "f249b78740db467b8ffe65dd3cb08f78": {
          "model_module": "@jupyter-widgets/base",
          "model_module_version": "1.2.0",
          "model_name": "LayoutModel",
          "state": {
            "_model_module": "@jupyter-widgets/base",
            "_model_module_version": "1.2.0",
            "_model_name": "LayoutModel",
            "_view_count": null,
            "_view_module": "@jupyter-widgets/base",
            "_view_module_version": "1.2.0",
            "_view_name": "LayoutView",
            "align_content": null,
            "align_items": null,
            "align_self": null,
            "border": null,
            "bottom": null,
            "display": null,
            "flex": null,
            "flex_flow": null,
            "grid_area": null,
            "grid_auto_columns": null,
            "grid_auto_flow": null,
            "grid_auto_rows": null,
            "grid_column": null,
            "grid_gap": null,
            "grid_row": null,
            "grid_template_areas": null,
            "grid_template_columns": null,
            "grid_template_rows": null,
            "height": null,
            "justify_content": null,
            "justify_items": null,
            "left": null,
            "margin": null,
            "max_height": null,
            "max_width": null,
            "min_height": null,
            "min_width": null,
            "object_fit": null,
            "object_position": null,
            "order": null,
            "overflow": null,
            "overflow_x": null,
            "overflow_y": null,
            "padding": null,
            "right": null,
            "top": null,
            "visibility": null,
            "width": null
          }
        },
        "f3b5ae58b04b460d84e90b4100b342d4": {
          "model_module": "@jupyter-widgets/controls",
          "model_module_version": "1.5.0",
          "model_name": "DescriptionStyleModel",
          "state": {
            "_model_module": "@jupyter-widgets/controls",
            "_model_module_version": "1.5.0",
            "_model_name": "DescriptionStyleModel",
            "_view_count": null,
            "_view_module": "@jupyter-widgets/base",
            "_view_module_version": "1.2.0",
            "_view_name": "StyleView",
            "description_width": ""
          }
        },
        "f781c676820c4d368a40ba623cd23f42": {
          "model_module": "@jupyter-widgets/base",
          "model_module_version": "1.2.0",
          "model_name": "LayoutModel",
          "state": {
            "_model_module": "@jupyter-widgets/base",
            "_model_module_version": "1.2.0",
            "_model_name": "LayoutModel",
            "_view_count": null,
            "_view_module": "@jupyter-widgets/base",
            "_view_module_version": "1.2.0",
            "_view_name": "LayoutView",
            "align_content": null,
            "align_items": null,
            "align_self": null,
            "border": null,
            "bottom": null,
            "display": null,
            "flex": null,
            "flex_flow": null,
            "grid_area": null,
            "grid_auto_columns": null,
            "grid_auto_flow": null,
            "grid_auto_rows": null,
            "grid_column": null,
            "grid_gap": null,
            "grid_row": null,
            "grid_template_areas": null,
            "grid_template_columns": null,
            "grid_template_rows": null,
            "height": null,
            "justify_content": null,
            "justify_items": null,
            "left": null,
            "margin": null,
            "max_height": null,
            "max_width": null,
            "min_height": null,
            "min_width": null,
            "object_fit": null,
            "object_position": null,
            "order": null,
            "overflow": null,
            "overflow_x": null,
            "overflow_y": null,
            "padding": null,
            "right": null,
            "top": null,
            "visibility": null,
            "width": null
          }
        },
        "fac38486ca844bebbe6d42759c91d5af": {
          "model_module": "@jupyter-widgets/controls",
          "model_module_version": "1.5.0",
          "model_name": "ProgressStyleModel",
          "state": {
            "_model_module": "@jupyter-widgets/controls",
            "_model_module_version": "1.5.0",
            "_model_name": "ProgressStyleModel",
            "_view_count": null,
            "_view_module": "@jupyter-widgets/base",
            "_view_module_version": "1.2.0",
            "_view_name": "StyleView",
            "bar_color": null,
            "description_width": ""
          }
        },
        "fac5686413f5491496d526256cd0a454": {
          "model_module": "@jupyter-widgets/controls",
          "model_module_version": "1.5.0",
          "model_name": "DescriptionStyleModel",
          "state": {
            "_model_module": "@jupyter-widgets/controls",
            "_model_module_version": "1.5.0",
            "_model_name": "DescriptionStyleModel",
            "_view_count": null,
            "_view_module": "@jupyter-widgets/base",
            "_view_module_version": "1.2.0",
            "_view_name": "StyleView",
            "description_width": ""
          }
        },
        "fc0bdb64c7ab44f38750c5bc76b22972": {
          "model_module": "@jupyter-widgets/base",
          "model_module_version": "1.2.0",
          "model_name": "LayoutModel",
          "state": {
            "_model_module": "@jupyter-widgets/base",
            "_model_module_version": "1.2.0",
            "_model_name": "LayoutModel",
            "_view_count": null,
            "_view_module": "@jupyter-widgets/base",
            "_view_module_version": "1.2.0",
            "_view_name": "LayoutView",
            "align_content": null,
            "align_items": null,
            "align_self": null,
            "border": null,
            "bottom": null,
            "display": null,
            "flex": null,
            "flex_flow": null,
            "grid_area": null,
            "grid_auto_columns": null,
            "grid_auto_flow": null,
            "grid_auto_rows": null,
            "grid_column": null,
            "grid_gap": null,
            "grid_row": null,
            "grid_template_areas": null,
            "grid_template_columns": null,
            "grid_template_rows": null,
            "height": null,
            "justify_content": null,
            "justify_items": null,
            "left": null,
            "margin": null,
            "max_height": null,
            "max_width": null,
            "min_height": null,
            "min_width": null,
            "object_fit": null,
            "object_position": null,
            "order": null,
            "overflow": null,
            "overflow_x": null,
            "overflow_y": null,
            "padding": null,
            "right": null,
            "top": null,
            "visibility": null,
            "width": null
          }
        },
        "fc19c13ab45a495d998bc77a70ec9725": {
          "model_module": "@jupyter-widgets/controls",
          "model_module_version": "1.5.0",
          "model_name": "DescriptionStyleModel",
          "state": {
            "_model_module": "@jupyter-widgets/controls",
            "_model_module_version": "1.5.0",
            "_model_name": "DescriptionStyleModel",
            "_view_count": null,
            "_view_module": "@jupyter-widgets/base",
            "_view_module_version": "1.2.0",
            "_view_name": "StyleView",
            "description_width": ""
          }
        },
        "feac31538bcb4895a222a5f943711f0f": {
          "model_module": "@jupyter-widgets/base",
          "model_module_version": "1.2.0",
          "model_name": "LayoutModel",
          "state": {
            "_model_module": "@jupyter-widgets/base",
            "_model_module_version": "1.2.0",
            "_model_name": "LayoutModel",
            "_view_count": null,
            "_view_module": "@jupyter-widgets/base",
            "_view_module_version": "1.2.0",
            "_view_name": "LayoutView",
            "align_content": null,
            "align_items": null,
            "align_self": null,
            "border": null,
            "bottom": null,
            "display": null,
            "flex": null,
            "flex_flow": null,
            "grid_area": null,
            "grid_auto_columns": null,
            "grid_auto_flow": null,
            "grid_auto_rows": null,
            "grid_column": null,
            "grid_gap": null,
            "grid_row": null,
            "grid_template_areas": null,
            "grid_template_columns": null,
            "grid_template_rows": null,
            "height": null,
            "justify_content": null,
            "justify_items": null,
            "left": null,
            "margin": null,
            "max_height": null,
            "max_width": null,
            "min_height": null,
            "min_width": null,
            "object_fit": null,
            "object_position": null,
            "order": null,
            "overflow": null,
            "overflow_x": null,
            "overflow_y": null,
            "padding": null,
            "right": null,
            "top": null,
            "visibility": null,
            "width": null
          }
        }
      }
    }
  },
  "nbformat": 4,
  "nbformat_minor": 0
}
